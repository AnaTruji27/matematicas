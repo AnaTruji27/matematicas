{
  "nbformat": 4,
  "nbformat_minor": 0,
  "metadata": {
    "colab": {
      "provenance": [],
      "collapsed_sections": [],
      "include_colab_link": true
    },
    "kernelspec": {
      "name": "python3",
      "display_name": "Python 3"
    },
    "language_info": {
      "name": "python"
    }
  },
  "cells": [
    {
      "cell_type": "markdown",
      "metadata": {
        "id": "view-in-github",
        "colab_type": "text"
      },
      "source": [
        "<a href=\"https://colab.research.google.com/github/AnaTruji27/matematicas/blob/main/practica_combinatoria.ipynb\" target=\"_parent\"><img src=\"https://colab.research.google.com/assets/colab-badge.svg\" alt=\"Open In Colab\"/></a>"
      ]
    },
    {
      "cell_type": "markdown",
      "source": [
        "# Práctica 1. Combinatoria\n",
        "Resuelva los siguientes apartados de la práctica.  \n",
        "La práctica 1.1 se proporciona solucionada para que pueda servir como ejemplo.\n"
      ],
      "metadata": {
        "id": "VP-PLgSCPtPC"
      }
    },
    {
      "cell_type": "markdown",
      "source": [
        "## Práctica 1.1\n",
        "Cuatro amigos:\n",
        "* Antonio (A)\n",
        "* Begoña (B)\n",
        "* Cesar (C)\n",
        "* Diana (D)\n",
        "\n",
        "constituyen una asociación y tienen que asignar los siguientes cargos:\n",
        "* Presiente (1)\n",
        "* Vicepresidente (2)\n",
        "* Secretario (3)\n",
        "* Tesorero (4)\n",
        "\n",
        "Se pide:\n",
        "1. Escribiendo la solución en una celda de Markdown analice el caso indicando si se trata de variaciones, permutaciones o combinaciones, con o sin repetición o el caso que sea, y el motivo para clasificar el caso de esta forma.\n",
        "2. Utilizando fórmulas de $\\LaTeX$ calcule cuántos casos existen.\n",
        "3. Cree un programa en Python para calcule cuántos casos existen.\n",
        "4. Cree un programa en Python para imprimir todas las posibilidades y numérelas. Por ejemplo:\n",
        "    - 1 ABCD\n",
        "    - 2 ABDC\n",
        "    - 3 ACBD\n",
        "    - &#20; &#20; &#20; ... ... ..."
      ],
      "metadata": {
        "id": "6oyoxqfbQJDC"
      }
    },
    {
      "cell_type": "markdown",
      "source": [
        "### Solución 1.1\n",
        "* Estamos ante un caso de **permutaciones sin repetición** ya que:\n",
        " - El orden importa, no es lo mismo estar el nº1 que significa ser presidente que el nº 4 que corresponde al tesorero.\n",
        " - Intervienen todos. Son 4 amigos para 4 cargos, todos tienen cargo, lo que cambiar es el orden, esto es, el cargo que obtengan.\n",
        " - No se repiten elementos. Una persona no puede tener dos cargos simultaneamente.\n",
        "* Los casos que se obtienen con las permutaciones sin repetición son $P_{n}=n!$ que para este ejemplo son:\n",
        "\n",
        "$$P_{4}=4!=4 \\cdot 3 \\cdot 2 \\cdot 1 = 24$$"
      ],
      "metadata": {
        "id": "t5unIqR7jdZR"
      }
    },
    {
      "cell_type": "code",
      "source": [
        "import math\n",
        "p = math.factorial(4)\n",
        "print(\"Los casos son: \", p)\n",
        "print(\"Comprobación:  \", 4*3*2*1)"
      ],
      "metadata": {
        "id": "va3_l_-hmFS-",
        "colab": {
          "base_uri": "https://localhost:8080/"
        },
        "outputId": "0fe2fe7f-591f-4b33-f613-4b0b08d2f5a0"
      },
      "execution_count": null,
      "outputs": [
        {
          "output_type": "stream",
          "name": "stdout",
          "text": [
            "Los casos son:  24\n",
            "Comprobación:   24\n"
          ]
        }
      ]
    },
    {
      "cell_type": "markdown",
      "source": [
        "#### Método 1\n",
        "Sin usar librería."
      ],
      "metadata": {
        "id": "kOM3pEAGnh8v"
      }
    },
    {
      "cell_type": "code",
      "source": [
        "lista = ['A', 'B', 'C', 'D']\n",
        "contador = 1\n",
        "\n",
        "for i in lista:\n",
        "    for j in lista:\n",
        "        for k in lista:\n",
        "            for l in lista:\n",
        "                if i != j and i != k and i != l and j != k and j != l and k != l:\n",
        "                    print(f\"{contador:2d} →  {i+j+k+l}\")\n",
        "                    contador += 1"
      ],
      "metadata": {
        "id": "5--ZpSoJncj3",
        "colab": {
          "base_uri": "https://localhost:8080/"
        },
        "outputId": "96903349-5b03-40b5-b0a8-28f61f69b1cb"
      },
      "execution_count": null,
      "outputs": [
        {
          "output_type": "stream",
          "name": "stdout",
          "text": [
            " 1 →  ABCD\n",
            " 2 →  ABDC\n",
            " 3 →  ACBD\n",
            " 4 →  ACDB\n",
            " 5 →  ADBC\n",
            " 6 →  ADCB\n",
            " 7 →  BACD\n",
            " 8 →  BADC\n",
            " 9 →  BCAD\n",
            "10 →  BCDA\n",
            "11 →  BDAC\n",
            "12 →  BDCA\n",
            "13 →  CABD\n",
            "14 →  CADB\n",
            "15 →  CBAD\n",
            "16 →  CBDA\n",
            "17 →  CDAB\n",
            "18 →  CDBA\n",
            "19 →  DABC\n",
            "20 →  DACB\n",
            "21 →  DBAC\n",
            "22 →  DBCA\n",
            "23 →  DCAB\n",
            "24 →  DCBA\n"
          ]
        }
      ]
    },
    {
      "cell_type": "markdown",
      "source": [
        "#### Método 2\n",
        "* Usamos la función `permutations` de la librería `itertools`.\n",
        "* Imprimimos todas las permutaciones de los elementos de una lista."
      ],
      "metadata": {
        "id": "2PoCD5GlnwS1"
      }
    },
    {
      "cell_type": "code",
      "source": [
        "from itertools import permutations\n",
        "\n",
        "perm = permutations(['A','B','C','D'])   # obtenemos todas las permutaciones de la lista \n",
        "\n",
        "for i in list(perm):                     # imprimimos todas las permutaciones \n",
        "    print (*i)                           # con el asterisco se muestran las listas sin corchetes ni comas"
      ],
      "metadata": {
        "id": "eKkB1gQnn6_P",
        "colab": {
          "base_uri": "https://localhost:8080/"
        },
        "outputId": "9ed96b93-e69f-432b-de6d-da7ac95b4459"
      },
      "execution_count": null,
      "outputs": [
        {
          "output_type": "stream",
          "name": "stdout",
          "text": [
            "A B C D\n",
            "A B D C\n",
            "A C B D\n",
            "A C D B\n",
            "A D B C\n",
            "A D C B\n",
            "B A C D\n",
            "B A D C\n",
            "B C A D\n",
            "B C D A\n",
            "B D A C\n",
            "B D C A\n",
            "C A B D\n",
            "C A D B\n",
            "C B A D\n",
            "C B D A\n",
            "C D A B\n",
            "C D B A\n",
            "D A B C\n",
            "D A C B\n",
            "D B A C\n",
            "D B C A\n",
            "D C A B\n",
            "D C B A\n"
          ]
        }
      ]
    },
    {
      "cell_type": "markdown",
      "source": [
        "## Práctica 1.2\n",
        "Cuatro amigos:\n",
        "* Antonio (A)\n",
        "* Begoña (B)\n",
        "* Cesar (C)\n",
        "* Diana (D)\n",
        "\n",
        "constituyen una asociación y tienen que asignar los siguientes cargos:\n",
        "* Presiente (1)\n",
        "* Secretario (3)\n",
        "* Tesorero (4)\n",
        "\n",
        "Se pide:\n",
        "1. Escribiendo la solución en una celda de Markdown analice el caso indicando si se trata de variaciones, permutaciones o combinaciones, con o sin repetición o el caso que sea, y el motivo para clasificar el caso de esta forma.\n",
        "2. Utilizando fórmulas de $\\LaTeX$ calcule cuántos casos existen.\n",
        "3. Cree un programa en Python para calcule cuántos casos existen.\n",
        "4. Cree un programa en Python para imprimir todas las posibilidades y numérelas. Por ejemplo:\n",
        "    - 1 ABC\n",
        "    - 2 ABD\n",
        "    - 3 ACB\n",
        "    - &#20; &#20; &#20; ... ... ..."
      ],
      "metadata": {
        "id": "sxSuCpAFSBPJ"
      }
    },
    {
      "cell_type": "markdown",
      "source": [
        "### Solución 1.2"
      ],
      "metadata": {
        "id": "xx9qsw_ej9Pd"
      }
    },
    {
      "cell_type": "markdown",
      "source": [
        "Estamos ante un caso de **combinaciones sin repetición** puesto que: \n",
        "\n",
        "\n",
        "*   El orden importa, no es lo mismo ser presidente que tesorero.\n",
        "*   No intervienen todos. Son 4 amigos y hay 3 puestos.\n",
        "\n",
        "*   No se repiten puestos, dado que no puede haber dos personas con el mismo cargo.\n",
        "\n",
        "Los casos que se obtienen con las combinaciones sin repetición son V4,3= n!/(n-k)!= 4!/1!= **24**\n",
        "\n",
        "\n",
        "\n"
      ],
      "metadata": {
        "id": "rsDVMK10bzEI"
      }
    },
    {
      "cell_type": "code",
      "source": [
        "import math\n",
        "p = math.factorial(4)\n",
        "print(\"Los casos son: \", p)\n",
        "print(\"Comprobación:  \", 4*3*2*1)"
      ],
      "metadata": {
        "id": "xdKIm6LdfQuD",
        "outputId": "a95b766f-7481-4005-85cf-0d2095bce11c",
        "colab": {
          "base_uri": "https://localhost:8080/"
        }
      },
      "execution_count": null,
      "outputs": [
        {
          "output_type": "stream",
          "name": "stdout",
          "text": [
            "Los casos son:  24\n",
            "Comprobación:   24\n"
          ]
        }
      ]
    },
    {
      "cell_type": "markdown",
      "source": [
        "\n",
        "Método 1.\n",
        "\n",
        "Sin usar librería\n",
        "\n"
      ],
      "metadata": {
        "id": "X9EagDXafPnm"
      }
    },
    {
      "cell_type": "code",
      "source": [
        "lista = ['A', 'B', 'C', 'D']\n",
        "contador = 1\n",
        "\n",
        "for i in lista:\n",
        "    for j in lista:\n",
        "        for k in lista:\n",
        "                if i != j and i != k and i  != k and j != k:\n",
        "                    print(f\"{contador:2d} →  {i+j+k}\")\n",
        "                    contador += 1"
      ],
      "metadata": {
        "colab": {
          "base_uri": "https://localhost:8080/"
        },
        "id": "2KPpNCQ3lE2C",
        "outputId": "dbe0670c-8b2e-4783-f5b8-804040d9c4fe"
      },
      "execution_count": null,
      "outputs": [
        {
          "output_type": "stream",
          "name": "stdout",
          "text": [
            " 1 →  ABC\n",
            " 2 →  ABD\n",
            " 3 →  ACB\n",
            " 4 →  ACD\n",
            " 5 →  ADB\n",
            " 6 →  ADC\n",
            " 7 →  BAC\n",
            " 8 →  BAD\n",
            " 9 →  BCA\n",
            "10 →  BCD\n",
            "11 →  BDA\n",
            "12 →  BDC\n",
            "13 →  CAB\n",
            "14 →  CAD\n",
            "15 →  CBA\n",
            "16 →  CBD\n",
            "17 →  CDA\n",
            "18 →  CDB\n",
            "19 →  DAB\n",
            "20 →  DAC\n",
            "21 →  DBA\n",
            "22 →  DBC\n",
            "23 →  DCA\n",
            "24 →  DCB\n"
          ]
        }
      ]
    },
    {
      "cell_type": "markdown",
      "source": [
        "Método 2.\n",
        "\n",
        "Usamos la función combinations de la libreria intertools.\n",
        "\n",
        "Imprimimos todas las combinaciones posibles."
      ],
      "metadata": {
        "id": "am_Us_olwz9s"
      }
    },
    {
      "cell_type": "code",
      "source": [
        "\n",
        "from itertools import combinations \n",
        "  \n",
        "comb = combinations([\"A\",\"B\", \"C\", \"D\" ], 3) \n",
        "print(list(comb))\n",
        "  \n",
        "for i in list(comb): \n",
        "    print (i)\n",
        "\n",
        "\n"
      ],
      "metadata": {
        "colab": {
          "base_uri": "https://localhost:8080/"
        },
        "id": "93MLuutFulmV",
        "outputId": "560c2b7d-9d07-44dc-df00-129a04d1a544"
      },
      "execution_count": null,
      "outputs": [
        {
          "output_type": "stream",
          "name": "stdout",
          "text": [
            "[('A', 'B', 'C'), ('A', 'B', 'D'), ('A', 'C', 'D'), ('B', 'C', 'D')]\n"
          ]
        }
      ]
    },
    {
      "cell_type": "markdown",
      "source": [
        "## Práctica 1.3\n",
        "Invente un caso de **variaciones sin repetición**.\n",
        "Se pide contestar a los mismos puntos que el caso anterior."
      ],
      "metadata": {
        "id": "D0S1DjF4MKmz"
      }
    },
    {
      "cell_type": "markdown",
      "source": [
        "En una competición participan 7 personas. ¿De cuantas maneras se podran repartir los premios, suponiendo que hay oro, plata y bronce?"
      ],
      "metadata": {
        "id": "AX0O8mHRn57a"
      }
    },
    {
      "cell_type": "markdown",
      "source": [
        "***Solución:***\n",
        "\n",
        "n= número de personas que participan= 7 (A,B,C,D,E,F,G).\n",
        "\n",
        "k= números de premios que hay= 3 (1,2,3,).\n",
        "\n",
        "***Vn,k= n!/(n-k)!***\n",
        "\n",
        "V7,3= 7!/(7-3)!= 7!/4!= **210**\n",
        "\n",
        "Los premios se podran repartir de 210 formas diferentes. "
      ],
      "metadata": {
        "id": "q8tiICn3pdUW"
      }
    },
    {
      "cell_type": "code",
      "source": [
        "import math\n",
        "p = math.factorial(7)/math.factorial(4)\n",
        "print(\"Las reparticiones son: \", p)\n",
        "print(\"Comprobación:  \", (7*6*5*4*3*2*1)/(4*3*2*1))"
      ],
      "metadata": {
        "colab": {
          "base_uri": "https://localhost:8080/"
        },
        "id": "t_VsuJ6XuuyD",
        "outputId": "d7b6f6e1-639b-4355-d75b-6f20109bdb50"
      },
      "execution_count": null,
      "outputs": [
        {
          "output_type": "stream",
          "name": "stdout",
          "text": [
            "Las reparticiones son:  210.0\n",
            "Comprobación:   210.0\n"
          ]
        }
      ]
    },
    {
      "cell_type": "markdown",
      "source": [
        "Método 1.\n",
        "\n",
        "Sin usar librería."
      ],
      "metadata": {
        "id": "YoSV8E-uv5s8"
      }
    },
    {
      "cell_type": "code",
      "source": [
        "lista = ['A', 'B', 'C', 'D', 'E','F','G']\n",
        "lista2=[1,2,3]\n",
        "contador = 1\n",
        "\n",
        "for i in lista:\n",
        "    for j in lista:\n",
        "        for k in lista:\n",
        "                if i != j and i != k and i  != k and j != k:\n",
        "                    print(f\"{contador:2d} →  {i+j+k}\")\n",
        "                    contador += 1"
      ],
      "metadata": {
        "colab": {
          "base_uri": "https://localhost:8080/"
        },
        "id": "Xa4J3bkUwCr7",
        "outputId": "3e3796e9-1574-40a6-e240-5f9b441175a0"
      },
      "execution_count": null,
      "outputs": [
        {
          "output_type": "stream",
          "name": "stdout",
          "text": [
            " 1 →  ABC\n",
            " 2 →  ABD\n",
            " 3 →  ABE\n",
            " 4 →  ABF\n",
            " 5 →  ABG\n",
            " 6 →  ACB\n",
            " 7 →  ACD\n",
            " 8 →  ACE\n",
            " 9 →  ACF\n",
            "10 →  ACG\n",
            "11 →  ADB\n",
            "12 →  ADC\n",
            "13 →  ADE\n",
            "14 →  ADF\n",
            "15 →  ADG\n",
            "16 →  AEB\n",
            "17 →  AEC\n",
            "18 →  AED\n",
            "19 →  AEF\n",
            "20 →  AEG\n",
            "21 →  AFB\n",
            "22 →  AFC\n",
            "23 →  AFD\n",
            "24 →  AFE\n",
            "25 →  AFG\n",
            "26 →  AGB\n",
            "27 →  AGC\n",
            "28 →  AGD\n",
            "29 →  AGE\n",
            "30 →  AGF\n",
            "31 →  BAC\n",
            "32 →  BAD\n",
            "33 →  BAE\n",
            "34 →  BAF\n",
            "35 →  BAG\n",
            "36 →  BCA\n",
            "37 →  BCD\n",
            "38 →  BCE\n",
            "39 →  BCF\n",
            "40 →  BCG\n",
            "41 →  BDA\n",
            "42 →  BDC\n",
            "43 →  BDE\n",
            "44 →  BDF\n",
            "45 →  BDG\n",
            "46 →  BEA\n",
            "47 →  BEC\n",
            "48 →  BED\n",
            "49 →  BEF\n",
            "50 →  BEG\n",
            "51 →  BFA\n",
            "52 →  BFC\n",
            "53 →  BFD\n",
            "54 →  BFE\n",
            "55 →  BFG\n",
            "56 →  BGA\n",
            "57 →  BGC\n",
            "58 →  BGD\n",
            "59 →  BGE\n",
            "60 →  BGF\n",
            "61 →  CAB\n",
            "62 →  CAD\n",
            "63 →  CAE\n",
            "64 →  CAF\n",
            "65 →  CAG\n",
            "66 →  CBA\n",
            "67 →  CBD\n",
            "68 →  CBE\n",
            "69 →  CBF\n",
            "70 →  CBG\n",
            "71 →  CDA\n",
            "72 →  CDB\n",
            "73 →  CDE\n",
            "74 →  CDF\n",
            "75 →  CDG\n",
            "76 →  CEA\n",
            "77 →  CEB\n",
            "78 →  CED\n",
            "79 →  CEF\n",
            "80 →  CEG\n",
            "81 →  CFA\n",
            "82 →  CFB\n",
            "83 →  CFD\n",
            "84 →  CFE\n",
            "85 →  CFG\n",
            "86 →  CGA\n",
            "87 →  CGB\n",
            "88 →  CGD\n",
            "89 →  CGE\n",
            "90 →  CGF\n",
            "91 →  DAB\n",
            "92 →  DAC\n",
            "93 →  DAE\n",
            "94 →  DAF\n",
            "95 →  DAG\n",
            "96 →  DBA\n",
            "97 →  DBC\n",
            "98 →  DBE\n",
            "99 →  DBF\n",
            "100 →  DBG\n",
            "101 →  DCA\n",
            "102 →  DCB\n",
            "103 →  DCE\n",
            "104 →  DCF\n",
            "105 →  DCG\n",
            "106 →  DEA\n",
            "107 →  DEB\n",
            "108 →  DEC\n",
            "109 →  DEF\n",
            "110 →  DEG\n",
            "111 →  DFA\n",
            "112 →  DFB\n",
            "113 →  DFC\n",
            "114 →  DFE\n",
            "115 →  DFG\n",
            "116 →  DGA\n",
            "117 →  DGB\n",
            "118 →  DGC\n",
            "119 →  DGE\n",
            "120 →  DGF\n",
            "121 →  EAB\n",
            "122 →  EAC\n",
            "123 →  EAD\n",
            "124 →  EAF\n",
            "125 →  EAG\n",
            "126 →  EBA\n",
            "127 →  EBC\n",
            "128 →  EBD\n",
            "129 →  EBF\n",
            "130 →  EBG\n",
            "131 →  ECA\n",
            "132 →  ECB\n",
            "133 →  ECD\n",
            "134 →  ECF\n",
            "135 →  ECG\n",
            "136 →  EDA\n",
            "137 →  EDB\n",
            "138 →  EDC\n",
            "139 →  EDF\n",
            "140 →  EDG\n",
            "141 →  EFA\n",
            "142 →  EFB\n",
            "143 →  EFC\n",
            "144 →  EFD\n",
            "145 →  EFG\n",
            "146 →  EGA\n",
            "147 →  EGB\n",
            "148 →  EGC\n",
            "149 →  EGD\n",
            "150 →  EGF\n",
            "151 →  FAB\n",
            "152 →  FAC\n",
            "153 →  FAD\n",
            "154 →  FAE\n",
            "155 →  FAG\n",
            "156 →  FBA\n",
            "157 →  FBC\n",
            "158 →  FBD\n",
            "159 →  FBE\n",
            "160 →  FBG\n",
            "161 →  FCA\n",
            "162 →  FCB\n",
            "163 →  FCD\n",
            "164 →  FCE\n",
            "165 →  FCG\n",
            "166 →  FDA\n",
            "167 →  FDB\n",
            "168 →  FDC\n",
            "169 →  FDE\n",
            "170 →  FDG\n",
            "171 →  FEA\n",
            "172 →  FEB\n",
            "173 →  FEC\n",
            "174 →  FED\n",
            "175 →  FEG\n",
            "176 →  FGA\n",
            "177 →  FGB\n",
            "178 →  FGC\n",
            "179 →  FGD\n",
            "180 →  FGE\n",
            "181 →  GAB\n",
            "182 →  GAC\n",
            "183 →  GAD\n",
            "184 →  GAE\n",
            "185 →  GAF\n",
            "186 →  GBA\n",
            "187 →  GBC\n",
            "188 →  GBD\n",
            "189 →  GBE\n",
            "190 →  GBF\n",
            "191 →  GCA\n",
            "192 →  GCB\n",
            "193 →  GCD\n",
            "194 →  GCE\n",
            "195 →  GCF\n",
            "196 →  GDA\n",
            "197 →  GDB\n",
            "198 →  GDC\n",
            "199 →  GDE\n",
            "200 →  GDF\n",
            "201 →  GEA\n",
            "202 →  GEB\n",
            "203 →  GEC\n",
            "204 →  GED\n",
            "205 →  GEF\n",
            "206 →  GFA\n",
            "207 →  GFB\n",
            "208 →  GFC\n",
            "209 →  GFD\n",
            "210 →  GFE\n"
          ]
        }
      ]
    },
    {
      "cell_type": "markdown",
      "source": [
        "Método 2 \n",
        "\n",
        "Usando itertools"
      ],
      "metadata": {
        "id": "L2ewqc7ZCc--"
      }
    },
    {
      "cell_type": "code",
      "source": [
        "from itertools import permutations\n",
        "\n",
        "personas= [\"A\", \"B\", \"C\", \"D\", \"E\", \"F\", \"G\"]\n",
        "permutaciones= list(permutations(personas))\n",
        "print(permutaciones)\n",
        "    "
      ],
      "metadata": {
        "colab": {
          "base_uri": "https://localhost:8080/"
        },
        "id": "566Pc1eZCcnx",
        "outputId": "94b61d2c-1707-4f5e-dc22-270e6cccb6e1"
      },
      "execution_count": null,
      "outputs": [
        {
          "output_type": "stream",
          "name": "stdout",
          "text": [
            "[('A', 'B', 'C', 'D', 'E', 'F', 'G'), ('A', 'B', 'C', 'D', 'E', 'G', 'F'), ('A', 'B', 'C', 'D', 'F', 'E', 'G'), ('A', 'B', 'C', 'D', 'F', 'G', 'E'), ('A', 'B', 'C', 'D', 'G', 'E', 'F'), ('A', 'B', 'C', 'D', 'G', 'F', 'E'), ('A', 'B', 'C', 'E', 'D', 'F', 'G'), ('A', 'B', 'C', 'E', 'D', 'G', 'F'), ('A', 'B', 'C', 'E', 'F', 'D', 'G'), ('A', 'B', 'C', 'E', 'F', 'G', 'D'), ('A', 'B', 'C', 'E', 'G', 'D', 'F'), ('A', 'B', 'C', 'E', 'G', 'F', 'D'), ('A', 'B', 'C', 'F', 'D', 'E', 'G'), ('A', 'B', 'C', 'F', 'D', 'G', 'E'), ('A', 'B', 'C', 'F', 'E', 'D', 'G'), ('A', 'B', 'C', 'F', 'E', 'G', 'D'), ('A', 'B', 'C', 'F', 'G', 'D', 'E'), ('A', 'B', 'C', 'F', 'G', 'E', 'D'), ('A', 'B', 'C', 'G', 'D', 'E', 'F'), ('A', 'B', 'C', 'G', 'D', 'F', 'E'), ('A', 'B', 'C', 'G', 'E', 'D', 'F'), ('A', 'B', 'C', 'G', 'E', 'F', 'D'), ('A', 'B', 'C', 'G', 'F', 'D', 'E'), ('A', 'B', 'C', 'G', 'F', 'E', 'D'), ('A', 'B', 'D', 'C', 'E', 'F', 'G'), ('A', 'B', 'D', 'C', 'E', 'G', 'F'), ('A', 'B', 'D', 'C', 'F', 'E', 'G'), ('A', 'B', 'D', 'C', 'F', 'G', 'E'), ('A', 'B', 'D', 'C', 'G', 'E', 'F'), ('A', 'B', 'D', 'C', 'G', 'F', 'E'), ('A', 'B', 'D', 'E', 'C', 'F', 'G'), ('A', 'B', 'D', 'E', 'C', 'G', 'F'), ('A', 'B', 'D', 'E', 'F', 'C', 'G'), ('A', 'B', 'D', 'E', 'F', 'G', 'C'), ('A', 'B', 'D', 'E', 'G', 'C', 'F'), ('A', 'B', 'D', 'E', 'G', 'F', 'C'), ('A', 'B', 'D', 'F', 'C', 'E', 'G'), ('A', 'B', 'D', 'F', 'C', 'G', 'E'), ('A', 'B', 'D', 'F', 'E', 'C', 'G'), ('A', 'B', 'D', 'F', 'E', 'G', 'C'), ('A', 'B', 'D', 'F', 'G', 'C', 'E'), ('A', 'B', 'D', 'F', 'G', 'E', 'C'), ('A', 'B', 'D', 'G', 'C', 'E', 'F'), ('A', 'B', 'D', 'G', 'C', 'F', 'E'), ('A', 'B', 'D', 'G', 'E', 'C', 'F'), ('A', 'B', 'D', 'G', 'E', 'F', 'C'), ('A', 'B', 'D', 'G', 'F', 'C', 'E'), ('A', 'B', 'D', 'G', 'F', 'E', 'C'), ('A', 'B', 'E', 'C', 'D', 'F', 'G'), ('A', 'B', 'E', 'C', 'D', 'G', 'F'), ('A', 'B', 'E', 'C', 'F', 'D', 'G'), ('A', 'B', 'E', 'C', 'F', 'G', 'D'), ('A', 'B', 'E', 'C', 'G', 'D', 'F'), ('A', 'B', 'E', 'C', 'G', 'F', 'D'), ('A', 'B', 'E', 'D', 'C', 'F', 'G'), ('A', 'B', 'E', 'D', 'C', 'G', 'F'), ('A', 'B', 'E', 'D', 'F', 'C', 'G'), ('A', 'B', 'E', 'D', 'F', 'G', 'C'), ('A', 'B', 'E', 'D', 'G', 'C', 'F'), ('A', 'B', 'E', 'D', 'G', 'F', 'C'), ('A', 'B', 'E', 'F', 'C', 'D', 'G'), ('A', 'B', 'E', 'F', 'C', 'G', 'D'), ('A', 'B', 'E', 'F', 'D', 'C', 'G'), ('A', 'B', 'E', 'F', 'D', 'G', 'C'), ('A', 'B', 'E', 'F', 'G', 'C', 'D'), ('A', 'B', 'E', 'F', 'G', 'D', 'C'), ('A', 'B', 'E', 'G', 'C', 'D', 'F'), ('A', 'B', 'E', 'G', 'C', 'F', 'D'), ('A', 'B', 'E', 'G', 'D', 'C', 'F'), ('A', 'B', 'E', 'G', 'D', 'F', 'C'), ('A', 'B', 'E', 'G', 'F', 'C', 'D'), ('A', 'B', 'E', 'G', 'F', 'D', 'C'), ('A', 'B', 'F', 'C', 'D', 'E', 'G'), ('A', 'B', 'F', 'C', 'D', 'G', 'E'), ('A', 'B', 'F', 'C', 'E', 'D', 'G'), ('A', 'B', 'F', 'C', 'E', 'G', 'D'), ('A', 'B', 'F', 'C', 'G', 'D', 'E'), ('A', 'B', 'F', 'C', 'G', 'E', 'D'), ('A', 'B', 'F', 'D', 'C', 'E', 'G'), ('A', 'B', 'F', 'D', 'C', 'G', 'E'), ('A', 'B', 'F', 'D', 'E', 'C', 'G'), ('A', 'B', 'F', 'D', 'E', 'G', 'C'), ('A', 'B', 'F', 'D', 'G', 'C', 'E'), ('A', 'B', 'F', 'D', 'G', 'E', 'C'), ('A', 'B', 'F', 'E', 'C', 'D', 'G'), ('A', 'B', 'F', 'E', 'C', 'G', 'D'), ('A', 'B', 'F', 'E', 'D', 'C', 'G'), ('A', 'B', 'F', 'E', 'D', 'G', 'C'), ('A', 'B', 'F', 'E', 'G', 'C', 'D'), ('A', 'B', 'F', 'E', 'G', 'D', 'C'), ('A', 'B', 'F', 'G', 'C', 'D', 'E'), ('A', 'B', 'F', 'G', 'C', 'E', 'D'), ('A', 'B', 'F', 'G', 'D', 'C', 'E'), ('A', 'B', 'F', 'G', 'D', 'E', 'C'), ('A', 'B', 'F', 'G', 'E', 'C', 'D'), ('A', 'B', 'F', 'G', 'E', 'D', 'C'), ('A', 'B', 'G', 'C', 'D', 'E', 'F'), ('A', 'B', 'G', 'C', 'D', 'F', 'E'), ('A', 'B', 'G', 'C', 'E', 'D', 'F'), ('A', 'B', 'G', 'C', 'E', 'F', 'D'), ('A', 'B', 'G', 'C', 'F', 'D', 'E'), ('A', 'B', 'G', 'C', 'F', 'E', 'D'), ('A', 'B', 'G', 'D', 'C', 'E', 'F'), ('A', 'B', 'G', 'D', 'C', 'F', 'E'), ('A', 'B', 'G', 'D', 'E', 'C', 'F'), ('A', 'B', 'G', 'D', 'E', 'F', 'C'), ('A', 'B', 'G', 'D', 'F', 'C', 'E'), ('A', 'B', 'G', 'D', 'F', 'E', 'C'), ('A', 'B', 'G', 'E', 'C', 'D', 'F'), ('A', 'B', 'G', 'E', 'C', 'F', 'D'), ('A', 'B', 'G', 'E', 'D', 'C', 'F'), ('A', 'B', 'G', 'E', 'D', 'F', 'C'), ('A', 'B', 'G', 'E', 'F', 'C', 'D'), ('A', 'B', 'G', 'E', 'F', 'D', 'C'), ('A', 'B', 'G', 'F', 'C', 'D', 'E'), ('A', 'B', 'G', 'F', 'C', 'E', 'D'), ('A', 'B', 'G', 'F', 'D', 'C', 'E'), ('A', 'B', 'G', 'F', 'D', 'E', 'C'), ('A', 'B', 'G', 'F', 'E', 'C', 'D'), ('A', 'B', 'G', 'F', 'E', 'D', 'C'), ('A', 'C', 'B', 'D', 'E', 'F', 'G'), ('A', 'C', 'B', 'D', 'E', 'G', 'F'), ('A', 'C', 'B', 'D', 'F', 'E', 'G'), ('A', 'C', 'B', 'D', 'F', 'G', 'E'), ('A', 'C', 'B', 'D', 'G', 'E', 'F'), ('A', 'C', 'B', 'D', 'G', 'F', 'E'), ('A', 'C', 'B', 'E', 'D', 'F', 'G'), ('A', 'C', 'B', 'E', 'D', 'G', 'F'), ('A', 'C', 'B', 'E', 'F', 'D', 'G'), ('A', 'C', 'B', 'E', 'F', 'G', 'D'), ('A', 'C', 'B', 'E', 'G', 'D', 'F'), ('A', 'C', 'B', 'E', 'G', 'F', 'D'), ('A', 'C', 'B', 'F', 'D', 'E', 'G'), ('A', 'C', 'B', 'F', 'D', 'G', 'E'), ('A', 'C', 'B', 'F', 'E', 'D', 'G'), ('A', 'C', 'B', 'F', 'E', 'G', 'D'), ('A', 'C', 'B', 'F', 'G', 'D', 'E'), ('A', 'C', 'B', 'F', 'G', 'E', 'D'), ('A', 'C', 'B', 'G', 'D', 'E', 'F'), ('A', 'C', 'B', 'G', 'D', 'F', 'E'), ('A', 'C', 'B', 'G', 'E', 'D', 'F'), ('A', 'C', 'B', 'G', 'E', 'F', 'D'), ('A', 'C', 'B', 'G', 'F', 'D', 'E'), ('A', 'C', 'B', 'G', 'F', 'E', 'D'), ('A', 'C', 'D', 'B', 'E', 'F', 'G'), ('A', 'C', 'D', 'B', 'E', 'G', 'F'), ('A', 'C', 'D', 'B', 'F', 'E', 'G'), ('A', 'C', 'D', 'B', 'F', 'G', 'E'), ('A', 'C', 'D', 'B', 'G', 'E', 'F'), ('A', 'C', 'D', 'B', 'G', 'F', 'E'), ('A', 'C', 'D', 'E', 'B', 'F', 'G'), ('A', 'C', 'D', 'E', 'B', 'G', 'F'), ('A', 'C', 'D', 'E', 'F', 'B', 'G'), ('A', 'C', 'D', 'E', 'F', 'G', 'B'), ('A', 'C', 'D', 'E', 'G', 'B', 'F'), ('A', 'C', 'D', 'E', 'G', 'F', 'B'), ('A', 'C', 'D', 'F', 'B', 'E', 'G'), ('A', 'C', 'D', 'F', 'B', 'G', 'E'), ('A', 'C', 'D', 'F', 'E', 'B', 'G'), ('A', 'C', 'D', 'F', 'E', 'G', 'B'), ('A', 'C', 'D', 'F', 'G', 'B', 'E'), ('A', 'C', 'D', 'F', 'G', 'E', 'B'), ('A', 'C', 'D', 'G', 'B', 'E', 'F'), ('A', 'C', 'D', 'G', 'B', 'F', 'E'), ('A', 'C', 'D', 'G', 'E', 'B', 'F'), ('A', 'C', 'D', 'G', 'E', 'F', 'B'), ('A', 'C', 'D', 'G', 'F', 'B', 'E'), ('A', 'C', 'D', 'G', 'F', 'E', 'B'), ('A', 'C', 'E', 'B', 'D', 'F', 'G'), ('A', 'C', 'E', 'B', 'D', 'G', 'F'), ('A', 'C', 'E', 'B', 'F', 'D', 'G'), ('A', 'C', 'E', 'B', 'F', 'G', 'D'), ('A', 'C', 'E', 'B', 'G', 'D', 'F'), ('A', 'C', 'E', 'B', 'G', 'F', 'D'), ('A', 'C', 'E', 'D', 'B', 'F', 'G'), ('A', 'C', 'E', 'D', 'B', 'G', 'F'), ('A', 'C', 'E', 'D', 'F', 'B', 'G'), ('A', 'C', 'E', 'D', 'F', 'G', 'B'), ('A', 'C', 'E', 'D', 'G', 'B', 'F'), ('A', 'C', 'E', 'D', 'G', 'F', 'B'), ('A', 'C', 'E', 'F', 'B', 'D', 'G'), ('A', 'C', 'E', 'F', 'B', 'G', 'D'), ('A', 'C', 'E', 'F', 'D', 'B', 'G'), ('A', 'C', 'E', 'F', 'D', 'G', 'B'), ('A', 'C', 'E', 'F', 'G', 'B', 'D'), ('A', 'C', 'E', 'F', 'G', 'D', 'B'), ('A', 'C', 'E', 'G', 'B', 'D', 'F'), ('A', 'C', 'E', 'G', 'B', 'F', 'D'), ('A', 'C', 'E', 'G', 'D', 'B', 'F'), ('A', 'C', 'E', 'G', 'D', 'F', 'B'), ('A', 'C', 'E', 'G', 'F', 'B', 'D'), ('A', 'C', 'E', 'G', 'F', 'D', 'B'), ('A', 'C', 'F', 'B', 'D', 'E', 'G'), ('A', 'C', 'F', 'B', 'D', 'G', 'E'), ('A', 'C', 'F', 'B', 'E', 'D', 'G'), ('A', 'C', 'F', 'B', 'E', 'G', 'D'), ('A', 'C', 'F', 'B', 'G', 'D', 'E'), ('A', 'C', 'F', 'B', 'G', 'E', 'D'), ('A', 'C', 'F', 'D', 'B', 'E', 'G'), ('A', 'C', 'F', 'D', 'B', 'G', 'E'), ('A', 'C', 'F', 'D', 'E', 'B', 'G'), ('A', 'C', 'F', 'D', 'E', 'G', 'B'), ('A', 'C', 'F', 'D', 'G', 'B', 'E'), ('A', 'C', 'F', 'D', 'G', 'E', 'B'), ('A', 'C', 'F', 'E', 'B', 'D', 'G'), ('A', 'C', 'F', 'E', 'B', 'G', 'D'), ('A', 'C', 'F', 'E', 'D', 'B', 'G'), ('A', 'C', 'F', 'E', 'D', 'G', 'B'), ('A', 'C', 'F', 'E', 'G', 'B', 'D'), ('A', 'C', 'F', 'E', 'G', 'D', 'B'), ('A', 'C', 'F', 'G', 'B', 'D', 'E'), ('A', 'C', 'F', 'G', 'B', 'E', 'D'), ('A', 'C', 'F', 'G', 'D', 'B', 'E'), ('A', 'C', 'F', 'G', 'D', 'E', 'B'), ('A', 'C', 'F', 'G', 'E', 'B', 'D'), ('A', 'C', 'F', 'G', 'E', 'D', 'B'), ('A', 'C', 'G', 'B', 'D', 'E', 'F'), ('A', 'C', 'G', 'B', 'D', 'F', 'E'), ('A', 'C', 'G', 'B', 'E', 'D', 'F'), ('A', 'C', 'G', 'B', 'E', 'F', 'D'), ('A', 'C', 'G', 'B', 'F', 'D', 'E'), ('A', 'C', 'G', 'B', 'F', 'E', 'D'), ('A', 'C', 'G', 'D', 'B', 'E', 'F'), ('A', 'C', 'G', 'D', 'B', 'F', 'E'), ('A', 'C', 'G', 'D', 'E', 'B', 'F'), ('A', 'C', 'G', 'D', 'E', 'F', 'B'), ('A', 'C', 'G', 'D', 'F', 'B', 'E'), ('A', 'C', 'G', 'D', 'F', 'E', 'B'), ('A', 'C', 'G', 'E', 'B', 'D', 'F'), ('A', 'C', 'G', 'E', 'B', 'F', 'D'), ('A', 'C', 'G', 'E', 'D', 'B', 'F'), ('A', 'C', 'G', 'E', 'D', 'F', 'B'), ('A', 'C', 'G', 'E', 'F', 'B', 'D'), ('A', 'C', 'G', 'E', 'F', 'D', 'B'), ('A', 'C', 'G', 'F', 'B', 'D', 'E'), ('A', 'C', 'G', 'F', 'B', 'E', 'D'), ('A', 'C', 'G', 'F', 'D', 'B', 'E'), ('A', 'C', 'G', 'F', 'D', 'E', 'B'), ('A', 'C', 'G', 'F', 'E', 'B', 'D'), ('A', 'C', 'G', 'F', 'E', 'D', 'B'), ('A', 'D', 'B', 'C', 'E', 'F', 'G'), ('A', 'D', 'B', 'C', 'E', 'G', 'F'), ('A', 'D', 'B', 'C', 'F', 'E', 'G'), ('A', 'D', 'B', 'C', 'F', 'G', 'E'), ('A', 'D', 'B', 'C', 'G', 'E', 'F'), ('A', 'D', 'B', 'C', 'G', 'F', 'E'), ('A', 'D', 'B', 'E', 'C', 'F', 'G'), ('A', 'D', 'B', 'E', 'C', 'G', 'F'), ('A', 'D', 'B', 'E', 'F', 'C', 'G'), ('A', 'D', 'B', 'E', 'F', 'G', 'C'), ('A', 'D', 'B', 'E', 'G', 'C', 'F'), ('A', 'D', 'B', 'E', 'G', 'F', 'C'), ('A', 'D', 'B', 'F', 'C', 'E', 'G'), ('A', 'D', 'B', 'F', 'C', 'G', 'E'), ('A', 'D', 'B', 'F', 'E', 'C', 'G'), ('A', 'D', 'B', 'F', 'E', 'G', 'C'), ('A', 'D', 'B', 'F', 'G', 'C', 'E'), ('A', 'D', 'B', 'F', 'G', 'E', 'C'), ('A', 'D', 'B', 'G', 'C', 'E', 'F'), ('A', 'D', 'B', 'G', 'C', 'F', 'E'), ('A', 'D', 'B', 'G', 'E', 'C', 'F'), ('A', 'D', 'B', 'G', 'E', 'F', 'C'), ('A', 'D', 'B', 'G', 'F', 'C', 'E'), ('A', 'D', 'B', 'G', 'F', 'E', 'C'), ('A', 'D', 'C', 'B', 'E', 'F', 'G'), ('A', 'D', 'C', 'B', 'E', 'G', 'F'), ('A', 'D', 'C', 'B', 'F', 'E', 'G'), ('A', 'D', 'C', 'B', 'F', 'G', 'E'), ('A', 'D', 'C', 'B', 'G', 'E', 'F'), ('A', 'D', 'C', 'B', 'G', 'F', 'E'), ('A', 'D', 'C', 'E', 'B', 'F', 'G'), ('A', 'D', 'C', 'E', 'B', 'G', 'F'), ('A', 'D', 'C', 'E', 'F', 'B', 'G'), ('A', 'D', 'C', 'E', 'F', 'G', 'B'), ('A', 'D', 'C', 'E', 'G', 'B', 'F'), ('A', 'D', 'C', 'E', 'G', 'F', 'B'), ('A', 'D', 'C', 'F', 'B', 'E', 'G'), ('A', 'D', 'C', 'F', 'B', 'G', 'E'), ('A', 'D', 'C', 'F', 'E', 'B', 'G'), ('A', 'D', 'C', 'F', 'E', 'G', 'B'), ('A', 'D', 'C', 'F', 'G', 'B', 'E'), ('A', 'D', 'C', 'F', 'G', 'E', 'B'), ('A', 'D', 'C', 'G', 'B', 'E', 'F'), ('A', 'D', 'C', 'G', 'B', 'F', 'E'), ('A', 'D', 'C', 'G', 'E', 'B', 'F'), ('A', 'D', 'C', 'G', 'E', 'F', 'B'), ('A', 'D', 'C', 'G', 'F', 'B', 'E'), ('A', 'D', 'C', 'G', 'F', 'E', 'B'), ('A', 'D', 'E', 'B', 'C', 'F', 'G'), ('A', 'D', 'E', 'B', 'C', 'G', 'F'), ('A', 'D', 'E', 'B', 'F', 'C', 'G'), ('A', 'D', 'E', 'B', 'F', 'G', 'C'), ('A', 'D', 'E', 'B', 'G', 'C', 'F'), ('A', 'D', 'E', 'B', 'G', 'F', 'C'), ('A', 'D', 'E', 'C', 'B', 'F', 'G'), ('A', 'D', 'E', 'C', 'B', 'G', 'F'), ('A', 'D', 'E', 'C', 'F', 'B', 'G'), ('A', 'D', 'E', 'C', 'F', 'G', 'B'), ('A', 'D', 'E', 'C', 'G', 'B', 'F'), ('A', 'D', 'E', 'C', 'G', 'F', 'B'), ('A', 'D', 'E', 'F', 'B', 'C', 'G'), ('A', 'D', 'E', 'F', 'B', 'G', 'C'), ('A', 'D', 'E', 'F', 'C', 'B', 'G'), ('A', 'D', 'E', 'F', 'C', 'G', 'B'), ('A', 'D', 'E', 'F', 'G', 'B', 'C'), ('A', 'D', 'E', 'F', 'G', 'C', 'B'), ('A', 'D', 'E', 'G', 'B', 'C', 'F'), ('A', 'D', 'E', 'G', 'B', 'F', 'C'), ('A', 'D', 'E', 'G', 'C', 'B', 'F'), ('A', 'D', 'E', 'G', 'C', 'F', 'B'), ('A', 'D', 'E', 'G', 'F', 'B', 'C'), ('A', 'D', 'E', 'G', 'F', 'C', 'B'), ('A', 'D', 'F', 'B', 'C', 'E', 'G'), ('A', 'D', 'F', 'B', 'C', 'G', 'E'), ('A', 'D', 'F', 'B', 'E', 'C', 'G'), ('A', 'D', 'F', 'B', 'E', 'G', 'C'), ('A', 'D', 'F', 'B', 'G', 'C', 'E'), ('A', 'D', 'F', 'B', 'G', 'E', 'C'), ('A', 'D', 'F', 'C', 'B', 'E', 'G'), ('A', 'D', 'F', 'C', 'B', 'G', 'E'), ('A', 'D', 'F', 'C', 'E', 'B', 'G'), ('A', 'D', 'F', 'C', 'E', 'G', 'B'), ('A', 'D', 'F', 'C', 'G', 'B', 'E'), ('A', 'D', 'F', 'C', 'G', 'E', 'B'), ('A', 'D', 'F', 'E', 'B', 'C', 'G'), ('A', 'D', 'F', 'E', 'B', 'G', 'C'), ('A', 'D', 'F', 'E', 'C', 'B', 'G'), ('A', 'D', 'F', 'E', 'C', 'G', 'B'), ('A', 'D', 'F', 'E', 'G', 'B', 'C'), ('A', 'D', 'F', 'E', 'G', 'C', 'B'), ('A', 'D', 'F', 'G', 'B', 'C', 'E'), ('A', 'D', 'F', 'G', 'B', 'E', 'C'), ('A', 'D', 'F', 'G', 'C', 'B', 'E'), ('A', 'D', 'F', 'G', 'C', 'E', 'B'), ('A', 'D', 'F', 'G', 'E', 'B', 'C'), ('A', 'D', 'F', 'G', 'E', 'C', 'B'), ('A', 'D', 'G', 'B', 'C', 'E', 'F'), ('A', 'D', 'G', 'B', 'C', 'F', 'E'), ('A', 'D', 'G', 'B', 'E', 'C', 'F'), ('A', 'D', 'G', 'B', 'E', 'F', 'C'), ('A', 'D', 'G', 'B', 'F', 'C', 'E'), ('A', 'D', 'G', 'B', 'F', 'E', 'C'), ('A', 'D', 'G', 'C', 'B', 'E', 'F'), ('A', 'D', 'G', 'C', 'B', 'F', 'E'), ('A', 'D', 'G', 'C', 'E', 'B', 'F'), ('A', 'D', 'G', 'C', 'E', 'F', 'B'), ('A', 'D', 'G', 'C', 'F', 'B', 'E'), ('A', 'D', 'G', 'C', 'F', 'E', 'B'), ('A', 'D', 'G', 'E', 'B', 'C', 'F'), ('A', 'D', 'G', 'E', 'B', 'F', 'C'), ('A', 'D', 'G', 'E', 'C', 'B', 'F'), ('A', 'D', 'G', 'E', 'C', 'F', 'B'), ('A', 'D', 'G', 'E', 'F', 'B', 'C'), ('A', 'D', 'G', 'E', 'F', 'C', 'B'), ('A', 'D', 'G', 'F', 'B', 'C', 'E'), ('A', 'D', 'G', 'F', 'B', 'E', 'C'), ('A', 'D', 'G', 'F', 'C', 'B', 'E'), ('A', 'D', 'G', 'F', 'C', 'E', 'B'), ('A', 'D', 'G', 'F', 'E', 'B', 'C'), ('A', 'D', 'G', 'F', 'E', 'C', 'B'), ('A', 'E', 'B', 'C', 'D', 'F', 'G'), ('A', 'E', 'B', 'C', 'D', 'G', 'F'), ('A', 'E', 'B', 'C', 'F', 'D', 'G'), ('A', 'E', 'B', 'C', 'F', 'G', 'D'), ('A', 'E', 'B', 'C', 'G', 'D', 'F'), ('A', 'E', 'B', 'C', 'G', 'F', 'D'), ('A', 'E', 'B', 'D', 'C', 'F', 'G'), ('A', 'E', 'B', 'D', 'C', 'G', 'F'), ('A', 'E', 'B', 'D', 'F', 'C', 'G'), ('A', 'E', 'B', 'D', 'F', 'G', 'C'), ('A', 'E', 'B', 'D', 'G', 'C', 'F'), ('A', 'E', 'B', 'D', 'G', 'F', 'C'), ('A', 'E', 'B', 'F', 'C', 'D', 'G'), ('A', 'E', 'B', 'F', 'C', 'G', 'D'), ('A', 'E', 'B', 'F', 'D', 'C', 'G'), ('A', 'E', 'B', 'F', 'D', 'G', 'C'), ('A', 'E', 'B', 'F', 'G', 'C', 'D'), ('A', 'E', 'B', 'F', 'G', 'D', 'C'), ('A', 'E', 'B', 'G', 'C', 'D', 'F'), ('A', 'E', 'B', 'G', 'C', 'F', 'D'), ('A', 'E', 'B', 'G', 'D', 'C', 'F'), ('A', 'E', 'B', 'G', 'D', 'F', 'C'), ('A', 'E', 'B', 'G', 'F', 'C', 'D'), ('A', 'E', 'B', 'G', 'F', 'D', 'C'), ('A', 'E', 'C', 'B', 'D', 'F', 'G'), ('A', 'E', 'C', 'B', 'D', 'G', 'F'), ('A', 'E', 'C', 'B', 'F', 'D', 'G'), ('A', 'E', 'C', 'B', 'F', 'G', 'D'), ('A', 'E', 'C', 'B', 'G', 'D', 'F'), ('A', 'E', 'C', 'B', 'G', 'F', 'D'), ('A', 'E', 'C', 'D', 'B', 'F', 'G'), ('A', 'E', 'C', 'D', 'B', 'G', 'F'), ('A', 'E', 'C', 'D', 'F', 'B', 'G'), ('A', 'E', 'C', 'D', 'F', 'G', 'B'), ('A', 'E', 'C', 'D', 'G', 'B', 'F'), ('A', 'E', 'C', 'D', 'G', 'F', 'B'), ('A', 'E', 'C', 'F', 'B', 'D', 'G'), ('A', 'E', 'C', 'F', 'B', 'G', 'D'), ('A', 'E', 'C', 'F', 'D', 'B', 'G'), ('A', 'E', 'C', 'F', 'D', 'G', 'B'), ('A', 'E', 'C', 'F', 'G', 'B', 'D'), ('A', 'E', 'C', 'F', 'G', 'D', 'B'), ('A', 'E', 'C', 'G', 'B', 'D', 'F'), ('A', 'E', 'C', 'G', 'B', 'F', 'D'), ('A', 'E', 'C', 'G', 'D', 'B', 'F'), ('A', 'E', 'C', 'G', 'D', 'F', 'B'), ('A', 'E', 'C', 'G', 'F', 'B', 'D'), ('A', 'E', 'C', 'G', 'F', 'D', 'B'), ('A', 'E', 'D', 'B', 'C', 'F', 'G'), ('A', 'E', 'D', 'B', 'C', 'G', 'F'), ('A', 'E', 'D', 'B', 'F', 'C', 'G'), ('A', 'E', 'D', 'B', 'F', 'G', 'C'), ('A', 'E', 'D', 'B', 'G', 'C', 'F'), ('A', 'E', 'D', 'B', 'G', 'F', 'C'), ('A', 'E', 'D', 'C', 'B', 'F', 'G'), ('A', 'E', 'D', 'C', 'B', 'G', 'F'), ('A', 'E', 'D', 'C', 'F', 'B', 'G'), ('A', 'E', 'D', 'C', 'F', 'G', 'B'), ('A', 'E', 'D', 'C', 'G', 'B', 'F'), ('A', 'E', 'D', 'C', 'G', 'F', 'B'), ('A', 'E', 'D', 'F', 'B', 'C', 'G'), ('A', 'E', 'D', 'F', 'B', 'G', 'C'), ('A', 'E', 'D', 'F', 'C', 'B', 'G'), ('A', 'E', 'D', 'F', 'C', 'G', 'B'), ('A', 'E', 'D', 'F', 'G', 'B', 'C'), ('A', 'E', 'D', 'F', 'G', 'C', 'B'), ('A', 'E', 'D', 'G', 'B', 'C', 'F'), ('A', 'E', 'D', 'G', 'B', 'F', 'C'), ('A', 'E', 'D', 'G', 'C', 'B', 'F'), ('A', 'E', 'D', 'G', 'C', 'F', 'B'), ('A', 'E', 'D', 'G', 'F', 'B', 'C'), ('A', 'E', 'D', 'G', 'F', 'C', 'B'), ('A', 'E', 'F', 'B', 'C', 'D', 'G'), ('A', 'E', 'F', 'B', 'C', 'G', 'D'), ('A', 'E', 'F', 'B', 'D', 'C', 'G'), ('A', 'E', 'F', 'B', 'D', 'G', 'C'), ('A', 'E', 'F', 'B', 'G', 'C', 'D'), ('A', 'E', 'F', 'B', 'G', 'D', 'C'), ('A', 'E', 'F', 'C', 'B', 'D', 'G'), ('A', 'E', 'F', 'C', 'B', 'G', 'D'), ('A', 'E', 'F', 'C', 'D', 'B', 'G'), ('A', 'E', 'F', 'C', 'D', 'G', 'B'), ('A', 'E', 'F', 'C', 'G', 'B', 'D'), ('A', 'E', 'F', 'C', 'G', 'D', 'B'), ('A', 'E', 'F', 'D', 'B', 'C', 'G'), ('A', 'E', 'F', 'D', 'B', 'G', 'C'), ('A', 'E', 'F', 'D', 'C', 'B', 'G'), ('A', 'E', 'F', 'D', 'C', 'G', 'B'), ('A', 'E', 'F', 'D', 'G', 'B', 'C'), ('A', 'E', 'F', 'D', 'G', 'C', 'B'), ('A', 'E', 'F', 'G', 'B', 'C', 'D'), ('A', 'E', 'F', 'G', 'B', 'D', 'C'), ('A', 'E', 'F', 'G', 'C', 'B', 'D'), ('A', 'E', 'F', 'G', 'C', 'D', 'B'), ('A', 'E', 'F', 'G', 'D', 'B', 'C'), ('A', 'E', 'F', 'G', 'D', 'C', 'B'), ('A', 'E', 'G', 'B', 'C', 'D', 'F'), ('A', 'E', 'G', 'B', 'C', 'F', 'D'), ('A', 'E', 'G', 'B', 'D', 'C', 'F'), ('A', 'E', 'G', 'B', 'D', 'F', 'C'), ('A', 'E', 'G', 'B', 'F', 'C', 'D'), ('A', 'E', 'G', 'B', 'F', 'D', 'C'), ('A', 'E', 'G', 'C', 'B', 'D', 'F'), ('A', 'E', 'G', 'C', 'B', 'F', 'D'), ('A', 'E', 'G', 'C', 'D', 'B', 'F'), ('A', 'E', 'G', 'C', 'D', 'F', 'B'), ('A', 'E', 'G', 'C', 'F', 'B', 'D'), ('A', 'E', 'G', 'C', 'F', 'D', 'B'), ('A', 'E', 'G', 'D', 'B', 'C', 'F'), ('A', 'E', 'G', 'D', 'B', 'F', 'C'), ('A', 'E', 'G', 'D', 'C', 'B', 'F'), ('A', 'E', 'G', 'D', 'C', 'F', 'B'), ('A', 'E', 'G', 'D', 'F', 'B', 'C'), ('A', 'E', 'G', 'D', 'F', 'C', 'B'), ('A', 'E', 'G', 'F', 'B', 'C', 'D'), ('A', 'E', 'G', 'F', 'B', 'D', 'C'), ('A', 'E', 'G', 'F', 'C', 'B', 'D'), ('A', 'E', 'G', 'F', 'C', 'D', 'B'), ('A', 'E', 'G', 'F', 'D', 'B', 'C'), ('A', 'E', 'G', 'F', 'D', 'C', 'B'), ('A', 'F', 'B', 'C', 'D', 'E', 'G'), ('A', 'F', 'B', 'C', 'D', 'G', 'E'), ('A', 'F', 'B', 'C', 'E', 'D', 'G'), ('A', 'F', 'B', 'C', 'E', 'G', 'D'), ('A', 'F', 'B', 'C', 'G', 'D', 'E'), ('A', 'F', 'B', 'C', 'G', 'E', 'D'), ('A', 'F', 'B', 'D', 'C', 'E', 'G'), ('A', 'F', 'B', 'D', 'C', 'G', 'E'), ('A', 'F', 'B', 'D', 'E', 'C', 'G'), ('A', 'F', 'B', 'D', 'E', 'G', 'C'), ('A', 'F', 'B', 'D', 'G', 'C', 'E'), ('A', 'F', 'B', 'D', 'G', 'E', 'C'), ('A', 'F', 'B', 'E', 'C', 'D', 'G'), ('A', 'F', 'B', 'E', 'C', 'G', 'D'), ('A', 'F', 'B', 'E', 'D', 'C', 'G'), ('A', 'F', 'B', 'E', 'D', 'G', 'C'), ('A', 'F', 'B', 'E', 'G', 'C', 'D'), ('A', 'F', 'B', 'E', 'G', 'D', 'C'), ('A', 'F', 'B', 'G', 'C', 'D', 'E'), ('A', 'F', 'B', 'G', 'C', 'E', 'D'), ('A', 'F', 'B', 'G', 'D', 'C', 'E'), ('A', 'F', 'B', 'G', 'D', 'E', 'C'), ('A', 'F', 'B', 'G', 'E', 'C', 'D'), ('A', 'F', 'B', 'G', 'E', 'D', 'C'), ('A', 'F', 'C', 'B', 'D', 'E', 'G'), ('A', 'F', 'C', 'B', 'D', 'G', 'E'), ('A', 'F', 'C', 'B', 'E', 'D', 'G'), ('A', 'F', 'C', 'B', 'E', 'G', 'D'), ('A', 'F', 'C', 'B', 'G', 'D', 'E'), ('A', 'F', 'C', 'B', 'G', 'E', 'D'), ('A', 'F', 'C', 'D', 'B', 'E', 'G'), ('A', 'F', 'C', 'D', 'B', 'G', 'E'), ('A', 'F', 'C', 'D', 'E', 'B', 'G'), ('A', 'F', 'C', 'D', 'E', 'G', 'B'), ('A', 'F', 'C', 'D', 'G', 'B', 'E'), ('A', 'F', 'C', 'D', 'G', 'E', 'B'), ('A', 'F', 'C', 'E', 'B', 'D', 'G'), ('A', 'F', 'C', 'E', 'B', 'G', 'D'), ('A', 'F', 'C', 'E', 'D', 'B', 'G'), ('A', 'F', 'C', 'E', 'D', 'G', 'B'), ('A', 'F', 'C', 'E', 'G', 'B', 'D'), ('A', 'F', 'C', 'E', 'G', 'D', 'B'), ('A', 'F', 'C', 'G', 'B', 'D', 'E'), ('A', 'F', 'C', 'G', 'B', 'E', 'D'), ('A', 'F', 'C', 'G', 'D', 'B', 'E'), ('A', 'F', 'C', 'G', 'D', 'E', 'B'), ('A', 'F', 'C', 'G', 'E', 'B', 'D'), ('A', 'F', 'C', 'G', 'E', 'D', 'B'), ('A', 'F', 'D', 'B', 'C', 'E', 'G'), ('A', 'F', 'D', 'B', 'C', 'G', 'E'), ('A', 'F', 'D', 'B', 'E', 'C', 'G'), ('A', 'F', 'D', 'B', 'E', 'G', 'C'), ('A', 'F', 'D', 'B', 'G', 'C', 'E'), ('A', 'F', 'D', 'B', 'G', 'E', 'C'), ('A', 'F', 'D', 'C', 'B', 'E', 'G'), ('A', 'F', 'D', 'C', 'B', 'G', 'E'), ('A', 'F', 'D', 'C', 'E', 'B', 'G'), ('A', 'F', 'D', 'C', 'E', 'G', 'B'), ('A', 'F', 'D', 'C', 'G', 'B', 'E'), ('A', 'F', 'D', 'C', 'G', 'E', 'B'), ('A', 'F', 'D', 'E', 'B', 'C', 'G'), ('A', 'F', 'D', 'E', 'B', 'G', 'C'), ('A', 'F', 'D', 'E', 'C', 'B', 'G'), ('A', 'F', 'D', 'E', 'C', 'G', 'B'), ('A', 'F', 'D', 'E', 'G', 'B', 'C'), ('A', 'F', 'D', 'E', 'G', 'C', 'B'), ('A', 'F', 'D', 'G', 'B', 'C', 'E'), ('A', 'F', 'D', 'G', 'B', 'E', 'C'), ('A', 'F', 'D', 'G', 'C', 'B', 'E'), ('A', 'F', 'D', 'G', 'C', 'E', 'B'), ('A', 'F', 'D', 'G', 'E', 'B', 'C'), ('A', 'F', 'D', 'G', 'E', 'C', 'B'), ('A', 'F', 'E', 'B', 'C', 'D', 'G'), ('A', 'F', 'E', 'B', 'C', 'G', 'D'), ('A', 'F', 'E', 'B', 'D', 'C', 'G'), ('A', 'F', 'E', 'B', 'D', 'G', 'C'), ('A', 'F', 'E', 'B', 'G', 'C', 'D'), ('A', 'F', 'E', 'B', 'G', 'D', 'C'), ('A', 'F', 'E', 'C', 'B', 'D', 'G'), ('A', 'F', 'E', 'C', 'B', 'G', 'D'), ('A', 'F', 'E', 'C', 'D', 'B', 'G'), ('A', 'F', 'E', 'C', 'D', 'G', 'B'), ('A', 'F', 'E', 'C', 'G', 'B', 'D'), ('A', 'F', 'E', 'C', 'G', 'D', 'B'), ('A', 'F', 'E', 'D', 'B', 'C', 'G'), ('A', 'F', 'E', 'D', 'B', 'G', 'C'), ('A', 'F', 'E', 'D', 'C', 'B', 'G'), ('A', 'F', 'E', 'D', 'C', 'G', 'B'), ('A', 'F', 'E', 'D', 'G', 'B', 'C'), ('A', 'F', 'E', 'D', 'G', 'C', 'B'), ('A', 'F', 'E', 'G', 'B', 'C', 'D'), ('A', 'F', 'E', 'G', 'B', 'D', 'C'), ('A', 'F', 'E', 'G', 'C', 'B', 'D'), ('A', 'F', 'E', 'G', 'C', 'D', 'B'), ('A', 'F', 'E', 'G', 'D', 'B', 'C'), ('A', 'F', 'E', 'G', 'D', 'C', 'B'), ('A', 'F', 'G', 'B', 'C', 'D', 'E'), ('A', 'F', 'G', 'B', 'C', 'E', 'D'), ('A', 'F', 'G', 'B', 'D', 'C', 'E'), ('A', 'F', 'G', 'B', 'D', 'E', 'C'), ('A', 'F', 'G', 'B', 'E', 'C', 'D'), ('A', 'F', 'G', 'B', 'E', 'D', 'C'), ('A', 'F', 'G', 'C', 'B', 'D', 'E'), ('A', 'F', 'G', 'C', 'B', 'E', 'D'), ('A', 'F', 'G', 'C', 'D', 'B', 'E'), ('A', 'F', 'G', 'C', 'D', 'E', 'B'), ('A', 'F', 'G', 'C', 'E', 'B', 'D'), ('A', 'F', 'G', 'C', 'E', 'D', 'B'), ('A', 'F', 'G', 'D', 'B', 'C', 'E'), ('A', 'F', 'G', 'D', 'B', 'E', 'C'), ('A', 'F', 'G', 'D', 'C', 'B', 'E'), ('A', 'F', 'G', 'D', 'C', 'E', 'B'), ('A', 'F', 'G', 'D', 'E', 'B', 'C'), ('A', 'F', 'G', 'D', 'E', 'C', 'B'), ('A', 'F', 'G', 'E', 'B', 'C', 'D'), ('A', 'F', 'G', 'E', 'B', 'D', 'C'), ('A', 'F', 'G', 'E', 'C', 'B', 'D'), ('A', 'F', 'G', 'E', 'C', 'D', 'B'), ('A', 'F', 'G', 'E', 'D', 'B', 'C'), ('A', 'F', 'G', 'E', 'D', 'C', 'B'), ('A', 'G', 'B', 'C', 'D', 'E', 'F'), ('A', 'G', 'B', 'C', 'D', 'F', 'E'), ('A', 'G', 'B', 'C', 'E', 'D', 'F'), ('A', 'G', 'B', 'C', 'E', 'F', 'D'), ('A', 'G', 'B', 'C', 'F', 'D', 'E'), ('A', 'G', 'B', 'C', 'F', 'E', 'D'), ('A', 'G', 'B', 'D', 'C', 'E', 'F'), ('A', 'G', 'B', 'D', 'C', 'F', 'E'), ('A', 'G', 'B', 'D', 'E', 'C', 'F'), ('A', 'G', 'B', 'D', 'E', 'F', 'C'), ('A', 'G', 'B', 'D', 'F', 'C', 'E'), ('A', 'G', 'B', 'D', 'F', 'E', 'C'), ('A', 'G', 'B', 'E', 'C', 'D', 'F'), ('A', 'G', 'B', 'E', 'C', 'F', 'D'), ('A', 'G', 'B', 'E', 'D', 'C', 'F'), ('A', 'G', 'B', 'E', 'D', 'F', 'C'), ('A', 'G', 'B', 'E', 'F', 'C', 'D'), ('A', 'G', 'B', 'E', 'F', 'D', 'C'), ('A', 'G', 'B', 'F', 'C', 'D', 'E'), ('A', 'G', 'B', 'F', 'C', 'E', 'D'), ('A', 'G', 'B', 'F', 'D', 'C', 'E'), ('A', 'G', 'B', 'F', 'D', 'E', 'C'), ('A', 'G', 'B', 'F', 'E', 'C', 'D'), ('A', 'G', 'B', 'F', 'E', 'D', 'C'), ('A', 'G', 'C', 'B', 'D', 'E', 'F'), ('A', 'G', 'C', 'B', 'D', 'F', 'E'), ('A', 'G', 'C', 'B', 'E', 'D', 'F'), ('A', 'G', 'C', 'B', 'E', 'F', 'D'), ('A', 'G', 'C', 'B', 'F', 'D', 'E'), ('A', 'G', 'C', 'B', 'F', 'E', 'D'), ('A', 'G', 'C', 'D', 'B', 'E', 'F'), ('A', 'G', 'C', 'D', 'B', 'F', 'E'), ('A', 'G', 'C', 'D', 'E', 'B', 'F'), ('A', 'G', 'C', 'D', 'E', 'F', 'B'), ('A', 'G', 'C', 'D', 'F', 'B', 'E'), ('A', 'G', 'C', 'D', 'F', 'E', 'B'), ('A', 'G', 'C', 'E', 'B', 'D', 'F'), ('A', 'G', 'C', 'E', 'B', 'F', 'D'), ('A', 'G', 'C', 'E', 'D', 'B', 'F'), ('A', 'G', 'C', 'E', 'D', 'F', 'B'), ('A', 'G', 'C', 'E', 'F', 'B', 'D'), ('A', 'G', 'C', 'E', 'F', 'D', 'B'), ('A', 'G', 'C', 'F', 'B', 'D', 'E'), ('A', 'G', 'C', 'F', 'B', 'E', 'D'), ('A', 'G', 'C', 'F', 'D', 'B', 'E'), ('A', 'G', 'C', 'F', 'D', 'E', 'B'), ('A', 'G', 'C', 'F', 'E', 'B', 'D'), ('A', 'G', 'C', 'F', 'E', 'D', 'B'), ('A', 'G', 'D', 'B', 'C', 'E', 'F'), ('A', 'G', 'D', 'B', 'C', 'F', 'E'), ('A', 'G', 'D', 'B', 'E', 'C', 'F'), ('A', 'G', 'D', 'B', 'E', 'F', 'C'), ('A', 'G', 'D', 'B', 'F', 'C', 'E'), ('A', 'G', 'D', 'B', 'F', 'E', 'C'), ('A', 'G', 'D', 'C', 'B', 'E', 'F'), ('A', 'G', 'D', 'C', 'B', 'F', 'E'), ('A', 'G', 'D', 'C', 'E', 'B', 'F'), ('A', 'G', 'D', 'C', 'E', 'F', 'B'), ('A', 'G', 'D', 'C', 'F', 'B', 'E'), ('A', 'G', 'D', 'C', 'F', 'E', 'B'), ('A', 'G', 'D', 'E', 'B', 'C', 'F'), ('A', 'G', 'D', 'E', 'B', 'F', 'C'), ('A', 'G', 'D', 'E', 'C', 'B', 'F'), ('A', 'G', 'D', 'E', 'C', 'F', 'B'), ('A', 'G', 'D', 'E', 'F', 'B', 'C'), ('A', 'G', 'D', 'E', 'F', 'C', 'B'), ('A', 'G', 'D', 'F', 'B', 'C', 'E'), ('A', 'G', 'D', 'F', 'B', 'E', 'C'), ('A', 'G', 'D', 'F', 'C', 'B', 'E'), ('A', 'G', 'D', 'F', 'C', 'E', 'B'), ('A', 'G', 'D', 'F', 'E', 'B', 'C'), ('A', 'G', 'D', 'F', 'E', 'C', 'B'), ('A', 'G', 'E', 'B', 'C', 'D', 'F'), ('A', 'G', 'E', 'B', 'C', 'F', 'D'), ('A', 'G', 'E', 'B', 'D', 'C', 'F'), ('A', 'G', 'E', 'B', 'D', 'F', 'C'), ('A', 'G', 'E', 'B', 'F', 'C', 'D'), ('A', 'G', 'E', 'B', 'F', 'D', 'C'), ('A', 'G', 'E', 'C', 'B', 'D', 'F'), ('A', 'G', 'E', 'C', 'B', 'F', 'D'), ('A', 'G', 'E', 'C', 'D', 'B', 'F'), ('A', 'G', 'E', 'C', 'D', 'F', 'B'), ('A', 'G', 'E', 'C', 'F', 'B', 'D'), ('A', 'G', 'E', 'C', 'F', 'D', 'B'), ('A', 'G', 'E', 'D', 'B', 'C', 'F'), ('A', 'G', 'E', 'D', 'B', 'F', 'C'), ('A', 'G', 'E', 'D', 'C', 'B', 'F'), ('A', 'G', 'E', 'D', 'C', 'F', 'B'), ('A', 'G', 'E', 'D', 'F', 'B', 'C'), ('A', 'G', 'E', 'D', 'F', 'C', 'B'), ('A', 'G', 'E', 'F', 'B', 'C', 'D'), ('A', 'G', 'E', 'F', 'B', 'D', 'C'), ('A', 'G', 'E', 'F', 'C', 'B', 'D'), ('A', 'G', 'E', 'F', 'C', 'D', 'B'), ('A', 'G', 'E', 'F', 'D', 'B', 'C'), ('A', 'G', 'E', 'F', 'D', 'C', 'B'), ('A', 'G', 'F', 'B', 'C', 'D', 'E'), ('A', 'G', 'F', 'B', 'C', 'E', 'D'), ('A', 'G', 'F', 'B', 'D', 'C', 'E'), ('A', 'G', 'F', 'B', 'D', 'E', 'C'), ('A', 'G', 'F', 'B', 'E', 'C', 'D'), ('A', 'G', 'F', 'B', 'E', 'D', 'C'), ('A', 'G', 'F', 'C', 'B', 'D', 'E'), ('A', 'G', 'F', 'C', 'B', 'E', 'D'), ('A', 'G', 'F', 'C', 'D', 'B', 'E'), ('A', 'G', 'F', 'C', 'D', 'E', 'B'), ('A', 'G', 'F', 'C', 'E', 'B', 'D'), ('A', 'G', 'F', 'C', 'E', 'D', 'B'), ('A', 'G', 'F', 'D', 'B', 'C', 'E'), ('A', 'G', 'F', 'D', 'B', 'E', 'C'), ('A', 'G', 'F', 'D', 'C', 'B', 'E'), ('A', 'G', 'F', 'D', 'C', 'E', 'B'), ('A', 'G', 'F', 'D', 'E', 'B', 'C'), ('A', 'G', 'F', 'D', 'E', 'C', 'B'), ('A', 'G', 'F', 'E', 'B', 'C', 'D'), ('A', 'G', 'F', 'E', 'B', 'D', 'C'), ('A', 'G', 'F', 'E', 'C', 'B', 'D'), ('A', 'G', 'F', 'E', 'C', 'D', 'B'), ('A', 'G', 'F', 'E', 'D', 'B', 'C'), ('A', 'G', 'F', 'E', 'D', 'C', 'B'), ('B', 'A', 'C', 'D', 'E', 'F', 'G'), ('B', 'A', 'C', 'D', 'E', 'G', 'F'), ('B', 'A', 'C', 'D', 'F', 'E', 'G'), ('B', 'A', 'C', 'D', 'F', 'G', 'E'), ('B', 'A', 'C', 'D', 'G', 'E', 'F'), ('B', 'A', 'C', 'D', 'G', 'F', 'E'), ('B', 'A', 'C', 'E', 'D', 'F', 'G'), ('B', 'A', 'C', 'E', 'D', 'G', 'F'), ('B', 'A', 'C', 'E', 'F', 'D', 'G'), ('B', 'A', 'C', 'E', 'F', 'G', 'D'), ('B', 'A', 'C', 'E', 'G', 'D', 'F'), ('B', 'A', 'C', 'E', 'G', 'F', 'D'), ('B', 'A', 'C', 'F', 'D', 'E', 'G'), ('B', 'A', 'C', 'F', 'D', 'G', 'E'), ('B', 'A', 'C', 'F', 'E', 'D', 'G'), ('B', 'A', 'C', 'F', 'E', 'G', 'D'), ('B', 'A', 'C', 'F', 'G', 'D', 'E'), ('B', 'A', 'C', 'F', 'G', 'E', 'D'), ('B', 'A', 'C', 'G', 'D', 'E', 'F'), ('B', 'A', 'C', 'G', 'D', 'F', 'E'), ('B', 'A', 'C', 'G', 'E', 'D', 'F'), ('B', 'A', 'C', 'G', 'E', 'F', 'D'), ('B', 'A', 'C', 'G', 'F', 'D', 'E'), ('B', 'A', 'C', 'G', 'F', 'E', 'D'), ('B', 'A', 'D', 'C', 'E', 'F', 'G'), ('B', 'A', 'D', 'C', 'E', 'G', 'F'), ('B', 'A', 'D', 'C', 'F', 'E', 'G'), ('B', 'A', 'D', 'C', 'F', 'G', 'E'), ('B', 'A', 'D', 'C', 'G', 'E', 'F'), ('B', 'A', 'D', 'C', 'G', 'F', 'E'), ('B', 'A', 'D', 'E', 'C', 'F', 'G'), ('B', 'A', 'D', 'E', 'C', 'G', 'F'), ('B', 'A', 'D', 'E', 'F', 'C', 'G'), ('B', 'A', 'D', 'E', 'F', 'G', 'C'), ('B', 'A', 'D', 'E', 'G', 'C', 'F'), ('B', 'A', 'D', 'E', 'G', 'F', 'C'), ('B', 'A', 'D', 'F', 'C', 'E', 'G'), ('B', 'A', 'D', 'F', 'C', 'G', 'E'), ('B', 'A', 'D', 'F', 'E', 'C', 'G'), ('B', 'A', 'D', 'F', 'E', 'G', 'C'), ('B', 'A', 'D', 'F', 'G', 'C', 'E'), ('B', 'A', 'D', 'F', 'G', 'E', 'C'), ('B', 'A', 'D', 'G', 'C', 'E', 'F'), ('B', 'A', 'D', 'G', 'C', 'F', 'E'), ('B', 'A', 'D', 'G', 'E', 'C', 'F'), ('B', 'A', 'D', 'G', 'E', 'F', 'C'), ('B', 'A', 'D', 'G', 'F', 'C', 'E'), ('B', 'A', 'D', 'G', 'F', 'E', 'C'), ('B', 'A', 'E', 'C', 'D', 'F', 'G'), ('B', 'A', 'E', 'C', 'D', 'G', 'F'), ('B', 'A', 'E', 'C', 'F', 'D', 'G'), ('B', 'A', 'E', 'C', 'F', 'G', 'D'), ('B', 'A', 'E', 'C', 'G', 'D', 'F'), ('B', 'A', 'E', 'C', 'G', 'F', 'D'), ('B', 'A', 'E', 'D', 'C', 'F', 'G'), ('B', 'A', 'E', 'D', 'C', 'G', 'F'), ('B', 'A', 'E', 'D', 'F', 'C', 'G'), ('B', 'A', 'E', 'D', 'F', 'G', 'C'), ('B', 'A', 'E', 'D', 'G', 'C', 'F'), ('B', 'A', 'E', 'D', 'G', 'F', 'C'), ('B', 'A', 'E', 'F', 'C', 'D', 'G'), ('B', 'A', 'E', 'F', 'C', 'G', 'D'), ('B', 'A', 'E', 'F', 'D', 'C', 'G'), ('B', 'A', 'E', 'F', 'D', 'G', 'C'), ('B', 'A', 'E', 'F', 'G', 'C', 'D'), ('B', 'A', 'E', 'F', 'G', 'D', 'C'), ('B', 'A', 'E', 'G', 'C', 'D', 'F'), ('B', 'A', 'E', 'G', 'C', 'F', 'D'), ('B', 'A', 'E', 'G', 'D', 'C', 'F'), ('B', 'A', 'E', 'G', 'D', 'F', 'C'), ('B', 'A', 'E', 'G', 'F', 'C', 'D'), ('B', 'A', 'E', 'G', 'F', 'D', 'C'), ('B', 'A', 'F', 'C', 'D', 'E', 'G'), ('B', 'A', 'F', 'C', 'D', 'G', 'E'), ('B', 'A', 'F', 'C', 'E', 'D', 'G'), ('B', 'A', 'F', 'C', 'E', 'G', 'D'), ('B', 'A', 'F', 'C', 'G', 'D', 'E'), ('B', 'A', 'F', 'C', 'G', 'E', 'D'), ('B', 'A', 'F', 'D', 'C', 'E', 'G'), ('B', 'A', 'F', 'D', 'C', 'G', 'E'), ('B', 'A', 'F', 'D', 'E', 'C', 'G'), ('B', 'A', 'F', 'D', 'E', 'G', 'C'), ('B', 'A', 'F', 'D', 'G', 'C', 'E'), ('B', 'A', 'F', 'D', 'G', 'E', 'C'), ('B', 'A', 'F', 'E', 'C', 'D', 'G'), ('B', 'A', 'F', 'E', 'C', 'G', 'D'), ('B', 'A', 'F', 'E', 'D', 'C', 'G'), ('B', 'A', 'F', 'E', 'D', 'G', 'C'), ('B', 'A', 'F', 'E', 'G', 'C', 'D'), ('B', 'A', 'F', 'E', 'G', 'D', 'C'), ('B', 'A', 'F', 'G', 'C', 'D', 'E'), ('B', 'A', 'F', 'G', 'C', 'E', 'D'), ('B', 'A', 'F', 'G', 'D', 'C', 'E'), ('B', 'A', 'F', 'G', 'D', 'E', 'C'), ('B', 'A', 'F', 'G', 'E', 'C', 'D'), ('B', 'A', 'F', 'G', 'E', 'D', 'C'), ('B', 'A', 'G', 'C', 'D', 'E', 'F'), ('B', 'A', 'G', 'C', 'D', 'F', 'E'), ('B', 'A', 'G', 'C', 'E', 'D', 'F'), ('B', 'A', 'G', 'C', 'E', 'F', 'D'), ('B', 'A', 'G', 'C', 'F', 'D', 'E'), ('B', 'A', 'G', 'C', 'F', 'E', 'D'), ('B', 'A', 'G', 'D', 'C', 'E', 'F'), ('B', 'A', 'G', 'D', 'C', 'F', 'E'), ('B', 'A', 'G', 'D', 'E', 'C', 'F'), ('B', 'A', 'G', 'D', 'E', 'F', 'C'), ('B', 'A', 'G', 'D', 'F', 'C', 'E'), ('B', 'A', 'G', 'D', 'F', 'E', 'C'), ('B', 'A', 'G', 'E', 'C', 'D', 'F'), ('B', 'A', 'G', 'E', 'C', 'F', 'D'), ('B', 'A', 'G', 'E', 'D', 'C', 'F'), ('B', 'A', 'G', 'E', 'D', 'F', 'C'), ('B', 'A', 'G', 'E', 'F', 'C', 'D'), ('B', 'A', 'G', 'E', 'F', 'D', 'C'), ('B', 'A', 'G', 'F', 'C', 'D', 'E'), ('B', 'A', 'G', 'F', 'C', 'E', 'D'), ('B', 'A', 'G', 'F', 'D', 'C', 'E'), ('B', 'A', 'G', 'F', 'D', 'E', 'C'), ('B', 'A', 'G', 'F', 'E', 'C', 'D'), ('B', 'A', 'G', 'F', 'E', 'D', 'C'), ('B', 'C', 'A', 'D', 'E', 'F', 'G'), ('B', 'C', 'A', 'D', 'E', 'G', 'F'), ('B', 'C', 'A', 'D', 'F', 'E', 'G'), ('B', 'C', 'A', 'D', 'F', 'G', 'E'), ('B', 'C', 'A', 'D', 'G', 'E', 'F'), ('B', 'C', 'A', 'D', 'G', 'F', 'E'), ('B', 'C', 'A', 'E', 'D', 'F', 'G'), ('B', 'C', 'A', 'E', 'D', 'G', 'F'), ('B', 'C', 'A', 'E', 'F', 'D', 'G'), ('B', 'C', 'A', 'E', 'F', 'G', 'D'), ('B', 'C', 'A', 'E', 'G', 'D', 'F'), ('B', 'C', 'A', 'E', 'G', 'F', 'D'), ('B', 'C', 'A', 'F', 'D', 'E', 'G'), ('B', 'C', 'A', 'F', 'D', 'G', 'E'), ('B', 'C', 'A', 'F', 'E', 'D', 'G'), ('B', 'C', 'A', 'F', 'E', 'G', 'D'), ('B', 'C', 'A', 'F', 'G', 'D', 'E'), ('B', 'C', 'A', 'F', 'G', 'E', 'D'), ('B', 'C', 'A', 'G', 'D', 'E', 'F'), ('B', 'C', 'A', 'G', 'D', 'F', 'E'), ('B', 'C', 'A', 'G', 'E', 'D', 'F'), ('B', 'C', 'A', 'G', 'E', 'F', 'D'), ('B', 'C', 'A', 'G', 'F', 'D', 'E'), ('B', 'C', 'A', 'G', 'F', 'E', 'D'), ('B', 'C', 'D', 'A', 'E', 'F', 'G'), ('B', 'C', 'D', 'A', 'E', 'G', 'F'), ('B', 'C', 'D', 'A', 'F', 'E', 'G'), ('B', 'C', 'D', 'A', 'F', 'G', 'E'), ('B', 'C', 'D', 'A', 'G', 'E', 'F'), ('B', 'C', 'D', 'A', 'G', 'F', 'E'), ('B', 'C', 'D', 'E', 'A', 'F', 'G'), ('B', 'C', 'D', 'E', 'A', 'G', 'F'), ('B', 'C', 'D', 'E', 'F', 'A', 'G'), ('B', 'C', 'D', 'E', 'F', 'G', 'A'), ('B', 'C', 'D', 'E', 'G', 'A', 'F'), ('B', 'C', 'D', 'E', 'G', 'F', 'A'), ('B', 'C', 'D', 'F', 'A', 'E', 'G'), ('B', 'C', 'D', 'F', 'A', 'G', 'E'), ('B', 'C', 'D', 'F', 'E', 'A', 'G'), ('B', 'C', 'D', 'F', 'E', 'G', 'A'), ('B', 'C', 'D', 'F', 'G', 'A', 'E'), ('B', 'C', 'D', 'F', 'G', 'E', 'A'), ('B', 'C', 'D', 'G', 'A', 'E', 'F'), ('B', 'C', 'D', 'G', 'A', 'F', 'E'), ('B', 'C', 'D', 'G', 'E', 'A', 'F'), ('B', 'C', 'D', 'G', 'E', 'F', 'A'), ('B', 'C', 'D', 'G', 'F', 'A', 'E'), ('B', 'C', 'D', 'G', 'F', 'E', 'A'), ('B', 'C', 'E', 'A', 'D', 'F', 'G'), ('B', 'C', 'E', 'A', 'D', 'G', 'F'), ('B', 'C', 'E', 'A', 'F', 'D', 'G'), ('B', 'C', 'E', 'A', 'F', 'G', 'D'), ('B', 'C', 'E', 'A', 'G', 'D', 'F'), ('B', 'C', 'E', 'A', 'G', 'F', 'D'), ('B', 'C', 'E', 'D', 'A', 'F', 'G'), ('B', 'C', 'E', 'D', 'A', 'G', 'F'), ('B', 'C', 'E', 'D', 'F', 'A', 'G'), ('B', 'C', 'E', 'D', 'F', 'G', 'A'), ('B', 'C', 'E', 'D', 'G', 'A', 'F'), ('B', 'C', 'E', 'D', 'G', 'F', 'A'), ('B', 'C', 'E', 'F', 'A', 'D', 'G'), ('B', 'C', 'E', 'F', 'A', 'G', 'D'), ('B', 'C', 'E', 'F', 'D', 'A', 'G'), ('B', 'C', 'E', 'F', 'D', 'G', 'A'), ('B', 'C', 'E', 'F', 'G', 'A', 'D'), ('B', 'C', 'E', 'F', 'G', 'D', 'A'), ('B', 'C', 'E', 'G', 'A', 'D', 'F'), ('B', 'C', 'E', 'G', 'A', 'F', 'D'), ('B', 'C', 'E', 'G', 'D', 'A', 'F'), ('B', 'C', 'E', 'G', 'D', 'F', 'A'), ('B', 'C', 'E', 'G', 'F', 'A', 'D'), ('B', 'C', 'E', 'G', 'F', 'D', 'A'), ('B', 'C', 'F', 'A', 'D', 'E', 'G'), ('B', 'C', 'F', 'A', 'D', 'G', 'E'), ('B', 'C', 'F', 'A', 'E', 'D', 'G'), ('B', 'C', 'F', 'A', 'E', 'G', 'D'), ('B', 'C', 'F', 'A', 'G', 'D', 'E'), ('B', 'C', 'F', 'A', 'G', 'E', 'D'), ('B', 'C', 'F', 'D', 'A', 'E', 'G'), ('B', 'C', 'F', 'D', 'A', 'G', 'E'), ('B', 'C', 'F', 'D', 'E', 'A', 'G'), ('B', 'C', 'F', 'D', 'E', 'G', 'A'), ('B', 'C', 'F', 'D', 'G', 'A', 'E'), ('B', 'C', 'F', 'D', 'G', 'E', 'A'), ('B', 'C', 'F', 'E', 'A', 'D', 'G'), ('B', 'C', 'F', 'E', 'A', 'G', 'D'), ('B', 'C', 'F', 'E', 'D', 'A', 'G'), ('B', 'C', 'F', 'E', 'D', 'G', 'A'), ('B', 'C', 'F', 'E', 'G', 'A', 'D'), ('B', 'C', 'F', 'E', 'G', 'D', 'A'), ('B', 'C', 'F', 'G', 'A', 'D', 'E'), ('B', 'C', 'F', 'G', 'A', 'E', 'D'), ('B', 'C', 'F', 'G', 'D', 'A', 'E'), ('B', 'C', 'F', 'G', 'D', 'E', 'A'), ('B', 'C', 'F', 'G', 'E', 'A', 'D'), ('B', 'C', 'F', 'G', 'E', 'D', 'A'), ('B', 'C', 'G', 'A', 'D', 'E', 'F'), ('B', 'C', 'G', 'A', 'D', 'F', 'E'), ('B', 'C', 'G', 'A', 'E', 'D', 'F'), ('B', 'C', 'G', 'A', 'E', 'F', 'D'), ('B', 'C', 'G', 'A', 'F', 'D', 'E'), ('B', 'C', 'G', 'A', 'F', 'E', 'D'), ('B', 'C', 'G', 'D', 'A', 'E', 'F'), ('B', 'C', 'G', 'D', 'A', 'F', 'E'), ('B', 'C', 'G', 'D', 'E', 'A', 'F'), ('B', 'C', 'G', 'D', 'E', 'F', 'A'), ('B', 'C', 'G', 'D', 'F', 'A', 'E'), ('B', 'C', 'G', 'D', 'F', 'E', 'A'), ('B', 'C', 'G', 'E', 'A', 'D', 'F'), ('B', 'C', 'G', 'E', 'A', 'F', 'D'), ('B', 'C', 'G', 'E', 'D', 'A', 'F'), ('B', 'C', 'G', 'E', 'D', 'F', 'A'), ('B', 'C', 'G', 'E', 'F', 'A', 'D'), ('B', 'C', 'G', 'E', 'F', 'D', 'A'), ('B', 'C', 'G', 'F', 'A', 'D', 'E'), ('B', 'C', 'G', 'F', 'A', 'E', 'D'), ('B', 'C', 'G', 'F', 'D', 'A', 'E'), ('B', 'C', 'G', 'F', 'D', 'E', 'A'), ('B', 'C', 'G', 'F', 'E', 'A', 'D'), ('B', 'C', 'G', 'F', 'E', 'D', 'A'), ('B', 'D', 'A', 'C', 'E', 'F', 'G'), ('B', 'D', 'A', 'C', 'E', 'G', 'F'), ('B', 'D', 'A', 'C', 'F', 'E', 'G'), ('B', 'D', 'A', 'C', 'F', 'G', 'E'), ('B', 'D', 'A', 'C', 'G', 'E', 'F'), ('B', 'D', 'A', 'C', 'G', 'F', 'E'), ('B', 'D', 'A', 'E', 'C', 'F', 'G'), ('B', 'D', 'A', 'E', 'C', 'G', 'F'), ('B', 'D', 'A', 'E', 'F', 'C', 'G'), ('B', 'D', 'A', 'E', 'F', 'G', 'C'), ('B', 'D', 'A', 'E', 'G', 'C', 'F'), ('B', 'D', 'A', 'E', 'G', 'F', 'C'), ('B', 'D', 'A', 'F', 'C', 'E', 'G'), ('B', 'D', 'A', 'F', 'C', 'G', 'E'), ('B', 'D', 'A', 'F', 'E', 'C', 'G'), ('B', 'D', 'A', 'F', 'E', 'G', 'C'), ('B', 'D', 'A', 'F', 'G', 'C', 'E'), ('B', 'D', 'A', 'F', 'G', 'E', 'C'), ('B', 'D', 'A', 'G', 'C', 'E', 'F'), ('B', 'D', 'A', 'G', 'C', 'F', 'E'), ('B', 'D', 'A', 'G', 'E', 'C', 'F'), ('B', 'D', 'A', 'G', 'E', 'F', 'C'), ('B', 'D', 'A', 'G', 'F', 'C', 'E'), ('B', 'D', 'A', 'G', 'F', 'E', 'C'), ('B', 'D', 'C', 'A', 'E', 'F', 'G'), ('B', 'D', 'C', 'A', 'E', 'G', 'F'), ('B', 'D', 'C', 'A', 'F', 'E', 'G'), ('B', 'D', 'C', 'A', 'F', 'G', 'E'), ('B', 'D', 'C', 'A', 'G', 'E', 'F'), ('B', 'D', 'C', 'A', 'G', 'F', 'E'), ('B', 'D', 'C', 'E', 'A', 'F', 'G'), ('B', 'D', 'C', 'E', 'A', 'G', 'F'), ('B', 'D', 'C', 'E', 'F', 'A', 'G'), ('B', 'D', 'C', 'E', 'F', 'G', 'A'), ('B', 'D', 'C', 'E', 'G', 'A', 'F'), ('B', 'D', 'C', 'E', 'G', 'F', 'A'), ('B', 'D', 'C', 'F', 'A', 'E', 'G'), ('B', 'D', 'C', 'F', 'A', 'G', 'E'), ('B', 'D', 'C', 'F', 'E', 'A', 'G'), ('B', 'D', 'C', 'F', 'E', 'G', 'A'), ('B', 'D', 'C', 'F', 'G', 'A', 'E'), ('B', 'D', 'C', 'F', 'G', 'E', 'A'), ('B', 'D', 'C', 'G', 'A', 'E', 'F'), ('B', 'D', 'C', 'G', 'A', 'F', 'E'), ('B', 'D', 'C', 'G', 'E', 'A', 'F'), ('B', 'D', 'C', 'G', 'E', 'F', 'A'), ('B', 'D', 'C', 'G', 'F', 'A', 'E'), ('B', 'D', 'C', 'G', 'F', 'E', 'A'), ('B', 'D', 'E', 'A', 'C', 'F', 'G'), ('B', 'D', 'E', 'A', 'C', 'G', 'F'), ('B', 'D', 'E', 'A', 'F', 'C', 'G'), ('B', 'D', 'E', 'A', 'F', 'G', 'C'), ('B', 'D', 'E', 'A', 'G', 'C', 'F'), ('B', 'D', 'E', 'A', 'G', 'F', 'C'), ('B', 'D', 'E', 'C', 'A', 'F', 'G'), ('B', 'D', 'E', 'C', 'A', 'G', 'F'), ('B', 'D', 'E', 'C', 'F', 'A', 'G'), ('B', 'D', 'E', 'C', 'F', 'G', 'A'), ('B', 'D', 'E', 'C', 'G', 'A', 'F'), ('B', 'D', 'E', 'C', 'G', 'F', 'A'), ('B', 'D', 'E', 'F', 'A', 'C', 'G'), ('B', 'D', 'E', 'F', 'A', 'G', 'C'), ('B', 'D', 'E', 'F', 'C', 'A', 'G'), ('B', 'D', 'E', 'F', 'C', 'G', 'A'), ('B', 'D', 'E', 'F', 'G', 'A', 'C'), ('B', 'D', 'E', 'F', 'G', 'C', 'A'), ('B', 'D', 'E', 'G', 'A', 'C', 'F'), ('B', 'D', 'E', 'G', 'A', 'F', 'C'), ('B', 'D', 'E', 'G', 'C', 'A', 'F'), ('B', 'D', 'E', 'G', 'C', 'F', 'A'), ('B', 'D', 'E', 'G', 'F', 'A', 'C'), ('B', 'D', 'E', 'G', 'F', 'C', 'A'), ('B', 'D', 'F', 'A', 'C', 'E', 'G'), ('B', 'D', 'F', 'A', 'C', 'G', 'E'), ('B', 'D', 'F', 'A', 'E', 'C', 'G'), ('B', 'D', 'F', 'A', 'E', 'G', 'C'), ('B', 'D', 'F', 'A', 'G', 'C', 'E'), ('B', 'D', 'F', 'A', 'G', 'E', 'C'), ('B', 'D', 'F', 'C', 'A', 'E', 'G'), ('B', 'D', 'F', 'C', 'A', 'G', 'E'), ('B', 'D', 'F', 'C', 'E', 'A', 'G'), ('B', 'D', 'F', 'C', 'E', 'G', 'A'), ('B', 'D', 'F', 'C', 'G', 'A', 'E'), ('B', 'D', 'F', 'C', 'G', 'E', 'A'), ('B', 'D', 'F', 'E', 'A', 'C', 'G'), ('B', 'D', 'F', 'E', 'A', 'G', 'C'), ('B', 'D', 'F', 'E', 'C', 'A', 'G'), ('B', 'D', 'F', 'E', 'C', 'G', 'A'), ('B', 'D', 'F', 'E', 'G', 'A', 'C'), ('B', 'D', 'F', 'E', 'G', 'C', 'A'), ('B', 'D', 'F', 'G', 'A', 'C', 'E'), ('B', 'D', 'F', 'G', 'A', 'E', 'C'), ('B', 'D', 'F', 'G', 'C', 'A', 'E'), ('B', 'D', 'F', 'G', 'C', 'E', 'A'), ('B', 'D', 'F', 'G', 'E', 'A', 'C'), ('B', 'D', 'F', 'G', 'E', 'C', 'A'), ('B', 'D', 'G', 'A', 'C', 'E', 'F'), ('B', 'D', 'G', 'A', 'C', 'F', 'E'), ('B', 'D', 'G', 'A', 'E', 'C', 'F'), ('B', 'D', 'G', 'A', 'E', 'F', 'C'), ('B', 'D', 'G', 'A', 'F', 'C', 'E'), ('B', 'D', 'G', 'A', 'F', 'E', 'C'), ('B', 'D', 'G', 'C', 'A', 'E', 'F'), ('B', 'D', 'G', 'C', 'A', 'F', 'E'), ('B', 'D', 'G', 'C', 'E', 'A', 'F'), ('B', 'D', 'G', 'C', 'E', 'F', 'A'), ('B', 'D', 'G', 'C', 'F', 'A', 'E'), ('B', 'D', 'G', 'C', 'F', 'E', 'A'), ('B', 'D', 'G', 'E', 'A', 'C', 'F'), ('B', 'D', 'G', 'E', 'A', 'F', 'C'), ('B', 'D', 'G', 'E', 'C', 'A', 'F'), ('B', 'D', 'G', 'E', 'C', 'F', 'A'), ('B', 'D', 'G', 'E', 'F', 'A', 'C'), ('B', 'D', 'G', 'E', 'F', 'C', 'A'), ('B', 'D', 'G', 'F', 'A', 'C', 'E'), ('B', 'D', 'G', 'F', 'A', 'E', 'C'), ('B', 'D', 'G', 'F', 'C', 'A', 'E'), ('B', 'D', 'G', 'F', 'C', 'E', 'A'), ('B', 'D', 'G', 'F', 'E', 'A', 'C'), ('B', 'D', 'G', 'F', 'E', 'C', 'A'), ('B', 'E', 'A', 'C', 'D', 'F', 'G'), ('B', 'E', 'A', 'C', 'D', 'G', 'F'), ('B', 'E', 'A', 'C', 'F', 'D', 'G'), ('B', 'E', 'A', 'C', 'F', 'G', 'D'), ('B', 'E', 'A', 'C', 'G', 'D', 'F'), ('B', 'E', 'A', 'C', 'G', 'F', 'D'), ('B', 'E', 'A', 'D', 'C', 'F', 'G'), ('B', 'E', 'A', 'D', 'C', 'G', 'F'), ('B', 'E', 'A', 'D', 'F', 'C', 'G'), ('B', 'E', 'A', 'D', 'F', 'G', 'C'), ('B', 'E', 'A', 'D', 'G', 'C', 'F'), ('B', 'E', 'A', 'D', 'G', 'F', 'C'), ('B', 'E', 'A', 'F', 'C', 'D', 'G'), ('B', 'E', 'A', 'F', 'C', 'G', 'D'), ('B', 'E', 'A', 'F', 'D', 'C', 'G'), ('B', 'E', 'A', 'F', 'D', 'G', 'C'), ('B', 'E', 'A', 'F', 'G', 'C', 'D'), ('B', 'E', 'A', 'F', 'G', 'D', 'C'), ('B', 'E', 'A', 'G', 'C', 'D', 'F'), ('B', 'E', 'A', 'G', 'C', 'F', 'D'), ('B', 'E', 'A', 'G', 'D', 'C', 'F'), ('B', 'E', 'A', 'G', 'D', 'F', 'C'), ('B', 'E', 'A', 'G', 'F', 'C', 'D'), ('B', 'E', 'A', 'G', 'F', 'D', 'C'), ('B', 'E', 'C', 'A', 'D', 'F', 'G'), ('B', 'E', 'C', 'A', 'D', 'G', 'F'), ('B', 'E', 'C', 'A', 'F', 'D', 'G'), ('B', 'E', 'C', 'A', 'F', 'G', 'D'), ('B', 'E', 'C', 'A', 'G', 'D', 'F'), ('B', 'E', 'C', 'A', 'G', 'F', 'D'), ('B', 'E', 'C', 'D', 'A', 'F', 'G'), ('B', 'E', 'C', 'D', 'A', 'G', 'F'), ('B', 'E', 'C', 'D', 'F', 'A', 'G'), ('B', 'E', 'C', 'D', 'F', 'G', 'A'), ('B', 'E', 'C', 'D', 'G', 'A', 'F'), ('B', 'E', 'C', 'D', 'G', 'F', 'A'), ('B', 'E', 'C', 'F', 'A', 'D', 'G'), ('B', 'E', 'C', 'F', 'A', 'G', 'D'), ('B', 'E', 'C', 'F', 'D', 'A', 'G'), ('B', 'E', 'C', 'F', 'D', 'G', 'A'), ('B', 'E', 'C', 'F', 'G', 'A', 'D'), ('B', 'E', 'C', 'F', 'G', 'D', 'A'), ('B', 'E', 'C', 'G', 'A', 'D', 'F'), ('B', 'E', 'C', 'G', 'A', 'F', 'D'), ('B', 'E', 'C', 'G', 'D', 'A', 'F'), ('B', 'E', 'C', 'G', 'D', 'F', 'A'), ('B', 'E', 'C', 'G', 'F', 'A', 'D'), ('B', 'E', 'C', 'G', 'F', 'D', 'A'), ('B', 'E', 'D', 'A', 'C', 'F', 'G'), ('B', 'E', 'D', 'A', 'C', 'G', 'F'), ('B', 'E', 'D', 'A', 'F', 'C', 'G'), ('B', 'E', 'D', 'A', 'F', 'G', 'C'), ('B', 'E', 'D', 'A', 'G', 'C', 'F'), ('B', 'E', 'D', 'A', 'G', 'F', 'C'), ('B', 'E', 'D', 'C', 'A', 'F', 'G'), ('B', 'E', 'D', 'C', 'A', 'G', 'F'), ('B', 'E', 'D', 'C', 'F', 'A', 'G'), ('B', 'E', 'D', 'C', 'F', 'G', 'A'), ('B', 'E', 'D', 'C', 'G', 'A', 'F'), ('B', 'E', 'D', 'C', 'G', 'F', 'A'), ('B', 'E', 'D', 'F', 'A', 'C', 'G'), ('B', 'E', 'D', 'F', 'A', 'G', 'C'), ('B', 'E', 'D', 'F', 'C', 'A', 'G'), ('B', 'E', 'D', 'F', 'C', 'G', 'A'), ('B', 'E', 'D', 'F', 'G', 'A', 'C'), ('B', 'E', 'D', 'F', 'G', 'C', 'A'), ('B', 'E', 'D', 'G', 'A', 'C', 'F'), ('B', 'E', 'D', 'G', 'A', 'F', 'C'), ('B', 'E', 'D', 'G', 'C', 'A', 'F'), ('B', 'E', 'D', 'G', 'C', 'F', 'A'), ('B', 'E', 'D', 'G', 'F', 'A', 'C'), ('B', 'E', 'D', 'G', 'F', 'C', 'A'), ('B', 'E', 'F', 'A', 'C', 'D', 'G'), ('B', 'E', 'F', 'A', 'C', 'G', 'D'), ('B', 'E', 'F', 'A', 'D', 'C', 'G'), ('B', 'E', 'F', 'A', 'D', 'G', 'C'), ('B', 'E', 'F', 'A', 'G', 'C', 'D'), ('B', 'E', 'F', 'A', 'G', 'D', 'C'), ('B', 'E', 'F', 'C', 'A', 'D', 'G'), ('B', 'E', 'F', 'C', 'A', 'G', 'D'), ('B', 'E', 'F', 'C', 'D', 'A', 'G'), ('B', 'E', 'F', 'C', 'D', 'G', 'A'), ('B', 'E', 'F', 'C', 'G', 'A', 'D'), ('B', 'E', 'F', 'C', 'G', 'D', 'A'), ('B', 'E', 'F', 'D', 'A', 'C', 'G'), ('B', 'E', 'F', 'D', 'A', 'G', 'C'), ('B', 'E', 'F', 'D', 'C', 'A', 'G'), ('B', 'E', 'F', 'D', 'C', 'G', 'A'), ('B', 'E', 'F', 'D', 'G', 'A', 'C'), ('B', 'E', 'F', 'D', 'G', 'C', 'A'), ('B', 'E', 'F', 'G', 'A', 'C', 'D'), ('B', 'E', 'F', 'G', 'A', 'D', 'C'), ('B', 'E', 'F', 'G', 'C', 'A', 'D'), ('B', 'E', 'F', 'G', 'C', 'D', 'A'), ('B', 'E', 'F', 'G', 'D', 'A', 'C'), ('B', 'E', 'F', 'G', 'D', 'C', 'A'), ('B', 'E', 'G', 'A', 'C', 'D', 'F'), ('B', 'E', 'G', 'A', 'C', 'F', 'D'), ('B', 'E', 'G', 'A', 'D', 'C', 'F'), ('B', 'E', 'G', 'A', 'D', 'F', 'C'), ('B', 'E', 'G', 'A', 'F', 'C', 'D'), ('B', 'E', 'G', 'A', 'F', 'D', 'C'), ('B', 'E', 'G', 'C', 'A', 'D', 'F'), ('B', 'E', 'G', 'C', 'A', 'F', 'D'), ('B', 'E', 'G', 'C', 'D', 'A', 'F'), ('B', 'E', 'G', 'C', 'D', 'F', 'A'), ('B', 'E', 'G', 'C', 'F', 'A', 'D'), ('B', 'E', 'G', 'C', 'F', 'D', 'A'), ('B', 'E', 'G', 'D', 'A', 'C', 'F'), ('B', 'E', 'G', 'D', 'A', 'F', 'C'), ('B', 'E', 'G', 'D', 'C', 'A', 'F'), ('B', 'E', 'G', 'D', 'C', 'F', 'A'), ('B', 'E', 'G', 'D', 'F', 'A', 'C'), ('B', 'E', 'G', 'D', 'F', 'C', 'A'), ('B', 'E', 'G', 'F', 'A', 'C', 'D'), ('B', 'E', 'G', 'F', 'A', 'D', 'C'), ('B', 'E', 'G', 'F', 'C', 'A', 'D'), ('B', 'E', 'G', 'F', 'C', 'D', 'A'), ('B', 'E', 'G', 'F', 'D', 'A', 'C'), ('B', 'E', 'G', 'F', 'D', 'C', 'A'), ('B', 'F', 'A', 'C', 'D', 'E', 'G'), ('B', 'F', 'A', 'C', 'D', 'G', 'E'), ('B', 'F', 'A', 'C', 'E', 'D', 'G'), ('B', 'F', 'A', 'C', 'E', 'G', 'D'), ('B', 'F', 'A', 'C', 'G', 'D', 'E'), ('B', 'F', 'A', 'C', 'G', 'E', 'D'), ('B', 'F', 'A', 'D', 'C', 'E', 'G'), ('B', 'F', 'A', 'D', 'C', 'G', 'E'), ('B', 'F', 'A', 'D', 'E', 'C', 'G'), ('B', 'F', 'A', 'D', 'E', 'G', 'C'), ('B', 'F', 'A', 'D', 'G', 'C', 'E'), ('B', 'F', 'A', 'D', 'G', 'E', 'C'), ('B', 'F', 'A', 'E', 'C', 'D', 'G'), ('B', 'F', 'A', 'E', 'C', 'G', 'D'), ('B', 'F', 'A', 'E', 'D', 'C', 'G'), ('B', 'F', 'A', 'E', 'D', 'G', 'C'), ('B', 'F', 'A', 'E', 'G', 'C', 'D'), ('B', 'F', 'A', 'E', 'G', 'D', 'C'), ('B', 'F', 'A', 'G', 'C', 'D', 'E'), ('B', 'F', 'A', 'G', 'C', 'E', 'D'), ('B', 'F', 'A', 'G', 'D', 'C', 'E'), ('B', 'F', 'A', 'G', 'D', 'E', 'C'), ('B', 'F', 'A', 'G', 'E', 'C', 'D'), ('B', 'F', 'A', 'G', 'E', 'D', 'C'), ('B', 'F', 'C', 'A', 'D', 'E', 'G'), ('B', 'F', 'C', 'A', 'D', 'G', 'E'), ('B', 'F', 'C', 'A', 'E', 'D', 'G'), ('B', 'F', 'C', 'A', 'E', 'G', 'D'), ('B', 'F', 'C', 'A', 'G', 'D', 'E'), ('B', 'F', 'C', 'A', 'G', 'E', 'D'), ('B', 'F', 'C', 'D', 'A', 'E', 'G'), ('B', 'F', 'C', 'D', 'A', 'G', 'E'), ('B', 'F', 'C', 'D', 'E', 'A', 'G'), ('B', 'F', 'C', 'D', 'E', 'G', 'A'), ('B', 'F', 'C', 'D', 'G', 'A', 'E'), ('B', 'F', 'C', 'D', 'G', 'E', 'A'), ('B', 'F', 'C', 'E', 'A', 'D', 'G'), ('B', 'F', 'C', 'E', 'A', 'G', 'D'), ('B', 'F', 'C', 'E', 'D', 'A', 'G'), ('B', 'F', 'C', 'E', 'D', 'G', 'A'), ('B', 'F', 'C', 'E', 'G', 'A', 'D'), ('B', 'F', 'C', 'E', 'G', 'D', 'A'), ('B', 'F', 'C', 'G', 'A', 'D', 'E'), ('B', 'F', 'C', 'G', 'A', 'E', 'D'), ('B', 'F', 'C', 'G', 'D', 'A', 'E'), ('B', 'F', 'C', 'G', 'D', 'E', 'A'), ('B', 'F', 'C', 'G', 'E', 'A', 'D'), ('B', 'F', 'C', 'G', 'E', 'D', 'A'), ('B', 'F', 'D', 'A', 'C', 'E', 'G'), ('B', 'F', 'D', 'A', 'C', 'G', 'E'), ('B', 'F', 'D', 'A', 'E', 'C', 'G'), ('B', 'F', 'D', 'A', 'E', 'G', 'C'), ('B', 'F', 'D', 'A', 'G', 'C', 'E'), ('B', 'F', 'D', 'A', 'G', 'E', 'C'), ('B', 'F', 'D', 'C', 'A', 'E', 'G'), ('B', 'F', 'D', 'C', 'A', 'G', 'E'), ('B', 'F', 'D', 'C', 'E', 'A', 'G'), ('B', 'F', 'D', 'C', 'E', 'G', 'A'), ('B', 'F', 'D', 'C', 'G', 'A', 'E'), ('B', 'F', 'D', 'C', 'G', 'E', 'A'), ('B', 'F', 'D', 'E', 'A', 'C', 'G'), ('B', 'F', 'D', 'E', 'A', 'G', 'C'), ('B', 'F', 'D', 'E', 'C', 'A', 'G'), ('B', 'F', 'D', 'E', 'C', 'G', 'A'), ('B', 'F', 'D', 'E', 'G', 'A', 'C'), ('B', 'F', 'D', 'E', 'G', 'C', 'A'), ('B', 'F', 'D', 'G', 'A', 'C', 'E'), ('B', 'F', 'D', 'G', 'A', 'E', 'C'), ('B', 'F', 'D', 'G', 'C', 'A', 'E'), ('B', 'F', 'D', 'G', 'C', 'E', 'A'), ('B', 'F', 'D', 'G', 'E', 'A', 'C'), ('B', 'F', 'D', 'G', 'E', 'C', 'A'), ('B', 'F', 'E', 'A', 'C', 'D', 'G'), ('B', 'F', 'E', 'A', 'C', 'G', 'D'), ('B', 'F', 'E', 'A', 'D', 'C', 'G'), ('B', 'F', 'E', 'A', 'D', 'G', 'C'), ('B', 'F', 'E', 'A', 'G', 'C', 'D'), ('B', 'F', 'E', 'A', 'G', 'D', 'C'), ('B', 'F', 'E', 'C', 'A', 'D', 'G'), ('B', 'F', 'E', 'C', 'A', 'G', 'D'), ('B', 'F', 'E', 'C', 'D', 'A', 'G'), ('B', 'F', 'E', 'C', 'D', 'G', 'A'), ('B', 'F', 'E', 'C', 'G', 'A', 'D'), ('B', 'F', 'E', 'C', 'G', 'D', 'A'), ('B', 'F', 'E', 'D', 'A', 'C', 'G'), ('B', 'F', 'E', 'D', 'A', 'G', 'C'), ('B', 'F', 'E', 'D', 'C', 'A', 'G'), ('B', 'F', 'E', 'D', 'C', 'G', 'A'), ('B', 'F', 'E', 'D', 'G', 'A', 'C'), ('B', 'F', 'E', 'D', 'G', 'C', 'A'), ('B', 'F', 'E', 'G', 'A', 'C', 'D'), ('B', 'F', 'E', 'G', 'A', 'D', 'C'), ('B', 'F', 'E', 'G', 'C', 'A', 'D'), ('B', 'F', 'E', 'G', 'C', 'D', 'A'), ('B', 'F', 'E', 'G', 'D', 'A', 'C'), ('B', 'F', 'E', 'G', 'D', 'C', 'A'), ('B', 'F', 'G', 'A', 'C', 'D', 'E'), ('B', 'F', 'G', 'A', 'C', 'E', 'D'), ('B', 'F', 'G', 'A', 'D', 'C', 'E'), ('B', 'F', 'G', 'A', 'D', 'E', 'C'), ('B', 'F', 'G', 'A', 'E', 'C', 'D'), ('B', 'F', 'G', 'A', 'E', 'D', 'C'), ('B', 'F', 'G', 'C', 'A', 'D', 'E'), ('B', 'F', 'G', 'C', 'A', 'E', 'D'), ('B', 'F', 'G', 'C', 'D', 'A', 'E'), ('B', 'F', 'G', 'C', 'D', 'E', 'A'), ('B', 'F', 'G', 'C', 'E', 'A', 'D'), ('B', 'F', 'G', 'C', 'E', 'D', 'A'), ('B', 'F', 'G', 'D', 'A', 'C', 'E'), ('B', 'F', 'G', 'D', 'A', 'E', 'C'), ('B', 'F', 'G', 'D', 'C', 'A', 'E'), ('B', 'F', 'G', 'D', 'C', 'E', 'A'), ('B', 'F', 'G', 'D', 'E', 'A', 'C'), ('B', 'F', 'G', 'D', 'E', 'C', 'A'), ('B', 'F', 'G', 'E', 'A', 'C', 'D'), ('B', 'F', 'G', 'E', 'A', 'D', 'C'), ('B', 'F', 'G', 'E', 'C', 'A', 'D'), ('B', 'F', 'G', 'E', 'C', 'D', 'A'), ('B', 'F', 'G', 'E', 'D', 'A', 'C'), ('B', 'F', 'G', 'E', 'D', 'C', 'A'), ('B', 'G', 'A', 'C', 'D', 'E', 'F'), ('B', 'G', 'A', 'C', 'D', 'F', 'E'), ('B', 'G', 'A', 'C', 'E', 'D', 'F'), ('B', 'G', 'A', 'C', 'E', 'F', 'D'), ('B', 'G', 'A', 'C', 'F', 'D', 'E'), ('B', 'G', 'A', 'C', 'F', 'E', 'D'), ('B', 'G', 'A', 'D', 'C', 'E', 'F'), ('B', 'G', 'A', 'D', 'C', 'F', 'E'), ('B', 'G', 'A', 'D', 'E', 'C', 'F'), ('B', 'G', 'A', 'D', 'E', 'F', 'C'), ('B', 'G', 'A', 'D', 'F', 'C', 'E'), ('B', 'G', 'A', 'D', 'F', 'E', 'C'), ('B', 'G', 'A', 'E', 'C', 'D', 'F'), ('B', 'G', 'A', 'E', 'C', 'F', 'D'), ('B', 'G', 'A', 'E', 'D', 'C', 'F'), ('B', 'G', 'A', 'E', 'D', 'F', 'C'), ('B', 'G', 'A', 'E', 'F', 'C', 'D'), ('B', 'G', 'A', 'E', 'F', 'D', 'C'), ('B', 'G', 'A', 'F', 'C', 'D', 'E'), ('B', 'G', 'A', 'F', 'C', 'E', 'D'), ('B', 'G', 'A', 'F', 'D', 'C', 'E'), ('B', 'G', 'A', 'F', 'D', 'E', 'C'), ('B', 'G', 'A', 'F', 'E', 'C', 'D'), ('B', 'G', 'A', 'F', 'E', 'D', 'C'), ('B', 'G', 'C', 'A', 'D', 'E', 'F'), ('B', 'G', 'C', 'A', 'D', 'F', 'E'), ('B', 'G', 'C', 'A', 'E', 'D', 'F'), ('B', 'G', 'C', 'A', 'E', 'F', 'D'), ('B', 'G', 'C', 'A', 'F', 'D', 'E'), ('B', 'G', 'C', 'A', 'F', 'E', 'D'), ('B', 'G', 'C', 'D', 'A', 'E', 'F'), ('B', 'G', 'C', 'D', 'A', 'F', 'E'), ('B', 'G', 'C', 'D', 'E', 'A', 'F'), ('B', 'G', 'C', 'D', 'E', 'F', 'A'), ('B', 'G', 'C', 'D', 'F', 'A', 'E'), ('B', 'G', 'C', 'D', 'F', 'E', 'A'), ('B', 'G', 'C', 'E', 'A', 'D', 'F'), ('B', 'G', 'C', 'E', 'A', 'F', 'D'), ('B', 'G', 'C', 'E', 'D', 'A', 'F'), ('B', 'G', 'C', 'E', 'D', 'F', 'A'), ('B', 'G', 'C', 'E', 'F', 'A', 'D'), ('B', 'G', 'C', 'E', 'F', 'D', 'A'), ('B', 'G', 'C', 'F', 'A', 'D', 'E'), ('B', 'G', 'C', 'F', 'A', 'E', 'D'), ('B', 'G', 'C', 'F', 'D', 'A', 'E'), ('B', 'G', 'C', 'F', 'D', 'E', 'A'), ('B', 'G', 'C', 'F', 'E', 'A', 'D'), ('B', 'G', 'C', 'F', 'E', 'D', 'A'), ('B', 'G', 'D', 'A', 'C', 'E', 'F'), ('B', 'G', 'D', 'A', 'C', 'F', 'E'), ('B', 'G', 'D', 'A', 'E', 'C', 'F'), ('B', 'G', 'D', 'A', 'E', 'F', 'C'), ('B', 'G', 'D', 'A', 'F', 'C', 'E'), ('B', 'G', 'D', 'A', 'F', 'E', 'C'), ('B', 'G', 'D', 'C', 'A', 'E', 'F'), ('B', 'G', 'D', 'C', 'A', 'F', 'E'), ('B', 'G', 'D', 'C', 'E', 'A', 'F'), ('B', 'G', 'D', 'C', 'E', 'F', 'A'), ('B', 'G', 'D', 'C', 'F', 'A', 'E'), ('B', 'G', 'D', 'C', 'F', 'E', 'A'), ('B', 'G', 'D', 'E', 'A', 'C', 'F'), ('B', 'G', 'D', 'E', 'A', 'F', 'C'), ('B', 'G', 'D', 'E', 'C', 'A', 'F'), ('B', 'G', 'D', 'E', 'C', 'F', 'A'), ('B', 'G', 'D', 'E', 'F', 'A', 'C'), ('B', 'G', 'D', 'E', 'F', 'C', 'A'), ('B', 'G', 'D', 'F', 'A', 'C', 'E'), ('B', 'G', 'D', 'F', 'A', 'E', 'C'), ('B', 'G', 'D', 'F', 'C', 'A', 'E'), ('B', 'G', 'D', 'F', 'C', 'E', 'A'), ('B', 'G', 'D', 'F', 'E', 'A', 'C'), ('B', 'G', 'D', 'F', 'E', 'C', 'A'), ('B', 'G', 'E', 'A', 'C', 'D', 'F'), ('B', 'G', 'E', 'A', 'C', 'F', 'D'), ('B', 'G', 'E', 'A', 'D', 'C', 'F'), ('B', 'G', 'E', 'A', 'D', 'F', 'C'), ('B', 'G', 'E', 'A', 'F', 'C', 'D'), ('B', 'G', 'E', 'A', 'F', 'D', 'C'), ('B', 'G', 'E', 'C', 'A', 'D', 'F'), ('B', 'G', 'E', 'C', 'A', 'F', 'D'), ('B', 'G', 'E', 'C', 'D', 'A', 'F'), ('B', 'G', 'E', 'C', 'D', 'F', 'A'), ('B', 'G', 'E', 'C', 'F', 'A', 'D'), ('B', 'G', 'E', 'C', 'F', 'D', 'A'), ('B', 'G', 'E', 'D', 'A', 'C', 'F'), ('B', 'G', 'E', 'D', 'A', 'F', 'C'), ('B', 'G', 'E', 'D', 'C', 'A', 'F'), ('B', 'G', 'E', 'D', 'C', 'F', 'A'), ('B', 'G', 'E', 'D', 'F', 'A', 'C'), ('B', 'G', 'E', 'D', 'F', 'C', 'A'), ('B', 'G', 'E', 'F', 'A', 'C', 'D'), ('B', 'G', 'E', 'F', 'A', 'D', 'C'), ('B', 'G', 'E', 'F', 'C', 'A', 'D'), ('B', 'G', 'E', 'F', 'C', 'D', 'A'), ('B', 'G', 'E', 'F', 'D', 'A', 'C'), ('B', 'G', 'E', 'F', 'D', 'C', 'A'), ('B', 'G', 'F', 'A', 'C', 'D', 'E'), ('B', 'G', 'F', 'A', 'C', 'E', 'D'), ('B', 'G', 'F', 'A', 'D', 'C', 'E'), ('B', 'G', 'F', 'A', 'D', 'E', 'C'), ('B', 'G', 'F', 'A', 'E', 'C', 'D'), ('B', 'G', 'F', 'A', 'E', 'D', 'C'), ('B', 'G', 'F', 'C', 'A', 'D', 'E'), ('B', 'G', 'F', 'C', 'A', 'E', 'D'), ('B', 'G', 'F', 'C', 'D', 'A', 'E'), ('B', 'G', 'F', 'C', 'D', 'E', 'A'), ('B', 'G', 'F', 'C', 'E', 'A', 'D'), ('B', 'G', 'F', 'C', 'E', 'D', 'A'), ('B', 'G', 'F', 'D', 'A', 'C', 'E'), ('B', 'G', 'F', 'D', 'A', 'E', 'C'), ('B', 'G', 'F', 'D', 'C', 'A', 'E'), ('B', 'G', 'F', 'D', 'C', 'E', 'A'), ('B', 'G', 'F', 'D', 'E', 'A', 'C'), ('B', 'G', 'F', 'D', 'E', 'C', 'A'), ('B', 'G', 'F', 'E', 'A', 'C', 'D'), ('B', 'G', 'F', 'E', 'A', 'D', 'C'), ('B', 'G', 'F', 'E', 'C', 'A', 'D'), ('B', 'G', 'F', 'E', 'C', 'D', 'A'), ('B', 'G', 'F', 'E', 'D', 'A', 'C'), ('B', 'G', 'F', 'E', 'D', 'C', 'A'), ('C', 'A', 'B', 'D', 'E', 'F', 'G'), ('C', 'A', 'B', 'D', 'E', 'G', 'F'), ('C', 'A', 'B', 'D', 'F', 'E', 'G'), ('C', 'A', 'B', 'D', 'F', 'G', 'E'), ('C', 'A', 'B', 'D', 'G', 'E', 'F'), ('C', 'A', 'B', 'D', 'G', 'F', 'E'), ('C', 'A', 'B', 'E', 'D', 'F', 'G'), ('C', 'A', 'B', 'E', 'D', 'G', 'F'), ('C', 'A', 'B', 'E', 'F', 'D', 'G'), ('C', 'A', 'B', 'E', 'F', 'G', 'D'), ('C', 'A', 'B', 'E', 'G', 'D', 'F'), ('C', 'A', 'B', 'E', 'G', 'F', 'D'), ('C', 'A', 'B', 'F', 'D', 'E', 'G'), ('C', 'A', 'B', 'F', 'D', 'G', 'E'), ('C', 'A', 'B', 'F', 'E', 'D', 'G'), ('C', 'A', 'B', 'F', 'E', 'G', 'D'), ('C', 'A', 'B', 'F', 'G', 'D', 'E'), ('C', 'A', 'B', 'F', 'G', 'E', 'D'), ('C', 'A', 'B', 'G', 'D', 'E', 'F'), ('C', 'A', 'B', 'G', 'D', 'F', 'E'), ('C', 'A', 'B', 'G', 'E', 'D', 'F'), ('C', 'A', 'B', 'G', 'E', 'F', 'D'), ('C', 'A', 'B', 'G', 'F', 'D', 'E'), ('C', 'A', 'B', 'G', 'F', 'E', 'D'), ('C', 'A', 'D', 'B', 'E', 'F', 'G'), ('C', 'A', 'D', 'B', 'E', 'G', 'F'), ('C', 'A', 'D', 'B', 'F', 'E', 'G'), ('C', 'A', 'D', 'B', 'F', 'G', 'E'), ('C', 'A', 'D', 'B', 'G', 'E', 'F'), ('C', 'A', 'D', 'B', 'G', 'F', 'E'), ('C', 'A', 'D', 'E', 'B', 'F', 'G'), ('C', 'A', 'D', 'E', 'B', 'G', 'F'), ('C', 'A', 'D', 'E', 'F', 'B', 'G'), ('C', 'A', 'D', 'E', 'F', 'G', 'B'), ('C', 'A', 'D', 'E', 'G', 'B', 'F'), ('C', 'A', 'D', 'E', 'G', 'F', 'B'), ('C', 'A', 'D', 'F', 'B', 'E', 'G'), ('C', 'A', 'D', 'F', 'B', 'G', 'E'), ('C', 'A', 'D', 'F', 'E', 'B', 'G'), ('C', 'A', 'D', 'F', 'E', 'G', 'B'), ('C', 'A', 'D', 'F', 'G', 'B', 'E'), ('C', 'A', 'D', 'F', 'G', 'E', 'B'), ('C', 'A', 'D', 'G', 'B', 'E', 'F'), ('C', 'A', 'D', 'G', 'B', 'F', 'E'), ('C', 'A', 'D', 'G', 'E', 'B', 'F'), ('C', 'A', 'D', 'G', 'E', 'F', 'B'), ('C', 'A', 'D', 'G', 'F', 'B', 'E'), ('C', 'A', 'D', 'G', 'F', 'E', 'B'), ('C', 'A', 'E', 'B', 'D', 'F', 'G'), ('C', 'A', 'E', 'B', 'D', 'G', 'F'), ('C', 'A', 'E', 'B', 'F', 'D', 'G'), ('C', 'A', 'E', 'B', 'F', 'G', 'D'), ('C', 'A', 'E', 'B', 'G', 'D', 'F'), ('C', 'A', 'E', 'B', 'G', 'F', 'D'), ('C', 'A', 'E', 'D', 'B', 'F', 'G'), ('C', 'A', 'E', 'D', 'B', 'G', 'F'), ('C', 'A', 'E', 'D', 'F', 'B', 'G'), ('C', 'A', 'E', 'D', 'F', 'G', 'B'), ('C', 'A', 'E', 'D', 'G', 'B', 'F'), ('C', 'A', 'E', 'D', 'G', 'F', 'B'), ('C', 'A', 'E', 'F', 'B', 'D', 'G'), ('C', 'A', 'E', 'F', 'B', 'G', 'D'), ('C', 'A', 'E', 'F', 'D', 'B', 'G'), ('C', 'A', 'E', 'F', 'D', 'G', 'B'), ('C', 'A', 'E', 'F', 'G', 'B', 'D'), ('C', 'A', 'E', 'F', 'G', 'D', 'B'), ('C', 'A', 'E', 'G', 'B', 'D', 'F'), ('C', 'A', 'E', 'G', 'B', 'F', 'D'), ('C', 'A', 'E', 'G', 'D', 'B', 'F'), ('C', 'A', 'E', 'G', 'D', 'F', 'B'), ('C', 'A', 'E', 'G', 'F', 'B', 'D'), ('C', 'A', 'E', 'G', 'F', 'D', 'B'), ('C', 'A', 'F', 'B', 'D', 'E', 'G'), ('C', 'A', 'F', 'B', 'D', 'G', 'E'), ('C', 'A', 'F', 'B', 'E', 'D', 'G'), ('C', 'A', 'F', 'B', 'E', 'G', 'D'), ('C', 'A', 'F', 'B', 'G', 'D', 'E'), ('C', 'A', 'F', 'B', 'G', 'E', 'D'), ('C', 'A', 'F', 'D', 'B', 'E', 'G'), ('C', 'A', 'F', 'D', 'B', 'G', 'E'), ('C', 'A', 'F', 'D', 'E', 'B', 'G'), ('C', 'A', 'F', 'D', 'E', 'G', 'B'), ('C', 'A', 'F', 'D', 'G', 'B', 'E'), ('C', 'A', 'F', 'D', 'G', 'E', 'B'), ('C', 'A', 'F', 'E', 'B', 'D', 'G'), ('C', 'A', 'F', 'E', 'B', 'G', 'D'), ('C', 'A', 'F', 'E', 'D', 'B', 'G'), ('C', 'A', 'F', 'E', 'D', 'G', 'B'), ('C', 'A', 'F', 'E', 'G', 'B', 'D'), ('C', 'A', 'F', 'E', 'G', 'D', 'B'), ('C', 'A', 'F', 'G', 'B', 'D', 'E'), ('C', 'A', 'F', 'G', 'B', 'E', 'D'), ('C', 'A', 'F', 'G', 'D', 'B', 'E'), ('C', 'A', 'F', 'G', 'D', 'E', 'B'), ('C', 'A', 'F', 'G', 'E', 'B', 'D'), ('C', 'A', 'F', 'G', 'E', 'D', 'B'), ('C', 'A', 'G', 'B', 'D', 'E', 'F'), ('C', 'A', 'G', 'B', 'D', 'F', 'E'), ('C', 'A', 'G', 'B', 'E', 'D', 'F'), ('C', 'A', 'G', 'B', 'E', 'F', 'D'), ('C', 'A', 'G', 'B', 'F', 'D', 'E'), ('C', 'A', 'G', 'B', 'F', 'E', 'D'), ('C', 'A', 'G', 'D', 'B', 'E', 'F'), ('C', 'A', 'G', 'D', 'B', 'F', 'E'), ('C', 'A', 'G', 'D', 'E', 'B', 'F'), ('C', 'A', 'G', 'D', 'E', 'F', 'B'), ('C', 'A', 'G', 'D', 'F', 'B', 'E'), ('C', 'A', 'G', 'D', 'F', 'E', 'B'), ('C', 'A', 'G', 'E', 'B', 'D', 'F'), ('C', 'A', 'G', 'E', 'B', 'F', 'D'), ('C', 'A', 'G', 'E', 'D', 'B', 'F'), ('C', 'A', 'G', 'E', 'D', 'F', 'B'), ('C', 'A', 'G', 'E', 'F', 'B', 'D'), ('C', 'A', 'G', 'E', 'F', 'D', 'B'), ('C', 'A', 'G', 'F', 'B', 'D', 'E'), ('C', 'A', 'G', 'F', 'B', 'E', 'D'), ('C', 'A', 'G', 'F', 'D', 'B', 'E'), ('C', 'A', 'G', 'F', 'D', 'E', 'B'), ('C', 'A', 'G', 'F', 'E', 'B', 'D'), ('C', 'A', 'G', 'F', 'E', 'D', 'B'), ('C', 'B', 'A', 'D', 'E', 'F', 'G'), ('C', 'B', 'A', 'D', 'E', 'G', 'F'), ('C', 'B', 'A', 'D', 'F', 'E', 'G'), ('C', 'B', 'A', 'D', 'F', 'G', 'E'), ('C', 'B', 'A', 'D', 'G', 'E', 'F'), ('C', 'B', 'A', 'D', 'G', 'F', 'E'), ('C', 'B', 'A', 'E', 'D', 'F', 'G'), ('C', 'B', 'A', 'E', 'D', 'G', 'F'), ('C', 'B', 'A', 'E', 'F', 'D', 'G'), ('C', 'B', 'A', 'E', 'F', 'G', 'D'), ('C', 'B', 'A', 'E', 'G', 'D', 'F'), ('C', 'B', 'A', 'E', 'G', 'F', 'D'), ('C', 'B', 'A', 'F', 'D', 'E', 'G'), ('C', 'B', 'A', 'F', 'D', 'G', 'E'), ('C', 'B', 'A', 'F', 'E', 'D', 'G'), ('C', 'B', 'A', 'F', 'E', 'G', 'D'), ('C', 'B', 'A', 'F', 'G', 'D', 'E'), ('C', 'B', 'A', 'F', 'G', 'E', 'D'), ('C', 'B', 'A', 'G', 'D', 'E', 'F'), ('C', 'B', 'A', 'G', 'D', 'F', 'E'), ('C', 'B', 'A', 'G', 'E', 'D', 'F'), ('C', 'B', 'A', 'G', 'E', 'F', 'D'), ('C', 'B', 'A', 'G', 'F', 'D', 'E'), ('C', 'B', 'A', 'G', 'F', 'E', 'D'), ('C', 'B', 'D', 'A', 'E', 'F', 'G'), ('C', 'B', 'D', 'A', 'E', 'G', 'F'), ('C', 'B', 'D', 'A', 'F', 'E', 'G'), ('C', 'B', 'D', 'A', 'F', 'G', 'E'), ('C', 'B', 'D', 'A', 'G', 'E', 'F'), ('C', 'B', 'D', 'A', 'G', 'F', 'E'), ('C', 'B', 'D', 'E', 'A', 'F', 'G'), ('C', 'B', 'D', 'E', 'A', 'G', 'F'), ('C', 'B', 'D', 'E', 'F', 'A', 'G'), ('C', 'B', 'D', 'E', 'F', 'G', 'A'), ('C', 'B', 'D', 'E', 'G', 'A', 'F'), ('C', 'B', 'D', 'E', 'G', 'F', 'A'), ('C', 'B', 'D', 'F', 'A', 'E', 'G'), ('C', 'B', 'D', 'F', 'A', 'G', 'E'), ('C', 'B', 'D', 'F', 'E', 'A', 'G'), ('C', 'B', 'D', 'F', 'E', 'G', 'A'), ('C', 'B', 'D', 'F', 'G', 'A', 'E'), ('C', 'B', 'D', 'F', 'G', 'E', 'A'), ('C', 'B', 'D', 'G', 'A', 'E', 'F'), ('C', 'B', 'D', 'G', 'A', 'F', 'E'), ('C', 'B', 'D', 'G', 'E', 'A', 'F'), ('C', 'B', 'D', 'G', 'E', 'F', 'A'), ('C', 'B', 'D', 'G', 'F', 'A', 'E'), ('C', 'B', 'D', 'G', 'F', 'E', 'A'), ('C', 'B', 'E', 'A', 'D', 'F', 'G'), ('C', 'B', 'E', 'A', 'D', 'G', 'F'), ('C', 'B', 'E', 'A', 'F', 'D', 'G'), ('C', 'B', 'E', 'A', 'F', 'G', 'D'), ('C', 'B', 'E', 'A', 'G', 'D', 'F'), ('C', 'B', 'E', 'A', 'G', 'F', 'D'), ('C', 'B', 'E', 'D', 'A', 'F', 'G'), ('C', 'B', 'E', 'D', 'A', 'G', 'F'), ('C', 'B', 'E', 'D', 'F', 'A', 'G'), ('C', 'B', 'E', 'D', 'F', 'G', 'A'), ('C', 'B', 'E', 'D', 'G', 'A', 'F'), ('C', 'B', 'E', 'D', 'G', 'F', 'A'), ('C', 'B', 'E', 'F', 'A', 'D', 'G'), ('C', 'B', 'E', 'F', 'A', 'G', 'D'), ('C', 'B', 'E', 'F', 'D', 'A', 'G'), ('C', 'B', 'E', 'F', 'D', 'G', 'A'), ('C', 'B', 'E', 'F', 'G', 'A', 'D'), ('C', 'B', 'E', 'F', 'G', 'D', 'A'), ('C', 'B', 'E', 'G', 'A', 'D', 'F'), ('C', 'B', 'E', 'G', 'A', 'F', 'D'), ('C', 'B', 'E', 'G', 'D', 'A', 'F'), ('C', 'B', 'E', 'G', 'D', 'F', 'A'), ('C', 'B', 'E', 'G', 'F', 'A', 'D'), ('C', 'B', 'E', 'G', 'F', 'D', 'A'), ('C', 'B', 'F', 'A', 'D', 'E', 'G'), ('C', 'B', 'F', 'A', 'D', 'G', 'E'), ('C', 'B', 'F', 'A', 'E', 'D', 'G'), ('C', 'B', 'F', 'A', 'E', 'G', 'D'), ('C', 'B', 'F', 'A', 'G', 'D', 'E'), ('C', 'B', 'F', 'A', 'G', 'E', 'D'), ('C', 'B', 'F', 'D', 'A', 'E', 'G'), ('C', 'B', 'F', 'D', 'A', 'G', 'E'), ('C', 'B', 'F', 'D', 'E', 'A', 'G'), ('C', 'B', 'F', 'D', 'E', 'G', 'A'), ('C', 'B', 'F', 'D', 'G', 'A', 'E'), ('C', 'B', 'F', 'D', 'G', 'E', 'A'), ('C', 'B', 'F', 'E', 'A', 'D', 'G'), ('C', 'B', 'F', 'E', 'A', 'G', 'D'), ('C', 'B', 'F', 'E', 'D', 'A', 'G'), ('C', 'B', 'F', 'E', 'D', 'G', 'A'), ('C', 'B', 'F', 'E', 'G', 'A', 'D'), ('C', 'B', 'F', 'E', 'G', 'D', 'A'), ('C', 'B', 'F', 'G', 'A', 'D', 'E'), ('C', 'B', 'F', 'G', 'A', 'E', 'D'), ('C', 'B', 'F', 'G', 'D', 'A', 'E'), ('C', 'B', 'F', 'G', 'D', 'E', 'A'), ('C', 'B', 'F', 'G', 'E', 'A', 'D'), ('C', 'B', 'F', 'G', 'E', 'D', 'A'), ('C', 'B', 'G', 'A', 'D', 'E', 'F'), ('C', 'B', 'G', 'A', 'D', 'F', 'E'), ('C', 'B', 'G', 'A', 'E', 'D', 'F'), ('C', 'B', 'G', 'A', 'E', 'F', 'D'), ('C', 'B', 'G', 'A', 'F', 'D', 'E'), ('C', 'B', 'G', 'A', 'F', 'E', 'D'), ('C', 'B', 'G', 'D', 'A', 'E', 'F'), ('C', 'B', 'G', 'D', 'A', 'F', 'E'), ('C', 'B', 'G', 'D', 'E', 'A', 'F'), ('C', 'B', 'G', 'D', 'E', 'F', 'A'), ('C', 'B', 'G', 'D', 'F', 'A', 'E'), ('C', 'B', 'G', 'D', 'F', 'E', 'A'), ('C', 'B', 'G', 'E', 'A', 'D', 'F'), ('C', 'B', 'G', 'E', 'A', 'F', 'D'), ('C', 'B', 'G', 'E', 'D', 'A', 'F'), ('C', 'B', 'G', 'E', 'D', 'F', 'A'), ('C', 'B', 'G', 'E', 'F', 'A', 'D'), ('C', 'B', 'G', 'E', 'F', 'D', 'A'), ('C', 'B', 'G', 'F', 'A', 'D', 'E'), ('C', 'B', 'G', 'F', 'A', 'E', 'D'), ('C', 'B', 'G', 'F', 'D', 'A', 'E'), ('C', 'B', 'G', 'F', 'D', 'E', 'A'), ('C', 'B', 'G', 'F', 'E', 'A', 'D'), ('C', 'B', 'G', 'F', 'E', 'D', 'A'), ('C', 'D', 'A', 'B', 'E', 'F', 'G'), ('C', 'D', 'A', 'B', 'E', 'G', 'F'), ('C', 'D', 'A', 'B', 'F', 'E', 'G'), ('C', 'D', 'A', 'B', 'F', 'G', 'E'), ('C', 'D', 'A', 'B', 'G', 'E', 'F'), ('C', 'D', 'A', 'B', 'G', 'F', 'E'), ('C', 'D', 'A', 'E', 'B', 'F', 'G'), ('C', 'D', 'A', 'E', 'B', 'G', 'F'), ('C', 'D', 'A', 'E', 'F', 'B', 'G'), ('C', 'D', 'A', 'E', 'F', 'G', 'B'), ('C', 'D', 'A', 'E', 'G', 'B', 'F'), ('C', 'D', 'A', 'E', 'G', 'F', 'B'), ('C', 'D', 'A', 'F', 'B', 'E', 'G'), ('C', 'D', 'A', 'F', 'B', 'G', 'E'), ('C', 'D', 'A', 'F', 'E', 'B', 'G'), ('C', 'D', 'A', 'F', 'E', 'G', 'B'), ('C', 'D', 'A', 'F', 'G', 'B', 'E'), ('C', 'D', 'A', 'F', 'G', 'E', 'B'), ('C', 'D', 'A', 'G', 'B', 'E', 'F'), ('C', 'D', 'A', 'G', 'B', 'F', 'E'), ('C', 'D', 'A', 'G', 'E', 'B', 'F'), ('C', 'D', 'A', 'G', 'E', 'F', 'B'), ('C', 'D', 'A', 'G', 'F', 'B', 'E'), ('C', 'D', 'A', 'G', 'F', 'E', 'B'), ('C', 'D', 'B', 'A', 'E', 'F', 'G'), ('C', 'D', 'B', 'A', 'E', 'G', 'F'), ('C', 'D', 'B', 'A', 'F', 'E', 'G'), ('C', 'D', 'B', 'A', 'F', 'G', 'E'), ('C', 'D', 'B', 'A', 'G', 'E', 'F'), ('C', 'D', 'B', 'A', 'G', 'F', 'E'), ('C', 'D', 'B', 'E', 'A', 'F', 'G'), ('C', 'D', 'B', 'E', 'A', 'G', 'F'), ('C', 'D', 'B', 'E', 'F', 'A', 'G'), ('C', 'D', 'B', 'E', 'F', 'G', 'A'), ('C', 'D', 'B', 'E', 'G', 'A', 'F'), ('C', 'D', 'B', 'E', 'G', 'F', 'A'), ('C', 'D', 'B', 'F', 'A', 'E', 'G'), ('C', 'D', 'B', 'F', 'A', 'G', 'E'), ('C', 'D', 'B', 'F', 'E', 'A', 'G'), ('C', 'D', 'B', 'F', 'E', 'G', 'A'), ('C', 'D', 'B', 'F', 'G', 'A', 'E'), ('C', 'D', 'B', 'F', 'G', 'E', 'A'), ('C', 'D', 'B', 'G', 'A', 'E', 'F'), ('C', 'D', 'B', 'G', 'A', 'F', 'E'), ('C', 'D', 'B', 'G', 'E', 'A', 'F'), ('C', 'D', 'B', 'G', 'E', 'F', 'A'), ('C', 'D', 'B', 'G', 'F', 'A', 'E'), ('C', 'D', 'B', 'G', 'F', 'E', 'A'), ('C', 'D', 'E', 'A', 'B', 'F', 'G'), ('C', 'D', 'E', 'A', 'B', 'G', 'F'), ('C', 'D', 'E', 'A', 'F', 'B', 'G'), ('C', 'D', 'E', 'A', 'F', 'G', 'B'), ('C', 'D', 'E', 'A', 'G', 'B', 'F'), ('C', 'D', 'E', 'A', 'G', 'F', 'B'), ('C', 'D', 'E', 'B', 'A', 'F', 'G'), ('C', 'D', 'E', 'B', 'A', 'G', 'F'), ('C', 'D', 'E', 'B', 'F', 'A', 'G'), ('C', 'D', 'E', 'B', 'F', 'G', 'A'), ('C', 'D', 'E', 'B', 'G', 'A', 'F'), ('C', 'D', 'E', 'B', 'G', 'F', 'A'), ('C', 'D', 'E', 'F', 'A', 'B', 'G'), ('C', 'D', 'E', 'F', 'A', 'G', 'B'), ('C', 'D', 'E', 'F', 'B', 'A', 'G'), ('C', 'D', 'E', 'F', 'B', 'G', 'A'), ('C', 'D', 'E', 'F', 'G', 'A', 'B'), ('C', 'D', 'E', 'F', 'G', 'B', 'A'), ('C', 'D', 'E', 'G', 'A', 'B', 'F'), ('C', 'D', 'E', 'G', 'A', 'F', 'B'), ('C', 'D', 'E', 'G', 'B', 'A', 'F'), ('C', 'D', 'E', 'G', 'B', 'F', 'A'), ('C', 'D', 'E', 'G', 'F', 'A', 'B'), ('C', 'D', 'E', 'G', 'F', 'B', 'A'), ('C', 'D', 'F', 'A', 'B', 'E', 'G'), ('C', 'D', 'F', 'A', 'B', 'G', 'E'), ('C', 'D', 'F', 'A', 'E', 'B', 'G'), ('C', 'D', 'F', 'A', 'E', 'G', 'B'), ('C', 'D', 'F', 'A', 'G', 'B', 'E'), ('C', 'D', 'F', 'A', 'G', 'E', 'B'), ('C', 'D', 'F', 'B', 'A', 'E', 'G'), ('C', 'D', 'F', 'B', 'A', 'G', 'E'), ('C', 'D', 'F', 'B', 'E', 'A', 'G'), ('C', 'D', 'F', 'B', 'E', 'G', 'A'), ('C', 'D', 'F', 'B', 'G', 'A', 'E'), ('C', 'D', 'F', 'B', 'G', 'E', 'A'), ('C', 'D', 'F', 'E', 'A', 'B', 'G'), ('C', 'D', 'F', 'E', 'A', 'G', 'B'), ('C', 'D', 'F', 'E', 'B', 'A', 'G'), ('C', 'D', 'F', 'E', 'B', 'G', 'A'), ('C', 'D', 'F', 'E', 'G', 'A', 'B'), ('C', 'D', 'F', 'E', 'G', 'B', 'A'), ('C', 'D', 'F', 'G', 'A', 'B', 'E'), ('C', 'D', 'F', 'G', 'A', 'E', 'B'), ('C', 'D', 'F', 'G', 'B', 'A', 'E'), ('C', 'D', 'F', 'G', 'B', 'E', 'A'), ('C', 'D', 'F', 'G', 'E', 'A', 'B'), ('C', 'D', 'F', 'G', 'E', 'B', 'A'), ('C', 'D', 'G', 'A', 'B', 'E', 'F'), ('C', 'D', 'G', 'A', 'B', 'F', 'E'), ('C', 'D', 'G', 'A', 'E', 'B', 'F'), ('C', 'D', 'G', 'A', 'E', 'F', 'B'), ('C', 'D', 'G', 'A', 'F', 'B', 'E'), ('C', 'D', 'G', 'A', 'F', 'E', 'B'), ('C', 'D', 'G', 'B', 'A', 'E', 'F'), ('C', 'D', 'G', 'B', 'A', 'F', 'E'), ('C', 'D', 'G', 'B', 'E', 'A', 'F'), ('C', 'D', 'G', 'B', 'E', 'F', 'A'), ('C', 'D', 'G', 'B', 'F', 'A', 'E'), ('C', 'D', 'G', 'B', 'F', 'E', 'A'), ('C', 'D', 'G', 'E', 'A', 'B', 'F'), ('C', 'D', 'G', 'E', 'A', 'F', 'B'), ('C', 'D', 'G', 'E', 'B', 'A', 'F'), ('C', 'D', 'G', 'E', 'B', 'F', 'A'), ('C', 'D', 'G', 'E', 'F', 'A', 'B'), ('C', 'D', 'G', 'E', 'F', 'B', 'A'), ('C', 'D', 'G', 'F', 'A', 'B', 'E'), ('C', 'D', 'G', 'F', 'A', 'E', 'B'), ('C', 'D', 'G', 'F', 'B', 'A', 'E'), ('C', 'D', 'G', 'F', 'B', 'E', 'A'), ('C', 'D', 'G', 'F', 'E', 'A', 'B'), ('C', 'D', 'G', 'F', 'E', 'B', 'A'), ('C', 'E', 'A', 'B', 'D', 'F', 'G'), ('C', 'E', 'A', 'B', 'D', 'G', 'F'), ('C', 'E', 'A', 'B', 'F', 'D', 'G'), ('C', 'E', 'A', 'B', 'F', 'G', 'D'), ('C', 'E', 'A', 'B', 'G', 'D', 'F'), ('C', 'E', 'A', 'B', 'G', 'F', 'D'), ('C', 'E', 'A', 'D', 'B', 'F', 'G'), ('C', 'E', 'A', 'D', 'B', 'G', 'F'), ('C', 'E', 'A', 'D', 'F', 'B', 'G'), ('C', 'E', 'A', 'D', 'F', 'G', 'B'), ('C', 'E', 'A', 'D', 'G', 'B', 'F'), ('C', 'E', 'A', 'D', 'G', 'F', 'B'), ('C', 'E', 'A', 'F', 'B', 'D', 'G'), ('C', 'E', 'A', 'F', 'B', 'G', 'D'), ('C', 'E', 'A', 'F', 'D', 'B', 'G'), ('C', 'E', 'A', 'F', 'D', 'G', 'B'), ('C', 'E', 'A', 'F', 'G', 'B', 'D'), ('C', 'E', 'A', 'F', 'G', 'D', 'B'), ('C', 'E', 'A', 'G', 'B', 'D', 'F'), ('C', 'E', 'A', 'G', 'B', 'F', 'D'), ('C', 'E', 'A', 'G', 'D', 'B', 'F'), ('C', 'E', 'A', 'G', 'D', 'F', 'B'), ('C', 'E', 'A', 'G', 'F', 'B', 'D'), ('C', 'E', 'A', 'G', 'F', 'D', 'B'), ('C', 'E', 'B', 'A', 'D', 'F', 'G'), ('C', 'E', 'B', 'A', 'D', 'G', 'F'), ('C', 'E', 'B', 'A', 'F', 'D', 'G'), ('C', 'E', 'B', 'A', 'F', 'G', 'D'), ('C', 'E', 'B', 'A', 'G', 'D', 'F'), ('C', 'E', 'B', 'A', 'G', 'F', 'D'), ('C', 'E', 'B', 'D', 'A', 'F', 'G'), ('C', 'E', 'B', 'D', 'A', 'G', 'F'), ('C', 'E', 'B', 'D', 'F', 'A', 'G'), ('C', 'E', 'B', 'D', 'F', 'G', 'A'), ('C', 'E', 'B', 'D', 'G', 'A', 'F'), ('C', 'E', 'B', 'D', 'G', 'F', 'A'), ('C', 'E', 'B', 'F', 'A', 'D', 'G'), ('C', 'E', 'B', 'F', 'A', 'G', 'D'), ('C', 'E', 'B', 'F', 'D', 'A', 'G'), ('C', 'E', 'B', 'F', 'D', 'G', 'A'), ('C', 'E', 'B', 'F', 'G', 'A', 'D'), ('C', 'E', 'B', 'F', 'G', 'D', 'A'), ('C', 'E', 'B', 'G', 'A', 'D', 'F'), ('C', 'E', 'B', 'G', 'A', 'F', 'D'), ('C', 'E', 'B', 'G', 'D', 'A', 'F'), ('C', 'E', 'B', 'G', 'D', 'F', 'A'), ('C', 'E', 'B', 'G', 'F', 'A', 'D'), ('C', 'E', 'B', 'G', 'F', 'D', 'A'), ('C', 'E', 'D', 'A', 'B', 'F', 'G'), ('C', 'E', 'D', 'A', 'B', 'G', 'F'), ('C', 'E', 'D', 'A', 'F', 'B', 'G'), ('C', 'E', 'D', 'A', 'F', 'G', 'B'), ('C', 'E', 'D', 'A', 'G', 'B', 'F'), ('C', 'E', 'D', 'A', 'G', 'F', 'B'), ('C', 'E', 'D', 'B', 'A', 'F', 'G'), ('C', 'E', 'D', 'B', 'A', 'G', 'F'), ('C', 'E', 'D', 'B', 'F', 'A', 'G'), ('C', 'E', 'D', 'B', 'F', 'G', 'A'), ('C', 'E', 'D', 'B', 'G', 'A', 'F'), ('C', 'E', 'D', 'B', 'G', 'F', 'A'), ('C', 'E', 'D', 'F', 'A', 'B', 'G'), ('C', 'E', 'D', 'F', 'A', 'G', 'B'), ('C', 'E', 'D', 'F', 'B', 'A', 'G'), ('C', 'E', 'D', 'F', 'B', 'G', 'A'), ('C', 'E', 'D', 'F', 'G', 'A', 'B'), ('C', 'E', 'D', 'F', 'G', 'B', 'A'), ('C', 'E', 'D', 'G', 'A', 'B', 'F'), ('C', 'E', 'D', 'G', 'A', 'F', 'B'), ('C', 'E', 'D', 'G', 'B', 'A', 'F'), ('C', 'E', 'D', 'G', 'B', 'F', 'A'), ('C', 'E', 'D', 'G', 'F', 'A', 'B'), ('C', 'E', 'D', 'G', 'F', 'B', 'A'), ('C', 'E', 'F', 'A', 'B', 'D', 'G'), ('C', 'E', 'F', 'A', 'B', 'G', 'D'), ('C', 'E', 'F', 'A', 'D', 'B', 'G'), ('C', 'E', 'F', 'A', 'D', 'G', 'B'), ('C', 'E', 'F', 'A', 'G', 'B', 'D'), ('C', 'E', 'F', 'A', 'G', 'D', 'B'), ('C', 'E', 'F', 'B', 'A', 'D', 'G'), ('C', 'E', 'F', 'B', 'A', 'G', 'D'), ('C', 'E', 'F', 'B', 'D', 'A', 'G'), ('C', 'E', 'F', 'B', 'D', 'G', 'A'), ('C', 'E', 'F', 'B', 'G', 'A', 'D'), ('C', 'E', 'F', 'B', 'G', 'D', 'A'), ('C', 'E', 'F', 'D', 'A', 'B', 'G'), ('C', 'E', 'F', 'D', 'A', 'G', 'B'), ('C', 'E', 'F', 'D', 'B', 'A', 'G'), ('C', 'E', 'F', 'D', 'B', 'G', 'A'), ('C', 'E', 'F', 'D', 'G', 'A', 'B'), ('C', 'E', 'F', 'D', 'G', 'B', 'A'), ('C', 'E', 'F', 'G', 'A', 'B', 'D'), ('C', 'E', 'F', 'G', 'A', 'D', 'B'), ('C', 'E', 'F', 'G', 'B', 'A', 'D'), ('C', 'E', 'F', 'G', 'B', 'D', 'A'), ('C', 'E', 'F', 'G', 'D', 'A', 'B'), ('C', 'E', 'F', 'G', 'D', 'B', 'A'), ('C', 'E', 'G', 'A', 'B', 'D', 'F'), ('C', 'E', 'G', 'A', 'B', 'F', 'D'), ('C', 'E', 'G', 'A', 'D', 'B', 'F'), ('C', 'E', 'G', 'A', 'D', 'F', 'B'), ('C', 'E', 'G', 'A', 'F', 'B', 'D'), ('C', 'E', 'G', 'A', 'F', 'D', 'B'), ('C', 'E', 'G', 'B', 'A', 'D', 'F'), ('C', 'E', 'G', 'B', 'A', 'F', 'D'), ('C', 'E', 'G', 'B', 'D', 'A', 'F'), ('C', 'E', 'G', 'B', 'D', 'F', 'A'), ('C', 'E', 'G', 'B', 'F', 'A', 'D'), ('C', 'E', 'G', 'B', 'F', 'D', 'A'), ('C', 'E', 'G', 'D', 'A', 'B', 'F'), ('C', 'E', 'G', 'D', 'A', 'F', 'B'), ('C', 'E', 'G', 'D', 'B', 'A', 'F'), ('C', 'E', 'G', 'D', 'B', 'F', 'A'), ('C', 'E', 'G', 'D', 'F', 'A', 'B'), ('C', 'E', 'G', 'D', 'F', 'B', 'A'), ('C', 'E', 'G', 'F', 'A', 'B', 'D'), ('C', 'E', 'G', 'F', 'A', 'D', 'B'), ('C', 'E', 'G', 'F', 'B', 'A', 'D'), ('C', 'E', 'G', 'F', 'B', 'D', 'A'), ('C', 'E', 'G', 'F', 'D', 'A', 'B'), ('C', 'E', 'G', 'F', 'D', 'B', 'A'), ('C', 'F', 'A', 'B', 'D', 'E', 'G'), ('C', 'F', 'A', 'B', 'D', 'G', 'E'), ('C', 'F', 'A', 'B', 'E', 'D', 'G'), ('C', 'F', 'A', 'B', 'E', 'G', 'D'), ('C', 'F', 'A', 'B', 'G', 'D', 'E'), ('C', 'F', 'A', 'B', 'G', 'E', 'D'), ('C', 'F', 'A', 'D', 'B', 'E', 'G'), ('C', 'F', 'A', 'D', 'B', 'G', 'E'), ('C', 'F', 'A', 'D', 'E', 'B', 'G'), ('C', 'F', 'A', 'D', 'E', 'G', 'B'), ('C', 'F', 'A', 'D', 'G', 'B', 'E'), ('C', 'F', 'A', 'D', 'G', 'E', 'B'), ('C', 'F', 'A', 'E', 'B', 'D', 'G'), ('C', 'F', 'A', 'E', 'B', 'G', 'D'), ('C', 'F', 'A', 'E', 'D', 'B', 'G'), ('C', 'F', 'A', 'E', 'D', 'G', 'B'), ('C', 'F', 'A', 'E', 'G', 'B', 'D'), ('C', 'F', 'A', 'E', 'G', 'D', 'B'), ('C', 'F', 'A', 'G', 'B', 'D', 'E'), ('C', 'F', 'A', 'G', 'B', 'E', 'D'), ('C', 'F', 'A', 'G', 'D', 'B', 'E'), ('C', 'F', 'A', 'G', 'D', 'E', 'B'), ('C', 'F', 'A', 'G', 'E', 'B', 'D'), ('C', 'F', 'A', 'G', 'E', 'D', 'B'), ('C', 'F', 'B', 'A', 'D', 'E', 'G'), ('C', 'F', 'B', 'A', 'D', 'G', 'E'), ('C', 'F', 'B', 'A', 'E', 'D', 'G'), ('C', 'F', 'B', 'A', 'E', 'G', 'D'), ('C', 'F', 'B', 'A', 'G', 'D', 'E'), ('C', 'F', 'B', 'A', 'G', 'E', 'D'), ('C', 'F', 'B', 'D', 'A', 'E', 'G'), ('C', 'F', 'B', 'D', 'A', 'G', 'E'), ('C', 'F', 'B', 'D', 'E', 'A', 'G'), ('C', 'F', 'B', 'D', 'E', 'G', 'A'), ('C', 'F', 'B', 'D', 'G', 'A', 'E'), ('C', 'F', 'B', 'D', 'G', 'E', 'A'), ('C', 'F', 'B', 'E', 'A', 'D', 'G'), ('C', 'F', 'B', 'E', 'A', 'G', 'D'), ('C', 'F', 'B', 'E', 'D', 'A', 'G'), ('C', 'F', 'B', 'E', 'D', 'G', 'A'), ('C', 'F', 'B', 'E', 'G', 'A', 'D'), ('C', 'F', 'B', 'E', 'G', 'D', 'A'), ('C', 'F', 'B', 'G', 'A', 'D', 'E'), ('C', 'F', 'B', 'G', 'A', 'E', 'D'), ('C', 'F', 'B', 'G', 'D', 'A', 'E'), ('C', 'F', 'B', 'G', 'D', 'E', 'A'), ('C', 'F', 'B', 'G', 'E', 'A', 'D'), ('C', 'F', 'B', 'G', 'E', 'D', 'A'), ('C', 'F', 'D', 'A', 'B', 'E', 'G'), ('C', 'F', 'D', 'A', 'B', 'G', 'E'), ('C', 'F', 'D', 'A', 'E', 'B', 'G'), ('C', 'F', 'D', 'A', 'E', 'G', 'B'), ('C', 'F', 'D', 'A', 'G', 'B', 'E'), ('C', 'F', 'D', 'A', 'G', 'E', 'B'), ('C', 'F', 'D', 'B', 'A', 'E', 'G'), ('C', 'F', 'D', 'B', 'A', 'G', 'E'), ('C', 'F', 'D', 'B', 'E', 'A', 'G'), ('C', 'F', 'D', 'B', 'E', 'G', 'A'), ('C', 'F', 'D', 'B', 'G', 'A', 'E'), ('C', 'F', 'D', 'B', 'G', 'E', 'A'), ('C', 'F', 'D', 'E', 'A', 'B', 'G'), ('C', 'F', 'D', 'E', 'A', 'G', 'B'), ('C', 'F', 'D', 'E', 'B', 'A', 'G'), ('C', 'F', 'D', 'E', 'B', 'G', 'A'), ('C', 'F', 'D', 'E', 'G', 'A', 'B'), ('C', 'F', 'D', 'E', 'G', 'B', 'A'), ('C', 'F', 'D', 'G', 'A', 'B', 'E'), ('C', 'F', 'D', 'G', 'A', 'E', 'B'), ('C', 'F', 'D', 'G', 'B', 'A', 'E'), ('C', 'F', 'D', 'G', 'B', 'E', 'A'), ('C', 'F', 'D', 'G', 'E', 'A', 'B'), ('C', 'F', 'D', 'G', 'E', 'B', 'A'), ('C', 'F', 'E', 'A', 'B', 'D', 'G'), ('C', 'F', 'E', 'A', 'B', 'G', 'D'), ('C', 'F', 'E', 'A', 'D', 'B', 'G'), ('C', 'F', 'E', 'A', 'D', 'G', 'B'), ('C', 'F', 'E', 'A', 'G', 'B', 'D'), ('C', 'F', 'E', 'A', 'G', 'D', 'B'), ('C', 'F', 'E', 'B', 'A', 'D', 'G'), ('C', 'F', 'E', 'B', 'A', 'G', 'D'), ('C', 'F', 'E', 'B', 'D', 'A', 'G'), ('C', 'F', 'E', 'B', 'D', 'G', 'A'), ('C', 'F', 'E', 'B', 'G', 'A', 'D'), ('C', 'F', 'E', 'B', 'G', 'D', 'A'), ('C', 'F', 'E', 'D', 'A', 'B', 'G'), ('C', 'F', 'E', 'D', 'A', 'G', 'B'), ('C', 'F', 'E', 'D', 'B', 'A', 'G'), ('C', 'F', 'E', 'D', 'B', 'G', 'A'), ('C', 'F', 'E', 'D', 'G', 'A', 'B'), ('C', 'F', 'E', 'D', 'G', 'B', 'A'), ('C', 'F', 'E', 'G', 'A', 'B', 'D'), ('C', 'F', 'E', 'G', 'A', 'D', 'B'), ('C', 'F', 'E', 'G', 'B', 'A', 'D'), ('C', 'F', 'E', 'G', 'B', 'D', 'A'), ('C', 'F', 'E', 'G', 'D', 'A', 'B'), ('C', 'F', 'E', 'G', 'D', 'B', 'A'), ('C', 'F', 'G', 'A', 'B', 'D', 'E'), ('C', 'F', 'G', 'A', 'B', 'E', 'D'), ('C', 'F', 'G', 'A', 'D', 'B', 'E'), ('C', 'F', 'G', 'A', 'D', 'E', 'B'), ('C', 'F', 'G', 'A', 'E', 'B', 'D'), ('C', 'F', 'G', 'A', 'E', 'D', 'B'), ('C', 'F', 'G', 'B', 'A', 'D', 'E'), ('C', 'F', 'G', 'B', 'A', 'E', 'D'), ('C', 'F', 'G', 'B', 'D', 'A', 'E'), ('C', 'F', 'G', 'B', 'D', 'E', 'A'), ('C', 'F', 'G', 'B', 'E', 'A', 'D'), ('C', 'F', 'G', 'B', 'E', 'D', 'A'), ('C', 'F', 'G', 'D', 'A', 'B', 'E'), ('C', 'F', 'G', 'D', 'A', 'E', 'B'), ('C', 'F', 'G', 'D', 'B', 'A', 'E'), ('C', 'F', 'G', 'D', 'B', 'E', 'A'), ('C', 'F', 'G', 'D', 'E', 'A', 'B'), ('C', 'F', 'G', 'D', 'E', 'B', 'A'), ('C', 'F', 'G', 'E', 'A', 'B', 'D'), ('C', 'F', 'G', 'E', 'A', 'D', 'B'), ('C', 'F', 'G', 'E', 'B', 'A', 'D'), ('C', 'F', 'G', 'E', 'B', 'D', 'A'), ('C', 'F', 'G', 'E', 'D', 'A', 'B'), ('C', 'F', 'G', 'E', 'D', 'B', 'A'), ('C', 'G', 'A', 'B', 'D', 'E', 'F'), ('C', 'G', 'A', 'B', 'D', 'F', 'E'), ('C', 'G', 'A', 'B', 'E', 'D', 'F'), ('C', 'G', 'A', 'B', 'E', 'F', 'D'), ('C', 'G', 'A', 'B', 'F', 'D', 'E'), ('C', 'G', 'A', 'B', 'F', 'E', 'D'), ('C', 'G', 'A', 'D', 'B', 'E', 'F'), ('C', 'G', 'A', 'D', 'B', 'F', 'E'), ('C', 'G', 'A', 'D', 'E', 'B', 'F'), ('C', 'G', 'A', 'D', 'E', 'F', 'B'), ('C', 'G', 'A', 'D', 'F', 'B', 'E'), ('C', 'G', 'A', 'D', 'F', 'E', 'B'), ('C', 'G', 'A', 'E', 'B', 'D', 'F'), ('C', 'G', 'A', 'E', 'B', 'F', 'D'), ('C', 'G', 'A', 'E', 'D', 'B', 'F'), ('C', 'G', 'A', 'E', 'D', 'F', 'B'), ('C', 'G', 'A', 'E', 'F', 'B', 'D'), ('C', 'G', 'A', 'E', 'F', 'D', 'B'), ('C', 'G', 'A', 'F', 'B', 'D', 'E'), ('C', 'G', 'A', 'F', 'B', 'E', 'D'), ('C', 'G', 'A', 'F', 'D', 'B', 'E'), ('C', 'G', 'A', 'F', 'D', 'E', 'B'), ('C', 'G', 'A', 'F', 'E', 'B', 'D'), ('C', 'G', 'A', 'F', 'E', 'D', 'B'), ('C', 'G', 'B', 'A', 'D', 'E', 'F'), ('C', 'G', 'B', 'A', 'D', 'F', 'E'), ('C', 'G', 'B', 'A', 'E', 'D', 'F'), ('C', 'G', 'B', 'A', 'E', 'F', 'D'), ('C', 'G', 'B', 'A', 'F', 'D', 'E'), ('C', 'G', 'B', 'A', 'F', 'E', 'D'), ('C', 'G', 'B', 'D', 'A', 'E', 'F'), ('C', 'G', 'B', 'D', 'A', 'F', 'E'), ('C', 'G', 'B', 'D', 'E', 'A', 'F'), ('C', 'G', 'B', 'D', 'E', 'F', 'A'), ('C', 'G', 'B', 'D', 'F', 'A', 'E'), ('C', 'G', 'B', 'D', 'F', 'E', 'A'), ('C', 'G', 'B', 'E', 'A', 'D', 'F'), ('C', 'G', 'B', 'E', 'A', 'F', 'D'), ('C', 'G', 'B', 'E', 'D', 'A', 'F'), ('C', 'G', 'B', 'E', 'D', 'F', 'A'), ('C', 'G', 'B', 'E', 'F', 'A', 'D'), ('C', 'G', 'B', 'E', 'F', 'D', 'A'), ('C', 'G', 'B', 'F', 'A', 'D', 'E'), ('C', 'G', 'B', 'F', 'A', 'E', 'D'), ('C', 'G', 'B', 'F', 'D', 'A', 'E'), ('C', 'G', 'B', 'F', 'D', 'E', 'A'), ('C', 'G', 'B', 'F', 'E', 'A', 'D'), ('C', 'G', 'B', 'F', 'E', 'D', 'A'), ('C', 'G', 'D', 'A', 'B', 'E', 'F'), ('C', 'G', 'D', 'A', 'B', 'F', 'E'), ('C', 'G', 'D', 'A', 'E', 'B', 'F'), ('C', 'G', 'D', 'A', 'E', 'F', 'B'), ('C', 'G', 'D', 'A', 'F', 'B', 'E'), ('C', 'G', 'D', 'A', 'F', 'E', 'B'), ('C', 'G', 'D', 'B', 'A', 'E', 'F'), ('C', 'G', 'D', 'B', 'A', 'F', 'E'), ('C', 'G', 'D', 'B', 'E', 'A', 'F'), ('C', 'G', 'D', 'B', 'E', 'F', 'A'), ('C', 'G', 'D', 'B', 'F', 'A', 'E'), ('C', 'G', 'D', 'B', 'F', 'E', 'A'), ('C', 'G', 'D', 'E', 'A', 'B', 'F'), ('C', 'G', 'D', 'E', 'A', 'F', 'B'), ('C', 'G', 'D', 'E', 'B', 'A', 'F'), ('C', 'G', 'D', 'E', 'B', 'F', 'A'), ('C', 'G', 'D', 'E', 'F', 'A', 'B'), ('C', 'G', 'D', 'E', 'F', 'B', 'A'), ('C', 'G', 'D', 'F', 'A', 'B', 'E'), ('C', 'G', 'D', 'F', 'A', 'E', 'B'), ('C', 'G', 'D', 'F', 'B', 'A', 'E'), ('C', 'G', 'D', 'F', 'B', 'E', 'A'), ('C', 'G', 'D', 'F', 'E', 'A', 'B'), ('C', 'G', 'D', 'F', 'E', 'B', 'A'), ('C', 'G', 'E', 'A', 'B', 'D', 'F'), ('C', 'G', 'E', 'A', 'B', 'F', 'D'), ('C', 'G', 'E', 'A', 'D', 'B', 'F'), ('C', 'G', 'E', 'A', 'D', 'F', 'B'), ('C', 'G', 'E', 'A', 'F', 'B', 'D'), ('C', 'G', 'E', 'A', 'F', 'D', 'B'), ('C', 'G', 'E', 'B', 'A', 'D', 'F'), ('C', 'G', 'E', 'B', 'A', 'F', 'D'), ('C', 'G', 'E', 'B', 'D', 'A', 'F'), ('C', 'G', 'E', 'B', 'D', 'F', 'A'), ('C', 'G', 'E', 'B', 'F', 'A', 'D'), ('C', 'G', 'E', 'B', 'F', 'D', 'A'), ('C', 'G', 'E', 'D', 'A', 'B', 'F'), ('C', 'G', 'E', 'D', 'A', 'F', 'B'), ('C', 'G', 'E', 'D', 'B', 'A', 'F'), ('C', 'G', 'E', 'D', 'B', 'F', 'A'), ('C', 'G', 'E', 'D', 'F', 'A', 'B'), ('C', 'G', 'E', 'D', 'F', 'B', 'A'), ('C', 'G', 'E', 'F', 'A', 'B', 'D'), ('C', 'G', 'E', 'F', 'A', 'D', 'B'), ('C', 'G', 'E', 'F', 'B', 'A', 'D'), ('C', 'G', 'E', 'F', 'B', 'D', 'A'), ('C', 'G', 'E', 'F', 'D', 'A', 'B'), ('C', 'G', 'E', 'F', 'D', 'B', 'A'), ('C', 'G', 'F', 'A', 'B', 'D', 'E'), ('C', 'G', 'F', 'A', 'B', 'E', 'D'), ('C', 'G', 'F', 'A', 'D', 'B', 'E'), ('C', 'G', 'F', 'A', 'D', 'E', 'B'), ('C', 'G', 'F', 'A', 'E', 'B', 'D'), ('C', 'G', 'F', 'A', 'E', 'D', 'B'), ('C', 'G', 'F', 'B', 'A', 'D', 'E'), ('C', 'G', 'F', 'B', 'A', 'E', 'D'), ('C', 'G', 'F', 'B', 'D', 'A', 'E'), ('C', 'G', 'F', 'B', 'D', 'E', 'A'), ('C', 'G', 'F', 'B', 'E', 'A', 'D'), ('C', 'G', 'F', 'B', 'E', 'D', 'A'), ('C', 'G', 'F', 'D', 'A', 'B', 'E'), ('C', 'G', 'F', 'D', 'A', 'E', 'B'), ('C', 'G', 'F', 'D', 'B', 'A', 'E'), ('C', 'G', 'F', 'D', 'B', 'E', 'A'), ('C', 'G', 'F', 'D', 'E', 'A', 'B'), ('C', 'G', 'F', 'D', 'E', 'B', 'A'), ('C', 'G', 'F', 'E', 'A', 'B', 'D'), ('C', 'G', 'F', 'E', 'A', 'D', 'B'), ('C', 'G', 'F', 'E', 'B', 'A', 'D'), ('C', 'G', 'F', 'E', 'B', 'D', 'A'), ('C', 'G', 'F', 'E', 'D', 'A', 'B'), ('C', 'G', 'F', 'E', 'D', 'B', 'A'), ('D', 'A', 'B', 'C', 'E', 'F', 'G'), ('D', 'A', 'B', 'C', 'E', 'G', 'F'), ('D', 'A', 'B', 'C', 'F', 'E', 'G'), ('D', 'A', 'B', 'C', 'F', 'G', 'E'), ('D', 'A', 'B', 'C', 'G', 'E', 'F'), ('D', 'A', 'B', 'C', 'G', 'F', 'E'), ('D', 'A', 'B', 'E', 'C', 'F', 'G'), ('D', 'A', 'B', 'E', 'C', 'G', 'F'), ('D', 'A', 'B', 'E', 'F', 'C', 'G'), ('D', 'A', 'B', 'E', 'F', 'G', 'C'), ('D', 'A', 'B', 'E', 'G', 'C', 'F'), ('D', 'A', 'B', 'E', 'G', 'F', 'C'), ('D', 'A', 'B', 'F', 'C', 'E', 'G'), ('D', 'A', 'B', 'F', 'C', 'G', 'E'), ('D', 'A', 'B', 'F', 'E', 'C', 'G'), ('D', 'A', 'B', 'F', 'E', 'G', 'C'), ('D', 'A', 'B', 'F', 'G', 'C', 'E'), ('D', 'A', 'B', 'F', 'G', 'E', 'C'), ('D', 'A', 'B', 'G', 'C', 'E', 'F'), ('D', 'A', 'B', 'G', 'C', 'F', 'E'), ('D', 'A', 'B', 'G', 'E', 'C', 'F'), ('D', 'A', 'B', 'G', 'E', 'F', 'C'), ('D', 'A', 'B', 'G', 'F', 'C', 'E'), ('D', 'A', 'B', 'G', 'F', 'E', 'C'), ('D', 'A', 'C', 'B', 'E', 'F', 'G'), ('D', 'A', 'C', 'B', 'E', 'G', 'F'), ('D', 'A', 'C', 'B', 'F', 'E', 'G'), ('D', 'A', 'C', 'B', 'F', 'G', 'E'), ('D', 'A', 'C', 'B', 'G', 'E', 'F'), ('D', 'A', 'C', 'B', 'G', 'F', 'E'), ('D', 'A', 'C', 'E', 'B', 'F', 'G'), ('D', 'A', 'C', 'E', 'B', 'G', 'F'), ('D', 'A', 'C', 'E', 'F', 'B', 'G'), ('D', 'A', 'C', 'E', 'F', 'G', 'B'), ('D', 'A', 'C', 'E', 'G', 'B', 'F'), ('D', 'A', 'C', 'E', 'G', 'F', 'B'), ('D', 'A', 'C', 'F', 'B', 'E', 'G'), ('D', 'A', 'C', 'F', 'B', 'G', 'E'), ('D', 'A', 'C', 'F', 'E', 'B', 'G'), ('D', 'A', 'C', 'F', 'E', 'G', 'B'), ('D', 'A', 'C', 'F', 'G', 'B', 'E'), ('D', 'A', 'C', 'F', 'G', 'E', 'B'), ('D', 'A', 'C', 'G', 'B', 'E', 'F'), ('D', 'A', 'C', 'G', 'B', 'F', 'E'), ('D', 'A', 'C', 'G', 'E', 'B', 'F'), ('D', 'A', 'C', 'G', 'E', 'F', 'B'), ('D', 'A', 'C', 'G', 'F', 'B', 'E'), ('D', 'A', 'C', 'G', 'F', 'E', 'B'), ('D', 'A', 'E', 'B', 'C', 'F', 'G'), ('D', 'A', 'E', 'B', 'C', 'G', 'F'), ('D', 'A', 'E', 'B', 'F', 'C', 'G'), ('D', 'A', 'E', 'B', 'F', 'G', 'C'), ('D', 'A', 'E', 'B', 'G', 'C', 'F'), ('D', 'A', 'E', 'B', 'G', 'F', 'C'), ('D', 'A', 'E', 'C', 'B', 'F', 'G'), ('D', 'A', 'E', 'C', 'B', 'G', 'F'), ('D', 'A', 'E', 'C', 'F', 'B', 'G'), ('D', 'A', 'E', 'C', 'F', 'G', 'B'), ('D', 'A', 'E', 'C', 'G', 'B', 'F'), ('D', 'A', 'E', 'C', 'G', 'F', 'B'), ('D', 'A', 'E', 'F', 'B', 'C', 'G'), ('D', 'A', 'E', 'F', 'B', 'G', 'C'), ('D', 'A', 'E', 'F', 'C', 'B', 'G'), ('D', 'A', 'E', 'F', 'C', 'G', 'B'), ('D', 'A', 'E', 'F', 'G', 'B', 'C'), ('D', 'A', 'E', 'F', 'G', 'C', 'B'), ('D', 'A', 'E', 'G', 'B', 'C', 'F'), ('D', 'A', 'E', 'G', 'B', 'F', 'C'), ('D', 'A', 'E', 'G', 'C', 'B', 'F'), ('D', 'A', 'E', 'G', 'C', 'F', 'B'), ('D', 'A', 'E', 'G', 'F', 'B', 'C'), ('D', 'A', 'E', 'G', 'F', 'C', 'B'), ('D', 'A', 'F', 'B', 'C', 'E', 'G'), ('D', 'A', 'F', 'B', 'C', 'G', 'E'), ('D', 'A', 'F', 'B', 'E', 'C', 'G'), ('D', 'A', 'F', 'B', 'E', 'G', 'C'), ('D', 'A', 'F', 'B', 'G', 'C', 'E'), ('D', 'A', 'F', 'B', 'G', 'E', 'C'), ('D', 'A', 'F', 'C', 'B', 'E', 'G'), ('D', 'A', 'F', 'C', 'B', 'G', 'E'), ('D', 'A', 'F', 'C', 'E', 'B', 'G'), ('D', 'A', 'F', 'C', 'E', 'G', 'B'), ('D', 'A', 'F', 'C', 'G', 'B', 'E'), ('D', 'A', 'F', 'C', 'G', 'E', 'B'), ('D', 'A', 'F', 'E', 'B', 'C', 'G'), ('D', 'A', 'F', 'E', 'B', 'G', 'C'), ('D', 'A', 'F', 'E', 'C', 'B', 'G'), ('D', 'A', 'F', 'E', 'C', 'G', 'B'), ('D', 'A', 'F', 'E', 'G', 'B', 'C'), ('D', 'A', 'F', 'E', 'G', 'C', 'B'), ('D', 'A', 'F', 'G', 'B', 'C', 'E'), ('D', 'A', 'F', 'G', 'B', 'E', 'C'), ('D', 'A', 'F', 'G', 'C', 'B', 'E'), ('D', 'A', 'F', 'G', 'C', 'E', 'B'), ('D', 'A', 'F', 'G', 'E', 'B', 'C'), ('D', 'A', 'F', 'G', 'E', 'C', 'B'), ('D', 'A', 'G', 'B', 'C', 'E', 'F'), ('D', 'A', 'G', 'B', 'C', 'F', 'E'), ('D', 'A', 'G', 'B', 'E', 'C', 'F'), ('D', 'A', 'G', 'B', 'E', 'F', 'C'), ('D', 'A', 'G', 'B', 'F', 'C', 'E'), ('D', 'A', 'G', 'B', 'F', 'E', 'C'), ('D', 'A', 'G', 'C', 'B', 'E', 'F'), ('D', 'A', 'G', 'C', 'B', 'F', 'E'), ('D', 'A', 'G', 'C', 'E', 'B', 'F'), ('D', 'A', 'G', 'C', 'E', 'F', 'B'), ('D', 'A', 'G', 'C', 'F', 'B', 'E'), ('D', 'A', 'G', 'C', 'F', 'E', 'B'), ('D', 'A', 'G', 'E', 'B', 'C', 'F'), ('D', 'A', 'G', 'E', 'B', 'F', 'C'), ('D', 'A', 'G', 'E', 'C', 'B', 'F'), ('D', 'A', 'G', 'E', 'C', 'F', 'B'), ('D', 'A', 'G', 'E', 'F', 'B', 'C'), ('D', 'A', 'G', 'E', 'F', 'C', 'B'), ('D', 'A', 'G', 'F', 'B', 'C', 'E'), ('D', 'A', 'G', 'F', 'B', 'E', 'C'), ('D', 'A', 'G', 'F', 'C', 'B', 'E'), ('D', 'A', 'G', 'F', 'C', 'E', 'B'), ('D', 'A', 'G', 'F', 'E', 'B', 'C'), ('D', 'A', 'G', 'F', 'E', 'C', 'B'), ('D', 'B', 'A', 'C', 'E', 'F', 'G'), ('D', 'B', 'A', 'C', 'E', 'G', 'F'), ('D', 'B', 'A', 'C', 'F', 'E', 'G'), ('D', 'B', 'A', 'C', 'F', 'G', 'E'), ('D', 'B', 'A', 'C', 'G', 'E', 'F'), ('D', 'B', 'A', 'C', 'G', 'F', 'E'), ('D', 'B', 'A', 'E', 'C', 'F', 'G'), ('D', 'B', 'A', 'E', 'C', 'G', 'F'), ('D', 'B', 'A', 'E', 'F', 'C', 'G'), ('D', 'B', 'A', 'E', 'F', 'G', 'C'), ('D', 'B', 'A', 'E', 'G', 'C', 'F'), ('D', 'B', 'A', 'E', 'G', 'F', 'C'), ('D', 'B', 'A', 'F', 'C', 'E', 'G'), ('D', 'B', 'A', 'F', 'C', 'G', 'E'), ('D', 'B', 'A', 'F', 'E', 'C', 'G'), ('D', 'B', 'A', 'F', 'E', 'G', 'C'), ('D', 'B', 'A', 'F', 'G', 'C', 'E'), ('D', 'B', 'A', 'F', 'G', 'E', 'C'), ('D', 'B', 'A', 'G', 'C', 'E', 'F'), ('D', 'B', 'A', 'G', 'C', 'F', 'E'), ('D', 'B', 'A', 'G', 'E', 'C', 'F'), ('D', 'B', 'A', 'G', 'E', 'F', 'C'), ('D', 'B', 'A', 'G', 'F', 'C', 'E'), ('D', 'B', 'A', 'G', 'F', 'E', 'C'), ('D', 'B', 'C', 'A', 'E', 'F', 'G'), ('D', 'B', 'C', 'A', 'E', 'G', 'F'), ('D', 'B', 'C', 'A', 'F', 'E', 'G'), ('D', 'B', 'C', 'A', 'F', 'G', 'E'), ('D', 'B', 'C', 'A', 'G', 'E', 'F'), ('D', 'B', 'C', 'A', 'G', 'F', 'E'), ('D', 'B', 'C', 'E', 'A', 'F', 'G'), ('D', 'B', 'C', 'E', 'A', 'G', 'F'), ('D', 'B', 'C', 'E', 'F', 'A', 'G'), ('D', 'B', 'C', 'E', 'F', 'G', 'A'), ('D', 'B', 'C', 'E', 'G', 'A', 'F'), ('D', 'B', 'C', 'E', 'G', 'F', 'A'), ('D', 'B', 'C', 'F', 'A', 'E', 'G'), ('D', 'B', 'C', 'F', 'A', 'G', 'E'), ('D', 'B', 'C', 'F', 'E', 'A', 'G'), ('D', 'B', 'C', 'F', 'E', 'G', 'A'), ('D', 'B', 'C', 'F', 'G', 'A', 'E'), ('D', 'B', 'C', 'F', 'G', 'E', 'A'), ('D', 'B', 'C', 'G', 'A', 'E', 'F'), ('D', 'B', 'C', 'G', 'A', 'F', 'E'), ('D', 'B', 'C', 'G', 'E', 'A', 'F'), ('D', 'B', 'C', 'G', 'E', 'F', 'A'), ('D', 'B', 'C', 'G', 'F', 'A', 'E'), ('D', 'B', 'C', 'G', 'F', 'E', 'A'), ('D', 'B', 'E', 'A', 'C', 'F', 'G'), ('D', 'B', 'E', 'A', 'C', 'G', 'F'), ('D', 'B', 'E', 'A', 'F', 'C', 'G'), ('D', 'B', 'E', 'A', 'F', 'G', 'C'), ('D', 'B', 'E', 'A', 'G', 'C', 'F'), ('D', 'B', 'E', 'A', 'G', 'F', 'C'), ('D', 'B', 'E', 'C', 'A', 'F', 'G'), ('D', 'B', 'E', 'C', 'A', 'G', 'F'), ('D', 'B', 'E', 'C', 'F', 'A', 'G'), ('D', 'B', 'E', 'C', 'F', 'G', 'A'), ('D', 'B', 'E', 'C', 'G', 'A', 'F'), ('D', 'B', 'E', 'C', 'G', 'F', 'A'), ('D', 'B', 'E', 'F', 'A', 'C', 'G'), ('D', 'B', 'E', 'F', 'A', 'G', 'C'), ('D', 'B', 'E', 'F', 'C', 'A', 'G'), ('D', 'B', 'E', 'F', 'C', 'G', 'A'), ('D', 'B', 'E', 'F', 'G', 'A', 'C'), ('D', 'B', 'E', 'F', 'G', 'C', 'A'), ('D', 'B', 'E', 'G', 'A', 'C', 'F'), ('D', 'B', 'E', 'G', 'A', 'F', 'C'), ('D', 'B', 'E', 'G', 'C', 'A', 'F'), ('D', 'B', 'E', 'G', 'C', 'F', 'A'), ('D', 'B', 'E', 'G', 'F', 'A', 'C'), ('D', 'B', 'E', 'G', 'F', 'C', 'A'), ('D', 'B', 'F', 'A', 'C', 'E', 'G'), ('D', 'B', 'F', 'A', 'C', 'G', 'E'), ('D', 'B', 'F', 'A', 'E', 'C', 'G'), ('D', 'B', 'F', 'A', 'E', 'G', 'C'), ('D', 'B', 'F', 'A', 'G', 'C', 'E'), ('D', 'B', 'F', 'A', 'G', 'E', 'C'), ('D', 'B', 'F', 'C', 'A', 'E', 'G'), ('D', 'B', 'F', 'C', 'A', 'G', 'E'), ('D', 'B', 'F', 'C', 'E', 'A', 'G'), ('D', 'B', 'F', 'C', 'E', 'G', 'A'), ('D', 'B', 'F', 'C', 'G', 'A', 'E'), ('D', 'B', 'F', 'C', 'G', 'E', 'A'), ('D', 'B', 'F', 'E', 'A', 'C', 'G'), ('D', 'B', 'F', 'E', 'A', 'G', 'C'), ('D', 'B', 'F', 'E', 'C', 'A', 'G'), ('D', 'B', 'F', 'E', 'C', 'G', 'A'), ('D', 'B', 'F', 'E', 'G', 'A', 'C'), ('D', 'B', 'F', 'E', 'G', 'C', 'A'), ('D', 'B', 'F', 'G', 'A', 'C', 'E'), ('D', 'B', 'F', 'G', 'A', 'E', 'C'), ('D', 'B', 'F', 'G', 'C', 'A', 'E'), ('D', 'B', 'F', 'G', 'C', 'E', 'A'), ('D', 'B', 'F', 'G', 'E', 'A', 'C'), ('D', 'B', 'F', 'G', 'E', 'C', 'A'), ('D', 'B', 'G', 'A', 'C', 'E', 'F'), ('D', 'B', 'G', 'A', 'C', 'F', 'E'), ('D', 'B', 'G', 'A', 'E', 'C', 'F'), ('D', 'B', 'G', 'A', 'E', 'F', 'C'), ('D', 'B', 'G', 'A', 'F', 'C', 'E'), ('D', 'B', 'G', 'A', 'F', 'E', 'C'), ('D', 'B', 'G', 'C', 'A', 'E', 'F'), ('D', 'B', 'G', 'C', 'A', 'F', 'E'), ('D', 'B', 'G', 'C', 'E', 'A', 'F'), ('D', 'B', 'G', 'C', 'E', 'F', 'A'), ('D', 'B', 'G', 'C', 'F', 'A', 'E'), ('D', 'B', 'G', 'C', 'F', 'E', 'A'), ('D', 'B', 'G', 'E', 'A', 'C', 'F'), ('D', 'B', 'G', 'E', 'A', 'F', 'C'), ('D', 'B', 'G', 'E', 'C', 'A', 'F'), ('D', 'B', 'G', 'E', 'C', 'F', 'A'), ('D', 'B', 'G', 'E', 'F', 'A', 'C'), ('D', 'B', 'G', 'E', 'F', 'C', 'A'), ('D', 'B', 'G', 'F', 'A', 'C', 'E'), ('D', 'B', 'G', 'F', 'A', 'E', 'C'), ('D', 'B', 'G', 'F', 'C', 'A', 'E'), ('D', 'B', 'G', 'F', 'C', 'E', 'A'), ('D', 'B', 'G', 'F', 'E', 'A', 'C'), ('D', 'B', 'G', 'F', 'E', 'C', 'A'), ('D', 'C', 'A', 'B', 'E', 'F', 'G'), ('D', 'C', 'A', 'B', 'E', 'G', 'F'), ('D', 'C', 'A', 'B', 'F', 'E', 'G'), ('D', 'C', 'A', 'B', 'F', 'G', 'E'), ('D', 'C', 'A', 'B', 'G', 'E', 'F'), ('D', 'C', 'A', 'B', 'G', 'F', 'E'), ('D', 'C', 'A', 'E', 'B', 'F', 'G'), ('D', 'C', 'A', 'E', 'B', 'G', 'F'), ('D', 'C', 'A', 'E', 'F', 'B', 'G'), ('D', 'C', 'A', 'E', 'F', 'G', 'B'), ('D', 'C', 'A', 'E', 'G', 'B', 'F'), ('D', 'C', 'A', 'E', 'G', 'F', 'B'), ('D', 'C', 'A', 'F', 'B', 'E', 'G'), ('D', 'C', 'A', 'F', 'B', 'G', 'E'), ('D', 'C', 'A', 'F', 'E', 'B', 'G'), ('D', 'C', 'A', 'F', 'E', 'G', 'B'), ('D', 'C', 'A', 'F', 'G', 'B', 'E'), ('D', 'C', 'A', 'F', 'G', 'E', 'B'), ('D', 'C', 'A', 'G', 'B', 'E', 'F'), ('D', 'C', 'A', 'G', 'B', 'F', 'E'), ('D', 'C', 'A', 'G', 'E', 'B', 'F'), ('D', 'C', 'A', 'G', 'E', 'F', 'B'), ('D', 'C', 'A', 'G', 'F', 'B', 'E'), ('D', 'C', 'A', 'G', 'F', 'E', 'B'), ('D', 'C', 'B', 'A', 'E', 'F', 'G'), ('D', 'C', 'B', 'A', 'E', 'G', 'F'), ('D', 'C', 'B', 'A', 'F', 'E', 'G'), ('D', 'C', 'B', 'A', 'F', 'G', 'E'), ('D', 'C', 'B', 'A', 'G', 'E', 'F'), ('D', 'C', 'B', 'A', 'G', 'F', 'E'), ('D', 'C', 'B', 'E', 'A', 'F', 'G'), ('D', 'C', 'B', 'E', 'A', 'G', 'F'), ('D', 'C', 'B', 'E', 'F', 'A', 'G'), ('D', 'C', 'B', 'E', 'F', 'G', 'A'), ('D', 'C', 'B', 'E', 'G', 'A', 'F'), ('D', 'C', 'B', 'E', 'G', 'F', 'A'), ('D', 'C', 'B', 'F', 'A', 'E', 'G'), ('D', 'C', 'B', 'F', 'A', 'G', 'E'), ('D', 'C', 'B', 'F', 'E', 'A', 'G'), ('D', 'C', 'B', 'F', 'E', 'G', 'A'), ('D', 'C', 'B', 'F', 'G', 'A', 'E'), ('D', 'C', 'B', 'F', 'G', 'E', 'A'), ('D', 'C', 'B', 'G', 'A', 'E', 'F'), ('D', 'C', 'B', 'G', 'A', 'F', 'E'), ('D', 'C', 'B', 'G', 'E', 'A', 'F'), ('D', 'C', 'B', 'G', 'E', 'F', 'A'), ('D', 'C', 'B', 'G', 'F', 'A', 'E'), ('D', 'C', 'B', 'G', 'F', 'E', 'A'), ('D', 'C', 'E', 'A', 'B', 'F', 'G'), ('D', 'C', 'E', 'A', 'B', 'G', 'F'), ('D', 'C', 'E', 'A', 'F', 'B', 'G'), ('D', 'C', 'E', 'A', 'F', 'G', 'B'), ('D', 'C', 'E', 'A', 'G', 'B', 'F'), ('D', 'C', 'E', 'A', 'G', 'F', 'B'), ('D', 'C', 'E', 'B', 'A', 'F', 'G'), ('D', 'C', 'E', 'B', 'A', 'G', 'F'), ('D', 'C', 'E', 'B', 'F', 'A', 'G'), ('D', 'C', 'E', 'B', 'F', 'G', 'A'), ('D', 'C', 'E', 'B', 'G', 'A', 'F'), ('D', 'C', 'E', 'B', 'G', 'F', 'A'), ('D', 'C', 'E', 'F', 'A', 'B', 'G'), ('D', 'C', 'E', 'F', 'A', 'G', 'B'), ('D', 'C', 'E', 'F', 'B', 'A', 'G'), ('D', 'C', 'E', 'F', 'B', 'G', 'A'), ('D', 'C', 'E', 'F', 'G', 'A', 'B'), ('D', 'C', 'E', 'F', 'G', 'B', 'A'), ('D', 'C', 'E', 'G', 'A', 'B', 'F'), ('D', 'C', 'E', 'G', 'A', 'F', 'B'), ('D', 'C', 'E', 'G', 'B', 'A', 'F'), ('D', 'C', 'E', 'G', 'B', 'F', 'A'), ('D', 'C', 'E', 'G', 'F', 'A', 'B'), ('D', 'C', 'E', 'G', 'F', 'B', 'A'), ('D', 'C', 'F', 'A', 'B', 'E', 'G'), ('D', 'C', 'F', 'A', 'B', 'G', 'E'), ('D', 'C', 'F', 'A', 'E', 'B', 'G'), ('D', 'C', 'F', 'A', 'E', 'G', 'B'), ('D', 'C', 'F', 'A', 'G', 'B', 'E'), ('D', 'C', 'F', 'A', 'G', 'E', 'B'), ('D', 'C', 'F', 'B', 'A', 'E', 'G'), ('D', 'C', 'F', 'B', 'A', 'G', 'E'), ('D', 'C', 'F', 'B', 'E', 'A', 'G'), ('D', 'C', 'F', 'B', 'E', 'G', 'A'), ('D', 'C', 'F', 'B', 'G', 'A', 'E'), ('D', 'C', 'F', 'B', 'G', 'E', 'A'), ('D', 'C', 'F', 'E', 'A', 'B', 'G'), ('D', 'C', 'F', 'E', 'A', 'G', 'B'), ('D', 'C', 'F', 'E', 'B', 'A', 'G'), ('D', 'C', 'F', 'E', 'B', 'G', 'A'), ('D', 'C', 'F', 'E', 'G', 'A', 'B'), ('D', 'C', 'F', 'E', 'G', 'B', 'A'), ('D', 'C', 'F', 'G', 'A', 'B', 'E'), ('D', 'C', 'F', 'G', 'A', 'E', 'B'), ('D', 'C', 'F', 'G', 'B', 'A', 'E'), ('D', 'C', 'F', 'G', 'B', 'E', 'A'), ('D', 'C', 'F', 'G', 'E', 'A', 'B'), ('D', 'C', 'F', 'G', 'E', 'B', 'A'), ('D', 'C', 'G', 'A', 'B', 'E', 'F'), ('D', 'C', 'G', 'A', 'B', 'F', 'E'), ('D', 'C', 'G', 'A', 'E', 'B', 'F'), ('D', 'C', 'G', 'A', 'E', 'F', 'B'), ('D', 'C', 'G', 'A', 'F', 'B', 'E'), ('D', 'C', 'G', 'A', 'F', 'E', 'B'), ('D', 'C', 'G', 'B', 'A', 'E', 'F'), ('D', 'C', 'G', 'B', 'A', 'F', 'E'), ('D', 'C', 'G', 'B', 'E', 'A', 'F'), ('D', 'C', 'G', 'B', 'E', 'F', 'A'), ('D', 'C', 'G', 'B', 'F', 'A', 'E'), ('D', 'C', 'G', 'B', 'F', 'E', 'A'), ('D', 'C', 'G', 'E', 'A', 'B', 'F'), ('D', 'C', 'G', 'E', 'A', 'F', 'B'), ('D', 'C', 'G', 'E', 'B', 'A', 'F'), ('D', 'C', 'G', 'E', 'B', 'F', 'A'), ('D', 'C', 'G', 'E', 'F', 'A', 'B'), ('D', 'C', 'G', 'E', 'F', 'B', 'A'), ('D', 'C', 'G', 'F', 'A', 'B', 'E'), ('D', 'C', 'G', 'F', 'A', 'E', 'B'), ('D', 'C', 'G', 'F', 'B', 'A', 'E'), ('D', 'C', 'G', 'F', 'B', 'E', 'A'), ('D', 'C', 'G', 'F', 'E', 'A', 'B'), ('D', 'C', 'G', 'F', 'E', 'B', 'A'), ('D', 'E', 'A', 'B', 'C', 'F', 'G'), ('D', 'E', 'A', 'B', 'C', 'G', 'F'), ('D', 'E', 'A', 'B', 'F', 'C', 'G'), ('D', 'E', 'A', 'B', 'F', 'G', 'C'), ('D', 'E', 'A', 'B', 'G', 'C', 'F'), ('D', 'E', 'A', 'B', 'G', 'F', 'C'), ('D', 'E', 'A', 'C', 'B', 'F', 'G'), ('D', 'E', 'A', 'C', 'B', 'G', 'F'), ('D', 'E', 'A', 'C', 'F', 'B', 'G'), ('D', 'E', 'A', 'C', 'F', 'G', 'B'), ('D', 'E', 'A', 'C', 'G', 'B', 'F'), ('D', 'E', 'A', 'C', 'G', 'F', 'B'), ('D', 'E', 'A', 'F', 'B', 'C', 'G'), ('D', 'E', 'A', 'F', 'B', 'G', 'C'), ('D', 'E', 'A', 'F', 'C', 'B', 'G'), ('D', 'E', 'A', 'F', 'C', 'G', 'B'), ('D', 'E', 'A', 'F', 'G', 'B', 'C'), ('D', 'E', 'A', 'F', 'G', 'C', 'B'), ('D', 'E', 'A', 'G', 'B', 'C', 'F'), ('D', 'E', 'A', 'G', 'B', 'F', 'C'), ('D', 'E', 'A', 'G', 'C', 'B', 'F'), ('D', 'E', 'A', 'G', 'C', 'F', 'B'), ('D', 'E', 'A', 'G', 'F', 'B', 'C'), ('D', 'E', 'A', 'G', 'F', 'C', 'B'), ('D', 'E', 'B', 'A', 'C', 'F', 'G'), ('D', 'E', 'B', 'A', 'C', 'G', 'F'), ('D', 'E', 'B', 'A', 'F', 'C', 'G'), ('D', 'E', 'B', 'A', 'F', 'G', 'C'), ('D', 'E', 'B', 'A', 'G', 'C', 'F'), ('D', 'E', 'B', 'A', 'G', 'F', 'C'), ('D', 'E', 'B', 'C', 'A', 'F', 'G'), ('D', 'E', 'B', 'C', 'A', 'G', 'F'), ('D', 'E', 'B', 'C', 'F', 'A', 'G'), ('D', 'E', 'B', 'C', 'F', 'G', 'A'), ('D', 'E', 'B', 'C', 'G', 'A', 'F'), ('D', 'E', 'B', 'C', 'G', 'F', 'A'), ('D', 'E', 'B', 'F', 'A', 'C', 'G'), ('D', 'E', 'B', 'F', 'A', 'G', 'C'), ('D', 'E', 'B', 'F', 'C', 'A', 'G'), ('D', 'E', 'B', 'F', 'C', 'G', 'A'), ('D', 'E', 'B', 'F', 'G', 'A', 'C'), ('D', 'E', 'B', 'F', 'G', 'C', 'A'), ('D', 'E', 'B', 'G', 'A', 'C', 'F'), ('D', 'E', 'B', 'G', 'A', 'F', 'C'), ('D', 'E', 'B', 'G', 'C', 'A', 'F'), ('D', 'E', 'B', 'G', 'C', 'F', 'A'), ('D', 'E', 'B', 'G', 'F', 'A', 'C'), ('D', 'E', 'B', 'G', 'F', 'C', 'A'), ('D', 'E', 'C', 'A', 'B', 'F', 'G'), ('D', 'E', 'C', 'A', 'B', 'G', 'F'), ('D', 'E', 'C', 'A', 'F', 'B', 'G'), ('D', 'E', 'C', 'A', 'F', 'G', 'B'), ('D', 'E', 'C', 'A', 'G', 'B', 'F'), ('D', 'E', 'C', 'A', 'G', 'F', 'B'), ('D', 'E', 'C', 'B', 'A', 'F', 'G'), ('D', 'E', 'C', 'B', 'A', 'G', 'F'), ('D', 'E', 'C', 'B', 'F', 'A', 'G'), ('D', 'E', 'C', 'B', 'F', 'G', 'A'), ('D', 'E', 'C', 'B', 'G', 'A', 'F'), ('D', 'E', 'C', 'B', 'G', 'F', 'A'), ('D', 'E', 'C', 'F', 'A', 'B', 'G'), ('D', 'E', 'C', 'F', 'A', 'G', 'B'), ('D', 'E', 'C', 'F', 'B', 'A', 'G'), ('D', 'E', 'C', 'F', 'B', 'G', 'A'), ('D', 'E', 'C', 'F', 'G', 'A', 'B'), ('D', 'E', 'C', 'F', 'G', 'B', 'A'), ('D', 'E', 'C', 'G', 'A', 'B', 'F'), ('D', 'E', 'C', 'G', 'A', 'F', 'B'), ('D', 'E', 'C', 'G', 'B', 'A', 'F'), ('D', 'E', 'C', 'G', 'B', 'F', 'A'), ('D', 'E', 'C', 'G', 'F', 'A', 'B'), ('D', 'E', 'C', 'G', 'F', 'B', 'A'), ('D', 'E', 'F', 'A', 'B', 'C', 'G'), ('D', 'E', 'F', 'A', 'B', 'G', 'C'), ('D', 'E', 'F', 'A', 'C', 'B', 'G'), ('D', 'E', 'F', 'A', 'C', 'G', 'B'), ('D', 'E', 'F', 'A', 'G', 'B', 'C'), ('D', 'E', 'F', 'A', 'G', 'C', 'B'), ('D', 'E', 'F', 'B', 'A', 'C', 'G'), ('D', 'E', 'F', 'B', 'A', 'G', 'C'), ('D', 'E', 'F', 'B', 'C', 'A', 'G'), ('D', 'E', 'F', 'B', 'C', 'G', 'A'), ('D', 'E', 'F', 'B', 'G', 'A', 'C'), ('D', 'E', 'F', 'B', 'G', 'C', 'A'), ('D', 'E', 'F', 'C', 'A', 'B', 'G'), ('D', 'E', 'F', 'C', 'A', 'G', 'B'), ('D', 'E', 'F', 'C', 'B', 'A', 'G'), ('D', 'E', 'F', 'C', 'B', 'G', 'A'), ('D', 'E', 'F', 'C', 'G', 'A', 'B'), ('D', 'E', 'F', 'C', 'G', 'B', 'A'), ('D', 'E', 'F', 'G', 'A', 'B', 'C'), ('D', 'E', 'F', 'G', 'A', 'C', 'B'), ('D', 'E', 'F', 'G', 'B', 'A', 'C'), ('D', 'E', 'F', 'G', 'B', 'C', 'A'), ('D', 'E', 'F', 'G', 'C', 'A', 'B'), ('D', 'E', 'F', 'G', 'C', 'B', 'A'), ('D', 'E', 'G', 'A', 'B', 'C', 'F'), ('D', 'E', 'G', 'A', 'B', 'F', 'C'), ('D', 'E', 'G', 'A', 'C', 'B', 'F'), ('D', 'E', 'G', 'A', 'C', 'F', 'B'), ('D', 'E', 'G', 'A', 'F', 'B', 'C'), ('D', 'E', 'G', 'A', 'F', 'C', 'B'), ('D', 'E', 'G', 'B', 'A', 'C', 'F'), ('D', 'E', 'G', 'B', 'A', 'F', 'C'), ('D', 'E', 'G', 'B', 'C', 'A', 'F'), ('D', 'E', 'G', 'B', 'C', 'F', 'A'), ('D', 'E', 'G', 'B', 'F', 'A', 'C'), ('D', 'E', 'G', 'B', 'F', 'C', 'A'), ('D', 'E', 'G', 'C', 'A', 'B', 'F'), ('D', 'E', 'G', 'C', 'A', 'F', 'B'), ('D', 'E', 'G', 'C', 'B', 'A', 'F'), ('D', 'E', 'G', 'C', 'B', 'F', 'A'), ('D', 'E', 'G', 'C', 'F', 'A', 'B'), ('D', 'E', 'G', 'C', 'F', 'B', 'A'), ('D', 'E', 'G', 'F', 'A', 'B', 'C'), ('D', 'E', 'G', 'F', 'A', 'C', 'B'), ('D', 'E', 'G', 'F', 'B', 'A', 'C'), ('D', 'E', 'G', 'F', 'B', 'C', 'A'), ('D', 'E', 'G', 'F', 'C', 'A', 'B'), ('D', 'E', 'G', 'F', 'C', 'B', 'A'), ('D', 'F', 'A', 'B', 'C', 'E', 'G'), ('D', 'F', 'A', 'B', 'C', 'G', 'E'), ('D', 'F', 'A', 'B', 'E', 'C', 'G'), ('D', 'F', 'A', 'B', 'E', 'G', 'C'), ('D', 'F', 'A', 'B', 'G', 'C', 'E'), ('D', 'F', 'A', 'B', 'G', 'E', 'C'), ('D', 'F', 'A', 'C', 'B', 'E', 'G'), ('D', 'F', 'A', 'C', 'B', 'G', 'E'), ('D', 'F', 'A', 'C', 'E', 'B', 'G'), ('D', 'F', 'A', 'C', 'E', 'G', 'B'), ('D', 'F', 'A', 'C', 'G', 'B', 'E'), ('D', 'F', 'A', 'C', 'G', 'E', 'B'), ('D', 'F', 'A', 'E', 'B', 'C', 'G'), ('D', 'F', 'A', 'E', 'B', 'G', 'C'), ('D', 'F', 'A', 'E', 'C', 'B', 'G'), ('D', 'F', 'A', 'E', 'C', 'G', 'B'), ('D', 'F', 'A', 'E', 'G', 'B', 'C'), ('D', 'F', 'A', 'E', 'G', 'C', 'B'), ('D', 'F', 'A', 'G', 'B', 'C', 'E'), ('D', 'F', 'A', 'G', 'B', 'E', 'C'), ('D', 'F', 'A', 'G', 'C', 'B', 'E'), ('D', 'F', 'A', 'G', 'C', 'E', 'B'), ('D', 'F', 'A', 'G', 'E', 'B', 'C'), ('D', 'F', 'A', 'G', 'E', 'C', 'B'), ('D', 'F', 'B', 'A', 'C', 'E', 'G'), ('D', 'F', 'B', 'A', 'C', 'G', 'E'), ('D', 'F', 'B', 'A', 'E', 'C', 'G'), ('D', 'F', 'B', 'A', 'E', 'G', 'C'), ('D', 'F', 'B', 'A', 'G', 'C', 'E'), ('D', 'F', 'B', 'A', 'G', 'E', 'C'), ('D', 'F', 'B', 'C', 'A', 'E', 'G'), ('D', 'F', 'B', 'C', 'A', 'G', 'E'), ('D', 'F', 'B', 'C', 'E', 'A', 'G'), ('D', 'F', 'B', 'C', 'E', 'G', 'A'), ('D', 'F', 'B', 'C', 'G', 'A', 'E'), ('D', 'F', 'B', 'C', 'G', 'E', 'A'), ('D', 'F', 'B', 'E', 'A', 'C', 'G'), ('D', 'F', 'B', 'E', 'A', 'G', 'C'), ('D', 'F', 'B', 'E', 'C', 'A', 'G'), ('D', 'F', 'B', 'E', 'C', 'G', 'A'), ('D', 'F', 'B', 'E', 'G', 'A', 'C'), ('D', 'F', 'B', 'E', 'G', 'C', 'A'), ('D', 'F', 'B', 'G', 'A', 'C', 'E'), ('D', 'F', 'B', 'G', 'A', 'E', 'C'), ('D', 'F', 'B', 'G', 'C', 'A', 'E'), ('D', 'F', 'B', 'G', 'C', 'E', 'A'), ('D', 'F', 'B', 'G', 'E', 'A', 'C'), ('D', 'F', 'B', 'G', 'E', 'C', 'A'), ('D', 'F', 'C', 'A', 'B', 'E', 'G'), ('D', 'F', 'C', 'A', 'B', 'G', 'E'), ('D', 'F', 'C', 'A', 'E', 'B', 'G'), ('D', 'F', 'C', 'A', 'E', 'G', 'B'), ('D', 'F', 'C', 'A', 'G', 'B', 'E'), ('D', 'F', 'C', 'A', 'G', 'E', 'B'), ('D', 'F', 'C', 'B', 'A', 'E', 'G'), ('D', 'F', 'C', 'B', 'A', 'G', 'E'), ('D', 'F', 'C', 'B', 'E', 'A', 'G'), ('D', 'F', 'C', 'B', 'E', 'G', 'A'), ('D', 'F', 'C', 'B', 'G', 'A', 'E'), ('D', 'F', 'C', 'B', 'G', 'E', 'A'), ('D', 'F', 'C', 'E', 'A', 'B', 'G'), ('D', 'F', 'C', 'E', 'A', 'G', 'B'), ('D', 'F', 'C', 'E', 'B', 'A', 'G'), ('D', 'F', 'C', 'E', 'B', 'G', 'A'), ('D', 'F', 'C', 'E', 'G', 'A', 'B'), ('D', 'F', 'C', 'E', 'G', 'B', 'A'), ('D', 'F', 'C', 'G', 'A', 'B', 'E'), ('D', 'F', 'C', 'G', 'A', 'E', 'B'), ('D', 'F', 'C', 'G', 'B', 'A', 'E'), ('D', 'F', 'C', 'G', 'B', 'E', 'A'), ('D', 'F', 'C', 'G', 'E', 'A', 'B'), ('D', 'F', 'C', 'G', 'E', 'B', 'A'), ('D', 'F', 'E', 'A', 'B', 'C', 'G'), ('D', 'F', 'E', 'A', 'B', 'G', 'C'), ('D', 'F', 'E', 'A', 'C', 'B', 'G'), ('D', 'F', 'E', 'A', 'C', 'G', 'B'), ('D', 'F', 'E', 'A', 'G', 'B', 'C'), ('D', 'F', 'E', 'A', 'G', 'C', 'B'), ('D', 'F', 'E', 'B', 'A', 'C', 'G'), ('D', 'F', 'E', 'B', 'A', 'G', 'C'), ('D', 'F', 'E', 'B', 'C', 'A', 'G'), ('D', 'F', 'E', 'B', 'C', 'G', 'A'), ('D', 'F', 'E', 'B', 'G', 'A', 'C'), ('D', 'F', 'E', 'B', 'G', 'C', 'A'), ('D', 'F', 'E', 'C', 'A', 'B', 'G'), ('D', 'F', 'E', 'C', 'A', 'G', 'B'), ('D', 'F', 'E', 'C', 'B', 'A', 'G'), ('D', 'F', 'E', 'C', 'B', 'G', 'A'), ('D', 'F', 'E', 'C', 'G', 'A', 'B'), ('D', 'F', 'E', 'C', 'G', 'B', 'A'), ('D', 'F', 'E', 'G', 'A', 'B', 'C'), ('D', 'F', 'E', 'G', 'A', 'C', 'B'), ('D', 'F', 'E', 'G', 'B', 'A', 'C'), ('D', 'F', 'E', 'G', 'B', 'C', 'A'), ('D', 'F', 'E', 'G', 'C', 'A', 'B'), ('D', 'F', 'E', 'G', 'C', 'B', 'A'), ('D', 'F', 'G', 'A', 'B', 'C', 'E'), ('D', 'F', 'G', 'A', 'B', 'E', 'C'), ('D', 'F', 'G', 'A', 'C', 'B', 'E'), ('D', 'F', 'G', 'A', 'C', 'E', 'B'), ('D', 'F', 'G', 'A', 'E', 'B', 'C'), ('D', 'F', 'G', 'A', 'E', 'C', 'B'), ('D', 'F', 'G', 'B', 'A', 'C', 'E'), ('D', 'F', 'G', 'B', 'A', 'E', 'C'), ('D', 'F', 'G', 'B', 'C', 'A', 'E'), ('D', 'F', 'G', 'B', 'C', 'E', 'A'), ('D', 'F', 'G', 'B', 'E', 'A', 'C'), ('D', 'F', 'G', 'B', 'E', 'C', 'A'), ('D', 'F', 'G', 'C', 'A', 'B', 'E'), ('D', 'F', 'G', 'C', 'A', 'E', 'B'), ('D', 'F', 'G', 'C', 'B', 'A', 'E'), ('D', 'F', 'G', 'C', 'B', 'E', 'A'), ('D', 'F', 'G', 'C', 'E', 'A', 'B'), ('D', 'F', 'G', 'C', 'E', 'B', 'A'), ('D', 'F', 'G', 'E', 'A', 'B', 'C'), ('D', 'F', 'G', 'E', 'A', 'C', 'B'), ('D', 'F', 'G', 'E', 'B', 'A', 'C'), ('D', 'F', 'G', 'E', 'B', 'C', 'A'), ('D', 'F', 'G', 'E', 'C', 'A', 'B'), ('D', 'F', 'G', 'E', 'C', 'B', 'A'), ('D', 'G', 'A', 'B', 'C', 'E', 'F'), ('D', 'G', 'A', 'B', 'C', 'F', 'E'), ('D', 'G', 'A', 'B', 'E', 'C', 'F'), ('D', 'G', 'A', 'B', 'E', 'F', 'C'), ('D', 'G', 'A', 'B', 'F', 'C', 'E'), ('D', 'G', 'A', 'B', 'F', 'E', 'C'), ('D', 'G', 'A', 'C', 'B', 'E', 'F'), ('D', 'G', 'A', 'C', 'B', 'F', 'E'), ('D', 'G', 'A', 'C', 'E', 'B', 'F'), ('D', 'G', 'A', 'C', 'E', 'F', 'B'), ('D', 'G', 'A', 'C', 'F', 'B', 'E'), ('D', 'G', 'A', 'C', 'F', 'E', 'B'), ('D', 'G', 'A', 'E', 'B', 'C', 'F'), ('D', 'G', 'A', 'E', 'B', 'F', 'C'), ('D', 'G', 'A', 'E', 'C', 'B', 'F'), ('D', 'G', 'A', 'E', 'C', 'F', 'B'), ('D', 'G', 'A', 'E', 'F', 'B', 'C'), ('D', 'G', 'A', 'E', 'F', 'C', 'B'), ('D', 'G', 'A', 'F', 'B', 'C', 'E'), ('D', 'G', 'A', 'F', 'B', 'E', 'C'), ('D', 'G', 'A', 'F', 'C', 'B', 'E'), ('D', 'G', 'A', 'F', 'C', 'E', 'B'), ('D', 'G', 'A', 'F', 'E', 'B', 'C'), ('D', 'G', 'A', 'F', 'E', 'C', 'B'), ('D', 'G', 'B', 'A', 'C', 'E', 'F'), ('D', 'G', 'B', 'A', 'C', 'F', 'E'), ('D', 'G', 'B', 'A', 'E', 'C', 'F'), ('D', 'G', 'B', 'A', 'E', 'F', 'C'), ('D', 'G', 'B', 'A', 'F', 'C', 'E'), ('D', 'G', 'B', 'A', 'F', 'E', 'C'), ('D', 'G', 'B', 'C', 'A', 'E', 'F'), ('D', 'G', 'B', 'C', 'A', 'F', 'E'), ('D', 'G', 'B', 'C', 'E', 'A', 'F'), ('D', 'G', 'B', 'C', 'E', 'F', 'A'), ('D', 'G', 'B', 'C', 'F', 'A', 'E'), ('D', 'G', 'B', 'C', 'F', 'E', 'A'), ('D', 'G', 'B', 'E', 'A', 'C', 'F'), ('D', 'G', 'B', 'E', 'A', 'F', 'C'), ('D', 'G', 'B', 'E', 'C', 'A', 'F'), ('D', 'G', 'B', 'E', 'C', 'F', 'A'), ('D', 'G', 'B', 'E', 'F', 'A', 'C'), ('D', 'G', 'B', 'E', 'F', 'C', 'A'), ('D', 'G', 'B', 'F', 'A', 'C', 'E'), ('D', 'G', 'B', 'F', 'A', 'E', 'C'), ('D', 'G', 'B', 'F', 'C', 'A', 'E'), ('D', 'G', 'B', 'F', 'C', 'E', 'A'), ('D', 'G', 'B', 'F', 'E', 'A', 'C'), ('D', 'G', 'B', 'F', 'E', 'C', 'A'), ('D', 'G', 'C', 'A', 'B', 'E', 'F'), ('D', 'G', 'C', 'A', 'B', 'F', 'E'), ('D', 'G', 'C', 'A', 'E', 'B', 'F'), ('D', 'G', 'C', 'A', 'E', 'F', 'B'), ('D', 'G', 'C', 'A', 'F', 'B', 'E'), ('D', 'G', 'C', 'A', 'F', 'E', 'B'), ('D', 'G', 'C', 'B', 'A', 'E', 'F'), ('D', 'G', 'C', 'B', 'A', 'F', 'E'), ('D', 'G', 'C', 'B', 'E', 'A', 'F'), ('D', 'G', 'C', 'B', 'E', 'F', 'A'), ('D', 'G', 'C', 'B', 'F', 'A', 'E'), ('D', 'G', 'C', 'B', 'F', 'E', 'A'), ('D', 'G', 'C', 'E', 'A', 'B', 'F'), ('D', 'G', 'C', 'E', 'A', 'F', 'B'), ('D', 'G', 'C', 'E', 'B', 'A', 'F'), ('D', 'G', 'C', 'E', 'B', 'F', 'A'), ('D', 'G', 'C', 'E', 'F', 'A', 'B'), ('D', 'G', 'C', 'E', 'F', 'B', 'A'), ('D', 'G', 'C', 'F', 'A', 'B', 'E'), ('D', 'G', 'C', 'F', 'A', 'E', 'B'), ('D', 'G', 'C', 'F', 'B', 'A', 'E'), ('D', 'G', 'C', 'F', 'B', 'E', 'A'), ('D', 'G', 'C', 'F', 'E', 'A', 'B'), ('D', 'G', 'C', 'F', 'E', 'B', 'A'), ('D', 'G', 'E', 'A', 'B', 'C', 'F'), ('D', 'G', 'E', 'A', 'B', 'F', 'C'), ('D', 'G', 'E', 'A', 'C', 'B', 'F'), ('D', 'G', 'E', 'A', 'C', 'F', 'B'), ('D', 'G', 'E', 'A', 'F', 'B', 'C'), ('D', 'G', 'E', 'A', 'F', 'C', 'B'), ('D', 'G', 'E', 'B', 'A', 'C', 'F'), ('D', 'G', 'E', 'B', 'A', 'F', 'C'), ('D', 'G', 'E', 'B', 'C', 'A', 'F'), ('D', 'G', 'E', 'B', 'C', 'F', 'A'), ('D', 'G', 'E', 'B', 'F', 'A', 'C'), ('D', 'G', 'E', 'B', 'F', 'C', 'A'), ('D', 'G', 'E', 'C', 'A', 'B', 'F'), ('D', 'G', 'E', 'C', 'A', 'F', 'B'), ('D', 'G', 'E', 'C', 'B', 'A', 'F'), ('D', 'G', 'E', 'C', 'B', 'F', 'A'), ('D', 'G', 'E', 'C', 'F', 'A', 'B'), ('D', 'G', 'E', 'C', 'F', 'B', 'A'), ('D', 'G', 'E', 'F', 'A', 'B', 'C'), ('D', 'G', 'E', 'F', 'A', 'C', 'B'), ('D', 'G', 'E', 'F', 'B', 'A', 'C'), ('D', 'G', 'E', 'F', 'B', 'C', 'A'), ('D', 'G', 'E', 'F', 'C', 'A', 'B'), ('D', 'G', 'E', 'F', 'C', 'B', 'A'), ('D', 'G', 'F', 'A', 'B', 'C', 'E'), ('D', 'G', 'F', 'A', 'B', 'E', 'C'), ('D', 'G', 'F', 'A', 'C', 'B', 'E'), ('D', 'G', 'F', 'A', 'C', 'E', 'B'), ('D', 'G', 'F', 'A', 'E', 'B', 'C'), ('D', 'G', 'F', 'A', 'E', 'C', 'B'), ('D', 'G', 'F', 'B', 'A', 'C', 'E'), ('D', 'G', 'F', 'B', 'A', 'E', 'C'), ('D', 'G', 'F', 'B', 'C', 'A', 'E'), ('D', 'G', 'F', 'B', 'C', 'E', 'A'), ('D', 'G', 'F', 'B', 'E', 'A', 'C'), ('D', 'G', 'F', 'B', 'E', 'C', 'A'), ('D', 'G', 'F', 'C', 'A', 'B', 'E'), ('D', 'G', 'F', 'C', 'A', 'E', 'B'), ('D', 'G', 'F', 'C', 'B', 'A', 'E'), ('D', 'G', 'F', 'C', 'B', 'E', 'A'), ('D', 'G', 'F', 'C', 'E', 'A', 'B'), ('D', 'G', 'F', 'C', 'E', 'B', 'A'), ('D', 'G', 'F', 'E', 'A', 'B', 'C'), ('D', 'G', 'F', 'E', 'A', 'C', 'B'), ('D', 'G', 'F', 'E', 'B', 'A', 'C'), ('D', 'G', 'F', 'E', 'B', 'C', 'A'), ('D', 'G', 'F', 'E', 'C', 'A', 'B'), ('D', 'G', 'F', 'E', 'C', 'B', 'A'), ('E', 'A', 'B', 'C', 'D', 'F', 'G'), ('E', 'A', 'B', 'C', 'D', 'G', 'F'), ('E', 'A', 'B', 'C', 'F', 'D', 'G'), ('E', 'A', 'B', 'C', 'F', 'G', 'D'), ('E', 'A', 'B', 'C', 'G', 'D', 'F'), ('E', 'A', 'B', 'C', 'G', 'F', 'D'), ('E', 'A', 'B', 'D', 'C', 'F', 'G'), ('E', 'A', 'B', 'D', 'C', 'G', 'F'), ('E', 'A', 'B', 'D', 'F', 'C', 'G'), ('E', 'A', 'B', 'D', 'F', 'G', 'C'), ('E', 'A', 'B', 'D', 'G', 'C', 'F'), ('E', 'A', 'B', 'D', 'G', 'F', 'C'), ('E', 'A', 'B', 'F', 'C', 'D', 'G'), ('E', 'A', 'B', 'F', 'C', 'G', 'D'), ('E', 'A', 'B', 'F', 'D', 'C', 'G'), ('E', 'A', 'B', 'F', 'D', 'G', 'C'), ('E', 'A', 'B', 'F', 'G', 'C', 'D'), ('E', 'A', 'B', 'F', 'G', 'D', 'C'), ('E', 'A', 'B', 'G', 'C', 'D', 'F'), ('E', 'A', 'B', 'G', 'C', 'F', 'D'), ('E', 'A', 'B', 'G', 'D', 'C', 'F'), ('E', 'A', 'B', 'G', 'D', 'F', 'C'), ('E', 'A', 'B', 'G', 'F', 'C', 'D'), ('E', 'A', 'B', 'G', 'F', 'D', 'C'), ('E', 'A', 'C', 'B', 'D', 'F', 'G'), ('E', 'A', 'C', 'B', 'D', 'G', 'F'), ('E', 'A', 'C', 'B', 'F', 'D', 'G'), ('E', 'A', 'C', 'B', 'F', 'G', 'D'), ('E', 'A', 'C', 'B', 'G', 'D', 'F'), ('E', 'A', 'C', 'B', 'G', 'F', 'D'), ('E', 'A', 'C', 'D', 'B', 'F', 'G'), ('E', 'A', 'C', 'D', 'B', 'G', 'F'), ('E', 'A', 'C', 'D', 'F', 'B', 'G'), ('E', 'A', 'C', 'D', 'F', 'G', 'B'), ('E', 'A', 'C', 'D', 'G', 'B', 'F'), ('E', 'A', 'C', 'D', 'G', 'F', 'B'), ('E', 'A', 'C', 'F', 'B', 'D', 'G'), ('E', 'A', 'C', 'F', 'B', 'G', 'D'), ('E', 'A', 'C', 'F', 'D', 'B', 'G'), ('E', 'A', 'C', 'F', 'D', 'G', 'B'), ('E', 'A', 'C', 'F', 'G', 'B', 'D'), ('E', 'A', 'C', 'F', 'G', 'D', 'B'), ('E', 'A', 'C', 'G', 'B', 'D', 'F'), ('E', 'A', 'C', 'G', 'B', 'F', 'D'), ('E', 'A', 'C', 'G', 'D', 'B', 'F'), ('E', 'A', 'C', 'G', 'D', 'F', 'B'), ('E', 'A', 'C', 'G', 'F', 'B', 'D'), ('E', 'A', 'C', 'G', 'F', 'D', 'B'), ('E', 'A', 'D', 'B', 'C', 'F', 'G'), ('E', 'A', 'D', 'B', 'C', 'G', 'F'), ('E', 'A', 'D', 'B', 'F', 'C', 'G'), ('E', 'A', 'D', 'B', 'F', 'G', 'C'), ('E', 'A', 'D', 'B', 'G', 'C', 'F'), ('E', 'A', 'D', 'B', 'G', 'F', 'C'), ('E', 'A', 'D', 'C', 'B', 'F', 'G'), ('E', 'A', 'D', 'C', 'B', 'G', 'F'), ('E', 'A', 'D', 'C', 'F', 'B', 'G'), ('E', 'A', 'D', 'C', 'F', 'G', 'B'), ('E', 'A', 'D', 'C', 'G', 'B', 'F'), ('E', 'A', 'D', 'C', 'G', 'F', 'B'), ('E', 'A', 'D', 'F', 'B', 'C', 'G'), ('E', 'A', 'D', 'F', 'B', 'G', 'C'), ('E', 'A', 'D', 'F', 'C', 'B', 'G'), ('E', 'A', 'D', 'F', 'C', 'G', 'B'), ('E', 'A', 'D', 'F', 'G', 'B', 'C'), ('E', 'A', 'D', 'F', 'G', 'C', 'B'), ('E', 'A', 'D', 'G', 'B', 'C', 'F'), ('E', 'A', 'D', 'G', 'B', 'F', 'C'), ('E', 'A', 'D', 'G', 'C', 'B', 'F'), ('E', 'A', 'D', 'G', 'C', 'F', 'B'), ('E', 'A', 'D', 'G', 'F', 'B', 'C'), ('E', 'A', 'D', 'G', 'F', 'C', 'B'), ('E', 'A', 'F', 'B', 'C', 'D', 'G'), ('E', 'A', 'F', 'B', 'C', 'G', 'D'), ('E', 'A', 'F', 'B', 'D', 'C', 'G'), ('E', 'A', 'F', 'B', 'D', 'G', 'C'), ('E', 'A', 'F', 'B', 'G', 'C', 'D'), ('E', 'A', 'F', 'B', 'G', 'D', 'C'), ('E', 'A', 'F', 'C', 'B', 'D', 'G'), ('E', 'A', 'F', 'C', 'B', 'G', 'D'), ('E', 'A', 'F', 'C', 'D', 'B', 'G'), ('E', 'A', 'F', 'C', 'D', 'G', 'B'), ('E', 'A', 'F', 'C', 'G', 'B', 'D'), ('E', 'A', 'F', 'C', 'G', 'D', 'B'), ('E', 'A', 'F', 'D', 'B', 'C', 'G'), ('E', 'A', 'F', 'D', 'B', 'G', 'C'), ('E', 'A', 'F', 'D', 'C', 'B', 'G'), ('E', 'A', 'F', 'D', 'C', 'G', 'B'), ('E', 'A', 'F', 'D', 'G', 'B', 'C'), ('E', 'A', 'F', 'D', 'G', 'C', 'B'), ('E', 'A', 'F', 'G', 'B', 'C', 'D'), ('E', 'A', 'F', 'G', 'B', 'D', 'C'), ('E', 'A', 'F', 'G', 'C', 'B', 'D'), ('E', 'A', 'F', 'G', 'C', 'D', 'B'), ('E', 'A', 'F', 'G', 'D', 'B', 'C'), ('E', 'A', 'F', 'G', 'D', 'C', 'B'), ('E', 'A', 'G', 'B', 'C', 'D', 'F'), ('E', 'A', 'G', 'B', 'C', 'F', 'D'), ('E', 'A', 'G', 'B', 'D', 'C', 'F'), ('E', 'A', 'G', 'B', 'D', 'F', 'C'), ('E', 'A', 'G', 'B', 'F', 'C', 'D'), ('E', 'A', 'G', 'B', 'F', 'D', 'C'), ('E', 'A', 'G', 'C', 'B', 'D', 'F'), ('E', 'A', 'G', 'C', 'B', 'F', 'D'), ('E', 'A', 'G', 'C', 'D', 'B', 'F'), ('E', 'A', 'G', 'C', 'D', 'F', 'B'), ('E', 'A', 'G', 'C', 'F', 'B', 'D'), ('E', 'A', 'G', 'C', 'F', 'D', 'B'), ('E', 'A', 'G', 'D', 'B', 'C', 'F'), ('E', 'A', 'G', 'D', 'B', 'F', 'C'), ('E', 'A', 'G', 'D', 'C', 'B', 'F'), ('E', 'A', 'G', 'D', 'C', 'F', 'B'), ('E', 'A', 'G', 'D', 'F', 'B', 'C'), ('E', 'A', 'G', 'D', 'F', 'C', 'B'), ('E', 'A', 'G', 'F', 'B', 'C', 'D'), ('E', 'A', 'G', 'F', 'B', 'D', 'C'), ('E', 'A', 'G', 'F', 'C', 'B', 'D'), ('E', 'A', 'G', 'F', 'C', 'D', 'B'), ('E', 'A', 'G', 'F', 'D', 'B', 'C'), ('E', 'A', 'G', 'F', 'D', 'C', 'B'), ('E', 'B', 'A', 'C', 'D', 'F', 'G'), ('E', 'B', 'A', 'C', 'D', 'G', 'F'), ('E', 'B', 'A', 'C', 'F', 'D', 'G'), ('E', 'B', 'A', 'C', 'F', 'G', 'D'), ('E', 'B', 'A', 'C', 'G', 'D', 'F'), ('E', 'B', 'A', 'C', 'G', 'F', 'D'), ('E', 'B', 'A', 'D', 'C', 'F', 'G'), ('E', 'B', 'A', 'D', 'C', 'G', 'F'), ('E', 'B', 'A', 'D', 'F', 'C', 'G'), ('E', 'B', 'A', 'D', 'F', 'G', 'C'), ('E', 'B', 'A', 'D', 'G', 'C', 'F'), ('E', 'B', 'A', 'D', 'G', 'F', 'C'), ('E', 'B', 'A', 'F', 'C', 'D', 'G'), ('E', 'B', 'A', 'F', 'C', 'G', 'D'), ('E', 'B', 'A', 'F', 'D', 'C', 'G'), ('E', 'B', 'A', 'F', 'D', 'G', 'C'), ('E', 'B', 'A', 'F', 'G', 'C', 'D'), ('E', 'B', 'A', 'F', 'G', 'D', 'C'), ('E', 'B', 'A', 'G', 'C', 'D', 'F'), ('E', 'B', 'A', 'G', 'C', 'F', 'D'), ('E', 'B', 'A', 'G', 'D', 'C', 'F'), ('E', 'B', 'A', 'G', 'D', 'F', 'C'), ('E', 'B', 'A', 'G', 'F', 'C', 'D'), ('E', 'B', 'A', 'G', 'F', 'D', 'C'), ('E', 'B', 'C', 'A', 'D', 'F', 'G'), ('E', 'B', 'C', 'A', 'D', 'G', 'F'), ('E', 'B', 'C', 'A', 'F', 'D', 'G'), ('E', 'B', 'C', 'A', 'F', 'G', 'D'), ('E', 'B', 'C', 'A', 'G', 'D', 'F'), ('E', 'B', 'C', 'A', 'G', 'F', 'D'), ('E', 'B', 'C', 'D', 'A', 'F', 'G'), ('E', 'B', 'C', 'D', 'A', 'G', 'F'), ('E', 'B', 'C', 'D', 'F', 'A', 'G'), ('E', 'B', 'C', 'D', 'F', 'G', 'A'), ('E', 'B', 'C', 'D', 'G', 'A', 'F'), ('E', 'B', 'C', 'D', 'G', 'F', 'A'), ('E', 'B', 'C', 'F', 'A', 'D', 'G'), ('E', 'B', 'C', 'F', 'A', 'G', 'D'), ('E', 'B', 'C', 'F', 'D', 'A', 'G'), ('E', 'B', 'C', 'F', 'D', 'G', 'A'), ('E', 'B', 'C', 'F', 'G', 'A', 'D'), ('E', 'B', 'C', 'F', 'G', 'D', 'A'), ('E', 'B', 'C', 'G', 'A', 'D', 'F'), ('E', 'B', 'C', 'G', 'A', 'F', 'D'), ('E', 'B', 'C', 'G', 'D', 'A', 'F'), ('E', 'B', 'C', 'G', 'D', 'F', 'A'), ('E', 'B', 'C', 'G', 'F', 'A', 'D'), ('E', 'B', 'C', 'G', 'F', 'D', 'A'), ('E', 'B', 'D', 'A', 'C', 'F', 'G'), ('E', 'B', 'D', 'A', 'C', 'G', 'F'), ('E', 'B', 'D', 'A', 'F', 'C', 'G'), ('E', 'B', 'D', 'A', 'F', 'G', 'C'), ('E', 'B', 'D', 'A', 'G', 'C', 'F'), ('E', 'B', 'D', 'A', 'G', 'F', 'C'), ('E', 'B', 'D', 'C', 'A', 'F', 'G'), ('E', 'B', 'D', 'C', 'A', 'G', 'F'), ('E', 'B', 'D', 'C', 'F', 'A', 'G'), ('E', 'B', 'D', 'C', 'F', 'G', 'A'), ('E', 'B', 'D', 'C', 'G', 'A', 'F'), ('E', 'B', 'D', 'C', 'G', 'F', 'A'), ('E', 'B', 'D', 'F', 'A', 'C', 'G'), ('E', 'B', 'D', 'F', 'A', 'G', 'C'), ('E', 'B', 'D', 'F', 'C', 'A', 'G'), ('E', 'B', 'D', 'F', 'C', 'G', 'A'), ('E', 'B', 'D', 'F', 'G', 'A', 'C'), ('E', 'B', 'D', 'F', 'G', 'C', 'A'), ('E', 'B', 'D', 'G', 'A', 'C', 'F'), ('E', 'B', 'D', 'G', 'A', 'F', 'C'), ('E', 'B', 'D', 'G', 'C', 'A', 'F'), ('E', 'B', 'D', 'G', 'C', 'F', 'A'), ('E', 'B', 'D', 'G', 'F', 'A', 'C'), ('E', 'B', 'D', 'G', 'F', 'C', 'A'), ('E', 'B', 'F', 'A', 'C', 'D', 'G'), ('E', 'B', 'F', 'A', 'C', 'G', 'D'), ('E', 'B', 'F', 'A', 'D', 'C', 'G'), ('E', 'B', 'F', 'A', 'D', 'G', 'C'), ('E', 'B', 'F', 'A', 'G', 'C', 'D'), ('E', 'B', 'F', 'A', 'G', 'D', 'C'), ('E', 'B', 'F', 'C', 'A', 'D', 'G'), ('E', 'B', 'F', 'C', 'A', 'G', 'D'), ('E', 'B', 'F', 'C', 'D', 'A', 'G'), ('E', 'B', 'F', 'C', 'D', 'G', 'A'), ('E', 'B', 'F', 'C', 'G', 'A', 'D'), ('E', 'B', 'F', 'C', 'G', 'D', 'A'), ('E', 'B', 'F', 'D', 'A', 'C', 'G'), ('E', 'B', 'F', 'D', 'A', 'G', 'C'), ('E', 'B', 'F', 'D', 'C', 'A', 'G'), ('E', 'B', 'F', 'D', 'C', 'G', 'A'), ('E', 'B', 'F', 'D', 'G', 'A', 'C'), ('E', 'B', 'F', 'D', 'G', 'C', 'A'), ('E', 'B', 'F', 'G', 'A', 'C', 'D'), ('E', 'B', 'F', 'G', 'A', 'D', 'C'), ('E', 'B', 'F', 'G', 'C', 'A', 'D'), ('E', 'B', 'F', 'G', 'C', 'D', 'A'), ('E', 'B', 'F', 'G', 'D', 'A', 'C'), ('E', 'B', 'F', 'G', 'D', 'C', 'A'), ('E', 'B', 'G', 'A', 'C', 'D', 'F'), ('E', 'B', 'G', 'A', 'C', 'F', 'D'), ('E', 'B', 'G', 'A', 'D', 'C', 'F'), ('E', 'B', 'G', 'A', 'D', 'F', 'C'), ('E', 'B', 'G', 'A', 'F', 'C', 'D'), ('E', 'B', 'G', 'A', 'F', 'D', 'C'), ('E', 'B', 'G', 'C', 'A', 'D', 'F'), ('E', 'B', 'G', 'C', 'A', 'F', 'D'), ('E', 'B', 'G', 'C', 'D', 'A', 'F'), ('E', 'B', 'G', 'C', 'D', 'F', 'A'), ('E', 'B', 'G', 'C', 'F', 'A', 'D'), ('E', 'B', 'G', 'C', 'F', 'D', 'A'), ('E', 'B', 'G', 'D', 'A', 'C', 'F'), ('E', 'B', 'G', 'D', 'A', 'F', 'C'), ('E', 'B', 'G', 'D', 'C', 'A', 'F'), ('E', 'B', 'G', 'D', 'C', 'F', 'A'), ('E', 'B', 'G', 'D', 'F', 'A', 'C'), ('E', 'B', 'G', 'D', 'F', 'C', 'A'), ('E', 'B', 'G', 'F', 'A', 'C', 'D'), ('E', 'B', 'G', 'F', 'A', 'D', 'C'), ('E', 'B', 'G', 'F', 'C', 'A', 'D'), ('E', 'B', 'G', 'F', 'C', 'D', 'A'), ('E', 'B', 'G', 'F', 'D', 'A', 'C'), ('E', 'B', 'G', 'F', 'D', 'C', 'A'), ('E', 'C', 'A', 'B', 'D', 'F', 'G'), ('E', 'C', 'A', 'B', 'D', 'G', 'F'), ('E', 'C', 'A', 'B', 'F', 'D', 'G'), ('E', 'C', 'A', 'B', 'F', 'G', 'D'), ('E', 'C', 'A', 'B', 'G', 'D', 'F'), ('E', 'C', 'A', 'B', 'G', 'F', 'D'), ('E', 'C', 'A', 'D', 'B', 'F', 'G'), ('E', 'C', 'A', 'D', 'B', 'G', 'F'), ('E', 'C', 'A', 'D', 'F', 'B', 'G'), ('E', 'C', 'A', 'D', 'F', 'G', 'B'), ('E', 'C', 'A', 'D', 'G', 'B', 'F'), ('E', 'C', 'A', 'D', 'G', 'F', 'B'), ('E', 'C', 'A', 'F', 'B', 'D', 'G'), ('E', 'C', 'A', 'F', 'B', 'G', 'D'), ('E', 'C', 'A', 'F', 'D', 'B', 'G'), ('E', 'C', 'A', 'F', 'D', 'G', 'B'), ('E', 'C', 'A', 'F', 'G', 'B', 'D'), ('E', 'C', 'A', 'F', 'G', 'D', 'B'), ('E', 'C', 'A', 'G', 'B', 'D', 'F'), ('E', 'C', 'A', 'G', 'B', 'F', 'D'), ('E', 'C', 'A', 'G', 'D', 'B', 'F'), ('E', 'C', 'A', 'G', 'D', 'F', 'B'), ('E', 'C', 'A', 'G', 'F', 'B', 'D'), ('E', 'C', 'A', 'G', 'F', 'D', 'B'), ('E', 'C', 'B', 'A', 'D', 'F', 'G'), ('E', 'C', 'B', 'A', 'D', 'G', 'F'), ('E', 'C', 'B', 'A', 'F', 'D', 'G'), ('E', 'C', 'B', 'A', 'F', 'G', 'D'), ('E', 'C', 'B', 'A', 'G', 'D', 'F'), ('E', 'C', 'B', 'A', 'G', 'F', 'D'), ('E', 'C', 'B', 'D', 'A', 'F', 'G'), ('E', 'C', 'B', 'D', 'A', 'G', 'F'), ('E', 'C', 'B', 'D', 'F', 'A', 'G'), ('E', 'C', 'B', 'D', 'F', 'G', 'A'), ('E', 'C', 'B', 'D', 'G', 'A', 'F'), ('E', 'C', 'B', 'D', 'G', 'F', 'A'), ('E', 'C', 'B', 'F', 'A', 'D', 'G'), ('E', 'C', 'B', 'F', 'A', 'G', 'D'), ('E', 'C', 'B', 'F', 'D', 'A', 'G'), ('E', 'C', 'B', 'F', 'D', 'G', 'A'), ('E', 'C', 'B', 'F', 'G', 'A', 'D'), ('E', 'C', 'B', 'F', 'G', 'D', 'A'), ('E', 'C', 'B', 'G', 'A', 'D', 'F'), ('E', 'C', 'B', 'G', 'A', 'F', 'D'), ('E', 'C', 'B', 'G', 'D', 'A', 'F'), ('E', 'C', 'B', 'G', 'D', 'F', 'A'), ('E', 'C', 'B', 'G', 'F', 'A', 'D'), ('E', 'C', 'B', 'G', 'F', 'D', 'A'), ('E', 'C', 'D', 'A', 'B', 'F', 'G'), ('E', 'C', 'D', 'A', 'B', 'G', 'F'), ('E', 'C', 'D', 'A', 'F', 'B', 'G'), ('E', 'C', 'D', 'A', 'F', 'G', 'B'), ('E', 'C', 'D', 'A', 'G', 'B', 'F'), ('E', 'C', 'D', 'A', 'G', 'F', 'B'), ('E', 'C', 'D', 'B', 'A', 'F', 'G'), ('E', 'C', 'D', 'B', 'A', 'G', 'F'), ('E', 'C', 'D', 'B', 'F', 'A', 'G'), ('E', 'C', 'D', 'B', 'F', 'G', 'A'), ('E', 'C', 'D', 'B', 'G', 'A', 'F'), ('E', 'C', 'D', 'B', 'G', 'F', 'A'), ('E', 'C', 'D', 'F', 'A', 'B', 'G'), ('E', 'C', 'D', 'F', 'A', 'G', 'B'), ('E', 'C', 'D', 'F', 'B', 'A', 'G'), ('E', 'C', 'D', 'F', 'B', 'G', 'A'), ('E', 'C', 'D', 'F', 'G', 'A', 'B'), ('E', 'C', 'D', 'F', 'G', 'B', 'A'), ('E', 'C', 'D', 'G', 'A', 'B', 'F'), ('E', 'C', 'D', 'G', 'A', 'F', 'B'), ('E', 'C', 'D', 'G', 'B', 'A', 'F'), ('E', 'C', 'D', 'G', 'B', 'F', 'A'), ('E', 'C', 'D', 'G', 'F', 'A', 'B'), ('E', 'C', 'D', 'G', 'F', 'B', 'A'), ('E', 'C', 'F', 'A', 'B', 'D', 'G'), ('E', 'C', 'F', 'A', 'B', 'G', 'D'), ('E', 'C', 'F', 'A', 'D', 'B', 'G'), ('E', 'C', 'F', 'A', 'D', 'G', 'B'), ('E', 'C', 'F', 'A', 'G', 'B', 'D'), ('E', 'C', 'F', 'A', 'G', 'D', 'B'), ('E', 'C', 'F', 'B', 'A', 'D', 'G'), ('E', 'C', 'F', 'B', 'A', 'G', 'D'), ('E', 'C', 'F', 'B', 'D', 'A', 'G'), ('E', 'C', 'F', 'B', 'D', 'G', 'A'), ('E', 'C', 'F', 'B', 'G', 'A', 'D'), ('E', 'C', 'F', 'B', 'G', 'D', 'A'), ('E', 'C', 'F', 'D', 'A', 'B', 'G'), ('E', 'C', 'F', 'D', 'A', 'G', 'B'), ('E', 'C', 'F', 'D', 'B', 'A', 'G'), ('E', 'C', 'F', 'D', 'B', 'G', 'A'), ('E', 'C', 'F', 'D', 'G', 'A', 'B'), ('E', 'C', 'F', 'D', 'G', 'B', 'A'), ('E', 'C', 'F', 'G', 'A', 'B', 'D'), ('E', 'C', 'F', 'G', 'A', 'D', 'B'), ('E', 'C', 'F', 'G', 'B', 'A', 'D'), ('E', 'C', 'F', 'G', 'B', 'D', 'A'), ('E', 'C', 'F', 'G', 'D', 'A', 'B'), ('E', 'C', 'F', 'G', 'D', 'B', 'A'), ('E', 'C', 'G', 'A', 'B', 'D', 'F'), ('E', 'C', 'G', 'A', 'B', 'F', 'D'), ('E', 'C', 'G', 'A', 'D', 'B', 'F'), ('E', 'C', 'G', 'A', 'D', 'F', 'B'), ('E', 'C', 'G', 'A', 'F', 'B', 'D'), ('E', 'C', 'G', 'A', 'F', 'D', 'B'), ('E', 'C', 'G', 'B', 'A', 'D', 'F'), ('E', 'C', 'G', 'B', 'A', 'F', 'D'), ('E', 'C', 'G', 'B', 'D', 'A', 'F'), ('E', 'C', 'G', 'B', 'D', 'F', 'A'), ('E', 'C', 'G', 'B', 'F', 'A', 'D'), ('E', 'C', 'G', 'B', 'F', 'D', 'A'), ('E', 'C', 'G', 'D', 'A', 'B', 'F'), ('E', 'C', 'G', 'D', 'A', 'F', 'B'), ('E', 'C', 'G', 'D', 'B', 'A', 'F'), ('E', 'C', 'G', 'D', 'B', 'F', 'A'), ('E', 'C', 'G', 'D', 'F', 'A', 'B'), ('E', 'C', 'G', 'D', 'F', 'B', 'A'), ('E', 'C', 'G', 'F', 'A', 'B', 'D'), ('E', 'C', 'G', 'F', 'A', 'D', 'B'), ('E', 'C', 'G', 'F', 'B', 'A', 'D'), ('E', 'C', 'G', 'F', 'B', 'D', 'A'), ('E', 'C', 'G', 'F', 'D', 'A', 'B'), ('E', 'C', 'G', 'F', 'D', 'B', 'A'), ('E', 'D', 'A', 'B', 'C', 'F', 'G'), ('E', 'D', 'A', 'B', 'C', 'G', 'F'), ('E', 'D', 'A', 'B', 'F', 'C', 'G'), ('E', 'D', 'A', 'B', 'F', 'G', 'C'), ('E', 'D', 'A', 'B', 'G', 'C', 'F'), ('E', 'D', 'A', 'B', 'G', 'F', 'C'), ('E', 'D', 'A', 'C', 'B', 'F', 'G'), ('E', 'D', 'A', 'C', 'B', 'G', 'F'), ('E', 'D', 'A', 'C', 'F', 'B', 'G'), ('E', 'D', 'A', 'C', 'F', 'G', 'B'), ('E', 'D', 'A', 'C', 'G', 'B', 'F'), ('E', 'D', 'A', 'C', 'G', 'F', 'B'), ('E', 'D', 'A', 'F', 'B', 'C', 'G'), ('E', 'D', 'A', 'F', 'B', 'G', 'C'), ('E', 'D', 'A', 'F', 'C', 'B', 'G'), ('E', 'D', 'A', 'F', 'C', 'G', 'B'), ('E', 'D', 'A', 'F', 'G', 'B', 'C'), ('E', 'D', 'A', 'F', 'G', 'C', 'B'), ('E', 'D', 'A', 'G', 'B', 'C', 'F'), ('E', 'D', 'A', 'G', 'B', 'F', 'C'), ('E', 'D', 'A', 'G', 'C', 'B', 'F'), ('E', 'D', 'A', 'G', 'C', 'F', 'B'), ('E', 'D', 'A', 'G', 'F', 'B', 'C'), ('E', 'D', 'A', 'G', 'F', 'C', 'B'), ('E', 'D', 'B', 'A', 'C', 'F', 'G'), ('E', 'D', 'B', 'A', 'C', 'G', 'F'), ('E', 'D', 'B', 'A', 'F', 'C', 'G'), ('E', 'D', 'B', 'A', 'F', 'G', 'C'), ('E', 'D', 'B', 'A', 'G', 'C', 'F'), ('E', 'D', 'B', 'A', 'G', 'F', 'C'), ('E', 'D', 'B', 'C', 'A', 'F', 'G'), ('E', 'D', 'B', 'C', 'A', 'G', 'F'), ('E', 'D', 'B', 'C', 'F', 'A', 'G'), ('E', 'D', 'B', 'C', 'F', 'G', 'A'), ('E', 'D', 'B', 'C', 'G', 'A', 'F'), ('E', 'D', 'B', 'C', 'G', 'F', 'A'), ('E', 'D', 'B', 'F', 'A', 'C', 'G'), ('E', 'D', 'B', 'F', 'A', 'G', 'C'), ('E', 'D', 'B', 'F', 'C', 'A', 'G'), ('E', 'D', 'B', 'F', 'C', 'G', 'A'), ('E', 'D', 'B', 'F', 'G', 'A', 'C'), ('E', 'D', 'B', 'F', 'G', 'C', 'A'), ('E', 'D', 'B', 'G', 'A', 'C', 'F'), ('E', 'D', 'B', 'G', 'A', 'F', 'C'), ('E', 'D', 'B', 'G', 'C', 'A', 'F'), ('E', 'D', 'B', 'G', 'C', 'F', 'A'), ('E', 'D', 'B', 'G', 'F', 'A', 'C'), ('E', 'D', 'B', 'G', 'F', 'C', 'A'), ('E', 'D', 'C', 'A', 'B', 'F', 'G'), ('E', 'D', 'C', 'A', 'B', 'G', 'F'), ('E', 'D', 'C', 'A', 'F', 'B', 'G'), ('E', 'D', 'C', 'A', 'F', 'G', 'B'), ('E', 'D', 'C', 'A', 'G', 'B', 'F'), ('E', 'D', 'C', 'A', 'G', 'F', 'B'), ('E', 'D', 'C', 'B', 'A', 'F', 'G'), ('E', 'D', 'C', 'B', 'A', 'G', 'F'), ('E', 'D', 'C', 'B', 'F', 'A', 'G'), ('E', 'D', 'C', 'B', 'F', 'G', 'A'), ('E', 'D', 'C', 'B', 'G', 'A', 'F'), ('E', 'D', 'C', 'B', 'G', 'F', 'A'), ('E', 'D', 'C', 'F', 'A', 'B', 'G'), ('E', 'D', 'C', 'F', 'A', 'G', 'B'), ('E', 'D', 'C', 'F', 'B', 'A', 'G'), ('E', 'D', 'C', 'F', 'B', 'G', 'A'), ('E', 'D', 'C', 'F', 'G', 'A', 'B'), ('E', 'D', 'C', 'F', 'G', 'B', 'A'), ('E', 'D', 'C', 'G', 'A', 'B', 'F'), ('E', 'D', 'C', 'G', 'A', 'F', 'B'), ('E', 'D', 'C', 'G', 'B', 'A', 'F'), ('E', 'D', 'C', 'G', 'B', 'F', 'A'), ('E', 'D', 'C', 'G', 'F', 'A', 'B'), ('E', 'D', 'C', 'G', 'F', 'B', 'A'), ('E', 'D', 'F', 'A', 'B', 'C', 'G'), ('E', 'D', 'F', 'A', 'B', 'G', 'C'), ('E', 'D', 'F', 'A', 'C', 'B', 'G'), ('E', 'D', 'F', 'A', 'C', 'G', 'B'), ('E', 'D', 'F', 'A', 'G', 'B', 'C'), ('E', 'D', 'F', 'A', 'G', 'C', 'B'), ('E', 'D', 'F', 'B', 'A', 'C', 'G'), ('E', 'D', 'F', 'B', 'A', 'G', 'C'), ('E', 'D', 'F', 'B', 'C', 'A', 'G'), ('E', 'D', 'F', 'B', 'C', 'G', 'A'), ('E', 'D', 'F', 'B', 'G', 'A', 'C'), ('E', 'D', 'F', 'B', 'G', 'C', 'A'), ('E', 'D', 'F', 'C', 'A', 'B', 'G'), ('E', 'D', 'F', 'C', 'A', 'G', 'B'), ('E', 'D', 'F', 'C', 'B', 'A', 'G'), ('E', 'D', 'F', 'C', 'B', 'G', 'A'), ('E', 'D', 'F', 'C', 'G', 'A', 'B'), ('E', 'D', 'F', 'C', 'G', 'B', 'A'), ('E', 'D', 'F', 'G', 'A', 'B', 'C'), ('E', 'D', 'F', 'G', 'A', 'C', 'B'), ('E', 'D', 'F', 'G', 'B', 'A', 'C'), ('E', 'D', 'F', 'G', 'B', 'C', 'A'), ('E', 'D', 'F', 'G', 'C', 'A', 'B'), ('E', 'D', 'F', 'G', 'C', 'B', 'A'), ('E', 'D', 'G', 'A', 'B', 'C', 'F'), ('E', 'D', 'G', 'A', 'B', 'F', 'C'), ('E', 'D', 'G', 'A', 'C', 'B', 'F'), ('E', 'D', 'G', 'A', 'C', 'F', 'B'), ('E', 'D', 'G', 'A', 'F', 'B', 'C'), ('E', 'D', 'G', 'A', 'F', 'C', 'B'), ('E', 'D', 'G', 'B', 'A', 'C', 'F'), ('E', 'D', 'G', 'B', 'A', 'F', 'C'), ('E', 'D', 'G', 'B', 'C', 'A', 'F'), ('E', 'D', 'G', 'B', 'C', 'F', 'A'), ('E', 'D', 'G', 'B', 'F', 'A', 'C'), ('E', 'D', 'G', 'B', 'F', 'C', 'A'), ('E', 'D', 'G', 'C', 'A', 'B', 'F'), ('E', 'D', 'G', 'C', 'A', 'F', 'B'), ('E', 'D', 'G', 'C', 'B', 'A', 'F'), ('E', 'D', 'G', 'C', 'B', 'F', 'A'), ('E', 'D', 'G', 'C', 'F', 'A', 'B'), ('E', 'D', 'G', 'C', 'F', 'B', 'A'), ('E', 'D', 'G', 'F', 'A', 'B', 'C'), ('E', 'D', 'G', 'F', 'A', 'C', 'B'), ('E', 'D', 'G', 'F', 'B', 'A', 'C'), ('E', 'D', 'G', 'F', 'B', 'C', 'A'), ('E', 'D', 'G', 'F', 'C', 'A', 'B'), ('E', 'D', 'G', 'F', 'C', 'B', 'A'), ('E', 'F', 'A', 'B', 'C', 'D', 'G'), ('E', 'F', 'A', 'B', 'C', 'G', 'D'), ('E', 'F', 'A', 'B', 'D', 'C', 'G'), ('E', 'F', 'A', 'B', 'D', 'G', 'C'), ('E', 'F', 'A', 'B', 'G', 'C', 'D'), ('E', 'F', 'A', 'B', 'G', 'D', 'C'), ('E', 'F', 'A', 'C', 'B', 'D', 'G'), ('E', 'F', 'A', 'C', 'B', 'G', 'D'), ('E', 'F', 'A', 'C', 'D', 'B', 'G'), ('E', 'F', 'A', 'C', 'D', 'G', 'B'), ('E', 'F', 'A', 'C', 'G', 'B', 'D'), ('E', 'F', 'A', 'C', 'G', 'D', 'B'), ('E', 'F', 'A', 'D', 'B', 'C', 'G'), ('E', 'F', 'A', 'D', 'B', 'G', 'C'), ('E', 'F', 'A', 'D', 'C', 'B', 'G'), ('E', 'F', 'A', 'D', 'C', 'G', 'B'), ('E', 'F', 'A', 'D', 'G', 'B', 'C'), ('E', 'F', 'A', 'D', 'G', 'C', 'B'), ('E', 'F', 'A', 'G', 'B', 'C', 'D'), ('E', 'F', 'A', 'G', 'B', 'D', 'C'), ('E', 'F', 'A', 'G', 'C', 'B', 'D'), ('E', 'F', 'A', 'G', 'C', 'D', 'B'), ('E', 'F', 'A', 'G', 'D', 'B', 'C'), ('E', 'F', 'A', 'G', 'D', 'C', 'B'), ('E', 'F', 'B', 'A', 'C', 'D', 'G'), ('E', 'F', 'B', 'A', 'C', 'G', 'D'), ('E', 'F', 'B', 'A', 'D', 'C', 'G'), ('E', 'F', 'B', 'A', 'D', 'G', 'C'), ('E', 'F', 'B', 'A', 'G', 'C', 'D'), ('E', 'F', 'B', 'A', 'G', 'D', 'C'), ('E', 'F', 'B', 'C', 'A', 'D', 'G'), ('E', 'F', 'B', 'C', 'A', 'G', 'D'), ('E', 'F', 'B', 'C', 'D', 'A', 'G'), ('E', 'F', 'B', 'C', 'D', 'G', 'A'), ('E', 'F', 'B', 'C', 'G', 'A', 'D'), ('E', 'F', 'B', 'C', 'G', 'D', 'A'), ('E', 'F', 'B', 'D', 'A', 'C', 'G'), ('E', 'F', 'B', 'D', 'A', 'G', 'C'), ('E', 'F', 'B', 'D', 'C', 'A', 'G'), ('E', 'F', 'B', 'D', 'C', 'G', 'A'), ('E', 'F', 'B', 'D', 'G', 'A', 'C'), ('E', 'F', 'B', 'D', 'G', 'C', 'A'), ('E', 'F', 'B', 'G', 'A', 'C', 'D'), ('E', 'F', 'B', 'G', 'A', 'D', 'C'), ('E', 'F', 'B', 'G', 'C', 'A', 'D'), ('E', 'F', 'B', 'G', 'C', 'D', 'A'), ('E', 'F', 'B', 'G', 'D', 'A', 'C'), ('E', 'F', 'B', 'G', 'D', 'C', 'A'), ('E', 'F', 'C', 'A', 'B', 'D', 'G'), ('E', 'F', 'C', 'A', 'B', 'G', 'D'), ('E', 'F', 'C', 'A', 'D', 'B', 'G'), ('E', 'F', 'C', 'A', 'D', 'G', 'B'), ('E', 'F', 'C', 'A', 'G', 'B', 'D'), ('E', 'F', 'C', 'A', 'G', 'D', 'B'), ('E', 'F', 'C', 'B', 'A', 'D', 'G'), ('E', 'F', 'C', 'B', 'A', 'G', 'D'), ('E', 'F', 'C', 'B', 'D', 'A', 'G'), ('E', 'F', 'C', 'B', 'D', 'G', 'A'), ('E', 'F', 'C', 'B', 'G', 'A', 'D'), ('E', 'F', 'C', 'B', 'G', 'D', 'A'), ('E', 'F', 'C', 'D', 'A', 'B', 'G'), ('E', 'F', 'C', 'D', 'A', 'G', 'B'), ('E', 'F', 'C', 'D', 'B', 'A', 'G'), ('E', 'F', 'C', 'D', 'B', 'G', 'A'), ('E', 'F', 'C', 'D', 'G', 'A', 'B'), ('E', 'F', 'C', 'D', 'G', 'B', 'A'), ('E', 'F', 'C', 'G', 'A', 'B', 'D'), ('E', 'F', 'C', 'G', 'A', 'D', 'B'), ('E', 'F', 'C', 'G', 'B', 'A', 'D'), ('E', 'F', 'C', 'G', 'B', 'D', 'A'), ('E', 'F', 'C', 'G', 'D', 'A', 'B'), ('E', 'F', 'C', 'G', 'D', 'B', 'A'), ('E', 'F', 'D', 'A', 'B', 'C', 'G'), ('E', 'F', 'D', 'A', 'B', 'G', 'C'), ('E', 'F', 'D', 'A', 'C', 'B', 'G'), ('E', 'F', 'D', 'A', 'C', 'G', 'B'), ('E', 'F', 'D', 'A', 'G', 'B', 'C'), ('E', 'F', 'D', 'A', 'G', 'C', 'B'), ('E', 'F', 'D', 'B', 'A', 'C', 'G'), ('E', 'F', 'D', 'B', 'A', 'G', 'C'), ('E', 'F', 'D', 'B', 'C', 'A', 'G'), ('E', 'F', 'D', 'B', 'C', 'G', 'A'), ('E', 'F', 'D', 'B', 'G', 'A', 'C'), ('E', 'F', 'D', 'B', 'G', 'C', 'A'), ('E', 'F', 'D', 'C', 'A', 'B', 'G'), ('E', 'F', 'D', 'C', 'A', 'G', 'B'), ('E', 'F', 'D', 'C', 'B', 'A', 'G'), ('E', 'F', 'D', 'C', 'B', 'G', 'A'), ('E', 'F', 'D', 'C', 'G', 'A', 'B'), ('E', 'F', 'D', 'C', 'G', 'B', 'A'), ('E', 'F', 'D', 'G', 'A', 'B', 'C'), ('E', 'F', 'D', 'G', 'A', 'C', 'B'), ('E', 'F', 'D', 'G', 'B', 'A', 'C'), ('E', 'F', 'D', 'G', 'B', 'C', 'A'), ('E', 'F', 'D', 'G', 'C', 'A', 'B'), ('E', 'F', 'D', 'G', 'C', 'B', 'A'), ('E', 'F', 'G', 'A', 'B', 'C', 'D'), ('E', 'F', 'G', 'A', 'B', 'D', 'C'), ('E', 'F', 'G', 'A', 'C', 'B', 'D'), ('E', 'F', 'G', 'A', 'C', 'D', 'B'), ('E', 'F', 'G', 'A', 'D', 'B', 'C'), ('E', 'F', 'G', 'A', 'D', 'C', 'B'), ('E', 'F', 'G', 'B', 'A', 'C', 'D'), ('E', 'F', 'G', 'B', 'A', 'D', 'C'), ('E', 'F', 'G', 'B', 'C', 'A', 'D'), ('E', 'F', 'G', 'B', 'C', 'D', 'A'), ('E', 'F', 'G', 'B', 'D', 'A', 'C'), ('E', 'F', 'G', 'B', 'D', 'C', 'A'), ('E', 'F', 'G', 'C', 'A', 'B', 'D'), ('E', 'F', 'G', 'C', 'A', 'D', 'B'), ('E', 'F', 'G', 'C', 'B', 'A', 'D'), ('E', 'F', 'G', 'C', 'B', 'D', 'A'), ('E', 'F', 'G', 'C', 'D', 'A', 'B'), ('E', 'F', 'G', 'C', 'D', 'B', 'A'), ('E', 'F', 'G', 'D', 'A', 'B', 'C'), ('E', 'F', 'G', 'D', 'A', 'C', 'B'), ('E', 'F', 'G', 'D', 'B', 'A', 'C'), ('E', 'F', 'G', 'D', 'B', 'C', 'A'), ('E', 'F', 'G', 'D', 'C', 'A', 'B'), ('E', 'F', 'G', 'D', 'C', 'B', 'A'), ('E', 'G', 'A', 'B', 'C', 'D', 'F'), ('E', 'G', 'A', 'B', 'C', 'F', 'D'), ('E', 'G', 'A', 'B', 'D', 'C', 'F'), ('E', 'G', 'A', 'B', 'D', 'F', 'C'), ('E', 'G', 'A', 'B', 'F', 'C', 'D'), ('E', 'G', 'A', 'B', 'F', 'D', 'C'), ('E', 'G', 'A', 'C', 'B', 'D', 'F'), ('E', 'G', 'A', 'C', 'B', 'F', 'D'), ('E', 'G', 'A', 'C', 'D', 'B', 'F'), ('E', 'G', 'A', 'C', 'D', 'F', 'B'), ('E', 'G', 'A', 'C', 'F', 'B', 'D'), ('E', 'G', 'A', 'C', 'F', 'D', 'B'), ('E', 'G', 'A', 'D', 'B', 'C', 'F'), ('E', 'G', 'A', 'D', 'B', 'F', 'C'), ('E', 'G', 'A', 'D', 'C', 'B', 'F'), ('E', 'G', 'A', 'D', 'C', 'F', 'B'), ('E', 'G', 'A', 'D', 'F', 'B', 'C'), ('E', 'G', 'A', 'D', 'F', 'C', 'B'), ('E', 'G', 'A', 'F', 'B', 'C', 'D'), ('E', 'G', 'A', 'F', 'B', 'D', 'C'), ('E', 'G', 'A', 'F', 'C', 'B', 'D'), ('E', 'G', 'A', 'F', 'C', 'D', 'B'), ('E', 'G', 'A', 'F', 'D', 'B', 'C'), ('E', 'G', 'A', 'F', 'D', 'C', 'B'), ('E', 'G', 'B', 'A', 'C', 'D', 'F'), ('E', 'G', 'B', 'A', 'C', 'F', 'D'), ('E', 'G', 'B', 'A', 'D', 'C', 'F'), ('E', 'G', 'B', 'A', 'D', 'F', 'C'), ('E', 'G', 'B', 'A', 'F', 'C', 'D'), ('E', 'G', 'B', 'A', 'F', 'D', 'C'), ('E', 'G', 'B', 'C', 'A', 'D', 'F'), ('E', 'G', 'B', 'C', 'A', 'F', 'D'), ('E', 'G', 'B', 'C', 'D', 'A', 'F'), ('E', 'G', 'B', 'C', 'D', 'F', 'A'), ('E', 'G', 'B', 'C', 'F', 'A', 'D'), ('E', 'G', 'B', 'C', 'F', 'D', 'A'), ('E', 'G', 'B', 'D', 'A', 'C', 'F'), ('E', 'G', 'B', 'D', 'A', 'F', 'C'), ('E', 'G', 'B', 'D', 'C', 'A', 'F'), ('E', 'G', 'B', 'D', 'C', 'F', 'A'), ('E', 'G', 'B', 'D', 'F', 'A', 'C'), ('E', 'G', 'B', 'D', 'F', 'C', 'A'), ('E', 'G', 'B', 'F', 'A', 'C', 'D'), ('E', 'G', 'B', 'F', 'A', 'D', 'C'), ('E', 'G', 'B', 'F', 'C', 'A', 'D'), ('E', 'G', 'B', 'F', 'C', 'D', 'A'), ('E', 'G', 'B', 'F', 'D', 'A', 'C'), ('E', 'G', 'B', 'F', 'D', 'C', 'A'), ('E', 'G', 'C', 'A', 'B', 'D', 'F'), ('E', 'G', 'C', 'A', 'B', 'F', 'D'), ('E', 'G', 'C', 'A', 'D', 'B', 'F'), ('E', 'G', 'C', 'A', 'D', 'F', 'B'), ('E', 'G', 'C', 'A', 'F', 'B', 'D'), ('E', 'G', 'C', 'A', 'F', 'D', 'B'), ('E', 'G', 'C', 'B', 'A', 'D', 'F'), ('E', 'G', 'C', 'B', 'A', 'F', 'D'), ('E', 'G', 'C', 'B', 'D', 'A', 'F'), ('E', 'G', 'C', 'B', 'D', 'F', 'A'), ('E', 'G', 'C', 'B', 'F', 'A', 'D'), ('E', 'G', 'C', 'B', 'F', 'D', 'A'), ('E', 'G', 'C', 'D', 'A', 'B', 'F'), ('E', 'G', 'C', 'D', 'A', 'F', 'B'), ('E', 'G', 'C', 'D', 'B', 'A', 'F'), ('E', 'G', 'C', 'D', 'B', 'F', 'A'), ('E', 'G', 'C', 'D', 'F', 'A', 'B'), ('E', 'G', 'C', 'D', 'F', 'B', 'A'), ('E', 'G', 'C', 'F', 'A', 'B', 'D'), ('E', 'G', 'C', 'F', 'A', 'D', 'B'), ('E', 'G', 'C', 'F', 'B', 'A', 'D'), ('E', 'G', 'C', 'F', 'B', 'D', 'A'), ('E', 'G', 'C', 'F', 'D', 'A', 'B'), ('E', 'G', 'C', 'F', 'D', 'B', 'A'), ('E', 'G', 'D', 'A', 'B', 'C', 'F'), ('E', 'G', 'D', 'A', 'B', 'F', 'C'), ('E', 'G', 'D', 'A', 'C', 'B', 'F'), ('E', 'G', 'D', 'A', 'C', 'F', 'B'), ('E', 'G', 'D', 'A', 'F', 'B', 'C'), ('E', 'G', 'D', 'A', 'F', 'C', 'B'), ('E', 'G', 'D', 'B', 'A', 'C', 'F'), ('E', 'G', 'D', 'B', 'A', 'F', 'C'), ('E', 'G', 'D', 'B', 'C', 'A', 'F'), ('E', 'G', 'D', 'B', 'C', 'F', 'A'), ('E', 'G', 'D', 'B', 'F', 'A', 'C'), ('E', 'G', 'D', 'B', 'F', 'C', 'A'), ('E', 'G', 'D', 'C', 'A', 'B', 'F'), ('E', 'G', 'D', 'C', 'A', 'F', 'B'), ('E', 'G', 'D', 'C', 'B', 'A', 'F'), ('E', 'G', 'D', 'C', 'B', 'F', 'A'), ('E', 'G', 'D', 'C', 'F', 'A', 'B'), ('E', 'G', 'D', 'C', 'F', 'B', 'A'), ('E', 'G', 'D', 'F', 'A', 'B', 'C'), ('E', 'G', 'D', 'F', 'A', 'C', 'B'), ('E', 'G', 'D', 'F', 'B', 'A', 'C'), ('E', 'G', 'D', 'F', 'B', 'C', 'A'), ('E', 'G', 'D', 'F', 'C', 'A', 'B'), ('E', 'G', 'D', 'F', 'C', 'B', 'A'), ('E', 'G', 'F', 'A', 'B', 'C', 'D'), ('E', 'G', 'F', 'A', 'B', 'D', 'C'), ('E', 'G', 'F', 'A', 'C', 'B', 'D'), ('E', 'G', 'F', 'A', 'C', 'D', 'B'), ('E', 'G', 'F', 'A', 'D', 'B', 'C'), ('E', 'G', 'F', 'A', 'D', 'C', 'B'), ('E', 'G', 'F', 'B', 'A', 'C', 'D'), ('E', 'G', 'F', 'B', 'A', 'D', 'C'), ('E', 'G', 'F', 'B', 'C', 'A', 'D'), ('E', 'G', 'F', 'B', 'C', 'D', 'A'), ('E', 'G', 'F', 'B', 'D', 'A', 'C'), ('E', 'G', 'F', 'B', 'D', 'C', 'A'), ('E', 'G', 'F', 'C', 'A', 'B', 'D'), ('E', 'G', 'F', 'C', 'A', 'D', 'B'), ('E', 'G', 'F', 'C', 'B', 'A', 'D'), ('E', 'G', 'F', 'C', 'B', 'D', 'A'), ('E', 'G', 'F', 'C', 'D', 'A', 'B'), ('E', 'G', 'F', 'C', 'D', 'B', 'A'), ('E', 'G', 'F', 'D', 'A', 'B', 'C'), ('E', 'G', 'F', 'D', 'A', 'C', 'B'), ('E', 'G', 'F', 'D', 'B', 'A', 'C'), ('E', 'G', 'F', 'D', 'B', 'C', 'A'), ('E', 'G', 'F', 'D', 'C', 'A', 'B'), ('E', 'G', 'F', 'D', 'C', 'B', 'A'), ('F', 'A', 'B', 'C', 'D', 'E', 'G'), ('F', 'A', 'B', 'C', 'D', 'G', 'E'), ('F', 'A', 'B', 'C', 'E', 'D', 'G'), ('F', 'A', 'B', 'C', 'E', 'G', 'D'), ('F', 'A', 'B', 'C', 'G', 'D', 'E'), ('F', 'A', 'B', 'C', 'G', 'E', 'D'), ('F', 'A', 'B', 'D', 'C', 'E', 'G'), ('F', 'A', 'B', 'D', 'C', 'G', 'E'), ('F', 'A', 'B', 'D', 'E', 'C', 'G'), ('F', 'A', 'B', 'D', 'E', 'G', 'C'), ('F', 'A', 'B', 'D', 'G', 'C', 'E'), ('F', 'A', 'B', 'D', 'G', 'E', 'C'), ('F', 'A', 'B', 'E', 'C', 'D', 'G'), ('F', 'A', 'B', 'E', 'C', 'G', 'D'), ('F', 'A', 'B', 'E', 'D', 'C', 'G'), ('F', 'A', 'B', 'E', 'D', 'G', 'C'), ('F', 'A', 'B', 'E', 'G', 'C', 'D'), ('F', 'A', 'B', 'E', 'G', 'D', 'C'), ('F', 'A', 'B', 'G', 'C', 'D', 'E'), ('F', 'A', 'B', 'G', 'C', 'E', 'D'), ('F', 'A', 'B', 'G', 'D', 'C', 'E'), ('F', 'A', 'B', 'G', 'D', 'E', 'C'), ('F', 'A', 'B', 'G', 'E', 'C', 'D'), ('F', 'A', 'B', 'G', 'E', 'D', 'C'), ('F', 'A', 'C', 'B', 'D', 'E', 'G'), ('F', 'A', 'C', 'B', 'D', 'G', 'E'), ('F', 'A', 'C', 'B', 'E', 'D', 'G'), ('F', 'A', 'C', 'B', 'E', 'G', 'D'), ('F', 'A', 'C', 'B', 'G', 'D', 'E'), ('F', 'A', 'C', 'B', 'G', 'E', 'D'), ('F', 'A', 'C', 'D', 'B', 'E', 'G'), ('F', 'A', 'C', 'D', 'B', 'G', 'E'), ('F', 'A', 'C', 'D', 'E', 'B', 'G'), ('F', 'A', 'C', 'D', 'E', 'G', 'B'), ('F', 'A', 'C', 'D', 'G', 'B', 'E'), ('F', 'A', 'C', 'D', 'G', 'E', 'B'), ('F', 'A', 'C', 'E', 'B', 'D', 'G'), ('F', 'A', 'C', 'E', 'B', 'G', 'D'), ('F', 'A', 'C', 'E', 'D', 'B', 'G'), ('F', 'A', 'C', 'E', 'D', 'G', 'B'), ('F', 'A', 'C', 'E', 'G', 'B', 'D'), ('F', 'A', 'C', 'E', 'G', 'D', 'B'), ('F', 'A', 'C', 'G', 'B', 'D', 'E'), ('F', 'A', 'C', 'G', 'B', 'E', 'D'), ('F', 'A', 'C', 'G', 'D', 'B', 'E'), ('F', 'A', 'C', 'G', 'D', 'E', 'B'), ('F', 'A', 'C', 'G', 'E', 'B', 'D'), ('F', 'A', 'C', 'G', 'E', 'D', 'B'), ('F', 'A', 'D', 'B', 'C', 'E', 'G'), ('F', 'A', 'D', 'B', 'C', 'G', 'E'), ('F', 'A', 'D', 'B', 'E', 'C', 'G'), ('F', 'A', 'D', 'B', 'E', 'G', 'C'), ('F', 'A', 'D', 'B', 'G', 'C', 'E'), ('F', 'A', 'D', 'B', 'G', 'E', 'C'), ('F', 'A', 'D', 'C', 'B', 'E', 'G'), ('F', 'A', 'D', 'C', 'B', 'G', 'E'), ('F', 'A', 'D', 'C', 'E', 'B', 'G'), ('F', 'A', 'D', 'C', 'E', 'G', 'B'), ('F', 'A', 'D', 'C', 'G', 'B', 'E'), ('F', 'A', 'D', 'C', 'G', 'E', 'B'), ('F', 'A', 'D', 'E', 'B', 'C', 'G'), ('F', 'A', 'D', 'E', 'B', 'G', 'C'), ('F', 'A', 'D', 'E', 'C', 'B', 'G'), ('F', 'A', 'D', 'E', 'C', 'G', 'B'), ('F', 'A', 'D', 'E', 'G', 'B', 'C'), ('F', 'A', 'D', 'E', 'G', 'C', 'B'), ('F', 'A', 'D', 'G', 'B', 'C', 'E'), ('F', 'A', 'D', 'G', 'B', 'E', 'C'), ('F', 'A', 'D', 'G', 'C', 'B', 'E'), ('F', 'A', 'D', 'G', 'C', 'E', 'B'), ('F', 'A', 'D', 'G', 'E', 'B', 'C'), ('F', 'A', 'D', 'G', 'E', 'C', 'B'), ('F', 'A', 'E', 'B', 'C', 'D', 'G'), ('F', 'A', 'E', 'B', 'C', 'G', 'D'), ('F', 'A', 'E', 'B', 'D', 'C', 'G'), ('F', 'A', 'E', 'B', 'D', 'G', 'C'), ('F', 'A', 'E', 'B', 'G', 'C', 'D'), ('F', 'A', 'E', 'B', 'G', 'D', 'C'), ('F', 'A', 'E', 'C', 'B', 'D', 'G'), ('F', 'A', 'E', 'C', 'B', 'G', 'D'), ('F', 'A', 'E', 'C', 'D', 'B', 'G'), ('F', 'A', 'E', 'C', 'D', 'G', 'B'), ('F', 'A', 'E', 'C', 'G', 'B', 'D'), ('F', 'A', 'E', 'C', 'G', 'D', 'B'), ('F', 'A', 'E', 'D', 'B', 'C', 'G'), ('F', 'A', 'E', 'D', 'B', 'G', 'C'), ('F', 'A', 'E', 'D', 'C', 'B', 'G'), ('F', 'A', 'E', 'D', 'C', 'G', 'B'), ('F', 'A', 'E', 'D', 'G', 'B', 'C'), ('F', 'A', 'E', 'D', 'G', 'C', 'B'), ('F', 'A', 'E', 'G', 'B', 'C', 'D'), ('F', 'A', 'E', 'G', 'B', 'D', 'C'), ('F', 'A', 'E', 'G', 'C', 'B', 'D'), ('F', 'A', 'E', 'G', 'C', 'D', 'B'), ('F', 'A', 'E', 'G', 'D', 'B', 'C'), ('F', 'A', 'E', 'G', 'D', 'C', 'B'), ('F', 'A', 'G', 'B', 'C', 'D', 'E'), ('F', 'A', 'G', 'B', 'C', 'E', 'D'), ('F', 'A', 'G', 'B', 'D', 'C', 'E'), ('F', 'A', 'G', 'B', 'D', 'E', 'C'), ('F', 'A', 'G', 'B', 'E', 'C', 'D'), ('F', 'A', 'G', 'B', 'E', 'D', 'C'), ('F', 'A', 'G', 'C', 'B', 'D', 'E'), ('F', 'A', 'G', 'C', 'B', 'E', 'D'), ('F', 'A', 'G', 'C', 'D', 'B', 'E'), ('F', 'A', 'G', 'C', 'D', 'E', 'B'), ('F', 'A', 'G', 'C', 'E', 'B', 'D'), ('F', 'A', 'G', 'C', 'E', 'D', 'B'), ('F', 'A', 'G', 'D', 'B', 'C', 'E'), ('F', 'A', 'G', 'D', 'B', 'E', 'C'), ('F', 'A', 'G', 'D', 'C', 'B', 'E'), ('F', 'A', 'G', 'D', 'C', 'E', 'B'), ('F', 'A', 'G', 'D', 'E', 'B', 'C'), ('F', 'A', 'G', 'D', 'E', 'C', 'B'), ('F', 'A', 'G', 'E', 'B', 'C', 'D'), ('F', 'A', 'G', 'E', 'B', 'D', 'C'), ('F', 'A', 'G', 'E', 'C', 'B', 'D'), ('F', 'A', 'G', 'E', 'C', 'D', 'B'), ('F', 'A', 'G', 'E', 'D', 'B', 'C'), ('F', 'A', 'G', 'E', 'D', 'C', 'B'), ('F', 'B', 'A', 'C', 'D', 'E', 'G'), ('F', 'B', 'A', 'C', 'D', 'G', 'E'), ('F', 'B', 'A', 'C', 'E', 'D', 'G'), ('F', 'B', 'A', 'C', 'E', 'G', 'D'), ('F', 'B', 'A', 'C', 'G', 'D', 'E'), ('F', 'B', 'A', 'C', 'G', 'E', 'D'), ('F', 'B', 'A', 'D', 'C', 'E', 'G'), ('F', 'B', 'A', 'D', 'C', 'G', 'E'), ('F', 'B', 'A', 'D', 'E', 'C', 'G'), ('F', 'B', 'A', 'D', 'E', 'G', 'C'), ('F', 'B', 'A', 'D', 'G', 'C', 'E'), ('F', 'B', 'A', 'D', 'G', 'E', 'C'), ('F', 'B', 'A', 'E', 'C', 'D', 'G'), ('F', 'B', 'A', 'E', 'C', 'G', 'D'), ('F', 'B', 'A', 'E', 'D', 'C', 'G'), ('F', 'B', 'A', 'E', 'D', 'G', 'C'), ('F', 'B', 'A', 'E', 'G', 'C', 'D'), ('F', 'B', 'A', 'E', 'G', 'D', 'C'), ('F', 'B', 'A', 'G', 'C', 'D', 'E'), ('F', 'B', 'A', 'G', 'C', 'E', 'D'), ('F', 'B', 'A', 'G', 'D', 'C', 'E'), ('F', 'B', 'A', 'G', 'D', 'E', 'C'), ('F', 'B', 'A', 'G', 'E', 'C', 'D'), ('F', 'B', 'A', 'G', 'E', 'D', 'C'), ('F', 'B', 'C', 'A', 'D', 'E', 'G'), ('F', 'B', 'C', 'A', 'D', 'G', 'E'), ('F', 'B', 'C', 'A', 'E', 'D', 'G'), ('F', 'B', 'C', 'A', 'E', 'G', 'D'), ('F', 'B', 'C', 'A', 'G', 'D', 'E'), ('F', 'B', 'C', 'A', 'G', 'E', 'D'), ('F', 'B', 'C', 'D', 'A', 'E', 'G'), ('F', 'B', 'C', 'D', 'A', 'G', 'E'), ('F', 'B', 'C', 'D', 'E', 'A', 'G'), ('F', 'B', 'C', 'D', 'E', 'G', 'A'), ('F', 'B', 'C', 'D', 'G', 'A', 'E'), ('F', 'B', 'C', 'D', 'G', 'E', 'A'), ('F', 'B', 'C', 'E', 'A', 'D', 'G'), ('F', 'B', 'C', 'E', 'A', 'G', 'D'), ('F', 'B', 'C', 'E', 'D', 'A', 'G'), ('F', 'B', 'C', 'E', 'D', 'G', 'A'), ('F', 'B', 'C', 'E', 'G', 'A', 'D'), ('F', 'B', 'C', 'E', 'G', 'D', 'A'), ('F', 'B', 'C', 'G', 'A', 'D', 'E'), ('F', 'B', 'C', 'G', 'A', 'E', 'D'), ('F', 'B', 'C', 'G', 'D', 'A', 'E'), ('F', 'B', 'C', 'G', 'D', 'E', 'A'), ('F', 'B', 'C', 'G', 'E', 'A', 'D'), ('F', 'B', 'C', 'G', 'E', 'D', 'A'), ('F', 'B', 'D', 'A', 'C', 'E', 'G'), ('F', 'B', 'D', 'A', 'C', 'G', 'E'), ('F', 'B', 'D', 'A', 'E', 'C', 'G'), ('F', 'B', 'D', 'A', 'E', 'G', 'C'), ('F', 'B', 'D', 'A', 'G', 'C', 'E'), ('F', 'B', 'D', 'A', 'G', 'E', 'C'), ('F', 'B', 'D', 'C', 'A', 'E', 'G'), ('F', 'B', 'D', 'C', 'A', 'G', 'E'), ('F', 'B', 'D', 'C', 'E', 'A', 'G'), ('F', 'B', 'D', 'C', 'E', 'G', 'A'), ('F', 'B', 'D', 'C', 'G', 'A', 'E'), ('F', 'B', 'D', 'C', 'G', 'E', 'A'), ('F', 'B', 'D', 'E', 'A', 'C', 'G'), ('F', 'B', 'D', 'E', 'A', 'G', 'C'), ('F', 'B', 'D', 'E', 'C', 'A', 'G'), ('F', 'B', 'D', 'E', 'C', 'G', 'A'), ('F', 'B', 'D', 'E', 'G', 'A', 'C'), ('F', 'B', 'D', 'E', 'G', 'C', 'A'), ('F', 'B', 'D', 'G', 'A', 'C', 'E'), ('F', 'B', 'D', 'G', 'A', 'E', 'C'), ('F', 'B', 'D', 'G', 'C', 'A', 'E'), ('F', 'B', 'D', 'G', 'C', 'E', 'A'), ('F', 'B', 'D', 'G', 'E', 'A', 'C'), ('F', 'B', 'D', 'G', 'E', 'C', 'A'), ('F', 'B', 'E', 'A', 'C', 'D', 'G'), ('F', 'B', 'E', 'A', 'C', 'G', 'D'), ('F', 'B', 'E', 'A', 'D', 'C', 'G'), ('F', 'B', 'E', 'A', 'D', 'G', 'C'), ('F', 'B', 'E', 'A', 'G', 'C', 'D'), ('F', 'B', 'E', 'A', 'G', 'D', 'C'), ('F', 'B', 'E', 'C', 'A', 'D', 'G'), ('F', 'B', 'E', 'C', 'A', 'G', 'D'), ('F', 'B', 'E', 'C', 'D', 'A', 'G'), ('F', 'B', 'E', 'C', 'D', 'G', 'A'), ('F', 'B', 'E', 'C', 'G', 'A', 'D'), ('F', 'B', 'E', 'C', 'G', 'D', 'A'), ('F', 'B', 'E', 'D', 'A', 'C', 'G'), ('F', 'B', 'E', 'D', 'A', 'G', 'C'), ('F', 'B', 'E', 'D', 'C', 'A', 'G'), ('F', 'B', 'E', 'D', 'C', 'G', 'A'), ('F', 'B', 'E', 'D', 'G', 'A', 'C'), ('F', 'B', 'E', 'D', 'G', 'C', 'A'), ('F', 'B', 'E', 'G', 'A', 'C', 'D'), ('F', 'B', 'E', 'G', 'A', 'D', 'C'), ('F', 'B', 'E', 'G', 'C', 'A', 'D'), ('F', 'B', 'E', 'G', 'C', 'D', 'A'), ('F', 'B', 'E', 'G', 'D', 'A', 'C'), ('F', 'B', 'E', 'G', 'D', 'C', 'A'), ('F', 'B', 'G', 'A', 'C', 'D', 'E'), ('F', 'B', 'G', 'A', 'C', 'E', 'D'), ('F', 'B', 'G', 'A', 'D', 'C', 'E'), ('F', 'B', 'G', 'A', 'D', 'E', 'C'), ('F', 'B', 'G', 'A', 'E', 'C', 'D'), ('F', 'B', 'G', 'A', 'E', 'D', 'C'), ('F', 'B', 'G', 'C', 'A', 'D', 'E'), ('F', 'B', 'G', 'C', 'A', 'E', 'D'), ('F', 'B', 'G', 'C', 'D', 'A', 'E'), ('F', 'B', 'G', 'C', 'D', 'E', 'A'), ('F', 'B', 'G', 'C', 'E', 'A', 'D'), ('F', 'B', 'G', 'C', 'E', 'D', 'A'), ('F', 'B', 'G', 'D', 'A', 'C', 'E'), ('F', 'B', 'G', 'D', 'A', 'E', 'C'), ('F', 'B', 'G', 'D', 'C', 'A', 'E'), ('F', 'B', 'G', 'D', 'C', 'E', 'A'), ('F', 'B', 'G', 'D', 'E', 'A', 'C'), ('F', 'B', 'G', 'D', 'E', 'C', 'A'), ('F', 'B', 'G', 'E', 'A', 'C', 'D'), ('F', 'B', 'G', 'E', 'A', 'D', 'C'), ('F', 'B', 'G', 'E', 'C', 'A', 'D'), ('F', 'B', 'G', 'E', 'C', 'D', 'A'), ('F', 'B', 'G', 'E', 'D', 'A', 'C'), ('F', 'B', 'G', 'E', 'D', 'C', 'A'), ('F', 'C', 'A', 'B', 'D', 'E', 'G'), ('F', 'C', 'A', 'B', 'D', 'G', 'E'), ('F', 'C', 'A', 'B', 'E', 'D', 'G'), ('F', 'C', 'A', 'B', 'E', 'G', 'D'), ('F', 'C', 'A', 'B', 'G', 'D', 'E'), ('F', 'C', 'A', 'B', 'G', 'E', 'D'), ('F', 'C', 'A', 'D', 'B', 'E', 'G'), ('F', 'C', 'A', 'D', 'B', 'G', 'E'), ('F', 'C', 'A', 'D', 'E', 'B', 'G'), ('F', 'C', 'A', 'D', 'E', 'G', 'B'), ('F', 'C', 'A', 'D', 'G', 'B', 'E'), ('F', 'C', 'A', 'D', 'G', 'E', 'B'), ('F', 'C', 'A', 'E', 'B', 'D', 'G'), ('F', 'C', 'A', 'E', 'B', 'G', 'D'), ('F', 'C', 'A', 'E', 'D', 'B', 'G'), ('F', 'C', 'A', 'E', 'D', 'G', 'B'), ('F', 'C', 'A', 'E', 'G', 'B', 'D'), ('F', 'C', 'A', 'E', 'G', 'D', 'B'), ('F', 'C', 'A', 'G', 'B', 'D', 'E'), ('F', 'C', 'A', 'G', 'B', 'E', 'D'), ('F', 'C', 'A', 'G', 'D', 'B', 'E'), ('F', 'C', 'A', 'G', 'D', 'E', 'B'), ('F', 'C', 'A', 'G', 'E', 'B', 'D'), ('F', 'C', 'A', 'G', 'E', 'D', 'B'), ('F', 'C', 'B', 'A', 'D', 'E', 'G'), ('F', 'C', 'B', 'A', 'D', 'G', 'E'), ('F', 'C', 'B', 'A', 'E', 'D', 'G'), ('F', 'C', 'B', 'A', 'E', 'G', 'D'), ('F', 'C', 'B', 'A', 'G', 'D', 'E'), ('F', 'C', 'B', 'A', 'G', 'E', 'D'), ('F', 'C', 'B', 'D', 'A', 'E', 'G'), ('F', 'C', 'B', 'D', 'A', 'G', 'E'), ('F', 'C', 'B', 'D', 'E', 'A', 'G'), ('F', 'C', 'B', 'D', 'E', 'G', 'A'), ('F', 'C', 'B', 'D', 'G', 'A', 'E'), ('F', 'C', 'B', 'D', 'G', 'E', 'A'), ('F', 'C', 'B', 'E', 'A', 'D', 'G'), ('F', 'C', 'B', 'E', 'A', 'G', 'D'), ('F', 'C', 'B', 'E', 'D', 'A', 'G'), ('F', 'C', 'B', 'E', 'D', 'G', 'A'), ('F', 'C', 'B', 'E', 'G', 'A', 'D'), ('F', 'C', 'B', 'E', 'G', 'D', 'A'), ('F', 'C', 'B', 'G', 'A', 'D', 'E'), ('F', 'C', 'B', 'G', 'A', 'E', 'D'), ('F', 'C', 'B', 'G', 'D', 'A', 'E'), ('F', 'C', 'B', 'G', 'D', 'E', 'A'), ('F', 'C', 'B', 'G', 'E', 'A', 'D'), ('F', 'C', 'B', 'G', 'E', 'D', 'A'), ('F', 'C', 'D', 'A', 'B', 'E', 'G'), ('F', 'C', 'D', 'A', 'B', 'G', 'E'), ('F', 'C', 'D', 'A', 'E', 'B', 'G'), ('F', 'C', 'D', 'A', 'E', 'G', 'B'), ('F', 'C', 'D', 'A', 'G', 'B', 'E'), ('F', 'C', 'D', 'A', 'G', 'E', 'B'), ('F', 'C', 'D', 'B', 'A', 'E', 'G'), ('F', 'C', 'D', 'B', 'A', 'G', 'E'), ('F', 'C', 'D', 'B', 'E', 'A', 'G'), ('F', 'C', 'D', 'B', 'E', 'G', 'A'), ('F', 'C', 'D', 'B', 'G', 'A', 'E'), ('F', 'C', 'D', 'B', 'G', 'E', 'A'), ('F', 'C', 'D', 'E', 'A', 'B', 'G'), ('F', 'C', 'D', 'E', 'A', 'G', 'B'), ('F', 'C', 'D', 'E', 'B', 'A', 'G'), ('F', 'C', 'D', 'E', 'B', 'G', 'A'), ('F', 'C', 'D', 'E', 'G', 'A', 'B'), ('F', 'C', 'D', 'E', 'G', 'B', 'A'), ('F', 'C', 'D', 'G', 'A', 'B', 'E'), ('F', 'C', 'D', 'G', 'A', 'E', 'B'), ('F', 'C', 'D', 'G', 'B', 'A', 'E'), ('F', 'C', 'D', 'G', 'B', 'E', 'A'), ('F', 'C', 'D', 'G', 'E', 'A', 'B'), ('F', 'C', 'D', 'G', 'E', 'B', 'A'), ('F', 'C', 'E', 'A', 'B', 'D', 'G'), ('F', 'C', 'E', 'A', 'B', 'G', 'D'), ('F', 'C', 'E', 'A', 'D', 'B', 'G'), ('F', 'C', 'E', 'A', 'D', 'G', 'B'), ('F', 'C', 'E', 'A', 'G', 'B', 'D'), ('F', 'C', 'E', 'A', 'G', 'D', 'B'), ('F', 'C', 'E', 'B', 'A', 'D', 'G'), ('F', 'C', 'E', 'B', 'A', 'G', 'D'), ('F', 'C', 'E', 'B', 'D', 'A', 'G'), ('F', 'C', 'E', 'B', 'D', 'G', 'A'), ('F', 'C', 'E', 'B', 'G', 'A', 'D'), ('F', 'C', 'E', 'B', 'G', 'D', 'A'), ('F', 'C', 'E', 'D', 'A', 'B', 'G'), ('F', 'C', 'E', 'D', 'A', 'G', 'B'), ('F', 'C', 'E', 'D', 'B', 'A', 'G'), ('F', 'C', 'E', 'D', 'B', 'G', 'A'), ('F', 'C', 'E', 'D', 'G', 'A', 'B'), ('F', 'C', 'E', 'D', 'G', 'B', 'A'), ('F', 'C', 'E', 'G', 'A', 'B', 'D'), ('F', 'C', 'E', 'G', 'A', 'D', 'B'), ('F', 'C', 'E', 'G', 'B', 'A', 'D'), ('F', 'C', 'E', 'G', 'B', 'D', 'A'), ('F', 'C', 'E', 'G', 'D', 'A', 'B'), ('F', 'C', 'E', 'G', 'D', 'B', 'A'), ('F', 'C', 'G', 'A', 'B', 'D', 'E'), ('F', 'C', 'G', 'A', 'B', 'E', 'D'), ('F', 'C', 'G', 'A', 'D', 'B', 'E'), ('F', 'C', 'G', 'A', 'D', 'E', 'B'), ('F', 'C', 'G', 'A', 'E', 'B', 'D'), ('F', 'C', 'G', 'A', 'E', 'D', 'B'), ('F', 'C', 'G', 'B', 'A', 'D', 'E'), ('F', 'C', 'G', 'B', 'A', 'E', 'D'), ('F', 'C', 'G', 'B', 'D', 'A', 'E'), ('F', 'C', 'G', 'B', 'D', 'E', 'A'), ('F', 'C', 'G', 'B', 'E', 'A', 'D'), ('F', 'C', 'G', 'B', 'E', 'D', 'A'), ('F', 'C', 'G', 'D', 'A', 'B', 'E'), ('F', 'C', 'G', 'D', 'A', 'E', 'B'), ('F', 'C', 'G', 'D', 'B', 'A', 'E'), ('F', 'C', 'G', 'D', 'B', 'E', 'A'), ('F', 'C', 'G', 'D', 'E', 'A', 'B'), ('F', 'C', 'G', 'D', 'E', 'B', 'A'), ('F', 'C', 'G', 'E', 'A', 'B', 'D'), ('F', 'C', 'G', 'E', 'A', 'D', 'B'), ('F', 'C', 'G', 'E', 'B', 'A', 'D'), ('F', 'C', 'G', 'E', 'B', 'D', 'A'), ('F', 'C', 'G', 'E', 'D', 'A', 'B'), ('F', 'C', 'G', 'E', 'D', 'B', 'A'), ('F', 'D', 'A', 'B', 'C', 'E', 'G'), ('F', 'D', 'A', 'B', 'C', 'G', 'E'), ('F', 'D', 'A', 'B', 'E', 'C', 'G'), ('F', 'D', 'A', 'B', 'E', 'G', 'C'), ('F', 'D', 'A', 'B', 'G', 'C', 'E'), ('F', 'D', 'A', 'B', 'G', 'E', 'C'), ('F', 'D', 'A', 'C', 'B', 'E', 'G'), ('F', 'D', 'A', 'C', 'B', 'G', 'E'), ('F', 'D', 'A', 'C', 'E', 'B', 'G'), ('F', 'D', 'A', 'C', 'E', 'G', 'B'), ('F', 'D', 'A', 'C', 'G', 'B', 'E'), ('F', 'D', 'A', 'C', 'G', 'E', 'B'), ('F', 'D', 'A', 'E', 'B', 'C', 'G'), ('F', 'D', 'A', 'E', 'B', 'G', 'C'), ('F', 'D', 'A', 'E', 'C', 'B', 'G'), ('F', 'D', 'A', 'E', 'C', 'G', 'B'), ('F', 'D', 'A', 'E', 'G', 'B', 'C'), ('F', 'D', 'A', 'E', 'G', 'C', 'B'), ('F', 'D', 'A', 'G', 'B', 'C', 'E'), ('F', 'D', 'A', 'G', 'B', 'E', 'C'), ('F', 'D', 'A', 'G', 'C', 'B', 'E'), ('F', 'D', 'A', 'G', 'C', 'E', 'B'), ('F', 'D', 'A', 'G', 'E', 'B', 'C'), ('F', 'D', 'A', 'G', 'E', 'C', 'B'), ('F', 'D', 'B', 'A', 'C', 'E', 'G'), ('F', 'D', 'B', 'A', 'C', 'G', 'E'), ('F', 'D', 'B', 'A', 'E', 'C', 'G'), ('F', 'D', 'B', 'A', 'E', 'G', 'C'), ('F', 'D', 'B', 'A', 'G', 'C', 'E'), ('F', 'D', 'B', 'A', 'G', 'E', 'C'), ('F', 'D', 'B', 'C', 'A', 'E', 'G'), ('F', 'D', 'B', 'C', 'A', 'G', 'E'), ('F', 'D', 'B', 'C', 'E', 'A', 'G'), ('F', 'D', 'B', 'C', 'E', 'G', 'A'), ('F', 'D', 'B', 'C', 'G', 'A', 'E'), ('F', 'D', 'B', 'C', 'G', 'E', 'A'), ('F', 'D', 'B', 'E', 'A', 'C', 'G'), ('F', 'D', 'B', 'E', 'A', 'G', 'C'), ('F', 'D', 'B', 'E', 'C', 'A', 'G'), ('F', 'D', 'B', 'E', 'C', 'G', 'A'), ('F', 'D', 'B', 'E', 'G', 'A', 'C'), ('F', 'D', 'B', 'E', 'G', 'C', 'A'), ('F', 'D', 'B', 'G', 'A', 'C', 'E'), ('F', 'D', 'B', 'G', 'A', 'E', 'C'), ('F', 'D', 'B', 'G', 'C', 'A', 'E'), ('F', 'D', 'B', 'G', 'C', 'E', 'A'), ('F', 'D', 'B', 'G', 'E', 'A', 'C'), ('F', 'D', 'B', 'G', 'E', 'C', 'A'), ('F', 'D', 'C', 'A', 'B', 'E', 'G'), ('F', 'D', 'C', 'A', 'B', 'G', 'E'), ('F', 'D', 'C', 'A', 'E', 'B', 'G'), ('F', 'D', 'C', 'A', 'E', 'G', 'B'), ('F', 'D', 'C', 'A', 'G', 'B', 'E'), ('F', 'D', 'C', 'A', 'G', 'E', 'B'), ('F', 'D', 'C', 'B', 'A', 'E', 'G'), ('F', 'D', 'C', 'B', 'A', 'G', 'E'), ('F', 'D', 'C', 'B', 'E', 'A', 'G'), ('F', 'D', 'C', 'B', 'E', 'G', 'A'), ('F', 'D', 'C', 'B', 'G', 'A', 'E'), ('F', 'D', 'C', 'B', 'G', 'E', 'A'), ('F', 'D', 'C', 'E', 'A', 'B', 'G'), ('F', 'D', 'C', 'E', 'A', 'G', 'B'), ('F', 'D', 'C', 'E', 'B', 'A', 'G'), ('F', 'D', 'C', 'E', 'B', 'G', 'A'), ('F', 'D', 'C', 'E', 'G', 'A', 'B'), ('F', 'D', 'C', 'E', 'G', 'B', 'A'), ('F', 'D', 'C', 'G', 'A', 'B', 'E'), ('F', 'D', 'C', 'G', 'A', 'E', 'B'), ('F', 'D', 'C', 'G', 'B', 'A', 'E'), ('F', 'D', 'C', 'G', 'B', 'E', 'A'), ('F', 'D', 'C', 'G', 'E', 'A', 'B'), ('F', 'D', 'C', 'G', 'E', 'B', 'A'), ('F', 'D', 'E', 'A', 'B', 'C', 'G'), ('F', 'D', 'E', 'A', 'B', 'G', 'C'), ('F', 'D', 'E', 'A', 'C', 'B', 'G'), ('F', 'D', 'E', 'A', 'C', 'G', 'B'), ('F', 'D', 'E', 'A', 'G', 'B', 'C'), ('F', 'D', 'E', 'A', 'G', 'C', 'B'), ('F', 'D', 'E', 'B', 'A', 'C', 'G'), ('F', 'D', 'E', 'B', 'A', 'G', 'C'), ('F', 'D', 'E', 'B', 'C', 'A', 'G'), ('F', 'D', 'E', 'B', 'C', 'G', 'A'), ('F', 'D', 'E', 'B', 'G', 'A', 'C'), ('F', 'D', 'E', 'B', 'G', 'C', 'A'), ('F', 'D', 'E', 'C', 'A', 'B', 'G'), ('F', 'D', 'E', 'C', 'A', 'G', 'B'), ('F', 'D', 'E', 'C', 'B', 'A', 'G'), ('F', 'D', 'E', 'C', 'B', 'G', 'A'), ('F', 'D', 'E', 'C', 'G', 'A', 'B'), ('F', 'D', 'E', 'C', 'G', 'B', 'A'), ('F', 'D', 'E', 'G', 'A', 'B', 'C'), ('F', 'D', 'E', 'G', 'A', 'C', 'B'), ('F', 'D', 'E', 'G', 'B', 'A', 'C'), ('F', 'D', 'E', 'G', 'B', 'C', 'A'), ('F', 'D', 'E', 'G', 'C', 'A', 'B'), ('F', 'D', 'E', 'G', 'C', 'B', 'A'), ('F', 'D', 'G', 'A', 'B', 'C', 'E'), ('F', 'D', 'G', 'A', 'B', 'E', 'C'), ('F', 'D', 'G', 'A', 'C', 'B', 'E'), ('F', 'D', 'G', 'A', 'C', 'E', 'B'), ('F', 'D', 'G', 'A', 'E', 'B', 'C'), ('F', 'D', 'G', 'A', 'E', 'C', 'B'), ('F', 'D', 'G', 'B', 'A', 'C', 'E'), ('F', 'D', 'G', 'B', 'A', 'E', 'C'), ('F', 'D', 'G', 'B', 'C', 'A', 'E'), ('F', 'D', 'G', 'B', 'C', 'E', 'A'), ('F', 'D', 'G', 'B', 'E', 'A', 'C'), ('F', 'D', 'G', 'B', 'E', 'C', 'A'), ('F', 'D', 'G', 'C', 'A', 'B', 'E'), ('F', 'D', 'G', 'C', 'A', 'E', 'B'), ('F', 'D', 'G', 'C', 'B', 'A', 'E'), ('F', 'D', 'G', 'C', 'B', 'E', 'A'), ('F', 'D', 'G', 'C', 'E', 'A', 'B'), ('F', 'D', 'G', 'C', 'E', 'B', 'A'), ('F', 'D', 'G', 'E', 'A', 'B', 'C'), ('F', 'D', 'G', 'E', 'A', 'C', 'B'), ('F', 'D', 'G', 'E', 'B', 'A', 'C'), ('F', 'D', 'G', 'E', 'B', 'C', 'A'), ('F', 'D', 'G', 'E', 'C', 'A', 'B'), ('F', 'D', 'G', 'E', 'C', 'B', 'A'), ('F', 'E', 'A', 'B', 'C', 'D', 'G'), ('F', 'E', 'A', 'B', 'C', 'G', 'D'), ('F', 'E', 'A', 'B', 'D', 'C', 'G'), ('F', 'E', 'A', 'B', 'D', 'G', 'C'), ('F', 'E', 'A', 'B', 'G', 'C', 'D'), ('F', 'E', 'A', 'B', 'G', 'D', 'C'), ('F', 'E', 'A', 'C', 'B', 'D', 'G'), ('F', 'E', 'A', 'C', 'B', 'G', 'D'), ('F', 'E', 'A', 'C', 'D', 'B', 'G'), ('F', 'E', 'A', 'C', 'D', 'G', 'B'), ('F', 'E', 'A', 'C', 'G', 'B', 'D'), ('F', 'E', 'A', 'C', 'G', 'D', 'B'), ('F', 'E', 'A', 'D', 'B', 'C', 'G'), ('F', 'E', 'A', 'D', 'B', 'G', 'C'), ('F', 'E', 'A', 'D', 'C', 'B', 'G'), ('F', 'E', 'A', 'D', 'C', 'G', 'B'), ('F', 'E', 'A', 'D', 'G', 'B', 'C'), ('F', 'E', 'A', 'D', 'G', 'C', 'B'), ('F', 'E', 'A', 'G', 'B', 'C', 'D'), ('F', 'E', 'A', 'G', 'B', 'D', 'C'), ('F', 'E', 'A', 'G', 'C', 'B', 'D'), ('F', 'E', 'A', 'G', 'C', 'D', 'B'), ('F', 'E', 'A', 'G', 'D', 'B', 'C'), ('F', 'E', 'A', 'G', 'D', 'C', 'B'), ('F', 'E', 'B', 'A', 'C', 'D', 'G'), ('F', 'E', 'B', 'A', 'C', 'G', 'D'), ('F', 'E', 'B', 'A', 'D', 'C', 'G'), ('F', 'E', 'B', 'A', 'D', 'G', 'C'), ('F', 'E', 'B', 'A', 'G', 'C', 'D'), ('F', 'E', 'B', 'A', 'G', 'D', 'C'), ('F', 'E', 'B', 'C', 'A', 'D', 'G'), ('F', 'E', 'B', 'C', 'A', 'G', 'D'), ('F', 'E', 'B', 'C', 'D', 'A', 'G'), ('F', 'E', 'B', 'C', 'D', 'G', 'A'), ('F', 'E', 'B', 'C', 'G', 'A', 'D'), ('F', 'E', 'B', 'C', 'G', 'D', 'A'), ('F', 'E', 'B', 'D', 'A', 'C', 'G'), ('F', 'E', 'B', 'D', 'A', 'G', 'C'), ('F', 'E', 'B', 'D', 'C', 'A', 'G'), ('F', 'E', 'B', 'D', 'C', 'G', 'A'), ('F', 'E', 'B', 'D', 'G', 'A', 'C'), ('F', 'E', 'B', 'D', 'G', 'C', 'A'), ('F', 'E', 'B', 'G', 'A', 'C', 'D'), ('F', 'E', 'B', 'G', 'A', 'D', 'C'), ('F', 'E', 'B', 'G', 'C', 'A', 'D'), ('F', 'E', 'B', 'G', 'C', 'D', 'A'), ('F', 'E', 'B', 'G', 'D', 'A', 'C'), ('F', 'E', 'B', 'G', 'D', 'C', 'A'), ('F', 'E', 'C', 'A', 'B', 'D', 'G'), ('F', 'E', 'C', 'A', 'B', 'G', 'D'), ('F', 'E', 'C', 'A', 'D', 'B', 'G'), ('F', 'E', 'C', 'A', 'D', 'G', 'B'), ('F', 'E', 'C', 'A', 'G', 'B', 'D'), ('F', 'E', 'C', 'A', 'G', 'D', 'B'), ('F', 'E', 'C', 'B', 'A', 'D', 'G'), ('F', 'E', 'C', 'B', 'A', 'G', 'D'), ('F', 'E', 'C', 'B', 'D', 'A', 'G'), ('F', 'E', 'C', 'B', 'D', 'G', 'A'), ('F', 'E', 'C', 'B', 'G', 'A', 'D'), ('F', 'E', 'C', 'B', 'G', 'D', 'A'), ('F', 'E', 'C', 'D', 'A', 'B', 'G'), ('F', 'E', 'C', 'D', 'A', 'G', 'B'), ('F', 'E', 'C', 'D', 'B', 'A', 'G'), ('F', 'E', 'C', 'D', 'B', 'G', 'A'), ('F', 'E', 'C', 'D', 'G', 'A', 'B'), ('F', 'E', 'C', 'D', 'G', 'B', 'A'), ('F', 'E', 'C', 'G', 'A', 'B', 'D'), ('F', 'E', 'C', 'G', 'A', 'D', 'B'), ('F', 'E', 'C', 'G', 'B', 'A', 'D'), ('F', 'E', 'C', 'G', 'B', 'D', 'A'), ('F', 'E', 'C', 'G', 'D', 'A', 'B'), ('F', 'E', 'C', 'G', 'D', 'B', 'A'), ('F', 'E', 'D', 'A', 'B', 'C', 'G'), ('F', 'E', 'D', 'A', 'B', 'G', 'C'), ('F', 'E', 'D', 'A', 'C', 'B', 'G'), ('F', 'E', 'D', 'A', 'C', 'G', 'B'), ('F', 'E', 'D', 'A', 'G', 'B', 'C'), ('F', 'E', 'D', 'A', 'G', 'C', 'B'), ('F', 'E', 'D', 'B', 'A', 'C', 'G'), ('F', 'E', 'D', 'B', 'A', 'G', 'C'), ('F', 'E', 'D', 'B', 'C', 'A', 'G'), ('F', 'E', 'D', 'B', 'C', 'G', 'A'), ('F', 'E', 'D', 'B', 'G', 'A', 'C'), ('F', 'E', 'D', 'B', 'G', 'C', 'A'), ('F', 'E', 'D', 'C', 'A', 'B', 'G'), ('F', 'E', 'D', 'C', 'A', 'G', 'B'), ('F', 'E', 'D', 'C', 'B', 'A', 'G'), ('F', 'E', 'D', 'C', 'B', 'G', 'A'), ('F', 'E', 'D', 'C', 'G', 'A', 'B'), ('F', 'E', 'D', 'C', 'G', 'B', 'A'), ('F', 'E', 'D', 'G', 'A', 'B', 'C'), ('F', 'E', 'D', 'G', 'A', 'C', 'B'), ('F', 'E', 'D', 'G', 'B', 'A', 'C'), ('F', 'E', 'D', 'G', 'B', 'C', 'A'), ('F', 'E', 'D', 'G', 'C', 'A', 'B'), ('F', 'E', 'D', 'G', 'C', 'B', 'A'), ('F', 'E', 'G', 'A', 'B', 'C', 'D'), ('F', 'E', 'G', 'A', 'B', 'D', 'C'), ('F', 'E', 'G', 'A', 'C', 'B', 'D'), ('F', 'E', 'G', 'A', 'C', 'D', 'B'), ('F', 'E', 'G', 'A', 'D', 'B', 'C'), ('F', 'E', 'G', 'A', 'D', 'C', 'B'), ('F', 'E', 'G', 'B', 'A', 'C', 'D'), ('F', 'E', 'G', 'B', 'A', 'D', 'C'), ('F', 'E', 'G', 'B', 'C', 'A', 'D'), ('F', 'E', 'G', 'B', 'C', 'D', 'A'), ('F', 'E', 'G', 'B', 'D', 'A', 'C'), ('F', 'E', 'G', 'B', 'D', 'C', 'A'), ('F', 'E', 'G', 'C', 'A', 'B', 'D'), ('F', 'E', 'G', 'C', 'A', 'D', 'B'), ('F', 'E', 'G', 'C', 'B', 'A', 'D'), ('F', 'E', 'G', 'C', 'B', 'D', 'A'), ('F', 'E', 'G', 'C', 'D', 'A', 'B'), ('F', 'E', 'G', 'C', 'D', 'B', 'A'), ('F', 'E', 'G', 'D', 'A', 'B', 'C'), ('F', 'E', 'G', 'D', 'A', 'C', 'B'), ('F', 'E', 'G', 'D', 'B', 'A', 'C'), ('F', 'E', 'G', 'D', 'B', 'C', 'A'), ('F', 'E', 'G', 'D', 'C', 'A', 'B'), ('F', 'E', 'G', 'D', 'C', 'B', 'A'), ('F', 'G', 'A', 'B', 'C', 'D', 'E'), ('F', 'G', 'A', 'B', 'C', 'E', 'D'), ('F', 'G', 'A', 'B', 'D', 'C', 'E'), ('F', 'G', 'A', 'B', 'D', 'E', 'C'), ('F', 'G', 'A', 'B', 'E', 'C', 'D'), ('F', 'G', 'A', 'B', 'E', 'D', 'C'), ('F', 'G', 'A', 'C', 'B', 'D', 'E'), ('F', 'G', 'A', 'C', 'B', 'E', 'D'), ('F', 'G', 'A', 'C', 'D', 'B', 'E'), ('F', 'G', 'A', 'C', 'D', 'E', 'B'), ('F', 'G', 'A', 'C', 'E', 'B', 'D'), ('F', 'G', 'A', 'C', 'E', 'D', 'B'), ('F', 'G', 'A', 'D', 'B', 'C', 'E'), ('F', 'G', 'A', 'D', 'B', 'E', 'C'), ('F', 'G', 'A', 'D', 'C', 'B', 'E'), ('F', 'G', 'A', 'D', 'C', 'E', 'B'), ('F', 'G', 'A', 'D', 'E', 'B', 'C'), ('F', 'G', 'A', 'D', 'E', 'C', 'B'), ('F', 'G', 'A', 'E', 'B', 'C', 'D'), ('F', 'G', 'A', 'E', 'B', 'D', 'C'), ('F', 'G', 'A', 'E', 'C', 'B', 'D'), ('F', 'G', 'A', 'E', 'C', 'D', 'B'), ('F', 'G', 'A', 'E', 'D', 'B', 'C'), ('F', 'G', 'A', 'E', 'D', 'C', 'B'), ('F', 'G', 'B', 'A', 'C', 'D', 'E'), ('F', 'G', 'B', 'A', 'C', 'E', 'D'), ('F', 'G', 'B', 'A', 'D', 'C', 'E'), ('F', 'G', 'B', 'A', 'D', 'E', 'C'), ('F', 'G', 'B', 'A', 'E', 'C', 'D'), ('F', 'G', 'B', 'A', 'E', 'D', 'C'), ('F', 'G', 'B', 'C', 'A', 'D', 'E'), ('F', 'G', 'B', 'C', 'A', 'E', 'D'), ('F', 'G', 'B', 'C', 'D', 'A', 'E'), ('F', 'G', 'B', 'C', 'D', 'E', 'A'), ('F', 'G', 'B', 'C', 'E', 'A', 'D'), ('F', 'G', 'B', 'C', 'E', 'D', 'A'), ('F', 'G', 'B', 'D', 'A', 'C', 'E'), ('F', 'G', 'B', 'D', 'A', 'E', 'C'), ('F', 'G', 'B', 'D', 'C', 'A', 'E'), ('F', 'G', 'B', 'D', 'C', 'E', 'A'), ('F', 'G', 'B', 'D', 'E', 'A', 'C'), ('F', 'G', 'B', 'D', 'E', 'C', 'A'), ('F', 'G', 'B', 'E', 'A', 'C', 'D'), ('F', 'G', 'B', 'E', 'A', 'D', 'C'), ('F', 'G', 'B', 'E', 'C', 'A', 'D'), ('F', 'G', 'B', 'E', 'C', 'D', 'A'), ('F', 'G', 'B', 'E', 'D', 'A', 'C'), ('F', 'G', 'B', 'E', 'D', 'C', 'A'), ('F', 'G', 'C', 'A', 'B', 'D', 'E'), ('F', 'G', 'C', 'A', 'B', 'E', 'D'), ('F', 'G', 'C', 'A', 'D', 'B', 'E'), ('F', 'G', 'C', 'A', 'D', 'E', 'B'), ('F', 'G', 'C', 'A', 'E', 'B', 'D'), ('F', 'G', 'C', 'A', 'E', 'D', 'B'), ('F', 'G', 'C', 'B', 'A', 'D', 'E'), ('F', 'G', 'C', 'B', 'A', 'E', 'D'), ('F', 'G', 'C', 'B', 'D', 'A', 'E'), ('F', 'G', 'C', 'B', 'D', 'E', 'A'), ('F', 'G', 'C', 'B', 'E', 'A', 'D'), ('F', 'G', 'C', 'B', 'E', 'D', 'A'), ('F', 'G', 'C', 'D', 'A', 'B', 'E'), ('F', 'G', 'C', 'D', 'A', 'E', 'B'), ('F', 'G', 'C', 'D', 'B', 'A', 'E'), ('F', 'G', 'C', 'D', 'B', 'E', 'A'), ('F', 'G', 'C', 'D', 'E', 'A', 'B'), ('F', 'G', 'C', 'D', 'E', 'B', 'A'), ('F', 'G', 'C', 'E', 'A', 'B', 'D'), ('F', 'G', 'C', 'E', 'A', 'D', 'B'), ('F', 'G', 'C', 'E', 'B', 'A', 'D'), ('F', 'G', 'C', 'E', 'B', 'D', 'A'), ('F', 'G', 'C', 'E', 'D', 'A', 'B'), ('F', 'G', 'C', 'E', 'D', 'B', 'A'), ('F', 'G', 'D', 'A', 'B', 'C', 'E'), ('F', 'G', 'D', 'A', 'B', 'E', 'C'), ('F', 'G', 'D', 'A', 'C', 'B', 'E'), ('F', 'G', 'D', 'A', 'C', 'E', 'B'), ('F', 'G', 'D', 'A', 'E', 'B', 'C'), ('F', 'G', 'D', 'A', 'E', 'C', 'B'), ('F', 'G', 'D', 'B', 'A', 'C', 'E'), ('F', 'G', 'D', 'B', 'A', 'E', 'C'), ('F', 'G', 'D', 'B', 'C', 'A', 'E'), ('F', 'G', 'D', 'B', 'C', 'E', 'A'), ('F', 'G', 'D', 'B', 'E', 'A', 'C'), ('F', 'G', 'D', 'B', 'E', 'C', 'A'), ('F', 'G', 'D', 'C', 'A', 'B', 'E'), ('F', 'G', 'D', 'C', 'A', 'E', 'B'), ('F', 'G', 'D', 'C', 'B', 'A', 'E'), ('F', 'G', 'D', 'C', 'B', 'E', 'A'), ('F', 'G', 'D', 'C', 'E', 'A', 'B'), ('F', 'G', 'D', 'C', 'E', 'B', 'A'), ('F', 'G', 'D', 'E', 'A', 'B', 'C'), ('F', 'G', 'D', 'E', 'A', 'C', 'B'), ('F', 'G', 'D', 'E', 'B', 'A', 'C'), ('F', 'G', 'D', 'E', 'B', 'C', 'A'), ('F', 'G', 'D', 'E', 'C', 'A', 'B'), ('F', 'G', 'D', 'E', 'C', 'B', 'A'), ('F', 'G', 'E', 'A', 'B', 'C', 'D'), ('F', 'G', 'E', 'A', 'B', 'D', 'C'), ('F', 'G', 'E', 'A', 'C', 'B', 'D'), ('F', 'G', 'E', 'A', 'C', 'D', 'B'), ('F', 'G', 'E', 'A', 'D', 'B', 'C'), ('F', 'G', 'E', 'A', 'D', 'C', 'B'), ('F', 'G', 'E', 'B', 'A', 'C', 'D'), ('F', 'G', 'E', 'B', 'A', 'D', 'C'), ('F', 'G', 'E', 'B', 'C', 'A', 'D'), ('F', 'G', 'E', 'B', 'C', 'D', 'A'), ('F', 'G', 'E', 'B', 'D', 'A', 'C'), ('F', 'G', 'E', 'B', 'D', 'C', 'A'), ('F', 'G', 'E', 'C', 'A', 'B', 'D'), ('F', 'G', 'E', 'C', 'A', 'D', 'B'), ('F', 'G', 'E', 'C', 'B', 'A', 'D'), ('F', 'G', 'E', 'C', 'B', 'D', 'A'), ('F', 'G', 'E', 'C', 'D', 'A', 'B'), ('F', 'G', 'E', 'C', 'D', 'B', 'A'), ('F', 'G', 'E', 'D', 'A', 'B', 'C'), ('F', 'G', 'E', 'D', 'A', 'C', 'B'), ('F', 'G', 'E', 'D', 'B', 'A', 'C'), ('F', 'G', 'E', 'D', 'B', 'C', 'A'), ('F', 'G', 'E', 'D', 'C', 'A', 'B'), ('F', 'G', 'E', 'D', 'C', 'B', 'A'), ('G', 'A', 'B', 'C', 'D', 'E', 'F'), ('G', 'A', 'B', 'C', 'D', 'F', 'E'), ('G', 'A', 'B', 'C', 'E', 'D', 'F'), ('G', 'A', 'B', 'C', 'E', 'F', 'D'), ('G', 'A', 'B', 'C', 'F', 'D', 'E'), ('G', 'A', 'B', 'C', 'F', 'E', 'D'), ('G', 'A', 'B', 'D', 'C', 'E', 'F'), ('G', 'A', 'B', 'D', 'C', 'F', 'E'), ('G', 'A', 'B', 'D', 'E', 'C', 'F'), ('G', 'A', 'B', 'D', 'E', 'F', 'C'), ('G', 'A', 'B', 'D', 'F', 'C', 'E'), ('G', 'A', 'B', 'D', 'F', 'E', 'C'), ('G', 'A', 'B', 'E', 'C', 'D', 'F'), ('G', 'A', 'B', 'E', 'C', 'F', 'D'), ('G', 'A', 'B', 'E', 'D', 'C', 'F'), ('G', 'A', 'B', 'E', 'D', 'F', 'C'), ('G', 'A', 'B', 'E', 'F', 'C', 'D'), ('G', 'A', 'B', 'E', 'F', 'D', 'C'), ('G', 'A', 'B', 'F', 'C', 'D', 'E'), ('G', 'A', 'B', 'F', 'C', 'E', 'D'), ('G', 'A', 'B', 'F', 'D', 'C', 'E'), ('G', 'A', 'B', 'F', 'D', 'E', 'C'), ('G', 'A', 'B', 'F', 'E', 'C', 'D'), ('G', 'A', 'B', 'F', 'E', 'D', 'C'), ('G', 'A', 'C', 'B', 'D', 'E', 'F'), ('G', 'A', 'C', 'B', 'D', 'F', 'E'), ('G', 'A', 'C', 'B', 'E', 'D', 'F'), ('G', 'A', 'C', 'B', 'E', 'F', 'D'), ('G', 'A', 'C', 'B', 'F', 'D', 'E'), ('G', 'A', 'C', 'B', 'F', 'E', 'D'), ('G', 'A', 'C', 'D', 'B', 'E', 'F'), ('G', 'A', 'C', 'D', 'B', 'F', 'E'), ('G', 'A', 'C', 'D', 'E', 'B', 'F'), ('G', 'A', 'C', 'D', 'E', 'F', 'B'), ('G', 'A', 'C', 'D', 'F', 'B', 'E'), ('G', 'A', 'C', 'D', 'F', 'E', 'B'), ('G', 'A', 'C', 'E', 'B', 'D', 'F'), ('G', 'A', 'C', 'E', 'B', 'F', 'D'), ('G', 'A', 'C', 'E', 'D', 'B', 'F'), ('G', 'A', 'C', 'E', 'D', 'F', 'B'), ('G', 'A', 'C', 'E', 'F', 'B', 'D'), ('G', 'A', 'C', 'E', 'F', 'D', 'B'), ('G', 'A', 'C', 'F', 'B', 'D', 'E'), ('G', 'A', 'C', 'F', 'B', 'E', 'D'), ('G', 'A', 'C', 'F', 'D', 'B', 'E'), ('G', 'A', 'C', 'F', 'D', 'E', 'B'), ('G', 'A', 'C', 'F', 'E', 'B', 'D'), ('G', 'A', 'C', 'F', 'E', 'D', 'B'), ('G', 'A', 'D', 'B', 'C', 'E', 'F'), ('G', 'A', 'D', 'B', 'C', 'F', 'E'), ('G', 'A', 'D', 'B', 'E', 'C', 'F'), ('G', 'A', 'D', 'B', 'E', 'F', 'C'), ('G', 'A', 'D', 'B', 'F', 'C', 'E'), ('G', 'A', 'D', 'B', 'F', 'E', 'C'), ('G', 'A', 'D', 'C', 'B', 'E', 'F'), ('G', 'A', 'D', 'C', 'B', 'F', 'E'), ('G', 'A', 'D', 'C', 'E', 'B', 'F'), ('G', 'A', 'D', 'C', 'E', 'F', 'B'), ('G', 'A', 'D', 'C', 'F', 'B', 'E'), ('G', 'A', 'D', 'C', 'F', 'E', 'B'), ('G', 'A', 'D', 'E', 'B', 'C', 'F'), ('G', 'A', 'D', 'E', 'B', 'F', 'C'), ('G', 'A', 'D', 'E', 'C', 'B', 'F'), ('G', 'A', 'D', 'E', 'C', 'F', 'B'), ('G', 'A', 'D', 'E', 'F', 'B', 'C'), ('G', 'A', 'D', 'E', 'F', 'C', 'B'), ('G', 'A', 'D', 'F', 'B', 'C', 'E'), ('G', 'A', 'D', 'F', 'B', 'E', 'C'), ('G', 'A', 'D', 'F', 'C', 'B', 'E'), ('G', 'A', 'D', 'F', 'C', 'E', 'B'), ('G', 'A', 'D', 'F', 'E', 'B', 'C'), ('G', 'A', 'D', 'F', 'E', 'C', 'B'), ('G', 'A', 'E', 'B', 'C', 'D', 'F'), ('G', 'A', 'E', 'B', 'C', 'F', 'D'), ('G', 'A', 'E', 'B', 'D', 'C', 'F'), ('G', 'A', 'E', 'B', 'D', 'F', 'C'), ('G', 'A', 'E', 'B', 'F', 'C', 'D'), ('G', 'A', 'E', 'B', 'F', 'D', 'C'), ('G', 'A', 'E', 'C', 'B', 'D', 'F'), ('G', 'A', 'E', 'C', 'B', 'F', 'D'), ('G', 'A', 'E', 'C', 'D', 'B', 'F'), ('G', 'A', 'E', 'C', 'D', 'F', 'B'), ('G', 'A', 'E', 'C', 'F', 'B', 'D'), ('G', 'A', 'E', 'C', 'F', 'D', 'B'), ('G', 'A', 'E', 'D', 'B', 'C', 'F'), ('G', 'A', 'E', 'D', 'B', 'F', 'C'), ('G', 'A', 'E', 'D', 'C', 'B', 'F'), ('G', 'A', 'E', 'D', 'C', 'F', 'B'), ('G', 'A', 'E', 'D', 'F', 'B', 'C'), ('G', 'A', 'E', 'D', 'F', 'C', 'B'), ('G', 'A', 'E', 'F', 'B', 'C', 'D'), ('G', 'A', 'E', 'F', 'B', 'D', 'C'), ('G', 'A', 'E', 'F', 'C', 'B', 'D'), ('G', 'A', 'E', 'F', 'C', 'D', 'B'), ('G', 'A', 'E', 'F', 'D', 'B', 'C'), ('G', 'A', 'E', 'F', 'D', 'C', 'B'), ('G', 'A', 'F', 'B', 'C', 'D', 'E'), ('G', 'A', 'F', 'B', 'C', 'E', 'D'), ('G', 'A', 'F', 'B', 'D', 'C', 'E'), ('G', 'A', 'F', 'B', 'D', 'E', 'C'), ('G', 'A', 'F', 'B', 'E', 'C', 'D'), ('G', 'A', 'F', 'B', 'E', 'D', 'C'), ('G', 'A', 'F', 'C', 'B', 'D', 'E'), ('G', 'A', 'F', 'C', 'B', 'E', 'D'), ('G', 'A', 'F', 'C', 'D', 'B', 'E'), ('G', 'A', 'F', 'C', 'D', 'E', 'B'), ('G', 'A', 'F', 'C', 'E', 'B', 'D'), ('G', 'A', 'F', 'C', 'E', 'D', 'B'), ('G', 'A', 'F', 'D', 'B', 'C', 'E'), ('G', 'A', 'F', 'D', 'B', 'E', 'C'), ('G', 'A', 'F', 'D', 'C', 'B', 'E'), ('G', 'A', 'F', 'D', 'C', 'E', 'B'), ('G', 'A', 'F', 'D', 'E', 'B', 'C'), ('G', 'A', 'F', 'D', 'E', 'C', 'B'), ('G', 'A', 'F', 'E', 'B', 'C', 'D'), ('G', 'A', 'F', 'E', 'B', 'D', 'C'), ('G', 'A', 'F', 'E', 'C', 'B', 'D'), ('G', 'A', 'F', 'E', 'C', 'D', 'B'), ('G', 'A', 'F', 'E', 'D', 'B', 'C'), ('G', 'A', 'F', 'E', 'D', 'C', 'B'), ('G', 'B', 'A', 'C', 'D', 'E', 'F'), ('G', 'B', 'A', 'C', 'D', 'F', 'E'), ('G', 'B', 'A', 'C', 'E', 'D', 'F'), ('G', 'B', 'A', 'C', 'E', 'F', 'D'), ('G', 'B', 'A', 'C', 'F', 'D', 'E'), ('G', 'B', 'A', 'C', 'F', 'E', 'D'), ('G', 'B', 'A', 'D', 'C', 'E', 'F'), ('G', 'B', 'A', 'D', 'C', 'F', 'E'), ('G', 'B', 'A', 'D', 'E', 'C', 'F'), ('G', 'B', 'A', 'D', 'E', 'F', 'C'), ('G', 'B', 'A', 'D', 'F', 'C', 'E'), ('G', 'B', 'A', 'D', 'F', 'E', 'C'), ('G', 'B', 'A', 'E', 'C', 'D', 'F'), ('G', 'B', 'A', 'E', 'C', 'F', 'D'), ('G', 'B', 'A', 'E', 'D', 'C', 'F'), ('G', 'B', 'A', 'E', 'D', 'F', 'C'), ('G', 'B', 'A', 'E', 'F', 'C', 'D'), ('G', 'B', 'A', 'E', 'F', 'D', 'C'), ('G', 'B', 'A', 'F', 'C', 'D', 'E'), ('G', 'B', 'A', 'F', 'C', 'E', 'D'), ('G', 'B', 'A', 'F', 'D', 'C', 'E'), ('G', 'B', 'A', 'F', 'D', 'E', 'C'), ('G', 'B', 'A', 'F', 'E', 'C', 'D'), ('G', 'B', 'A', 'F', 'E', 'D', 'C'), ('G', 'B', 'C', 'A', 'D', 'E', 'F'), ('G', 'B', 'C', 'A', 'D', 'F', 'E'), ('G', 'B', 'C', 'A', 'E', 'D', 'F'), ('G', 'B', 'C', 'A', 'E', 'F', 'D'), ('G', 'B', 'C', 'A', 'F', 'D', 'E'), ('G', 'B', 'C', 'A', 'F', 'E', 'D'), ('G', 'B', 'C', 'D', 'A', 'E', 'F'), ('G', 'B', 'C', 'D', 'A', 'F', 'E'), ('G', 'B', 'C', 'D', 'E', 'A', 'F'), ('G', 'B', 'C', 'D', 'E', 'F', 'A'), ('G', 'B', 'C', 'D', 'F', 'A', 'E'), ('G', 'B', 'C', 'D', 'F', 'E', 'A'), ('G', 'B', 'C', 'E', 'A', 'D', 'F'), ('G', 'B', 'C', 'E', 'A', 'F', 'D'), ('G', 'B', 'C', 'E', 'D', 'A', 'F'), ('G', 'B', 'C', 'E', 'D', 'F', 'A'), ('G', 'B', 'C', 'E', 'F', 'A', 'D'), ('G', 'B', 'C', 'E', 'F', 'D', 'A'), ('G', 'B', 'C', 'F', 'A', 'D', 'E'), ('G', 'B', 'C', 'F', 'A', 'E', 'D'), ('G', 'B', 'C', 'F', 'D', 'A', 'E'), ('G', 'B', 'C', 'F', 'D', 'E', 'A'), ('G', 'B', 'C', 'F', 'E', 'A', 'D'), ('G', 'B', 'C', 'F', 'E', 'D', 'A'), ('G', 'B', 'D', 'A', 'C', 'E', 'F'), ('G', 'B', 'D', 'A', 'C', 'F', 'E'), ('G', 'B', 'D', 'A', 'E', 'C', 'F'), ('G', 'B', 'D', 'A', 'E', 'F', 'C'), ('G', 'B', 'D', 'A', 'F', 'C', 'E'), ('G', 'B', 'D', 'A', 'F', 'E', 'C'), ('G', 'B', 'D', 'C', 'A', 'E', 'F'), ('G', 'B', 'D', 'C', 'A', 'F', 'E'), ('G', 'B', 'D', 'C', 'E', 'A', 'F'), ('G', 'B', 'D', 'C', 'E', 'F', 'A'), ('G', 'B', 'D', 'C', 'F', 'A', 'E'), ('G', 'B', 'D', 'C', 'F', 'E', 'A'), ('G', 'B', 'D', 'E', 'A', 'C', 'F'), ('G', 'B', 'D', 'E', 'A', 'F', 'C'), ('G', 'B', 'D', 'E', 'C', 'A', 'F'), ('G', 'B', 'D', 'E', 'C', 'F', 'A'), ('G', 'B', 'D', 'E', 'F', 'A', 'C'), ('G', 'B', 'D', 'E', 'F', 'C', 'A'), ('G', 'B', 'D', 'F', 'A', 'C', 'E'), ('G', 'B', 'D', 'F', 'A', 'E', 'C'), ('G', 'B', 'D', 'F', 'C', 'A', 'E'), ('G', 'B', 'D', 'F', 'C', 'E', 'A'), ('G', 'B', 'D', 'F', 'E', 'A', 'C'), ('G', 'B', 'D', 'F', 'E', 'C', 'A'), ('G', 'B', 'E', 'A', 'C', 'D', 'F'), ('G', 'B', 'E', 'A', 'C', 'F', 'D'), ('G', 'B', 'E', 'A', 'D', 'C', 'F'), ('G', 'B', 'E', 'A', 'D', 'F', 'C'), ('G', 'B', 'E', 'A', 'F', 'C', 'D'), ('G', 'B', 'E', 'A', 'F', 'D', 'C'), ('G', 'B', 'E', 'C', 'A', 'D', 'F'), ('G', 'B', 'E', 'C', 'A', 'F', 'D'), ('G', 'B', 'E', 'C', 'D', 'A', 'F'), ('G', 'B', 'E', 'C', 'D', 'F', 'A'), ('G', 'B', 'E', 'C', 'F', 'A', 'D'), ('G', 'B', 'E', 'C', 'F', 'D', 'A'), ('G', 'B', 'E', 'D', 'A', 'C', 'F'), ('G', 'B', 'E', 'D', 'A', 'F', 'C'), ('G', 'B', 'E', 'D', 'C', 'A', 'F'), ('G', 'B', 'E', 'D', 'C', 'F', 'A'), ('G', 'B', 'E', 'D', 'F', 'A', 'C'), ('G', 'B', 'E', 'D', 'F', 'C', 'A'), ('G', 'B', 'E', 'F', 'A', 'C', 'D'), ('G', 'B', 'E', 'F', 'A', 'D', 'C'), ('G', 'B', 'E', 'F', 'C', 'A', 'D'), ('G', 'B', 'E', 'F', 'C', 'D', 'A'), ('G', 'B', 'E', 'F', 'D', 'A', 'C'), ('G', 'B', 'E', 'F', 'D', 'C', 'A'), ('G', 'B', 'F', 'A', 'C', 'D', 'E'), ('G', 'B', 'F', 'A', 'C', 'E', 'D'), ('G', 'B', 'F', 'A', 'D', 'C', 'E'), ('G', 'B', 'F', 'A', 'D', 'E', 'C'), ('G', 'B', 'F', 'A', 'E', 'C', 'D'), ('G', 'B', 'F', 'A', 'E', 'D', 'C'), ('G', 'B', 'F', 'C', 'A', 'D', 'E'), ('G', 'B', 'F', 'C', 'A', 'E', 'D'), ('G', 'B', 'F', 'C', 'D', 'A', 'E'), ('G', 'B', 'F', 'C', 'D', 'E', 'A'), ('G', 'B', 'F', 'C', 'E', 'A', 'D'), ('G', 'B', 'F', 'C', 'E', 'D', 'A'), ('G', 'B', 'F', 'D', 'A', 'C', 'E'), ('G', 'B', 'F', 'D', 'A', 'E', 'C'), ('G', 'B', 'F', 'D', 'C', 'A', 'E'), ('G', 'B', 'F', 'D', 'C', 'E', 'A'), ('G', 'B', 'F', 'D', 'E', 'A', 'C'), ('G', 'B', 'F', 'D', 'E', 'C', 'A'), ('G', 'B', 'F', 'E', 'A', 'C', 'D'), ('G', 'B', 'F', 'E', 'A', 'D', 'C'), ('G', 'B', 'F', 'E', 'C', 'A', 'D'), ('G', 'B', 'F', 'E', 'C', 'D', 'A'), ('G', 'B', 'F', 'E', 'D', 'A', 'C'), ('G', 'B', 'F', 'E', 'D', 'C', 'A'), ('G', 'C', 'A', 'B', 'D', 'E', 'F'), ('G', 'C', 'A', 'B', 'D', 'F', 'E'), ('G', 'C', 'A', 'B', 'E', 'D', 'F'), ('G', 'C', 'A', 'B', 'E', 'F', 'D'), ('G', 'C', 'A', 'B', 'F', 'D', 'E'), ('G', 'C', 'A', 'B', 'F', 'E', 'D'), ('G', 'C', 'A', 'D', 'B', 'E', 'F'), ('G', 'C', 'A', 'D', 'B', 'F', 'E'), ('G', 'C', 'A', 'D', 'E', 'B', 'F'), ('G', 'C', 'A', 'D', 'E', 'F', 'B'), ('G', 'C', 'A', 'D', 'F', 'B', 'E'), ('G', 'C', 'A', 'D', 'F', 'E', 'B'), ('G', 'C', 'A', 'E', 'B', 'D', 'F'), ('G', 'C', 'A', 'E', 'B', 'F', 'D'), ('G', 'C', 'A', 'E', 'D', 'B', 'F'), ('G', 'C', 'A', 'E', 'D', 'F', 'B'), ('G', 'C', 'A', 'E', 'F', 'B', 'D'), ('G', 'C', 'A', 'E', 'F', 'D', 'B'), ('G', 'C', 'A', 'F', 'B', 'D', 'E'), ('G', 'C', 'A', 'F', 'B', 'E', 'D'), ('G', 'C', 'A', 'F', 'D', 'B', 'E'), ('G', 'C', 'A', 'F', 'D', 'E', 'B'), ('G', 'C', 'A', 'F', 'E', 'B', 'D'), ('G', 'C', 'A', 'F', 'E', 'D', 'B'), ('G', 'C', 'B', 'A', 'D', 'E', 'F'), ('G', 'C', 'B', 'A', 'D', 'F', 'E'), ('G', 'C', 'B', 'A', 'E', 'D', 'F'), ('G', 'C', 'B', 'A', 'E', 'F', 'D'), ('G', 'C', 'B', 'A', 'F', 'D', 'E'), ('G', 'C', 'B', 'A', 'F', 'E', 'D'), ('G', 'C', 'B', 'D', 'A', 'E', 'F'), ('G', 'C', 'B', 'D', 'A', 'F', 'E'), ('G', 'C', 'B', 'D', 'E', 'A', 'F'), ('G', 'C', 'B', 'D', 'E', 'F', 'A'), ('G', 'C', 'B', 'D', 'F', 'A', 'E'), ('G', 'C', 'B', 'D', 'F', 'E', 'A'), ('G', 'C', 'B', 'E', 'A', 'D', 'F'), ('G', 'C', 'B', 'E', 'A', 'F', 'D'), ('G', 'C', 'B', 'E', 'D', 'A', 'F'), ('G', 'C', 'B', 'E', 'D', 'F', 'A'), ('G', 'C', 'B', 'E', 'F', 'A', 'D'), ('G', 'C', 'B', 'E', 'F', 'D', 'A'), ('G', 'C', 'B', 'F', 'A', 'D', 'E'), ('G', 'C', 'B', 'F', 'A', 'E', 'D'), ('G', 'C', 'B', 'F', 'D', 'A', 'E'), ('G', 'C', 'B', 'F', 'D', 'E', 'A'), ('G', 'C', 'B', 'F', 'E', 'A', 'D'), ('G', 'C', 'B', 'F', 'E', 'D', 'A'), ('G', 'C', 'D', 'A', 'B', 'E', 'F'), ('G', 'C', 'D', 'A', 'B', 'F', 'E'), ('G', 'C', 'D', 'A', 'E', 'B', 'F'), ('G', 'C', 'D', 'A', 'E', 'F', 'B'), ('G', 'C', 'D', 'A', 'F', 'B', 'E'), ('G', 'C', 'D', 'A', 'F', 'E', 'B'), ('G', 'C', 'D', 'B', 'A', 'E', 'F'), ('G', 'C', 'D', 'B', 'A', 'F', 'E'), ('G', 'C', 'D', 'B', 'E', 'A', 'F'), ('G', 'C', 'D', 'B', 'E', 'F', 'A'), ('G', 'C', 'D', 'B', 'F', 'A', 'E'), ('G', 'C', 'D', 'B', 'F', 'E', 'A'), ('G', 'C', 'D', 'E', 'A', 'B', 'F'), ('G', 'C', 'D', 'E', 'A', 'F', 'B'), ('G', 'C', 'D', 'E', 'B', 'A', 'F'), ('G', 'C', 'D', 'E', 'B', 'F', 'A'), ('G', 'C', 'D', 'E', 'F', 'A', 'B'), ('G', 'C', 'D', 'E', 'F', 'B', 'A'), ('G', 'C', 'D', 'F', 'A', 'B', 'E'), ('G', 'C', 'D', 'F', 'A', 'E', 'B'), ('G', 'C', 'D', 'F', 'B', 'A', 'E'), ('G', 'C', 'D', 'F', 'B', 'E', 'A'), ('G', 'C', 'D', 'F', 'E', 'A', 'B'), ('G', 'C', 'D', 'F', 'E', 'B', 'A'), ('G', 'C', 'E', 'A', 'B', 'D', 'F'), ('G', 'C', 'E', 'A', 'B', 'F', 'D'), ('G', 'C', 'E', 'A', 'D', 'B', 'F'), ('G', 'C', 'E', 'A', 'D', 'F', 'B'), ('G', 'C', 'E', 'A', 'F', 'B', 'D'), ('G', 'C', 'E', 'A', 'F', 'D', 'B'), ('G', 'C', 'E', 'B', 'A', 'D', 'F'), ('G', 'C', 'E', 'B', 'A', 'F', 'D'), ('G', 'C', 'E', 'B', 'D', 'A', 'F'), ('G', 'C', 'E', 'B', 'D', 'F', 'A'), ('G', 'C', 'E', 'B', 'F', 'A', 'D'), ('G', 'C', 'E', 'B', 'F', 'D', 'A'), ('G', 'C', 'E', 'D', 'A', 'B', 'F'), ('G', 'C', 'E', 'D', 'A', 'F', 'B'), ('G', 'C', 'E', 'D', 'B', 'A', 'F'), ('G', 'C', 'E', 'D', 'B', 'F', 'A'), ('G', 'C', 'E', 'D', 'F', 'A', 'B'), ('G', 'C', 'E', 'D', 'F', 'B', 'A'), ('G', 'C', 'E', 'F', 'A', 'B', 'D'), ('G', 'C', 'E', 'F', 'A', 'D', 'B'), ('G', 'C', 'E', 'F', 'B', 'A', 'D'), ('G', 'C', 'E', 'F', 'B', 'D', 'A'), ('G', 'C', 'E', 'F', 'D', 'A', 'B'), ('G', 'C', 'E', 'F', 'D', 'B', 'A'), ('G', 'C', 'F', 'A', 'B', 'D', 'E'), ('G', 'C', 'F', 'A', 'B', 'E', 'D'), ('G', 'C', 'F', 'A', 'D', 'B', 'E'), ('G', 'C', 'F', 'A', 'D', 'E', 'B'), ('G', 'C', 'F', 'A', 'E', 'B', 'D'), ('G', 'C', 'F', 'A', 'E', 'D', 'B'), ('G', 'C', 'F', 'B', 'A', 'D', 'E'), ('G', 'C', 'F', 'B', 'A', 'E', 'D'), ('G', 'C', 'F', 'B', 'D', 'A', 'E'), ('G', 'C', 'F', 'B', 'D', 'E', 'A'), ('G', 'C', 'F', 'B', 'E', 'A', 'D'), ('G', 'C', 'F', 'B', 'E', 'D', 'A'), ('G', 'C', 'F', 'D', 'A', 'B', 'E'), ('G', 'C', 'F', 'D', 'A', 'E', 'B'), ('G', 'C', 'F', 'D', 'B', 'A', 'E'), ('G', 'C', 'F', 'D', 'B', 'E', 'A'), ('G', 'C', 'F', 'D', 'E', 'A', 'B'), ('G', 'C', 'F', 'D', 'E', 'B', 'A'), ('G', 'C', 'F', 'E', 'A', 'B', 'D'), ('G', 'C', 'F', 'E', 'A', 'D', 'B'), ('G', 'C', 'F', 'E', 'B', 'A', 'D'), ('G', 'C', 'F', 'E', 'B', 'D', 'A'), ('G', 'C', 'F', 'E', 'D', 'A', 'B'), ('G', 'C', 'F', 'E', 'D', 'B', 'A'), ('G', 'D', 'A', 'B', 'C', 'E', 'F'), ('G', 'D', 'A', 'B', 'C', 'F', 'E'), ('G', 'D', 'A', 'B', 'E', 'C', 'F'), ('G', 'D', 'A', 'B', 'E', 'F', 'C'), ('G', 'D', 'A', 'B', 'F', 'C', 'E'), ('G', 'D', 'A', 'B', 'F', 'E', 'C'), ('G', 'D', 'A', 'C', 'B', 'E', 'F'), ('G', 'D', 'A', 'C', 'B', 'F', 'E'), ('G', 'D', 'A', 'C', 'E', 'B', 'F'), ('G', 'D', 'A', 'C', 'E', 'F', 'B'), ('G', 'D', 'A', 'C', 'F', 'B', 'E'), ('G', 'D', 'A', 'C', 'F', 'E', 'B'), ('G', 'D', 'A', 'E', 'B', 'C', 'F'), ('G', 'D', 'A', 'E', 'B', 'F', 'C'), ('G', 'D', 'A', 'E', 'C', 'B', 'F'), ('G', 'D', 'A', 'E', 'C', 'F', 'B'), ('G', 'D', 'A', 'E', 'F', 'B', 'C'), ('G', 'D', 'A', 'E', 'F', 'C', 'B'), ('G', 'D', 'A', 'F', 'B', 'C', 'E'), ('G', 'D', 'A', 'F', 'B', 'E', 'C'), ('G', 'D', 'A', 'F', 'C', 'B', 'E'), ('G', 'D', 'A', 'F', 'C', 'E', 'B'), ('G', 'D', 'A', 'F', 'E', 'B', 'C'), ('G', 'D', 'A', 'F', 'E', 'C', 'B'), ('G', 'D', 'B', 'A', 'C', 'E', 'F'), ('G', 'D', 'B', 'A', 'C', 'F', 'E'), ('G', 'D', 'B', 'A', 'E', 'C', 'F'), ('G', 'D', 'B', 'A', 'E', 'F', 'C'), ('G', 'D', 'B', 'A', 'F', 'C', 'E'), ('G', 'D', 'B', 'A', 'F', 'E', 'C'), ('G', 'D', 'B', 'C', 'A', 'E', 'F'), ('G', 'D', 'B', 'C', 'A', 'F', 'E'), ('G', 'D', 'B', 'C', 'E', 'A', 'F'), ('G', 'D', 'B', 'C', 'E', 'F', 'A'), ('G', 'D', 'B', 'C', 'F', 'A', 'E'), ('G', 'D', 'B', 'C', 'F', 'E', 'A'), ('G', 'D', 'B', 'E', 'A', 'C', 'F'), ('G', 'D', 'B', 'E', 'A', 'F', 'C'), ('G', 'D', 'B', 'E', 'C', 'A', 'F'), ('G', 'D', 'B', 'E', 'C', 'F', 'A'), ('G', 'D', 'B', 'E', 'F', 'A', 'C'), ('G', 'D', 'B', 'E', 'F', 'C', 'A'), ('G', 'D', 'B', 'F', 'A', 'C', 'E'), ('G', 'D', 'B', 'F', 'A', 'E', 'C'), ('G', 'D', 'B', 'F', 'C', 'A', 'E'), ('G', 'D', 'B', 'F', 'C', 'E', 'A'), ('G', 'D', 'B', 'F', 'E', 'A', 'C'), ('G', 'D', 'B', 'F', 'E', 'C', 'A'), ('G', 'D', 'C', 'A', 'B', 'E', 'F'), ('G', 'D', 'C', 'A', 'B', 'F', 'E'), ('G', 'D', 'C', 'A', 'E', 'B', 'F'), ('G', 'D', 'C', 'A', 'E', 'F', 'B'), ('G', 'D', 'C', 'A', 'F', 'B', 'E'), ('G', 'D', 'C', 'A', 'F', 'E', 'B'), ('G', 'D', 'C', 'B', 'A', 'E', 'F'), ('G', 'D', 'C', 'B', 'A', 'F', 'E'), ('G', 'D', 'C', 'B', 'E', 'A', 'F'), ('G', 'D', 'C', 'B', 'E', 'F', 'A'), ('G', 'D', 'C', 'B', 'F', 'A', 'E'), ('G', 'D', 'C', 'B', 'F', 'E', 'A'), ('G', 'D', 'C', 'E', 'A', 'B', 'F'), ('G', 'D', 'C', 'E', 'A', 'F', 'B'), ('G', 'D', 'C', 'E', 'B', 'A', 'F'), ('G', 'D', 'C', 'E', 'B', 'F', 'A'), ('G', 'D', 'C', 'E', 'F', 'A', 'B'), ('G', 'D', 'C', 'E', 'F', 'B', 'A'), ('G', 'D', 'C', 'F', 'A', 'B', 'E'), ('G', 'D', 'C', 'F', 'A', 'E', 'B'), ('G', 'D', 'C', 'F', 'B', 'A', 'E'), ('G', 'D', 'C', 'F', 'B', 'E', 'A'), ('G', 'D', 'C', 'F', 'E', 'A', 'B'), ('G', 'D', 'C', 'F', 'E', 'B', 'A'), ('G', 'D', 'E', 'A', 'B', 'C', 'F'), ('G', 'D', 'E', 'A', 'B', 'F', 'C'), ('G', 'D', 'E', 'A', 'C', 'B', 'F'), ('G', 'D', 'E', 'A', 'C', 'F', 'B'), ('G', 'D', 'E', 'A', 'F', 'B', 'C'), ('G', 'D', 'E', 'A', 'F', 'C', 'B'), ('G', 'D', 'E', 'B', 'A', 'C', 'F'), ('G', 'D', 'E', 'B', 'A', 'F', 'C'), ('G', 'D', 'E', 'B', 'C', 'A', 'F'), ('G', 'D', 'E', 'B', 'C', 'F', 'A'), ('G', 'D', 'E', 'B', 'F', 'A', 'C'), ('G', 'D', 'E', 'B', 'F', 'C', 'A'), ('G', 'D', 'E', 'C', 'A', 'B', 'F'), ('G', 'D', 'E', 'C', 'A', 'F', 'B'), ('G', 'D', 'E', 'C', 'B', 'A', 'F'), ('G', 'D', 'E', 'C', 'B', 'F', 'A'), ('G', 'D', 'E', 'C', 'F', 'A', 'B'), ('G', 'D', 'E', 'C', 'F', 'B', 'A'), ('G', 'D', 'E', 'F', 'A', 'B', 'C'), ('G', 'D', 'E', 'F', 'A', 'C', 'B'), ('G', 'D', 'E', 'F', 'B', 'A', 'C'), ('G', 'D', 'E', 'F', 'B', 'C', 'A'), ('G', 'D', 'E', 'F', 'C', 'A', 'B'), ('G', 'D', 'E', 'F', 'C', 'B', 'A'), ('G', 'D', 'F', 'A', 'B', 'C', 'E'), ('G', 'D', 'F', 'A', 'B', 'E', 'C'), ('G', 'D', 'F', 'A', 'C', 'B', 'E'), ('G', 'D', 'F', 'A', 'C', 'E', 'B'), ('G', 'D', 'F', 'A', 'E', 'B', 'C'), ('G', 'D', 'F', 'A', 'E', 'C', 'B'), ('G', 'D', 'F', 'B', 'A', 'C', 'E'), ('G', 'D', 'F', 'B', 'A', 'E', 'C'), ('G', 'D', 'F', 'B', 'C', 'A', 'E'), ('G', 'D', 'F', 'B', 'C', 'E', 'A'), ('G', 'D', 'F', 'B', 'E', 'A', 'C'), ('G', 'D', 'F', 'B', 'E', 'C', 'A'), ('G', 'D', 'F', 'C', 'A', 'B', 'E'), ('G', 'D', 'F', 'C', 'A', 'E', 'B'), ('G', 'D', 'F', 'C', 'B', 'A', 'E'), ('G', 'D', 'F', 'C', 'B', 'E', 'A'), ('G', 'D', 'F', 'C', 'E', 'A', 'B'), ('G', 'D', 'F', 'C', 'E', 'B', 'A'), ('G', 'D', 'F', 'E', 'A', 'B', 'C'), ('G', 'D', 'F', 'E', 'A', 'C', 'B'), ('G', 'D', 'F', 'E', 'B', 'A', 'C'), ('G', 'D', 'F', 'E', 'B', 'C', 'A'), ('G', 'D', 'F', 'E', 'C', 'A', 'B'), ('G', 'D', 'F', 'E', 'C', 'B', 'A'), ('G', 'E', 'A', 'B', 'C', 'D', 'F'), ('G', 'E', 'A', 'B', 'C', 'F', 'D'), ('G', 'E', 'A', 'B', 'D', 'C', 'F'), ('G', 'E', 'A', 'B', 'D', 'F', 'C'), ('G', 'E', 'A', 'B', 'F', 'C', 'D'), ('G', 'E', 'A', 'B', 'F', 'D', 'C'), ('G', 'E', 'A', 'C', 'B', 'D', 'F'), ('G', 'E', 'A', 'C', 'B', 'F', 'D'), ('G', 'E', 'A', 'C', 'D', 'B', 'F'), ('G', 'E', 'A', 'C', 'D', 'F', 'B'), ('G', 'E', 'A', 'C', 'F', 'B', 'D'), ('G', 'E', 'A', 'C', 'F', 'D', 'B'), ('G', 'E', 'A', 'D', 'B', 'C', 'F'), ('G', 'E', 'A', 'D', 'B', 'F', 'C'), ('G', 'E', 'A', 'D', 'C', 'B', 'F'), ('G', 'E', 'A', 'D', 'C', 'F', 'B'), ('G', 'E', 'A', 'D', 'F', 'B', 'C'), ('G', 'E', 'A', 'D', 'F', 'C', 'B'), ('G', 'E', 'A', 'F', 'B', 'C', 'D'), ('G', 'E', 'A', 'F', 'B', 'D', 'C'), ('G', 'E', 'A', 'F', 'C', 'B', 'D'), ('G', 'E', 'A', 'F', 'C', 'D', 'B'), ('G', 'E', 'A', 'F', 'D', 'B', 'C'), ('G', 'E', 'A', 'F', 'D', 'C', 'B'), ('G', 'E', 'B', 'A', 'C', 'D', 'F'), ('G', 'E', 'B', 'A', 'C', 'F', 'D'), ('G', 'E', 'B', 'A', 'D', 'C', 'F'), ('G', 'E', 'B', 'A', 'D', 'F', 'C'), ('G', 'E', 'B', 'A', 'F', 'C', 'D'), ('G', 'E', 'B', 'A', 'F', 'D', 'C'), ('G', 'E', 'B', 'C', 'A', 'D', 'F'), ('G', 'E', 'B', 'C', 'A', 'F', 'D'), ('G', 'E', 'B', 'C', 'D', 'A', 'F'), ('G', 'E', 'B', 'C', 'D', 'F', 'A'), ('G', 'E', 'B', 'C', 'F', 'A', 'D'), ('G', 'E', 'B', 'C', 'F', 'D', 'A'), ('G', 'E', 'B', 'D', 'A', 'C', 'F'), ('G', 'E', 'B', 'D', 'A', 'F', 'C'), ('G', 'E', 'B', 'D', 'C', 'A', 'F'), ('G', 'E', 'B', 'D', 'C', 'F', 'A'), ('G', 'E', 'B', 'D', 'F', 'A', 'C'), ('G', 'E', 'B', 'D', 'F', 'C', 'A'), ('G', 'E', 'B', 'F', 'A', 'C', 'D'), ('G', 'E', 'B', 'F', 'A', 'D', 'C'), ('G', 'E', 'B', 'F', 'C', 'A', 'D'), ('G', 'E', 'B', 'F', 'C', 'D', 'A'), ('G', 'E', 'B', 'F', 'D', 'A', 'C'), ('G', 'E', 'B', 'F', 'D', 'C', 'A'), ('G', 'E', 'C', 'A', 'B', 'D', 'F'), ('G', 'E', 'C', 'A', 'B', 'F', 'D'), ('G', 'E', 'C', 'A', 'D', 'B', 'F'), ('G', 'E', 'C', 'A', 'D', 'F', 'B'), ('G', 'E', 'C', 'A', 'F', 'B', 'D'), ('G', 'E', 'C', 'A', 'F', 'D', 'B'), ('G', 'E', 'C', 'B', 'A', 'D', 'F'), ('G', 'E', 'C', 'B', 'A', 'F', 'D'), ('G', 'E', 'C', 'B', 'D', 'A', 'F'), ('G', 'E', 'C', 'B', 'D', 'F', 'A'), ('G', 'E', 'C', 'B', 'F', 'A', 'D'), ('G', 'E', 'C', 'B', 'F', 'D', 'A'), ('G', 'E', 'C', 'D', 'A', 'B', 'F'), ('G', 'E', 'C', 'D', 'A', 'F', 'B'), ('G', 'E', 'C', 'D', 'B', 'A', 'F'), ('G', 'E', 'C', 'D', 'B', 'F', 'A'), ('G', 'E', 'C', 'D', 'F', 'A', 'B'), ('G', 'E', 'C', 'D', 'F', 'B', 'A'), ('G', 'E', 'C', 'F', 'A', 'B', 'D'), ('G', 'E', 'C', 'F', 'A', 'D', 'B'), ('G', 'E', 'C', 'F', 'B', 'A', 'D'), ('G', 'E', 'C', 'F', 'B', 'D', 'A'), ('G', 'E', 'C', 'F', 'D', 'A', 'B'), ('G', 'E', 'C', 'F', 'D', 'B', 'A'), ('G', 'E', 'D', 'A', 'B', 'C', 'F'), ('G', 'E', 'D', 'A', 'B', 'F', 'C'), ('G', 'E', 'D', 'A', 'C', 'B', 'F'), ('G', 'E', 'D', 'A', 'C', 'F', 'B'), ('G', 'E', 'D', 'A', 'F', 'B', 'C'), ('G', 'E', 'D', 'A', 'F', 'C', 'B'), ('G', 'E', 'D', 'B', 'A', 'C', 'F'), ('G', 'E', 'D', 'B', 'A', 'F', 'C'), ('G', 'E', 'D', 'B', 'C', 'A', 'F'), ('G', 'E', 'D', 'B', 'C', 'F', 'A'), ('G', 'E', 'D', 'B', 'F', 'A', 'C'), ('G', 'E', 'D', 'B', 'F', 'C', 'A'), ('G', 'E', 'D', 'C', 'A', 'B', 'F'), ('G', 'E', 'D', 'C', 'A', 'F', 'B'), ('G', 'E', 'D', 'C', 'B', 'A', 'F'), ('G', 'E', 'D', 'C', 'B', 'F', 'A'), ('G', 'E', 'D', 'C', 'F', 'A', 'B'), ('G', 'E', 'D', 'C', 'F', 'B', 'A'), ('G', 'E', 'D', 'F', 'A', 'B', 'C'), ('G', 'E', 'D', 'F', 'A', 'C', 'B'), ('G', 'E', 'D', 'F', 'B', 'A', 'C'), ('G', 'E', 'D', 'F', 'B', 'C', 'A'), ('G', 'E', 'D', 'F', 'C', 'A', 'B'), ('G', 'E', 'D', 'F', 'C', 'B', 'A'), ('G', 'E', 'F', 'A', 'B', 'C', 'D'), ('G', 'E', 'F', 'A', 'B', 'D', 'C'), ('G', 'E', 'F', 'A', 'C', 'B', 'D'), ('G', 'E', 'F', 'A', 'C', 'D', 'B'), ('G', 'E', 'F', 'A', 'D', 'B', 'C'), ('G', 'E', 'F', 'A', 'D', 'C', 'B'), ('G', 'E', 'F', 'B', 'A', 'C', 'D'), ('G', 'E', 'F', 'B', 'A', 'D', 'C'), ('G', 'E', 'F', 'B', 'C', 'A', 'D'), ('G', 'E', 'F', 'B', 'C', 'D', 'A'), ('G', 'E', 'F', 'B', 'D', 'A', 'C'), ('G', 'E', 'F', 'B', 'D', 'C', 'A'), ('G', 'E', 'F', 'C', 'A', 'B', 'D'), ('G', 'E', 'F', 'C', 'A', 'D', 'B'), ('G', 'E', 'F', 'C', 'B', 'A', 'D'), ('G', 'E', 'F', 'C', 'B', 'D', 'A'), ('G', 'E', 'F', 'C', 'D', 'A', 'B'), ('G', 'E', 'F', 'C', 'D', 'B', 'A'), ('G', 'E', 'F', 'D', 'A', 'B', 'C'), ('G', 'E', 'F', 'D', 'A', 'C', 'B'), ('G', 'E', 'F', 'D', 'B', 'A', 'C'), ('G', 'E', 'F', 'D', 'B', 'C', 'A'), ('G', 'E', 'F', 'D', 'C', 'A', 'B'), ('G', 'E', 'F', 'D', 'C', 'B', 'A'), ('G', 'F', 'A', 'B', 'C', 'D', 'E'), ('G', 'F', 'A', 'B', 'C', 'E', 'D'), ('G', 'F', 'A', 'B', 'D', 'C', 'E'), ('G', 'F', 'A', 'B', 'D', 'E', 'C'), ('G', 'F', 'A', 'B', 'E', 'C', 'D'), ('G', 'F', 'A', 'B', 'E', 'D', 'C'), ('G', 'F', 'A', 'C', 'B', 'D', 'E'), ('G', 'F', 'A', 'C', 'B', 'E', 'D'), ('G', 'F', 'A', 'C', 'D', 'B', 'E'), ('G', 'F', 'A', 'C', 'D', 'E', 'B'), ('G', 'F', 'A', 'C', 'E', 'B', 'D'), ('G', 'F', 'A', 'C', 'E', 'D', 'B'), ('G', 'F', 'A', 'D', 'B', 'C', 'E'), ('G', 'F', 'A', 'D', 'B', 'E', 'C'), ('G', 'F', 'A', 'D', 'C', 'B', 'E'), ('G', 'F', 'A', 'D', 'C', 'E', 'B'), ('G', 'F', 'A', 'D', 'E', 'B', 'C'), ('G', 'F', 'A', 'D', 'E', 'C', 'B'), ('G', 'F', 'A', 'E', 'B', 'C', 'D'), ('G', 'F', 'A', 'E', 'B', 'D', 'C'), ('G', 'F', 'A', 'E', 'C', 'B', 'D'), ('G', 'F', 'A', 'E', 'C', 'D', 'B'), ('G', 'F', 'A', 'E', 'D', 'B', 'C'), ('G', 'F', 'A', 'E', 'D', 'C', 'B'), ('G', 'F', 'B', 'A', 'C', 'D', 'E'), ('G', 'F', 'B', 'A', 'C', 'E', 'D'), ('G', 'F', 'B', 'A', 'D', 'C', 'E'), ('G', 'F', 'B', 'A', 'D', 'E', 'C'), ('G', 'F', 'B', 'A', 'E', 'C', 'D'), ('G', 'F', 'B', 'A', 'E', 'D', 'C'), ('G', 'F', 'B', 'C', 'A', 'D', 'E'), ('G', 'F', 'B', 'C', 'A', 'E', 'D'), ('G', 'F', 'B', 'C', 'D', 'A', 'E'), ('G', 'F', 'B', 'C', 'D', 'E', 'A'), ('G', 'F', 'B', 'C', 'E', 'A', 'D'), ('G', 'F', 'B', 'C', 'E', 'D', 'A'), ('G', 'F', 'B', 'D', 'A', 'C', 'E'), ('G', 'F', 'B', 'D', 'A', 'E', 'C'), ('G', 'F', 'B', 'D', 'C', 'A', 'E'), ('G', 'F', 'B', 'D', 'C', 'E', 'A'), ('G', 'F', 'B', 'D', 'E', 'A', 'C'), ('G', 'F', 'B', 'D', 'E', 'C', 'A'), ('G', 'F', 'B', 'E', 'A', 'C', 'D'), ('G', 'F', 'B', 'E', 'A', 'D', 'C'), ('G', 'F', 'B', 'E', 'C', 'A', 'D'), ('G', 'F', 'B', 'E', 'C', 'D', 'A'), ('G', 'F', 'B', 'E', 'D', 'A', 'C'), ('G', 'F', 'B', 'E', 'D', 'C', 'A'), ('G', 'F', 'C', 'A', 'B', 'D', 'E'), ('G', 'F', 'C', 'A', 'B', 'E', 'D'), ('G', 'F', 'C', 'A', 'D', 'B', 'E'), ('G', 'F', 'C', 'A', 'D', 'E', 'B'), ('G', 'F', 'C', 'A', 'E', 'B', 'D'), ('G', 'F', 'C', 'A', 'E', 'D', 'B'), ('G', 'F', 'C', 'B', 'A', 'D', 'E'), ('G', 'F', 'C', 'B', 'A', 'E', 'D'), ('G', 'F', 'C', 'B', 'D', 'A', 'E'), ('G', 'F', 'C', 'B', 'D', 'E', 'A'), ('G', 'F', 'C', 'B', 'E', 'A', 'D'), ('G', 'F', 'C', 'B', 'E', 'D', 'A'), ('G', 'F', 'C', 'D', 'A', 'B', 'E'), ('G', 'F', 'C', 'D', 'A', 'E', 'B'), ('G', 'F', 'C', 'D', 'B', 'A', 'E'), ('G', 'F', 'C', 'D', 'B', 'E', 'A'), ('G', 'F', 'C', 'D', 'E', 'A', 'B'), ('G', 'F', 'C', 'D', 'E', 'B', 'A'), ('G', 'F', 'C', 'E', 'A', 'B', 'D'), ('G', 'F', 'C', 'E', 'A', 'D', 'B'), ('G', 'F', 'C', 'E', 'B', 'A', 'D'), ('G', 'F', 'C', 'E', 'B', 'D', 'A'), ('G', 'F', 'C', 'E', 'D', 'A', 'B'), ('G', 'F', 'C', 'E', 'D', 'B', 'A'), ('G', 'F', 'D', 'A', 'B', 'C', 'E'), ('G', 'F', 'D', 'A', 'B', 'E', 'C'), ('G', 'F', 'D', 'A', 'C', 'B', 'E'), ('G', 'F', 'D', 'A', 'C', 'E', 'B'), ('G', 'F', 'D', 'A', 'E', 'B', 'C'), ('G', 'F', 'D', 'A', 'E', 'C', 'B'), ('G', 'F', 'D', 'B', 'A', 'C', 'E'), ('G', 'F', 'D', 'B', 'A', 'E', 'C'), ('G', 'F', 'D', 'B', 'C', 'A', 'E'), ('G', 'F', 'D', 'B', 'C', 'E', 'A'), ('G', 'F', 'D', 'B', 'E', 'A', 'C'), ('G', 'F', 'D', 'B', 'E', 'C', 'A'), ('G', 'F', 'D', 'C', 'A', 'B', 'E'), ('G', 'F', 'D', 'C', 'A', 'E', 'B'), ('G', 'F', 'D', 'C', 'B', 'A', 'E'), ('G', 'F', 'D', 'C', 'B', 'E', 'A'), ('G', 'F', 'D', 'C', 'E', 'A', 'B'), ('G', 'F', 'D', 'C', 'E', 'B', 'A'), ('G', 'F', 'D', 'E', 'A', 'B', 'C'), ('G', 'F', 'D', 'E', 'A', 'C', 'B'), ('G', 'F', 'D', 'E', 'B', 'A', 'C'), ('G', 'F', 'D', 'E', 'B', 'C', 'A'), ('G', 'F', 'D', 'E', 'C', 'A', 'B'), ('G', 'F', 'D', 'E', 'C', 'B', 'A'), ('G', 'F', 'E', 'A', 'B', 'C', 'D'), ('G', 'F', 'E', 'A', 'B', 'D', 'C'), ('G', 'F', 'E', 'A', 'C', 'B', 'D'), ('G', 'F', 'E', 'A', 'C', 'D', 'B'), ('G', 'F', 'E', 'A', 'D', 'B', 'C'), ('G', 'F', 'E', 'A', 'D', 'C', 'B'), ('G', 'F', 'E', 'B', 'A', 'C', 'D'), ('G', 'F', 'E', 'B', 'A', 'D', 'C'), ('G', 'F', 'E', 'B', 'C', 'A', 'D'), ('G', 'F', 'E', 'B', 'C', 'D', 'A'), ('G', 'F', 'E', 'B', 'D', 'A', 'C'), ('G', 'F', 'E', 'B', 'D', 'C', 'A'), ('G', 'F', 'E', 'C', 'A', 'B', 'D'), ('G', 'F', 'E', 'C', 'A', 'D', 'B'), ('G', 'F', 'E', 'C', 'B', 'A', 'D'), ('G', 'F', 'E', 'C', 'B', 'D', 'A'), ('G', 'F', 'E', 'C', 'D', 'A', 'B'), ('G', 'F', 'E', 'C', 'D', 'B', 'A'), ('G', 'F', 'E', 'D', 'A', 'B', 'C'), ('G', 'F', 'E', 'D', 'A', 'C', 'B'), ('G', 'F', 'E', 'D', 'B', 'A', 'C'), ('G', 'F', 'E', 'D', 'B', 'C', 'A'), ('G', 'F', 'E', 'D', 'C', 'A', 'B'), ('G', 'F', 'E', 'D', 'C', 'B', 'A')]\n"
          ]
        }
      ]
    },
    {
      "cell_type": "markdown",
      "source": [
        "## Práctica 1.4\n",
        "Invente un caso de **variaciones con repetición**.\n",
        "Se pide contestar a los mismos puntos que el caso anterior."
      ],
      "metadata": {
        "id": "gvlnqCaRMTua"
      }
    },
    {
      "cell_type": "markdown",
      "source": [
        "¿Cuántos números de 4 cifras se pueden formar con los digitos: 1,2,3,4,5?"
      ],
      "metadata": {
        "id": "Jloa0OEg55w5"
      }
    },
    {
      "cell_type": "markdown",
      "source": [
        "### Solución 1.4"
      ],
      "metadata": {
        "id": "hzvsgRDbkCy1"
      }
    },
    {
      "cell_type": "markdown",
      "source": [
        "Como podemos observar ternemos 5 elementos (n=5) colocados en 4 posiciones \n",
        "\n",
        "1.   Elemento de lista\n",
        "2.   Elemento de lista\n",
        "\n",
        "(k=4) con lo cuál es: \n",
        "\n",
        "VR4,4= 5^4= **625**.\n",
        "\n",
        "Podemos formar un total de 625 números.\n"
      ],
      "metadata": {
        "id": "BlHHe6PJ6HOh"
      }
    },
    {
      "cell_type": "code",
      "source": [
        "import math\n",
        "print(pow(5, 4))\n",
        "print(\"Comprobación:  \", (5*5*5*5))"
      ],
      "metadata": {
        "colab": {
          "base_uri": "https://localhost:8080/"
        },
        "id": "kKYqoeWo7mHo",
        "outputId": "37a74bca-73ab-43cc-8765-92a9abdee19b"
      },
      "execution_count": null,
      "outputs": [
        {
          "output_type": "stream",
          "name": "stdout",
          "text": [
            "625\n",
            "Comprobación:   625\n"
          ]
        }
      ]
    },
    {
      "cell_type": "markdown",
      "source": [
        "MÉTODO 1\n",
        "\n",
        "Sin libreria"
      ],
      "metadata": {
        "id": "CCQufqgq9Wiu"
      }
    },
    {
      "cell_type": "code",
      "source": [
        "lista = ['1', '2', '3', '4','5']\n",
        "contador = 1\n",
        "\n",
        "for i in lista:\n",
        "    for j in lista:\n",
        "        for k in lista:\n",
        "            for l in lista:\n",
        "                print(f\"{contador:2d} →  {i+j+k+l}\")\n",
        "                contador += 1"
      ],
      "metadata": {
        "colab": {
          "base_uri": "https://localhost:8080/"
        },
        "id": "UwQ0StK-9aWg",
        "outputId": "a848ef37-eef7-4551-eae9-a06c8e706a09"
      },
      "execution_count": null,
      "outputs": [
        {
          "output_type": "stream",
          "name": "stdout",
          "text": [
            " 1 →  1111\n",
            " 2 →  1112\n",
            " 3 →  1113\n",
            " 4 →  1114\n",
            " 5 →  1115\n",
            " 6 →  1121\n",
            " 7 →  1122\n",
            " 8 →  1123\n",
            " 9 →  1124\n",
            "10 →  1125\n",
            "11 →  1131\n",
            "12 →  1132\n",
            "13 →  1133\n",
            "14 →  1134\n",
            "15 →  1135\n",
            "16 →  1141\n",
            "17 →  1142\n",
            "18 →  1143\n",
            "19 →  1144\n",
            "20 →  1145\n",
            "21 →  1151\n",
            "22 →  1152\n",
            "23 →  1153\n",
            "24 →  1154\n",
            "25 →  1155\n",
            "26 →  1211\n",
            "27 →  1212\n",
            "28 →  1213\n",
            "29 →  1214\n",
            "30 →  1215\n",
            "31 →  1221\n",
            "32 →  1222\n",
            "33 →  1223\n",
            "34 →  1224\n",
            "35 →  1225\n",
            "36 →  1231\n",
            "37 →  1232\n",
            "38 →  1233\n",
            "39 →  1234\n",
            "40 →  1235\n",
            "41 →  1241\n",
            "42 →  1242\n",
            "43 →  1243\n",
            "44 →  1244\n",
            "45 →  1245\n",
            "46 →  1251\n",
            "47 →  1252\n",
            "48 →  1253\n",
            "49 →  1254\n",
            "50 →  1255\n",
            "51 →  1311\n",
            "52 →  1312\n",
            "53 →  1313\n",
            "54 →  1314\n",
            "55 →  1315\n",
            "56 →  1321\n",
            "57 →  1322\n",
            "58 →  1323\n",
            "59 →  1324\n",
            "60 →  1325\n",
            "61 →  1331\n",
            "62 →  1332\n",
            "63 →  1333\n",
            "64 →  1334\n",
            "65 →  1335\n",
            "66 →  1341\n",
            "67 →  1342\n",
            "68 →  1343\n",
            "69 →  1344\n",
            "70 →  1345\n",
            "71 →  1351\n",
            "72 →  1352\n",
            "73 →  1353\n",
            "74 →  1354\n",
            "75 →  1355\n",
            "76 →  1411\n",
            "77 →  1412\n",
            "78 →  1413\n",
            "79 →  1414\n",
            "80 →  1415\n",
            "81 →  1421\n",
            "82 →  1422\n",
            "83 →  1423\n",
            "84 →  1424\n",
            "85 →  1425\n",
            "86 →  1431\n",
            "87 →  1432\n",
            "88 →  1433\n",
            "89 →  1434\n",
            "90 →  1435\n",
            "91 →  1441\n",
            "92 →  1442\n",
            "93 →  1443\n",
            "94 →  1444\n",
            "95 →  1445\n",
            "96 →  1451\n",
            "97 →  1452\n",
            "98 →  1453\n",
            "99 →  1454\n",
            "100 →  1455\n",
            "101 →  1511\n",
            "102 →  1512\n",
            "103 →  1513\n",
            "104 →  1514\n",
            "105 →  1515\n",
            "106 →  1521\n",
            "107 →  1522\n",
            "108 →  1523\n",
            "109 →  1524\n",
            "110 →  1525\n",
            "111 →  1531\n",
            "112 →  1532\n",
            "113 →  1533\n",
            "114 →  1534\n",
            "115 →  1535\n",
            "116 →  1541\n",
            "117 →  1542\n",
            "118 →  1543\n",
            "119 →  1544\n",
            "120 →  1545\n",
            "121 →  1551\n",
            "122 →  1552\n",
            "123 →  1553\n",
            "124 →  1554\n",
            "125 →  1555\n",
            "126 →  2111\n",
            "127 →  2112\n",
            "128 →  2113\n",
            "129 →  2114\n",
            "130 →  2115\n",
            "131 →  2121\n",
            "132 →  2122\n",
            "133 →  2123\n",
            "134 →  2124\n",
            "135 →  2125\n",
            "136 →  2131\n",
            "137 →  2132\n",
            "138 →  2133\n",
            "139 →  2134\n",
            "140 →  2135\n",
            "141 →  2141\n",
            "142 →  2142\n",
            "143 →  2143\n",
            "144 →  2144\n",
            "145 →  2145\n",
            "146 →  2151\n",
            "147 →  2152\n",
            "148 →  2153\n",
            "149 →  2154\n",
            "150 →  2155\n",
            "151 →  2211\n",
            "152 →  2212\n",
            "153 →  2213\n",
            "154 →  2214\n",
            "155 →  2215\n",
            "156 →  2221\n",
            "157 →  2222\n",
            "158 →  2223\n",
            "159 →  2224\n",
            "160 →  2225\n",
            "161 →  2231\n",
            "162 →  2232\n",
            "163 →  2233\n",
            "164 →  2234\n",
            "165 →  2235\n",
            "166 →  2241\n",
            "167 →  2242\n",
            "168 →  2243\n",
            "169 →  2244\n",
            "170 →  2245\n",
            "171 →  2251\n",
            "172 →  2252\n",
            "173 →  2253\n",
            "174 →  2254\n",
            "175 →  2255\n",
            "176 →  2311\n",
            "177 →  2312\n",
            "178 →  2313\n",
            "179 →  2314\n",
            "180 →  2315\n",
            "181 →  2321\n",
            "182 →  2322\n",
            "183 →  2323\n",
            "184 →  2324\n",
            "185 →  2325\n",
            "186 →  2331\n",
            "187 →  2332\n",
            "188 →  2333\n",
            "189 →  2334\n",
            "190 →  2335\n",
            "191 →  2341\n",
            "192 →  2342\n",
            "193 →  2343\n",
            "194 →  2344\n",
            "195 →  2345\n",
            "196 →  2351\n",
            "197 →  2352\n",
            "198 →  2353\n",
            "199 →  2354\n",
            "200 →  2355\n",
            "201 →  2411\n",
            "202 →  2412\n",
            "203 →  2413\n",
            "204 →  2414\n",
            "205 →  2415\n",
            "206 →  2421\n",
            "207 →  2422\n",
            "208 →  2423\n",
            "209 →  2424\n",
            "210 →  2425\n",
            "211 →  2431\n",
            "212 →  2432\n",
            "213 →  2433\n",
            "214 →  2434\n",
            "215 →  2435\n",
            "216 →  2441\n",
            "217 →  2442\n",
            "218 →  2443\n",
            "219 →  2444\n",
            "220 →  2445\n",
            "221 →  2451\n",
            "222 →  2452\n",
            "223 →  2453\n",
            "224 →  2454\n",
            "225 →  2455\n",
            "226 →  2511\n",
            "227 →  2512\n",
            "228 →  2513\n",
            "229 →  2514\n",
            "230 →  2515\n",
            "231 →  2521\n",
            "232 →  2522\n",
            "233 →  2523\n",
            "234 →  2524\n",
            "235 →  2525\n",
            "236 →  2531\n",
            "237 →  2532\n",
            "238 →  2533\n",
            "239 →  2534\n",
            "240 →  2535\n",
            "241 →  2541\n",
            "242 →  2542\n",
            "243 →  2543\n",
            "244 →  2544\n",
            "245 →  2545\n",
            "246 →  2551\n",
            "247 →  2552\n",
            "248 →  2553\n",
            "249 →  2554\n",
            "250 →  2555\n",
            "251 →  3111\n",
            "252 →  3112\n",
            "253 →  3113\n",
            "254 →  3114\n",
            "255 →  3115\n",
            "256 →  3121\n",
            "257 →  3122\n",
            "258 →  3123\n",
            "259 →  3124\n",
            "260 →  3125\n",
            "261 →  3131\n",
            "262 →  3132\n",
            "263 →  3133\n",
            "264 →  3134\n",
            "265 →  3135\n",
            "266 →  3141\n",
            "267 →  3142\n",
            "268 →  3143\n",
            "269 →  3144\n",
            "270 →  3145\n",
            "271 →  3151\n",
            "272 →  3152\n",
            "273 →  3153\n",
            "274 →  3154\n",
            "275 →  3155\n",
            "276 →  3211\n",
            "277 →  3212\n",
            "278 →  3213\n",
            "279 →  3214\n",
            "280 →  3215\n",
            "281 →  3221\n",
            "282 →  3222\n",
            "283 →  3223\n",
            "284 →  3224\n",
            "285 →  3225\n",
            "286 →  3231\n",
            "287 →  3232\n",
            "288 →  3233\n",
            "289 →  3234\n",
            "290 →  3235\n",
            "291 →  3241\n",
            "292 →  3242\n",
            "293 →  3243\n",
            "294 →  3244\n",
            "295 →  3245\n",
            "296 →  3251\n",
            "297 →  3252\n",
            "298 →  3253\n",
            "299 →  3254\n",
            "300 →  3255\n",
            "301 →  3311\n",
            "302 →  3312\n",
            "303 →  3313\n",
            "304 →  3314\n",
            "305 →  3315\n",
            "306 →  3321\n",
            "307 →  3322\n",
            "308 →  3323\n",
            "309 →  3324\n",
            "310 →  3325\n",
            "311 →  3331\n",
            "312 →  3332\n",
            "313 →  3333\n",
            "314 →  3334\n",
            "315 →  3335\n",
            "316 →  3341\n",
            "317 →  3342\n",
            "318 →  3343\n",
            "319 →  3344\n",
            "320 →  3345\n",
            "321 →  3351\n",
            "322 →  3352\n",
            "323 →  3353\n",
            "324 →  3354\n",
            "325 →  3355\n",
            "326 →  3411\n",
            "327 →  3412\n",
            "328 →  3413\n",
            "329 →  3414\n",
            "330 →  3415\n",
            "331 →  3421\n",
            "332 →  3422\n",
            "333 →  3423\n",
            "334 →  3424\n",
            "335 →  3425\n",
            "336 →  3431\n",
            "337 →  3432\n",
            "338 →  3433\n",
            "339 →  3434\n",
            "340 →  3435\n",
            "341 →  3441\n",
            "342 →  3442\n",
            "343 →  3443\n",
            "344 →  3444\n",
            "345 →  3445\n",
            "346 →  3451\n",
            "347 →  3452\n",
            "348 →  3453\n",
            "349 →  3454\n",
            "350 →  3455\n",
            "351 →  3511\n",
            "352 →  3512\n",
            "353 →  3513\n",
            "354 →  3514\n",
            "355 →  3515\n",
            "356 →  3521\n",
            "357 →  3522\n",
            "358 →  3523\n",
            "359 →  3524\n",
            "360 →  3525\n",
            "361 →  3531\n",
            "362 →  3532\n",
            "363 →  3533\n",
            "364 →  3534\n",
            "365 →  3535\n",
            "366 →  3541\n",
            "367 →  3542\n",
            "368 →  3543\n",
            "369 →  3544\n",
            "370 →  3545\n",
            "371 →  3551\n",
            "372 →  3552\n",
            "373 →  3553\n",
            "374 →  3554\n",
            "375 →  3555\n",
            "376 →  4111\n",
            "377 →  4112\n",
            "378 →  4113\n",
            "379 →  4114\n",
            "380 →  4115\n",
            "381 →  4121\n",
            "382 →  4122\n",
            "383 →  4123\n",
            "384 →  4124\n",
            "385 →  4125\n",
            "386 →  4131\n",
            "387 →  4132\n",
            "388 →  4133\n",
            "389 →  4134\n",
            "390 →  4135\n",
            "391 →  4141\n",
            "392 →  4142\n",
            "393 →  4143\n",
            "394 →  4144\n",
            "395 →  4145\n",
            "396 →  4151\n",
            "397 →  4152\n",
            "398 →  4153\n",
            "399 →  4154\n",
            "400 →  4155\n",
            "401 →  4211\n",
            "402 →  4212\n",
            "403 →  4213\n",
            "404 →  4214\n",
            "405 →  4215\n",
            "406 →  4221\n",
            "407 →  4222\n",
            "408 →  4223\n",
            "409 →  4224\n",
            "410 →  4225\n",
            "411 →  4231\n",
            "412 →  4232\n",
            "413 →  4233\n",
            "414 →  4234\n",
            "415 →  4235\n",
            "416 →  4241\n",
            "417 →  4242\n",
            "418 →  4243\n",
            "419 →  4244\n",
            "420 →  4245\n",
            "421 →  4251\n",
            "422 →  4252\n",
            "423 →  4253\n",
            "424 →  4254\n",
            "425 →  4255\n",
            "426 →  4311\n",
            "427 →  4312\n",
            "428 →  4313\n",
            "429 →  4314\n",
            "430 →  4315\n",
            "431 →  4321\n",
            "432 →  4322\n",
            "433 →  4323\n",
            "434 →  4324\n",
            "435 →  4325\n",
            "436 →  4331\n",
            "437 →  4332\n",
            "438 →  4333\n",
            "439 →  4334\n",
            "440 →  4335\n",
            "441 →  4341\n",
            "442 →  4342\n",
            "443 →  4343\n",
            "444 →  4344\n",
            "445 →  4345\n",
            "446 →  4351\n",
            "447 →  4352\n",
            "448 →  4353\n",
            "449 →  4354\n",
            "450 →  4355\n",
            "451 →  4411\n",
            "452 →  4412\n",
            "453 →  4413\n",
            "454 →  4414\n",
            "455 →  4415\n",
            "456 →  4421\n",
            "457 →  4422\n",
            "458 →  4423\n",
            "459 →  4424\n",
            "460 →  4425\n",
            "461 →  4431\n",
            "462 →  4432\n",
            "463 →  4433\n",
            "464 →  4434\n",
            "465 →  4435\n",
            "466 →  4441\n",
            "467 →  4442\n",
            "468 →  4443\n",
            "469 →  4444\n",
            "470 →  4445\n",
            "471 →  4451\n",
            "472 →  4452\n",
            "473 →  4453\n",
            "474 →  4454\n",
            "475 →  4455\n",
            "476 →  4511\n",
            "477 →  4512\n",
            "478 →  4513\n",
            "479 →  4514\n",
            "480 →  4515\n",
            "481 →  4521\n",
            "482 →  4522\n",
            "483 →  4523\n",
            "484 →  4524\n",
            "485 →  4525\n",
            "486 →  4531\n",
            "487 →  4532\n",
            "488 →  4533\n",
            "489 →  4534\n",
            "490 →  4535\n",
            "491 →  4541\n",
            "492 →  4542\n",
            "493 →  4543\n",
            "494 →  4544\n",
            "495 →  4545\n",
            "496 →  4551\n",
            "497 →  4552\n",
            "498 →  4553\n",
            "499 →  4554\n",
            "500 →  4555\n",
            "501 →  5111\n",
            "502 →  5112\n",
            "503 →  5113\n",
            "504 →  5114\n",
            "505 →  5115\n",
            "506 →  5121\n",
            "507 →  5122\n",
            "508 →  5123\n",
            "509 →  5124\n",
            "510 →  5125\n",
            "511 →  5131\n",
            "512 →  5132\n",
            "513 →  5133\n",
            "514 →  5134\n",
            "515 →  5135\n",
            "516 →  5141\n",
            "517 →  5142\n",
            "518 →  5143\n",
            "519 →  5144\n",
            "520 →  5145\n",
            "521 →  5151\n",
            "522 →  5152\n",
            "523 →  5153\n",
            "524 →  5154\n",
            "525 →  5155\n",
            "526 →  5211\n",
            "527 →  5212\n",
            "528 →  5213\n",
            "529 →  5214\n",
            "530 →  5215\n",
            "531 →  5221\n",
            "532 →  5222\n",
            "533 →  5223\n",
            "534 →  5224\n",
            "535 →  5225\n",
            "536 →  5231\n",
            "537 →  5232\n",
            "538 →  5233\n",
            "539 →  5234\n",
            "540 →  5235\n",
            "541 →  5241\n",
            "542 →  5242\n",
            "543 →  5243\n",
            "544 →  5244\n",
            "545 →  5245\n",
            "546 →  5251\n",
            "547 →  5252\n",
            "548 →  5253\n",
            "549 →  5254\n",
            "550 →  5255\n",
            "551 →  5311\n",
            "552 →  5312\n",
            "553 →  5313\n",
            "554 →  5314\n",
            "555 →  5315\n",
            "556 →  5321\n",
            "557 →  5322\n",
            "558 →  5323\n",
            "559 →  5324\n",
            "560 →  5325\n",
            "561 →  5331\n",
            "562 →  5332\n",
            "563 →  5333\n",
            "564 →  5334\n",
            "565 →  5335\n",
            "566 →  5341\n",
            "567 →  5342\n",
            "568 →  5343\n",
            "569 →  5344\n",
            "570 →  5345\n",
            "571 →  5351\n",
            "572 →  5352\n",
            "573 →  5353\n",
            "574 →  5354\n",
            "575 →  5355\n",
            "576 →  5411\n",
            "577 →  5412\n",
            "578 →  5413\n",
            "579 →  5414\n",
            "580 →  5415\n",
            "581 →  5421\n",
            "582 →  5422\n",
            "583 →  5423\n",
            "584 →  5424\n",
            "585 →  5425\n",
            "586 →  5431\n",
            "587 →  5432\n",
            "588 →  5433\n",
            "589 →  5434\n",
            "590 →  5435\n",
            "591 →  5441\n",
            "592 →  5442\n",
            "593 →  5443\n",
            "594 →  5444\n",
            "595 →  5445\n",
            "596 →  5451\n",
            "597 →  5452\n",
            "598 →  5453\n",
            "599 →  5454\n",
            "600 →  5455\n",
            "601 →  5511\n",
            "602 →  5512\n",
            "603 →  5513\n",
            "604 →  5514\n",
            "605 →  5515\n",
            "606 →  5521\n",
            "607 →  5522\n",
            "608 →  5523\n",
            "609 →  5524\n",
            "610 →  5525\n",
            "611 →  5531\n",
            "612 →  5532\n",
            "613 →  5533\n",
            "614 →  5534\n",
            "615 →  5535\n",
            "616 →  5541\n",
            "617 →  5542\n",
            "618 →  5543\n",
            "619 →  5544\n",
            "620 →  5545\n",
            "621 →  5551\n",
            "622 →  5552\n",
            "623 →  5553\n",
            "624 →  5554\n",
            "625 →  5555\n"
          ]
        }
      ]
    },
    {
      "cell_type": "markdown",
      "source": [
        "Método 2 .\n",
        "\n",
        "Usando itertools."
      ],
      "metadata": {
        "id": "CUqPTu4t9f_x"
      }
    },
    {
      "cell_type": "code",
      "source": [
        "from itertools import product\n",
        "def permutaciones_repeticion(cifras, tamaño):\n",
        "  numeros= list(cifras)\n",
        "  permutaciones=[]\n",
        "\n",
        "  for c in product(numeros, repeat=tamaño):\n",
        "    permutaciones.append(c)\n",
        "  return permutaciones\n",
        "\n",
        "cifras=\"1\", \"2\", \"3\", \"4\",\"5\"\n",
        "tamaño=4 \n",
        "\n",
        "print(permutaciones_repeticion(cifras, tamaño))\n",
        "\n",
        "\n",
        "\n"
      ],
      "metadata": {
        "colab": {
          "base_uri": "https://localhost:8080/"
        },
        "id": "YeXKVsZ-HAl2",
        "outputId": "3839aeac-9b36-48d9-8b3b-faeaeea3dd66"
      },
      "execution_count": null,
      "outputs": [
        {
          "output_type": "stream",
          "name": "stdout",
          "text": [
            "[('1', '1', '1', '1'), ('1', '1', '1', '2'), ('1', '1', '1', '3'), ('1', '1', '1', '4'), ('1', '1', '1', '5'), ('1', '1', '2', '1'), ('1', '1', '2', '2'), ('1', '1', '2', '3'), ('1', '1', '2', '4'), ('1', '1', '2', '5'), ('1', '1', '3', '1'), ('1', '1', '3', '2'), ('1', '1', '3', '3'), ('1', '1', '3', '4'), ('1', '1', '3', '5'), ('1', '1', '4', '1'), ('1', '1', '4', '2'), ('1', '1', '4', '3'), ('1', '1', '4', '4'), ('1', '1', '4', '5'), ('1', '1', '5', '1'), ('1', '1', '5', '2'), ('1', '1', '5', '3'), ('1', '1', '5', '4'), ('1', '1', '5', '5'), ('1', '2', '1', '1'), ('1', '2', '1', '2'), ('1', '2', '1', '3'), ('1', '2', '1', '4'), ('1', '2', '1', '5'), ('1', '2', '2', '1'), ('1', '2', '2', '2'), ('1', '2', '2', '3'), ('1', '2', '2', '4'), ('1', '2', '2', '5'), ('1', '2', '3', '1'), ('1', '2', '3', '2'), ('1', '2', '3', '3'), ('1', '2', '3', '4'), ('1', '2', '3', '5'), ('1', '2', '4', '1'), ('1', '2', '4', '2'), ('1', '2', '4', '3'), ('1', '2', '4', '4'), ('1', '2', '4', '5'), ('1', '2', '5', '1'), ('1', '2', '5', '2'), ('1', '2', '5', '3'), ('1', '2', '5', '4'), ('1', '2', '5', '5'), ('1', '3', '1', '1'), ('1', '3', '1', '2'), ('1', '3', '1', '3'), ('1', '3', '1', '4'), ('1', '3', '1', '5'), ('1', '3', '2', '1'), ('1', '3', '2', '2'), ('1', '3', '2', '3'), ('1', '3', '2', '4'), ('1', '3', '2', '5'), ('1', '3', '3', '1'), ('1', '3', '3', '2'), ('1', '3', '3', '3'), ('1', '3', '3', '4'), ('1', '3', '3', '5'), ('1', '3', '4', '1'), ('1', '3', '4', '2'), ('1', '3', '4', '3'), ('1', '3', '4', '4'), ('1', '3', '4', '5'), ('1', '3', '5', '1'), ('1', '3', '5', '2'), ('1', '3', '5', '3'), ('1', '3', '5', '4'), ('1', '3', '5', '5'), ('1', '4', '1', '1'), ('1', '4', '1', '2'), ('1', '4', '1', '3'), ('1', '4', '1', '4'), ('1', '4', '1', '5'), ('1', '4', '2', '1'), ('1', '4', '2', '2'), ('1', '4', '2', '3'), ('1', '4', '2', '4'), ('1', '4', '2', '5'), ('1', '4', '3', '1'), ('1', '4', '3', '2'), ('1', '4', '3', '3'), ('1', '4', '3', '4'), ('1', '4', '3', '5'), ('1', '4', '4', '1'), ('1', '4', '4', '2'), ('1', '4', '4', '3'), ('1', '4', '4', '4'), ('1', '4', '4', '5'), ('1', '4', '5', '1'), ('1', '4', '5', '2'), ('1', '4', '5', '3'), ('1', '4', '5', '4'), ('1', '4', '5', '5'), ('1', '5', '1', '1'), ('1', '5', '1', '2'), ('1', '5', '1', '3'), ('1', '5', '1', '4'), ('1', '5', '1', '5'), ('1', '5', '2', '1'), ('1', '5', '2', '2'), ('1', '5', '2', '3'), ('1', '5', '2', '4'), ('1', '5', '2', '5'), ('1', '5', '3', '1'), ('1', '5', '3', '2'), ('1', '5', '3', '3'), ('1', '5', '3', '4'), ('1', '5', '3', '5'), ('1', '5', '4', '1'), ('1', '5', '4', '2'), ('1', '5', '4', '3'), ('1', '5', '4', '4'), ('1', '5', '4', '5'), ('1', '5', '5', '1'), ('1', '5', '5', '2'), ('1', '5', '5', '3'), ('1', '5', '5', '4'), ('1', '5', '5', '5'), ('2', '1', '1', '1'), ('2', '1', '1', '2'), ('2', '1', '1', '3'), ('2', '1', '1', '4'), ('2', '1', '1', '5'), ('2', '1', '2', '1'), ('2', '1', '2', '2'), ('2', '1', '2', '3'), ('2', '1', '2', '4'), ('2', '1', '2', '5'), ('2', '1', '3', '1'), ('2', '1', '3', '2'), ('2', '1', '3', '3'), ('2', '1', '3', '4'), ('2', '1', '3', '5'), ('2', '1', '4', '1'), ('2', '1', '4', '2'), ('2', '1', '4', '3'), ('2', '1', '4', '4'), ('2', '1', '4', '5'), ('2', '1', '5', '1'), ('2', '1', '5', '2'), ('2', '1', '5', '3'), ('2', '1', '5', '4'), ('2', '1', '5', '5'), ('2', '2', '1', '1'), ('2', '2', '1', '2'), ('2', '2', '1', '3'), ('2', '2', '1', '4'), ('2', '2', '1', '5'), ('2', '2', '2', '1'), ('2', '2', '2', '2'), ('2', '2', '2', '3'), ('2', '2', '2', '4'), ('2', '2', '2', '5'), ('2', '2', '3', '1'), ('2', '2', '3', '2'), ('2', '2', '3', '3'), ('2', '2', '3', '4'), ('2', '2', '3', '5'), ('2', '2', '4', '1'), ('2', '2', '4', '2'), ('2', '2', '4', '3'), ('2', '2', '4', '4'), ('2', '2', '4', '5'), ('2', '2', '5', '1'), ('2', '2', '5', '2'), ('2', '2', '5', '3'), ('2', '2', '5', '4'), ('2', '2', '5', '5'), ('2', '3', '1', '1'), ('2', '3', '1', '2'), ('2', '3', '1', '3'), ('2', '3', '1', '4'), ('2', '3', '1', '5'), ('2', '3', '2', '1'), ('2', '3', '2', '2'), ('2', '3', '2', '3'), ('2', '3', '2', '4'), ('2', '3', '2', '5'), ('2', '3', '3', '1'), ('2', '3', '3', '2'), ('2', '3', '3', '3'), ('2', '3', '3', '4'), ('2', '3', '3', '5'), ('2', '3', '4', '1'), ('2', '3', '4', '2'), ('2', '3', '4', '3'), ('2', '3', '4', '4'), ('2', '3', '4', '5'), ('2', '3', '5', '1'), ('2', '3', '5', '2'), ('2', '3', '5', '3'), ('2', '3', '5', '4'), ('2', '3', '5', '5'), ('2', '4', '1', '1'), ('2', '4', '1', '2'), ('2', '4', '1', '3'), ('2', '4', '1', '4'), ('2', '4', '1', '5'), ('2', '4', '2', '1'), ('2', '4', '2', '2'), ('2', '4', '2', '3'), ('2', '4', '2', '4'), ('2', '4', '2', '5'), ('2', '4', '3', '1'), ('2', '4', '3', '2'), ('2', '4', '3', '3'), ('2', '4', '3', '4'), ('2', '4', '3', '5'), ('2', '4', '4', '1'), ('2', '4', '4', '2'), ('2', '4', '4', '3'), ('2', '4', '4', '4'), ('2', '4', '4', '5'), ('2', '4', '5', '1'), ('2', '4', '5', '2'), ('2', '4', '5', '3'), ('2', '4', '5', '4'), ('2', '4', '5', '5'), ('2', '5', '1', '1'), ('2', '5', '1', '2'), ('2', '5', '1', '3'), ('2', '5', '1', '4'), ('2', '5', '1', '5'), ('2', '5', '2', '1'), ('2', '5', '2', '2'), ('2', '5', '2', '3'), ('2', '5', '2', '4'), ('2', '5', '2', '5'), ('2', '5', '3', '1'), ('2', '5', '3', '2'), ('2', '5', '3', '3'), ('2', '5', '3', '4'), ('2', '5', '3', '5'), ('2', '5', '4', '1'), ('2', '5', '4', '2'), ('2', '5', '4', '3'), ('2', '5', '4', '4'), ('2', '5', '4', '5'), ('2', '5', '5', '1'), ('2', '5', '5', '2'), ('2', '5', '5', '3'), ('2', '5', '5', '4'), ('2', '5', '5', '5'), ('3', '1', '1', '1'), ('3', '1', '1', '2'), ('3', '1', '1', '3'), ('3', '1', '1', '4'), ('3', '1', '1', '5'), ('3', '1', '2', '1'), ('3', '1', '2', '2'), ('3', '1', '2', '3'), ('3', '1', '2', '4'), ('3', '1', '2', '5'), ('3', '1', '3', '1'), ('3', '1', '3', '2'), ('3', '1', '3', '3'), ('3', '1', '3', '4'), ('3', '1', '3', '5'), ('3', '1', '4', '1'), ('3', '1', '4', '2'), ('3', '1', '4', '3'), ('3', '1', '4', '4'), ('3', '1', '4', '5'), ('3', '1', '5', '1'), ('3', '1', '5', '2'), ('3', '1', '5', '3'), ('3', '1', '5', '4'), ('3', '1', '5', '5'), ('3', '2', '1', '1'), ('3', '2', '1', '2'), ('3', '2', '1', '3'), ('3', '2', '1', '4'), ('3', '2', '1', '5'), ('3', '2', '2', '1'), ('3', '2', '2', '2'), ('3', '2', '2', '3'), ('3', '2', '2', '4'), ('3', '2', '2', '5'), ('3', '2', '3', '1'), ('3', '2', '3', '2'), ('3', '2', '3', '3'), ('3', '2', '3', '4'), ('3', '2', '3', '5'), ('3', '2', '4', '1'), ('3', '2', '4', '2'), ('3', '2', '4', '3'), ('3', '2', '4', '4'), ('3', '2', '4', '5'), ('3', '2', '5', '1'), ('3', '2', '5', '2'), ('3', '2', '5', '3'), ('3', '2', '5', '4'), ('3', '2', '5', '5'), ('3', '3', '1', '1'), ('3', '3', '1', '2'), ('3', '3', '1', '3'), ('3', '3', '1', '4'), ('3', '3', '1', '5'), ('3', '3', '2', '1'), ('3', '3', '2', '2'), ('3', '3', '2', '3'), ('3', '3', '2', '4'), ('3', '3', '2', '5'), ('3', '3', '3', '1'), ('3', '3', '3', '2'), ('3', '3', '3', '3'), ('3', '3', '3', '4'), ('3', '3', '3', '5'), ('3', '3', '4', '1'), ('3', '3', '4', '2'), ('3', '3', '4', '3'), ('3', '3', '4', '4'), ('3', '3', '4', '5'), ('3', '3', '5', '1'), ('3', '3', '5', '2'), ('3', '3', '5', '3'), ('3', '3', '5', '4'), ('3', '3', '5', '5'), ('3', '4', '1', '1'), ('3', '4', '1', '2'), ('3', '4', '1', '3'), ('3', '4', '1', '4'), ('3', '4', '1', '5'), ('3', '4', '2', '1'), ('3', '4', '2', '2'), ('3', '4', '2', '3'), ('3', '4', '2', '4'), ('3', '4', '2', '5'), ('3', '4', '3', '1'), ('3', '4', '3', '2'), ('3', '4', '3', '3'), ('3', '4', '3', '4'), ('3', '4', '3', '5'), ('3', '4', '4', '1'), ('3', '4', '4', '2'), ('3', '4', '4', '3'), ('3', '4', '4', '4'), ('3', '4', '4', '5'), ('3', '4', '5', '1'), ('3', '4', '5', '2'), ('3', '4', '5', '3'), ('3', '4', '5', '4'), ('3', '4', '5', '5'), ('3', '5', '1', '1'), ('3', '5', '1', '2'), ('3', '5', '1', '3'), ('3', '5', '1', '4'), ('3', '5', '1', '5'), ('3', '5', '2', '1'), ('3', '5', '2', '2'), ('3', '5', '2', '3'), ('3', '5', '2', '4'), ('3', '5', '2', '5'), ('3', '5', '3', '1'), ('3', '5', '3', '2'), ('3', '5', '3', '3'), ('3', '5', '3', '4'), ('3', '5', '3', '5'), ('3', '5', '4', '1'), ('3', '5', '4', '2'), ('3', '5', '4', '3'), ('3', '5', '4', '4'), ('3', '5', '4', '5'), ('3', '5', '5', '1'), ('3', '5', '5', '2'), ('3', '5', '5', '3'), ('3', '5', '5', '4'), ('3', '5', '5', '5'), ('4', '1', '1', '1'), ('4', '1', '1', '2'), ('4', '1', '1', '3'), ('4', '1', '1', '4'), ('4', '1', '1', '5'), ('4', '1', '2', '1'), ('4', '1', '2', '2'), ('4', '1', '2', '3'), ('4', '1', '2', '4'), ('4', '1', '2', '5'), ('4', '1', '3', '1'), ('4', '1', '3', '2'), ('4', '1', '3', '3'), ('4', '1', '3', '4'), ('4', '1', '3', '5'), ('4', '1', '4', '1'), ('4', '1', '4', '2'), ('4', '1', '4', '3'), ('4', '1', '4', '4'), ('4', '1', '4', '5'), ('4', '1', '5', '1'), ('4', '1', '5', '2'), ('4', '1', '5', '3'), ('4', '1', '5', '4'), ('4', '1', '5', '5'), ('4', '2', '1', '1'), ('4', '2', '1', '2'), ('4', '2', '1', '3'), ('4', '2', '1', '4'), ('4', '2', '1', '5'), ('4', '2', '2', '1'), ('4', '2', '2', '2'), ('4', '2', '2', '3'), ('4', '2', '2', '4'), ('4', '2', '2', '5'), ('4', '2', '3', '1'), ('4', '2', '3', '2'), ('4', '2', '3', '3'), ('4', '2', '3', '4'), ('4', '2', '3', '5'), ('4', '2', '4', '1'), ('4', '2', '4', '2'), ('4', '2', '4', '3'), ('4', '2', '4', '4'), ('4', '2', '4', '5'), ('4', '2', '5', '1'), ('4', '2', '5', '2'), ('4', '2', '5', '3'), ('4', '2', '5', '4'), ('4', '2', '5', '5'), ('4', '3', '1', '1'), ('4', '3', '1', '2'), ('4', '3', '1', '3'), ('4', '3', '1', '4'), ('4', '3', '1', '5'), ('4', '3', '2', '1'), ('4', '3', '2', '2'), ('4', '3', '2', '3'), ('4', '3', '2', '4'), ('4', '3', '2', '5'), ('4', '3', '3', '1'), ('4', '3', '3', '2'), ('4', '3', '3', '3'), ('4', '3', '3', '4'), ('4', '3', '3', '5'), ('4', '3', '4', '1'), ('4', '3', '4', '2'), ('4', '3', '4', '3'), ('4', '3', '4', '4'), ('4', '3', '4', '5'), ('4', '3', '5', '1'), ('4', '3', '5', '2'), ('4', '3', '5', '3'), ('4', '3', '5', '4'), ('4', '3', '5', '5'), ('4', '4', '1', '1'), ('4', '4', '1', '2'), ('4', '4', '1', '3'), ('4', '4', '1', '4'), ('4', '4', '1', '5'), ('4', '4', '2', '1'), ('4', '4', '2', '2'), ('4', '4', '2', '3'), ('4', '4', '2', '4'), ('4', '4', '2', '5'), ('4', '4', '3', '1'), ('4', '4', '3', '2'), ('4', '4', '3', '3'), ('4', '4', '3', '4'), ('4', '4', '3', '5'), ('4', '4', '4', '1'), ('4', '4', '4', '2'), ('4', '4', '4', '3'), ('4', '4', '4', '4'), ('4', '4', '4', '5'), ('4', '4', '5', '1'), ('4', '4', '5', '2'), ('4', '4', '5', '3'), ('4', '4', '5', '4'), ('4', '4', '5', '5'), ('4', '5', '1', '1'), ('4', '5', '1', '2'), ('4', '5', '1', '3'), ('4', '5', '1', '4'), ('4', '5', '1', '5'), ('4', '5', '2', '1'), ('4', '5', '2', '2'), ('4', '5', '2', '3'), ('4', '5', '2', '4'), ('4', '5', '2', '5'), ('4', '5', '3', '1'), ('4', '5', '3', '2'), ('4', '5', '3', '3'), ('4', '5', '3', '4'), ('4', '5', '3', '5'), ('4', '5', '4', '1'), ('4', '5', '4', '2'), ('4', '5', '4', '3'), ('4', '5', '4', '4'), ('4', '5', '4', '5'), ('4', '5', '5', '1'), ('4', '5', '5', '2'), ('4', '5', '5', '3'), ('4', '5', '5', '4'), ('4', '5', '5', '5'), ('5', '1', '1', '1'), ('5', '1', '1', '2'), ('5', '1', '1', '3'), ('5', '1', '1', '4'), ('5', '1', '1', '5'), ('5', '1', '2', '1'), ('5', '1', '2', '2'), ('5', '1', '2', '3'), ('5', '1', '2', '4'), ('5', '1', '2', '5'), ('5', '1', '3', '1'), ('5', '1', '3', '2'), ('5', '1', '3', '3'), ('5', '1', '3', '4'), ('5', '1', '3', '5'), ('5', '1', '4', '1'), ('5', '1', '4', '2'), ('5', '1', '4', '3'), ('5', '1', '4', '4'), ('5', '1', '4', '5'), ('5', '1', '5', '1'), ('5', '1', '5', '2'), ('5', '1', '5', '3'), ('5', '1', '5', '4'), ('5', '1', '5', '5'), ('5', '2', '1', '1'), ('5', '2', '1', '2'), ('5', '2', '1', '3'), ('5', '2', '1', '4'), ('5', '2', '1', '5'), ('5', '2', '2', '1'), ('5', '2', '2', '2'), ('5', '2', '2', '3'), ('5', '2', '2', '4'), ('5', '2', '2', '5'), ('5', '2', '3', '1'), ('5', '2', '3', '2'), ('5', '2', '3', '3'), ('5', '2', '3', '4'), ('5', '2', '3', '5'), ('5', '2', '4', '1'), ('5', '2', '4', '2'), ('5', '2', '4', '3'), ('5', '2', '4', '4'), ('5', '2', '4', '5'), ('5', '2', '5', '1'), ('5', '2', '5', '2'), ('5', '2', '5', '3'), ('5', '2', '5', '4'), ('5', '2', '5', '5'), ('5', '3', '1', '1'), ('5', '3', '1', '2'), ('5', '3', '1', '3'), ('5', '3', '1', '4'), ('5', '3', '1', '5'), ('5', '3', '2', '1'), ('5', '3', '2', '2'), ('5', '3', '2', '3'), ('5', '3', '2', '4'), ('5', '3', '2', '5'), ('5', '3', '3', '1'), ('5', '3', '3', '2'), ('5', '3', '3', '3'), ('5', '3', '3', '4'), ('5', '3', '3', '5'), ('5', '3', '4', '1'), ('5', '3', '4', '2'), ('5', '3', '4', '3'), ('5', '3', '4', '4'), ('5', '3', '4', '5'), ('5', '3', '5', '1'), ('5', '3', '5', '2'), ('5', '3', '5', '3'), ('5', '3', '5', '4'), ('5', '3', '5', '5'), ('5', '4', '1', '1'), ('5', '4', '1', '2'), ('5', '4', '1', '3'), ('5', '4', '1', '4'), ('5', '4', '1', '5'), ('5', '4', '2', '1'), ('5', '4', '2', '2'), ('5', '4', '2', '3'), ('5', '4', '2', '4'), ('5', '4', '2', '5'), ('5', '4', '3', '1'), ('5', '4', '3', '2'), ('5', '4', '3', '3'), ('5', '4', '3', '4'), ('5', '4', '3', '5'), ('5', '4', '4', '1'), ('5', '4', '4', '2'), ('5', '4', '4', '3'), ('5', '4', '4', '4'), ('5', '4', '4', '5'), ('5', '4', '5', '1'), ('5', '4', '5', '2'), ('5', '4', '5', '3'), ('5', '4', '5', '4'), ('5', '4', '5', '5'), ('5', '5', '1', '1'), ('5', '5', '1', '2'), ('5', '5', '1', '3'), ('5', '5', '1', '4'), ('5', '5', '1', '5'), ('5', '5', '2', '1'), ('5', '5', '2', '2'), ('5', '5', '2', '3'), ('5', '5', '2', '4'), ('5', '5', '2', '5'), ('5', '5', '3', '1'), ('5', '5', '3', '2'), ('5', '5', '3', '3'), ('5', '5', '3', '4'), ('5', '5', '3', '5'), ('5', '5', '4', '1'), ('5', '5', '4', '2'), ('5', '5', '4', '3'), ('5', '5', '4', '4'), ('5', '5', '4', '5'), ('5', '5', '5', '1'), ('5', '5', '5', '2'), ('5', '5', '5', '3'), ('5', '5', '5', '4'), ('5', '5', '5', '5')]\n"
          ]
        }
      ]
    },
    {
      "cell_type": "markdown",
      "source": [
        "## Práctica 1.5\n",
        "Invente un caso de **permutaciones sin repetición**.\n",
        "Se pide contestar a los mismos puntos que el caso anterior."
      ],
      "metadata": {
        "id": "0OCAC-I-G5F6"
      }
    },
    {
      "cell_type": "markdown",
      "source": [
        "¿De cuantas formas diferentes se pueden sentar Pedro, María, Ana, Alba y Pablo en una fila de butacas del teatro? "
      ],
      "metadata": {
        "id": "Zo5rh_tZdi9I"
      }
    },
    {
      "cell_type": "markdown",
      "source": [
        "### Solución 1.5"
      ],
      "metadata": {
        "id": "FvLcj6XXkFOV"
      }
    },
    {
      "cell_type": "markdown",
      "source": [
        "\n",
        "\n",
        "*   Intervienen todos los elementos.\n",
        "*   El orden importa. \n",
        "*   No se repiten elementos.\n",
        "\n",
        "Los posibles casos se calculan con las permutaciones sin repeticion= Pn=n!\n",
        "\n",
        "Es decir: P5=5!=5x4x3x2x1= **120**\n",
        "\n",
        "***Se pueden sentar de 120 formas diferentes.***\n",
        "\n",
        "\n",
        "\n",
        "\n"
      ],
      "metadata": {
        "id": "r5BTCk9Ld_Qs"
      }
    },
    {
      "cell_type": "code",
      "source": [
        "import math \n",
        "p= math.factorial(5)\n",
        "print(\"las diferentes formas son: \", p)\n",
        "print(\"Comprobacion: \" , 5*4*3*2*1)"
      ],
      "metadata": {
        "colab": {
          "base_uri": "https://localhost:8080/"
        },
        "id": "dNfHsLiwfkcH",
        "outputId": "fb6f6d1f-3bb7-49cb-b811-2ed21906944b"
      },
      "execution_count": null,
      "outputs": [
        {
          "output_type": "stream",
          "name": "stdout",
          "text": [
            "las diferentes formas son:  120\n",
            "Comprobacion:  120\n"
          ]
        }
      ]
    },
    {
      "cell_type": "markdown",
      "source": [
        "Método 1.\n",
        "\n",
        "Sin usar libreria"
      ],
      "metadata": {
        "id": "FhcxMAwggWAK"
      }
    },
    {
      "cell_type": "code",
      "source": [
        "lista = ['P', 'M', 'AN', 'A','PA']\n",
        "contador = 1\n",
        "for i in lista:\n",
        "    for j in lista:\n",
        "        for k in lista:\n",
        "            for l in lista:\n",
        "                if i != j and i != k and i != l and j != k and j != l and k != l:\n",
        "                    print(f\"{contador:2d} →  {i+j+k+l}\")\n",
        "                    contador += 1\n",
        "\n"
      ],
      "metadata": {
        "colab": {
          "base_uri": "https://localhost:8080/"
        },
        "id": "rNEyZu5Ygf68",
        "outputId": "084827ad-0135-4d5c-f978-ce8dc009db1d"
      },
      "execution_count": null,
      "outputs": [
        {
          "output_type": "stream",
          "name": "stdout",
          "text": [
            " 1 →  PMANA\n",
            " 2 →  PMANPA\n",
            " 3 →  PMAAN\n",
            " 4 →  PMAPA\n",
            " 5 →  PMPAAN\n",
            " 6 →  PMPAA\n",
            " 7 →  PANMA\n",
            " 8 →  PANMPA\n",
            " 9 →  PANAM\n",
            "10 →  PANAPA\n",
            "11 →  PANPAM\n",
            "12 →  PANPAA\n",
            "13 →  PAMAN\n",
            "14 →  PAMPA\n",
            "15 →  PAANM\n",
            "16 →  PAANPA\n",
            "17 →  PAPAM\n",
            "18 →  PAPAAN\n",
            "19 →  PPAMAN\n",
            "20 →  PPAMA\n",
            "21 →  PPAANM\n",
            "22 →  PPAANA\n",
            "23 →  PPAAM\n",
            "24 →  PPAAAN\n",
            "25 →  MPANA\n",
            "26 →  MPANPA\n",
            "27 →  MPAAN\n",
            "28 →  MPAPA\n",
            "29 →  MPPAAN\n",
            "30 →  MPPAA\n",
            "31 →  MANPA\n",
            "32 →  MANPPA\n",
            "33 →  MANAP\n",
            "34 →  MANAPA\n",
            "35 →  MANPAP\n",
            "36 →  MANPAA\n",
            "37 →  MAPAN\n",
            "38 →  MAPPA\n",
            "39 →  MAANP\n",
            "40 →  MAANPA\n",
            "41 →  MAPAP\n",
            "42 →  MAPAAN\n",
            "43 →  MPAPAN\n",
            "44 →  MPAPA\n",
            "45 →  MPAANP\n",
            "46 →  MPAANA\n",
            "47 →  MPAAP\n",
            "48 →  MPAAAN\n",
            "49 →  ANPMA\n",
            "50 →  ANPMPA\n",
            "51 →  ANPAM\n",
            "52 →  ANPAPA\n",
            "53 →  ANPPAM\n",
            "54 →  ANPPAA\n",
            "55 →  ANMPA\n",
            "56 →  ANMPPA\n",
            "57 →  ANMAP\n",
            "58 →  ANMAPA\n",
            "59 →  ANMPAP\n",
            "60 →  ANMPAA\n",
            "61 →  ANAPM\n",
            "62 →  ANAPPA\n",
            "63 →  ANAMP\n",
            "64 →  ANAMPA\n",
            "65 →  ANAPAP\n",
            "66 →  ANAPAM\n",
            "67 →  ANPAPM\n",
            "68 →  ANPAPA\n",
            "69 →  ANPAMP\n",
            "70 →  ANPAMA\n",
            "71 →  ANPAAP\n",
            "72 →  ANPAAM\n",
            "73 →  APMAN\n",
            "74 →  APMPA\n",
            "75 →  APANM\n",
            "76 →  APANPA\n",
            "77 →  APPAM\n",
            "78 →  APPAAN\n",
            "79 →  AMPAN\n",
            "80 →  AMPPA\n",
            "81 →  AMANP\n",
            "82 →  AMANPA\n",
            "83 →  AMPAP\n",
            "84 →  AMPAAN\n",
            "85 →  AANPM\n",
            "86 →  AANPPA\n",
            "87 →  AANMP\n",
            "88 →  AANMPA\n",
            "89 →  AANPAP\n",
            "90 →  AANPAM\n",
            "91 →  APAPM\n",
            "92 →  APAPAN\n",
            "93 →  APAMP\n",
            "94 →  APAMAN\n",
            "95 →  APAANP\n",
            "96 →  APAANM\n",
            "97 →  PAPMAN\n",
            "98 →  PAPMA\n",
            "99 →  PAPANM\n",
            "100 →  PAPANA\n",
            "101 →  PAPAM\n",
            "102 →  PAPAAN\n",
            "103 →  PAMPAN\n",
            "104 →  PAMPA\n",
            "105 →  PAMANP\n",
            "106 →  PAMANA\n",
            "107 →  PAMAP\n",
            "108 →  PAMAAN\n",
            "109 →  PAANPM\n",
            "110 →  PAANPA\n",
            "111 →  PAANMP\n",
            "112 →  PAANMA\n",
            "113 →  PAANAP\n",
            "114 →  PAANAM\n",
            "115 →  PAAPM\n",
            "116 →  PAAPAN\n",
            "117 →  PAAMP\n",
            "118 →  PAAMAN\n",
            "119 →  PAAANP\n",
            "120 →  PAAANM\n"
          ]
        }
      ]
    },
    {
      "cell_type": "markdown",
      "source": [
        "Método 2\n",
        "\n",
        "\n",
        "*   Usamos la función permutations de la libreria itertools.\n",
        "*   Imprimimos todas las permutaciones de los elementos de una lista.\n",
        "\n"
      ],
      "metadata": {
        "id": "Kc8M8w8Vi0g2"
      }
    },
    {
      "cell_type": "code",
      "source": [
        "from itertools import permutations\n",
        "\n",
        "perm = permutations(['P','M','AN','A','PA'])   \n",
        "\n",
        "for i in list(perm):                     \n",
        "    print (*i)                           "
      ],
      "metadata": {
        "colab": {
          "base_uri": "https://localhost:8080/"
        },
        "id": "IQ2f9cmqjF3u",
        "outputId": "798dc971-f022-4c94-980e-09214821a5d2"
      },
      "execution_count": null,
      "outputs": [
        {
          "output_type": "stream",
          "name": "stdout",
          "text": [
            "P M AN A PA\n",
            "P M AN PA A\n",
            "P M A AN PA\n",
            "P M A PA AN\n",
            "P M PA AN A\n",
            "P M PA A AN\n",
            "P AN M A PA\n",
            "P AN M PA A\n",
            "P AN A M PA\n",
            "P AN A PA M\n",
            "P AN PA M A\n",
            "P AN PA A M\n",
            "P A M AN PA\n",
            "P A M PA AN\n",
            "P A AN M PA\n",
            "P A AN PA M\n",
            "P A PA M AN\n",
            "P A PA AN M\n",
            "P PA M AN A\n",
            "P PA M A AN\n",
            "P PA AN M A\n",
            "P PA AN A M\n",
            "P PA A M AN\n",
            "P PA A AN M\n",
            "M P AN A PA\n",
            "M P AN PA A\n",
            "M P A AN PA\n",
            "M P A PA AN\n",
            "M P PA AN A\n",
            "M P PA A AN\n",
            "M AN P A PA\n",
            "M AN P PA A\n",
            "M AN A P PA\n",
            "M AN A PA P\n",
            "M AN PA P A\n",
            "M AN PA A P\n",
            "M A P AN PA\n",
            "M A P PA AN\n",
            "M A AN P PA\n",
            "M A AN PA P\n",
            "M A PA P AN\n",
            "M A PA AN P\n",
            "M PA P AN A\n",
            "M PA P A AN\n",
            "M PA AN P A\n",
            "M PA AN A P\n",
            "M PA A P AN\n",
            "M PA A AN P\n",
            "AN P M A PA\n",
            "AN P M PA A\n",
            "AN P A M PA\n",
            "AN P A PA M\n",
            "AN P PA M A\n",
            "AN P PA A M\n",
            "AN M P A PA\n",
            "AN M P PA A\n",
            "AN M A P PA\n",
            "AN M A PA P\n",
            "AN M PA P A\n",
            "AN M PA A P\n",
            "AN A P M PA\n",
            "AN A P PA M\n",
            "AN A M P PA\n",
            "AN A M PA P\n",
            "AN A PA P M\n",
            "AN A PA M P\n",
            "AN PA P M A\n",
            "AN PA P A M\n",
            "AN PA M P A\n",
            "AN PA M A P\n",
            "AN PA A P M\n",
            "AN PA A M P\n",
            "A P M AN PA\n",
            "A P M PA AN\n",
            "A P AN M PA\n",
            "A P AN PA M\n",
            "A P PA M AN\n",
            "A P PA AN M\n",
            "A M P AN PA\n",
            "A M P PA AN\n",
            "A M AN P PA\n",
            "A M AN PA P\n",
            "A M PA P AN\n",
            "A M PA AN P\n",
            "A AN P M PA\n",
            "A AN P PA M\n",
            "A AN M P PA\n",
            "A AN M PA P\n",
            "A AN PA P M\n",
            "A AN PA M P\n",
            "A PA P M AN\n",
            "A PA P AN M\n",
            "A PA M P AN\n",
            "A PA M AN P\n",
            "A PA AN P M\n",
            "A PA AN M P\n",
            "PA P M AN A\n",
            "PA P M A AN\n",
            "PA P AN M A\n",
            "PA P AN A M\n",
            "PA P A M AN\n",
            "PA P A AN M\n",
            "PA M P AN A\n",
            "PA M P A AN\n",
            "PA M AN P A\n",
            "PA M AN A P\n",
            "PA M A P AN\n",
            "PA M A AN P\n",
            "PA AN P M A\n",
            "PA AN P A M\n",
            "PA AN M P A\n",
            "PA AN M A P\n",
            "PA AN A P M\n",
            "PA AN A M P\n",
            "PA A P M AN\n",
            "PA A P AN M\n",
            "PA A M P AN\n",
            "PA A M AN P\n",
            "PA A AN P M\n",
            "PA A AN M P\n"
          ]
        }
      ]
    },
    {
      "cell_type": "markdown",
      "source": [
        "## Práctica 1.6\n",
        "Invente un caso de **permutaciones con repetición**.\n",
        "Se pide contestar a los mismos puntos que el caso anterior."
      ],
      "metadata": {
        "id": "YWUXIczqLj3W"
      }
    },
    {
      "cell_type": "markdown",
      "source": [
        "¿Cuántos palabras se pueden escribir con la palabra MAMA, tengan o no \n",
        "significado.\n",
        "\n",
        "\n",
        "\n",
        "*   Intervienen todos los elementos.\n",
        "*   Se pueden repetir.\n",
        "*   Influye el orden. \n",
        "                                        1,2    4!         \n",
        "Fórmula permutaciones con repetición: P     = -------- = 12\n",
        "                                        4    1!*2!  \n",
        "\n",
        "\n",
        "\n",
        "\n",
        "\n"
      ],
      "metadata": {
        "id": "-aV_3HUel9Sh"
      }
    },
    {
      "cell_type": "markdown",
      "source": [
        "### Solución 1.6"
      ],
      "metadata": {
        "id": "siAxWVVekHs6"
      }
    },
    {
      "cell_type": "markdown",
      "source": [
        "Método 1\n",
        "\n",
        "Usando multiset_permutations"
      ],
      "metadata": {
        "id": "YgYdSIxMrnZT"
      }
    },
    {
      "cell_type": "code",
      "source": [
        "from math import factorial\n",
        "from sympy.utilities.iterables import multiset_permutations\n",
        "\n",
        "palabra=\"MAMA\"\n",
        "m=len(palabra)\n",
        "lista=list(set(palabra))\n",
        "print(\"letras:\", lista)\n",
        "print(\"frecuencias\")\n",
        " \n",
        "frecuencias=[]\n",
        "denominador = 1\n",
        "\n",
        "for letra in lista:\n",
        "  caos= sum([1 for i in palabra if letra==i]) \n",
        "  print(f\"{letra}: {caos}\")\n",
        "  frecuencias.append(caos)\n",
        "\n",
        "print(f\"podemos reordenar la palabra {palabra} de {int(factorial(m)/denominador)} formas diferentes.\\n\")\n",
        "lista= [\"\".join(i) for i in multiset_permutations(palabra)]\n",
        "print(lista)\n",
        "print(f\"el numero de palabras obtenidas es: {len(lista)}.\")\n",
        "\n",
        "\n"
      ],
      "metadata": {
        "colab": {
          "base_uri": "https://localhost:8080/"
        },
        "id": "Rb8R3kuD60f1",
        "outputId": "9df7610e-3dd1-4fc4-9cdd-7fc9aecb5d7c"
      },
      "execution_count": null,
      "outputs": [
        {
          "output_type": "stream",
          "name": "stdout",
          "text": [
            "letras: ['A', 'M']\n",
            "frecuencias\n",
            "A: 2\n",
            "M: 2\n",
            "podemos reordenar la palabra MAMA de 24 formas diferentes.\n",
            "\n",
            "['AAMM', 'AMAM', 'AMMA', 'MAAM', 'MAMA', 'MMAA']\n",
            "el numero de palabras obtenidas es: 6.\n"
          ]
        }
      ]
    },
    {
      "cell_type": "markdown",
      "source": [
        "Método 2.\n",
        "\n",
        "Usando itertools"
      ],
      "metadata": {
        "id": "pR29K5H4BKCi"
      }
    },
    {
      "cell_type": "code",
      "source": [
        "from itertools import permutations\n",
        "\n",
        "p= permutations (\"MAMA\")\n",
        "lista=[\"\".join(i)for i in p]\n",
        "conjunto = set(lista)\n",
        "ordenada= list(conjunto)\n",
        "print(ordenada)\n",
        "print(f\"El numero de casos obtenidoses:{len(ordenada)}.\")"
      ],
      "metadata": {
        "colab": {
          "base_uri": "https://localhost:8080/"
        },
        "id": "PbTW1h7KBONt",
        "outputId": "0e086bec-c25b-44d2-b32f-81a53667f085"
      },
      "execution_count": null,
      "outputs": [
        {
          "output_type": "stream",
          "name": "stdout",
          "text": [
            "['MMAA', 'AMMA', 'MAMA', 'MAAM', 'AAMM', 'AMAM']\n",
            "El numero de casos obtenidoses:6.\n"
          ]
        }
      ]
    },
    {
      "cell_type": "code",
      "source": [],
      "metadata": {
        "id": "7tmwvNb3ryZR"
      },
      "execution_count": null,
      "outputs": []
    },
    {
      "cell_type": "markdown",
      "source": [
        "## Práctica 1.7\n",
        "Invente un caso de **combinaciones sin repetición**.\n",
        "Se pide contestar a los mismos puntos que el caso anterior."
      ],
      "metadata": {
        "id": "opCrIDtJGg1R"
      }
    },
    {
      "cell_type": "markdown",
      "source": [
        "¿De cuántas maneras diferentes se pueden elegir a 2 personas de 4 que han echado curriculum para trabajar en una tienda de souvenirs?\n",
        "\n",
        "\n",
        "\n",
        "*   No se pueden repetir elementos.\n",
        "\n",
        "\n",
        "C4,2= 4!/(2!)x(2!) = 6\n",
        "\n",
        "Se pueden repartir de 6 maneras diferentes \n",
        "\n",
        "\n",
        "\n"
      ],
      "metadata": {
        "id": "j-XFTeXzLQhX"
      }
    },
    {
      "cell_type": "markdown",
      "source": [
        "Solución 1.7"
      ],
      "metadata": {
        "id": "ZIyXMuXJcilP"
      }
    },
    {
      "cell_type": "markdown",
      "source": [
        "Método 1.\n",
        "\n",
        "Sin libreta "
      ],
      "metadata": {
        "id": "MtEDXH9Cc8PV"
      }
    },
    {
      "cell_type": "code",
      "source": [
        "lista = ['A', 'B', 'C', 'D']\n",
        "contador = 1\n",
        "a=0\n",
        "for i in lista:\n",
        "    for j in lista[a:]:\n",
        "        if i != j:\n",
        "                print(f\"{contador:1} →  {i+j}\")\n",
        "                contador +=1\n",
        "    a += 1\n"
      ],
      "metadata": {
        "colab": {
          "base_uri": "https://localhost:8080/"
        },
        "id": "3ISifl1JM3ax",
        "outputId": "ea50ea85-d202-4ef6-db02-c30d48e06b88"
      },
      "execution_count": 148,
      "outputs": [
        {
          "output_type": "stream",
          "name": "stdout",
          "text": [
            "1 →  AB\n",
            "2 →  AC\n",
            "3 →  AD\n",
            "4 →  BC\n",
            "5 →  BD\n",
            "6 →  CD\n"
          ]
        }
      ]
    },
    {
      "cell_type": "markdown",
      "source": [
        "Método 2 \n",
        "\n",
        "Usamos itertools\n",
        "\n"
      ],
      "metadata": {
        "id": "QXDqRSG3c7LP"
      }
    },
    {
      "cell_type": "code",
      "source": [
        "personas = [\"A\",\"B\",\"C\",\"D\"]\n",
        "elegidos = 2\n",
        "iterator = combinations(personas,elegidos)\n",
        "len_iterator = len(list(combinations(personas,elegidos)))\n",
        "\n",
        "print(f'Hay {len_iterator} formas de combinar {elegidos} elementos de  los {len(personas)} disponibles:')\n",
        "\n",
        "for way in iterator:\n",
        "    print(way, end=\" \")"
      ],
      "metadata": {
        "colab": {
          "base_uri": "https://localhost:8080/"
        },
        "id": "xgy3k-I1dHmB",
        "outputId": "f361e41b-7ff2-4838-b127-c37e4a179ab1"
      },
      "execution_count": 150,
      "outputs": [
        {
          "output_type": "stream",
          "name": "stdout",
          "text": [
            "Hay 6 formas de combinar 2 elementos de  los 4 disponibles:\n",
            "('A', 'B') ('A', 'C') ('A', 'D') ('B', 'C') ('B', 'D') ('C', 'D') "
          ]
        }
      ]
    },
    {
      "cell_type": "markdown",
      "source": [
        "## Práctica 1.8\n",
        "Invente un caso de **combinaciones con repetición**.\n",
        "Se pide contestar a los mismos puntos que el caso anterior."
      ],
      "metadata": {
        "id": "-7Y5WWlDGzAR"
      }
    },
    {
      "cell_type": "markdown",
      "source": [
        "En una bodega hay 4 tipos diferentes de botellas de vino ¿De cuántas formas se pueden elegir dos botellas?\n",
        "\n",
        "\n",
        "\n",
        "*   No importa el orden\n",
        "*   No intervienen todos los individuos \n",
        "\n",
        "CR2,4= (2+4-1)! / 2!(4-1)! =5!/2!3!=10\n",
        "\n"
      ],
      "metadata": {
        "id": "V6evqxDGhOpt"
      }
    },
    {
      "cell_type": "markdown",
      "source": [
        "### Solución 1.8"
      ],
      "metadata": {
        "id": "ReRULqd8kL1F"
      }
    },
    {
      "cell_type": "code",
      "source": [
        "lista = ['A', 'B', 'C', 'D']\n",
        "contador = 1\n",
        "a=0\n",
        "for i in lista:\n",
        "    for j in lista[a:]:\n",
        "                print(f\"{contador:1} →  {i+j}\")\n",
        "                contador +=1\n",
        "    a += 1"
      ],
      "metadata": {
        "colab": {
          "base_uri": "https://localhost:8080/"
        },
        "id": "zxHCMKw3lSQG",
        "outputId": "f30bc58d-220e-4c20-eec2-b19650ea26cb"
      },
      "execution_count": 149,
      "outputs": [
        {
          "output_type": "stream",
          "name": "stdout",
          "text": [
            "1 →  AA\n",
            "2 →  AB\n",
            "3 →  AC\n",
            "4 →  AD\n",
            "5 →  BB\n",
            "6 →  BC\n",
            "7 →  BD\n",
            "8 →  CC\n",
            "9 →  CD\n",
            "10 →  DD\n"
          ]
        }
      ]
    },
    {
      "cell_type": "markdown",
      "source": [
        "Método 2 \n",
        "\n",
        "Usamos itertools"
      ],
      "metadata": {
        "id": "uXV0B0-Tf5he"
      }
    },
    {
      "cell_type": "code",
      "source": [
        "botellas = [\"A\",\"B\",\"C\",\"D\"]\n",
        "\n",
        "possibilities = list(combinations_with_replacement(bottles,2))\n",
        "\n",
        "print(len(possibilities),\"posibilidades de elegir.\")\n"
      ],
      "metadata": {
        "colab": {
          "base_uri": "https://localhost:8080/"
        },
        "id": "BHQA9IRJoz67",
        "outputId": "30fc5b78-74fb-4d27-9ab5-811acaee13f5"
      },
      "execution_count": null,
      "outputs": [
        {
          "output_type": "stream",
          "name": "stdout",
          "text": [
            "10 posibilidades de elegir.\n"
          ]
        }
      ]
    },
    {
      "cell_type": "markdown",
      "source": [
        "## Práctica 1.9\n",
        "En el gobierno se crea una unidad de crisis formada por el presidente (P) y 4 ministros (A,B,C,D) que se reúnen sentados alrededor de una **mesa redonda**.\n",
        "\n",
        "Se pide:  \n",
        "1. Calcule de cuantas formas pueden llegar a sentarse si el ministro de defensa (D) siempre ha de estar al lado del presidente (P). Escriba la solución en una celda de Markdown utilizando fórmulas en $\\LaTeX$  explicando el caso.\n",
        "2. Cree un programa en Python para calcular el número de casos que se pueden dar al sentarse en la mesa.\n",
        "3. Cree un programa en Python para imprimir todas las posibilidades y numérelas. Por ejemplo:\n",
        "    - 1 PDABC\n",
        "    - 2 PDACB\n",
        "    - 3 PDBCD\n",
        "    - 4 PDBDC\n",
        "    - 5 PDCAB\n",
        "    - 6 PDCBA\n",
        "    - 7 DPABC\n",
        "    - 8 DPACB\n",
        "    - &#20; &#20; &#20; ... ... ...\n"
      ],
      "metadata": {
        "id": "SOzxh_YgHnDG"
      }
    },
    {
      "cell_type": "markdown",
      "source": [
        "### Solución 1.9"
      ],
      "metadata": {
        "id": "F8kV034OkQZX"
      }
    },
    {
      "cell_type": "markdown",
      "source": [],
      "metadata": {
        "id": "-eywrAEeqUXm"
      }
    },
    {
      "cell_type": "markdown",
      "source": [
        "## Práctica 1.10\n",
        "* Realice una breve explicación teórica del **triángulo de Pascal**, o también llamado triángulo de Tartaglia, y de las fórmulas de los números combinatorios.\n",
        "* Cree un programa en Python para hacer el triángulo de Pascal."
      ],
      "metadata": {
        "id": "eiHdMOP-MkrZ"
      }
    },
    {
      "cell_type": "markdown",
      "source": [
        "### Solución 1.10"
      ],
      "metadata": {
        "id": "j0UT2579kTSM"
      }
    },
    {
      "cell_type": "markdown",
      "source": [
        "TRIÁNGULO DE PASCAL:\n",
        "\n",
        "Es una representación de los coeficientes binomiales ordenados en forma de triángulo. Se llama de esta manera por el filósofo y matemático francés Blaise Pascal, quien introdujo esta notación en 1654, en su Tratado del triángulo aritmético. Fue Pascal quien desarrolló muchas de sus aplicaciones y el primero en organizar la información de manera conjunta.El triangulo surgio para realizar potencias de binomios."
      ],
      "metadata": {
        "id": "0zcqkoIdrGTZ"
      }
    },
    {
      "cell_type": "code",
      "source": [
        "num = int(input(\"Introduzca el numero de filas que desee \"))  \n",
        "  \n",
        "for n in range(1, num+1):  \n",
        "    for m in range(0, num-n+1):  \n",
        "        print(' ', end='')    \n",
        "    B = 1  \n",
        "    for m in range(1, n+1):  \n",
        "      print(' ', B, sep='', end='')  \n",
        "    BC = B * (n - m) // m \n",
        "    print()  "
      ],
      "metadata": {
        "colab": {
          "base_uri": "https://localhost:8080/"
        },
        "id": "jbqYWsmzrv2W",
        "outputId": "a5c9577a-20e3-4ed2-95e4-eb7486fc3be0"
      },
      "execution_count": null,
      "outputs": [
        {
          "output_type": "stream",
          "name": "stdout",
          "text": [
            "Introduzca el numero de filas que desee 9\n",
            "          1\n",
            "         1 1\n",
            "        1 1 1\n",
            "       1 1 1 1\n",
            "      1 1 1 1 1\n",
            "     1 1 1 1 1 1\n",
            "    1 1 1 1 1 1 1\n",
            "   1 1 1 1 1 1 1 1\n",
            "  1 1 1 1 1 1 1 1 1\n"
          ]
        }
      ]
    }
  ]
}